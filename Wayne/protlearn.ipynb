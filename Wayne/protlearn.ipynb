{
 "cells": [
  {
   "cell_type": "code",
   "execution_count": 58,
   "id": "73ad3dbf-b41b-43ef-aa0e-8886afc62b93",
   "metadata": {},
   "outputs": [],
   "source": [
    "from Bio import SeqIO\n",
    "from Bio import AlignIO"
   ]
  },
  {
   "cell_type": "code",
   "execution_count": 59,
   "id": "96b1c195-7de8-494b-a7dd-32433d12f76d",
   "metadata": {},
   "outputs": [],
   "source": [
    "id = []\n",
    "sequence = []\n",
    "with open(\"HIV_env_pep.aln\") as handle:\n",
    "    for seq in SeqIO.parse(handle, \"fasta\"):\n",
    "        id.append(seq.id)\n",
    "        sequence.append(str(seq.seq))"
   ]
  },
  {
   "cell_type": "code",
   "execution_count": 60,
   "id": "b7582379-c48f-4492-95f5-c12bed2766e9",
   "metadata": {},
   "outputs": [
    {
     "data": {
      "text/html": [
       "<div>\n",
       "<style scoped>\n",
       "    .dataframe tbody tr th:only-of-type {\n",
       "        vertical-align: middle;\n",
       "    }\n",
       "\n",
       "    .dataframe tbody tr th {\n",
       "        vertical-align: top;\n",
       "    }\n",
       "\n",
       "    .dataframe thead th {\n",
       "        text-align: right;\n",
       "    }\n",
       "</style>\n",
       "<table border=\"1\" class=\"dataframe\">\n",
       "  <thead>\n",
       "    <tr style=\"text-align: right;\">\n",
       "      <th></th>\n",
       "      <th>ID</th>\n",
       "      <th>sequence</th>\n",
       "      <th>sequence_posrich</th>\n",
       "    </tr>\n",
       "  </thead>\n",
       "  <tbody>\n",
       "    <tr>\n",
       "      <th>0</th>\n",
       "      <td>EU308561.1</td>\n",
       "      <td>MRVKEKYQHLWRWGWRWGTMLLGMLMICSATEKLWVTVYYGVPVWR...</td>\n",
       "      <td>MRVKWWWEKYQHLWRWGWRWGWTMLLGMLMICSATEKLWVTVYYGV...</td>\n",
       "    </tr>\n",
       "    <tr>\n",
       "      <th>1</th>\n",
       "      <td>EU308562.1</td>\n",
       "      <td>MRVKEKYQHLWRWGWRWGTMLLGMLMICSATEKLWVTVYYGVPVWR...</td>\n",
       "      <td>MRVKWWWEKYQHLWRWGWRWGWTMLLGMLMICSATEKLWVTVYYGV...</td>\n",
       "    </tr>\n",
       "    <tr>\n",
       "      <th>2</th>\n",
       "      <td>EU308541.1</td>\n",
       "      <td>MRVKEKYQHLWRWGWRWGTMLLGMLMICSATEKLWVTVYYGVPVWK...</td>\n",
       "      <td>MRVKWWWEKYQHLWRWGWRWGWTMLLGMLMICSATEKLWVTVYYGV...</td>\n",
       "    </tr>\n",
       "    <tr>\n",
       "      <th>3</th>\n",
       "      <td>EU308543.1</td>\n",
       "      <td>MRVKEKYQHLWRWGWRWGTMLLGMLMICSATEKLWVTVYYGVPVWK...</td>\n",
       "      <td>MRVKWWWEKYQHLWRWGWRWGWTMLLGMLMICSATEKLWVTVYYGV...</td>\n",
       "    </tr>\n",
       "    <tr>\n",
       "      <th>4</th>\n",
       "      <td>EU308555.1</td>\n",
       "      <td>MRVKEKYQHLWRWGWRWGTMLLGMLMICSATEKLWVTVYYGVPVWK...</td>\n",
       "      <td>MRVKWWWEKYQHLWRWGWRWGWTMLLGMLMICSATEKLWVTVYYGV...</td>\n",
       "    </tr>\n",
       "    <tr>\n",
       "      <th>...</th>\n",
       "      <td>...</td>\n",
       "      <td>...</td>\n",
       "      <td>...</td>\n",
       "    </tr>\n",
       "    <tr>\n",
       "      <th>82</th>\n",
       "      <td>DQ976412.1</td>\n",
       "      <td>MRVMGIMRNYQHLWKWGTMMLLGILMICNARENLWVTVYYGVPVWK...</td>\n",
       "      <td>MRVMGIMRNYQHLWWWWWKWGTMMLLGILMICNARENLWVTVYYGV...</td>\n",
       "    </tr>\n",
       "    <tr>\n",
       "      <th>83</th>\n",
       "      <td>DQ976413.1</td>\n",
       "      <td>MRVMGIMRNYQHLWKWGTMMLLGILMICNARENLWVTVYYGVPVWK...</td>\n",
       "      <td>MRVMGIMRNYQHLWWWWWKWGTMMLLGILMICNARENLWVTVYYGV...</td>\n",
       "    </tr>\n",
       "    <tr>\n",
       "      <th>84</th>\n",
       "      <td>DQ976416.1</td>\n",
       "      <td>MRVTEIMRNCQNLWKWGTMMLLGILIICNAKEKLWVTVYYGVPVWK...</td>\n",
       "      <td>MRVTEIMRNCQNLWWWWWKWGTMMLLGILIICNAKEKLWVTVYYGV...</td>\n",
       "    </tr>\n",
       "    <tr>\n",
       "      <th>85</th>\n",
       "      <td>DQ976417.1</td>\n",
       "      <td>MRVMGIMRNYQHLWKWGTMMLLGILMICNARENLWVTVYYGVPVWK...</td>\n",
       "      <td>MRVMGIMRNYQHLWWWWWKWGTMMLLGILMICNARENLWVTVYYGV...</td>\n",
       "    </tr>\n",
       "    <tr>\n",
       "      <th>86</th>\n",
       "      <td>DQ976418.1</td>\n",
       "      <td>MRVMGIMRNYQHLWKWGTMMLLGILMICNARENLWVTVYYGVPVWK...</td>\n",
       "      <td>MRVMGIMRNYQHLWWWWWKWGTMMLLGILMICNARENLWVTVYYGV...</td>\n",
       "    </tr>\n",
       "  </tbody>\n",
       "</table>\n",
       "<p>87 rows × 3 columns</p>\n",
       "</div>"
      ],
      "text/plain": [
       "            ID                                           sequence  \\\n",
       "0   EU308561.1  MRVKEKYQHLWRWGWRWGTMLLGMLMICSATEKLWVTVYYGVPVWR...   \n",
       "1   EU308562.1  MRVKEKYQHLWRWGWRWGTMLLGMLMICSATEKLWVTVYYGVPVWR...   \n",
       "2   EU308541.1  MRVKEKYQHLWRWGWRWGTMLLGMLMICSATEKLWVTVYYGVPVWK...   \n",
       "3   EU308543.1  MRVKEKYQHLWRWGWRWGTMLLGMLMICSATEKLWVTVYYGVPVWK...   \n",
       "4   EU308555.1  MRVKEKYQHLWRWGWRWGTMLLGMLMICSATEKLWVTVYYGVPVWK...   \n",
       "..         ...                                                ...   \n",
       "82  DQ976412.1  MRVMGIMRNYQHLWKWGTMMLLGILMICNARENLWVTVYYGVPVWK...   \n",
       "83  DQ976413.1  MRVMGIMRNYQHLWKWGTMMLLGILMICNARENLWVTVYYGVPVWK...   \n",
       "84  DQ976416.1  MRVTEIMRNCQNLWKWGTMMLLGILIICNAKEKLWVTVYYGVPVWK...   \n",
       "85  DQ976417.1  MRVMGIMRNYQHLWKWGTMMLLGILMICNARENLWVTVYYGVPVWK...   \n",
       "86  DQ976418.1  MRVMGIMRNYQHLWKWGTMMLLGILMICNARENLWVTVYYGVPVWK...   \n",
       "\n",
       "                                     sequence_posrich  \n",
       "0   MRVKWWWEKYQHLWRWGWRWGWTMLLGMLMICSATEKLWVTVYYGV...  \n",
       "1   MRVKWWWEKYQHLWRWGWRWGWTMLLGMLMICSATEKLWVTVYYGV...  \n",
       "2   MRVKWWWEKYQHLWRWGWRWGWTMLLGMLMICSATEKLWVTVYYGV...  \n",
       "3   MRVKWWWEKYQHLWRWGWRWGWTMLLGMLMICSATEKLWVTVYYGV...  \n",
       "4   MRVKWWWEKYQHLWRWGWRWGWTMLLGMLMICSATEKLWVTVYYGV...  \n",
       "..                                                ...  \n",
       "82  MRVMGIMRNYQHLWWWWWKWGTMMLLGILMICNARENLWVTVYYGV...  \n",
       "83  MRVMGIMRNYQHLWWWWWKWGTMMLLGILMICNARENLWVTVYYGV...  \n",
       "84  MRVTEIMRNCQNLWWWWWKWGTMMLLGILIICNAKEKLWVTVYYGV...  \n",
       "85  MRVMGIMRNYQHLWWWWWKWGTMMLLGILMICNARENLWVTVYYGV...  \n",
       "86  MRVMGIMRNYQHLWWWWWKWGTMMLLGILMICNARENLWVTVYYGV...  \n",
       "\n",
       "[87 rows x 3 columns]"
      ]
     },
     "execution_count": 60,
     "metadata": {},
     "output_type": "execute_result"
    }
   ],
   "source": [
    "import pandas as pd\n",
    "df = pd.DataFrame(list(zip(id,sequence)), columns = [\"ID\", \"sequence\"])\n",
    "df[\"sequence\"] = df[\"sequence\"].str.strip()\n",
    "df[\"sequence_posrich\"] = df[\"sequence\"].str.replace('-','W')\n",
    "df[\"sequence\"] = df[\"sequence\"].str.replace('-','')\n",
    "df"
   ]
  },
  {
   "cell_type": "code",
   "execution_count": 61,
   "id": "b8c65934-7716-49e1-a626-fc4df7e36f12",
   "metadata": {},
   "outputs": [
    {
     "data": {
      "text/html": [
       "<div>\n",
       "<style scoped>\n",
       "    .dataframe tbody tr th:only-of-type {\n",
       "        vertical-align: middle;\n",
       "    }\n",
       "\n",
       "    .dataframe tbody tr th {\n",
       "        vertical-align: top;\n",
       "    }\n",
       "\n",
       "    .dataframe thead th {\n",
       "        text-align: right;\n",
       "    }\n",
       "</style>\n",
       "<table border=\"1\" class=\"dataframe\">\n",
       "  <thead>\n",
       "    <tr style=\"text-align: right;\">\n",
       "      <th></th>\n",
       "      <th>seq</th>\n",
       "      <th>Wayne_rank</th>\n",
       "    </tr>\n",
       "  </thead>\n",
       "  <tbody>\n",
       "    <tr>\n",
       "      <th>0</th>\n",
       "      <td>JN002049.1</td>\n",
       "      <td>Non</td>\n",
       "    </tr>\n",
       "    <tr>\n",
       "      <th>1</th>\n",
       "      <td>JN002030.1</td>\n",
       "      <td>Non</td>\n",
       "    </tr>\n",
       "    <tr>\n",
       "      <th>2</th>\n",
       "      <td>JN002033.1</td>\n",
       "      <td>Non</td>\n",
       "    </tr>\n",
       "    <tr>\n",
       "      <th>3</th>\n",
       "      <td>JN002040.1</td>\n",
       "      <td>Non</td>\n",
       "    </tr>\n",
       "    <tr>\n",
       "      <th>4</th>\n",
       "      <td>JN002043.1</td>\n",
       "      <td>Non</td>\n",
       "    </tr>\n",
       "    <tr>\n",
       "      <th>...</th>\n",
       "      <td>...</td>\n",
       "      <td>...</td>\n",
       "    </tr>\n",
       "    <tr>\n",
       "      <th>82</th>\n",
       "      <td>DQ976419.1</td>\n",
       "      <td>Non</td>\n",
       "    </tr>\n",
       "    <tr>\n",
       "      <th>83</th>\n",
       "      <td>DQ976420.1</td>\n",
       "      <td>Non</td>\n",
       "    </tr>\n",
       "    <tr>\n",
       "      <th>84</th>\n",
       "      <td>DQ976426.1</td>\n",
       "      <td>M-tropic</td>\n",
       "    </tr>\n",
       "    <tr>\n",
       "      <th>85</th>\n",
       "      <td>DQ976428.1</td>\n",
       "      <td>M-tropic</td>\n",
       "    </tr>\n",
       "    <tr>\n",
       "      <th>86</th>\n",
       "      <td>DQ976429.1</td>\n",
       "      <td>M-tropic</td>\n",
       "    </tr>\n",
       "  </tbody>\n",
       "</table>\n",
       "<p>87 rows × 2 columns</p>\n",
       "</div>"
      ],
      "text/plain": [
       "           seq Wayne_rank\n",
       "0   JN002049.1        Non\n",
       "1   JN002030.1        Non\n",
       "2   JN002033.1        Non\n",
       "3   JN002040.1        Non\n",
       "4   JN002043.1        Non\n",
       "..         ...        ...\n",
       "82  DQ976419.1        Non\n",
       "83  DQ976420.1        Non\n",
       "84  DQ976426.1   M-tropic\n",
       "85  DQ976428.1   M-tropic\n",
       "86  DQ976429.1   M-tropic\n",
       "\n",
       "[87 rows x 2 columns]"
      ]
     },
     "execution_count": 61,
     "metadata": {},
     "output_type": "execute_result"
    }
   ],
   "source": [
    "xlsx_labels = pd.read_excel(\"/Users/waynelam/Desktop/WayneLab/HIVClassifier/CellularTropismProject_Master.xlsx\", sheet_name=1)\n",
    "xlsx_labels.drop([\"M_tropism_level\",\"Lily_notes\"],axis=1,inplace=True)\n",
    "xlsx_labels[\"seq\"] = xlsx_labels[\"seq\"].str.strip()\n",
    "xlsx_labels"
   ]
  },
  {
   "cell_type": "code",
   "execution_count": 62,
   "id": "138bfd51",
   "metadata": {},
   "outputs": [],
   "source": [
    "df_merged = df.merge(xlsx_labels, how=\"right\", left_on=\"ID\", right_on=\"seq\")"
   ]
  },
  {
   "cell_type": "code",
   "execution_count": 63,
   "id": "93c62f65-2937-4339-9dcb-38929c84bf4b",
   "metadata": {},
   "outputs": [
    {
     "name": "stdout",
     "output_type": "stream",
     "text": [
      "DQ976381.1 MRVKGIRKSYQHLWRWGTMLHGILMICSATENLWVTVYYGVPVWKEATTTLFCASDAKAYDTEVHNVWATHACVPTDPNPQEVELENVTENFNMWKNNMVEQMHEDIISLWDQSLKPCVRLTPLCVILNCTDLKNDTTTTSGGGGIMMEKGEIKNCSFSINTRGRNKEQKDYAFFYKLDVVPINNNNSYRLISCNTSVITQACPKVSFEPIPIHYCAPAGFAILKCKDKKFNGTGPCKNVSTVQCTHGIRPVVSTQLLLNGSLAEEEVVIRSANFSDNTKTIMVQLKEAVEINCTRPNNNTRKSIPMGPGKAFYTTGEIIGDIRQAHCNLSITKWNNTLKQIVEKLREQFENKTIIFNQSAGGDPEIVMHSFNCGGEFFYCNSTQLFNSTWSSNSTWNDTQGSNNPEGNDTITLTCRIKQFINMWQEVGKAMYAPPISGQIRCSSNITGLLLTRDGGTNEISNQTEIFRPGGGDMRDNWRSELYKYKVVKIEPLGVAPTKAKRRVVQREKRAAVGLGAVFLGFLGAAGSTMGAASITLTAQARQLLSGIVQQQNNLLRAIEAQQHLLQLTVWGIKQLQARVLAVERYLKDQQLLGIWGCSGKLICTTTVPWNASWSNKSLDKIWNNMTWMEWEREINNYTSLIYNLIEESQNQQEKNEQELLELDKWASLWNWFDITQWLWYIRIFIMIVGGLIGLRIVFAVLSIVNRVRQGYSPLSFQTRFPAPRGPDRPGGTEEEGGERDRDRSGRLVNGFLALIWDDLRSLCLFSYHRLRDLLLIVTRIVELLGRRGWEALKYWGNLLQYWSQELKNSAVSLLNVTAIAVAEGTDRVIEVLQRAFRAILHIPRRIRQGLERALL\n",
      "DQ976385.1 MRVKGIRKSYQHLWRWGTMLHGILMICSATENLWVTVYYGVPVWKEATTTLFCASDAKAYDTEVHNVWATHACVPTDPNPQEVELENVTENFNMWKNNMVEQMHEDIISLWDQSLKPCVRLTPLCVILNCTDLKNDTTTTSGGGGIMMEKGEIKNCSFSINTRGRNKEQKDYAFFYKLDVVPINNNNSYRLISCNTSVITQACPKVSFEPIPIHYCAPAGFAILKCKDKKFNGTGPCKNVSTVQCTHGIRPVVSTQLLLNGSLAEEEVVIRSANFSDNTKTIMVQLKEAVEINCTRPNNNTRKSIPMGPGKAFYTTGEIIGDIRQAHCNLSITKWNNTLKQIVEKLREQFENKTIIFNQSAGGDPEIVMHSFNCGGEFFYCNSTQLFNSTWSSNSTWNDTQGSNNPEGNDTITLTCRIKQFINMWQEVGKAMYAPPISGQIRCSSNITGLLLTRDGGTNEISNQTEIFRPGGGDMRDNWRSELYKYKVVKIEPLGVAPTKAKRRVVQREKRAAVGLGAVFLGFLGAAGSTMGAASITLTAQARQLLSGIVQQQNNLLRAIEAQQHLLQLTVWGIKQLQARVLAVERYLKDQQLLGIWGCSGKLICTTTVPWNASWSNKSLDKIWNNMTWMEWEREINNYTSLIYNLIEESQNQQEKNEQELLELDKWASLWNWFDITQWLWYIRIFIMIVGGLIGLRIVFAVLSIVNRVRQGYSPLSFQTRFPAPRGPDRPGGTEEEGGERDRDRSGRLVNGFLALIWDDLRSLCLFSYHRLRDLLLIVTRIVELLGRRGWEALKYWGNLLQYWSQELKNSAVSLLNVTAIAVAEGTDRVIEVLQRAFRAILHIPRRIRQGLERALL\n",
      "DQ976382.1 MRVKGIRKSYQHLWRWGTMLHGILMICSATENLWVTVYYGVPVWKEATTTLFCASDAKAYDTEVHNVWATHACVPTDPNPQEVELENVTENFNMWKNNMVEQMHEDIISLWDQSLKPCVRLTPLCVILNCTDLKNDTTTTSGGGGIMMEKGEIKNCSFSINTRGRNKEQKDYAFFYKLDVVPINNNNSYRLISCNTSVITQACPKVSFEPIPIHYCAPAGFAILKCKDKKFNGTGPCKNVSTVQCTHGIRPVVSTQLLLNGSLAEEEVVIRSANFSDNTKTIMVQLKEAVEINCTRPNNNTRKSIPMGPGKAFYTTGEIIGDIRQAHCNLSITKWNNTLKQIVEKLREQFENKTIIFNQSAGGDPEIVMHSFNCGGEFFYCNSTQLFNSTWSSNSTWNDTQGSNNPEGNDTITLTCRIKQFINMWQEVGKAMYAPPISGQIRCSSNITGLLLTRDGGTNEISNQTEIFRPGGGDMRDNWRSELYKYKVVKIEPLGVAPTKAKRRVVQREKRAAVGLGAVFLGFLGAAGSTMGAASITLTAQARQLLSGIVQQQNNLLRAIEAQQHLLQLTVWGIKQLQARVLAVERYLKDQQLLGIWGCSGKLICTTTVPWNASWSNKSLDKIWNNMTWMEWEREINNYTSLIYNLIEESQNQQEKNEQELLELDKWASLWNWFDITQWLWYIRIFIMIVGGLIGLRIVFAVLSIVNRVRQGYSPLSFQTRFPAPRGPDRPGGTEEEGGERDRDRSGRLVNGFLALIWDDLRSLCLFSYHRLRDLLLIVTRIVELLGRRGWEALKYWGNLLQYWSQELKNSAVSLLNVTAIAVAEGTDRVIEVLQRAFRAILHIPRRIRQGLERALL\n",
      "DQ976383.1 MRVKGIRKSYQHLWRWGTMLHGILMICSATENLWVTVYYGVPVWKEATTTLFCASDAKAYDTEVHNVWATHACVPTDPNPQEVELENVTENFNMWKNNMVEQMHEDIISLWDQSLKPCVRLTPLCVILNCTDLKNDTTTTSGGGGIMMEKGEIKNCSFSINTRGRNKEQKDYAFFYKLDVVPINNNNSYRLISCNTSVITQACPKVSFEPIPIHYCAPAGFAILKCKDKKFNGTGPCKNVSTVQCTHGIRPVVSTQLLLNGSLAEEEVVIRSANFSDNTKTIMVQLKEAVEINCTRPNNNTRKSIPMGPGKAFYTTGEIIGDIRQAHCNLSITKWNNTLKQIVEKLREQFENKTIIFNQSAGGDPEIVMHSFNCGGEFFYCNSTQLFNSTWSSNSTWNDTQGSNNPEGNDTITLTCRIKQFINMWQEVGKAMYAPPISGQIRCSSNITGLLLTRDGGTNEISNQTEIFRPGGGDMRDNWRSELYKYKVVKIEPLGVAPTKAKRRVVQREKRAAVGLGAVFLGFLGAAGSTMGAASITLTAQARQLLSGIVQQQNNLLRAIEAQQHLLQLTVWGIKQLQARVLAVERYLKDQQLLGIWGCSGKLICTTTVPWNASWSNKSLDKIWNNMTWMEWEREINNYTSLIYNLIEESQNQQEKNEQELLELDKWASLWNWFDITQWLWYIRIFIMIVGGLIGLRIVFAVLSIVNRVRQGYSPLSFQTRFPAPRGPDRPGGTEEEGGERDRDRSGRLVNGFLALIWDDLRSLCLFSYHRLRDLLLIVTRIVELLGRRGWEALKYWGNLLQYWSQELKNSAVSLLNVTAIAVAEGTDRVIEVLQRAFRAILHIPRRIRQGLERALL\n",
      "DQ976384.1 MRVKGIRKSYQHLWRWGTMLHGILMICSATENLWVTVYYGVPVWKEATTTLFCASDAKAYDTEVHNVWATHACVPTDPNPQEVELENVTENFNMWKNNMVEQMHEDIISLWDQSLKPCVRLTPLCVILNCTDLKNDTTTTSGGGGIMMEKGEIKNCSFSINTRGRNKEQKDYAFFYKLDVVPINNNNSYRLISCNTSVITQACPKVSFEPIPIHYCAPAGFAILKCKDKKFNGTGPCKNVSTVQCTHGIRPVVSTQLLLNGSLAEEEVVIRSANFSDNTKTIMVQLKEAVEINCTRPNNNTRKSIPMGPGKAFYTTGEIIGDIRQAHCNLSITKWNNTLKQIVEKLREQFENKTIIFNQSAGGDPEIVMHSFNCGGEFFYCNSTQLFNSTWSSNSTWNDTQGSNNPEGNDTITLTCRIKQFINMWQEVGKAMYAPPISGQIRCSSNITGLLLTRDGGTNEISNQTEIFRPGGGDMRDNWRSELYKYKVVKIEPLGVAPTKAKRRVVQREKRAAVGLGAVFLGFLGAAGSTMGAASITLTAQARQLLSGIVQQQNNLLRAIEAQQHLLQLTVWGIKQLQARVLAVERYLKDQQLLGIWGCSGKLICTTTVPWNASWSNKSLDKIWNNMTWMEWEREINNYTSLIYNLIEESQNQQEKNEQELLELDKWASLWNWFDITQWLWYIRIFIMIVGGLIGLRIVFAVLSIVNRVRQGYSPLSFQTRFPAPRGPDRPGGTEEEGGERDRDRSGRLVNGFLALIWDDLRSLCLFSYHRLRDLLLIVTRIVELLGRRGWEALKYWGNLLQYWSQELKNSAVSLLNVTAIAVAEGTDRVIEVLQRAFRAILHIPRRIRQGLERALL\n"
     ]
    }
   ],
   "source": [
    "duplicates = df_merged[\"sequence\"].duplicated(keep=False)\n",
    "for i in range(len(duplicates)):\n",
    "    if(duplicates[i]):\n",
    "        print(df_merged[\"ID\"][i], df_merged[\"sequence\"][i])"
   ]
  },
  {
   "cell_type": "code",
   "execution_count": 64,
   "id": "4f9f40c1",
   "metadata": {},
   "outputs": [],
   "source": [
    "df_merged.drop('seq', axis=1, inplace=True)\n",
    "df_merged.rename(columns={\"Wayne_rank\":\"tropism\"}, inplace=True)"
   ]
  },
  {
   "cell_type": "code",
   "execution_count": 65,
   "id": "48f54e9d",
   "metadata": {},
   "outputs": [
    {
     "data": {
      "text/html": [
       "<div>\n",
       "<style scoped>\n",
       "    .dataframe tbody tr th:only-of-type {\n",
       "        vertical-align: middle;\n",
       "    }\n",
       "\n",
       "    .dataframe tbody tr th {\n",
       "        vertical-align: top;\n",
       "    }\n",
       "\n",
       "    .dataframe thead th {\n",
       "        text-align: right;\n",
       "    }\n",
       "</style>\n",
       "<table border=\"1\" class=\"dataframe\">\n",
       "  <thead>\n",
       "    <tr style=\"text-align: right;\">\n",
       "      <th></th>\n",
       "      <th>ID</th>\n",
       "      <th>sequence</th>\n",
       "      <th>sequence_posrich</th>\n",
       "      <th>tropism</th>\n",
       "    </tr>\n",
       "  </thead>\n",
       "  <tbody>\n",
       "    <tr>\n",
       "      <th>0</th>\n",
       "      <td>JN002049.1</td>\n",
       "      <td>MRVKEKYQHLWRWGWRWGTMLLGMLMICSATEKLWVTVYYGVPVWK...</td>\n",
       "      <td>MRVKWWWEKYQHLWRWGWRWGWTMLLGMLMICSATEKLWVTVYYGV...</td>\n",
       "      <td>Non</td>\n",
       "    </tr>\n",
       "    <tr>\n",
       "      <th>1</th>\n",
       "      <td>JN002030.1</td>\n",
       "      <td>MRVKEKYQHLWRWGWRWGTMLLGMLMICSATEKLWVTVYYGVPVWK...</td>\n",
       "      <td>MRVKWWWEKYQHLWRWGWRWGWTMLLGMLMICSATEKLWVTVYYGV...</td>\n",
       "      <td>Non</td>\n",
       "    </tr>\n",
       "    <tr>\n",
       "      <th>2</th>\n",
       "      <td>JN002033.1</td>\n",
       "      <td>MRVKEKYQHLWRWGWRWGTMLLGMLMICSATEKLWVTVYYGVPVWK...</td>\n",
       "      <td>MRVKWWWEKYQHLWRWGWRWGWTMLLGMLMICSATEKLWVTVYYGV...</td>\n",
       "      <td>Non</td>\n",
       "    </tr>\n",
       "    <tr>\n",
       "      <th>3</th>\n",
       "      <td>JN002040.1</td>\n",
       "      <td>MRVKEKYQHLWRWGWRWGTMLLGMLMICSATEKLWVTVYYGVPVWK...</td>\n",
       "      <td>MRVKWWWEKYQHLWRWGWRWGWTMLLGMLMICSATEKLWVTVYYGV...</td>\n",
       "      <td>Non</td>\n",
       "    </tr>\n",
       "    <tr>\n",
       "      <th>4</th>\n",
       "      <td>JN002043.1</td>\n",
       "      <td>MRVKEKYQHLWRWGWRWGTMLLGMLMICSATEKLWVTVYYGVPVWK...</td>\n",
       "      <td>MRVKWWWEKYQHLWRWGWRWGWTMLLGMLMICSATEKLWVTVYYGV...</td>\n",
       "      <td>Non</td>\n",
       "    </tr>\n",
       "    <tr>\n",
       "      <th>...</th>\n",
       "      <td>...</td>\n",
       "      <td>...</td>\n",
       "      <td>...</td>\n",
       "      <td>...</td>\n",
       "    </tr>\n",
       "    <tr>\n",
       "      <th>82</th>\n",
       "      <td>DQ976419.1</td>\n",
       "      <td>MRVTGIMRSYQNLWIWGTMMLLGIFMICNANLWVTVYYGVPVWKEA...</td>\n",
       "      <td>MRVTGIMRSYQNLWWWWWIWGTMMLLGIFMICNAWWNLWVTVYYGV...</td>\n",
       "      <td>Non</td>\n",
       "    </tr>\n",
       "    <tr>\n",
       "      <th>83</th>\n",
       "      <td>DQ976420.1</td>\n",
       "      <td>MRVTGIMRSYQNLWIWSTMMLLGIFMICNANLWVTVYYGVPVWKEA...</td>\n",
       "      <td>MRVTGIMRSYQNLWWWWWIWSTMMLLGIFMICNAWWNLWVTVYYGV...</td>\n",
       "      <td>Non</td>\n",
       "    </tr>\n",
       "    <tr>\n",
       "      <th>84</th>\n",
       "      <td>DQ976426.1</td>\n",
       "      <td>MRVMGIRKNYQHLWKWGMMLLGMLMICNVAGNLWVTVYYGVPVWKE...</td>\n",
       "      <td>MRVMGIRKNYQHLWWWWWKWGWMMLLGMLMICNVAGNLWVTVYYGV...</td>\n",
       "      <td>M-tropic</td>\n",
       "    </tr>\n",
       "    <tr>\n",
       "      <th>85</th>\n",
       "      <td>DQ976428.1</td>\n",
       "      <td>MRVMGIRKNYQHLWKWGMMLLGMLMICNVAGNLWATVYYGVPVWKE...</td>\n",
       "      <td>MRVMGIRKNYQHLWWWWWKWGWMMLLGMLMICNVAGNLWATVYYGV...</td>\n",
       "      <td>M-tropic</td>\n",
       "    </tr>\n",
       "    <tr>\n",
       "      <th>86</th>\n",
       "      <td>DQ976429.1</td>\n",
       "      <td>MRVMGIRKNYQHLWKWGMMLLGMLTICNVAGNLWVTVYYGVPVWKE...</td>\n",
       "      <td>MRVMGIRKNYQHLWWWWWKWGWMMLLGMLTICNVAGNLWVTVYYGV...</td>\n",
       "      <td>M-tropic</td>\n",
       "    </tr>\n",
       "  </tbody>\n",
       "</table>\n",
       "<p>87 rows × 4 columns</p>\n",
       "</div>"
      ],
      "text/plain": [
       "            ID                                           sequence  \\\n",
       "0   JN002049.1  MRVKEKYQHLWRWGWRWGTMLLGMLMICSATEKLWVTVYYGVPVWK...   \n",
       "1   JN002030.1  MRVKEKYQHLWRWGWRWGTMLLGMLMICSATEKLWVTVYYGVPVWK...   \n",
       "2   JN002033.1  MRVKEKYQHLWRWGWRWGTMLLGMLMICSATEKLWVTVYYGVPVWK...   \n",
       "3   JN002040.1  MRVKEKYQHLWRWGWRWGTMLLGMLMICSATEKLWVTVYYGVPVWK...   \n",
       "4   JN002043.1  MRVKEKYQHLWRWGWRWGTMLLGMLMICSATEKLWVTVYYGVPVWK...   \n",
       "..         ...                                                ...   \n",
       "82  DQ976419.1  MRVTGIMRSYQNLWIWGTMMLLGIFMICNANLWVTVYYGVPVWKEA...   \n",
       "83  DQ976420.1  MRVTGIMRSYQNLWIWSTMMLLGIFMICNANLWVTVYYGVPVWKEA...   \n",
       "84  DQ976426.1  MRVMGIRKNYQHLWKWGMMLLGMLMICNVAGNLWVTVYYGVPVWKE...   \n",
       "85  DQ976428.1  MRVMGIRKNYQHLWKWGMMLLGMLMICNVAGNLWATVYYGVPVWKE...   \n",
       "86  DQ976429.1  MRVMGIRKNYQHLWKWGMMLLGMLTICNVAGNLWVTVYYGVPVWKE...   \n",
       "\n",
       "                                     sequence_posrich   tropism  \n",
       "0   MRVKWWWEKYQHLWRWGWRWGWTMLLGMLMICSATEKLWVTVYYGV...       Non  \n",
       "1   MRVKWWWEKYQHLWRWGWRWGWTMLLGMLMICSATEKLWVTVYYGV...       Non  \n",
       "2   MRVKWWWEKYQHLWRWGWRWGWTMLLGMLMICSATEKLWVTVYYGV...       Non  \n",
       "3   MRVKWWWEKYQHLWRWGWRWGWTMLLGMLMICSATEKLWVTVYYGV...       Non  \n",
       "4   MRVKWWWEKYQHLWRWGWRWGWTMLLGMLMICSATEKLWVTVYYGV...       Non  \n",
       "..                                                ...       ...  \n",
       "82  MRVTGIMRSYQNLWWWWWIWGTMMLLGIFMICNAWWNLWVTVYYGV...       Non  \n",
       "83  MRVTGIMRSYQNLWWWWWIWSTMMLLGIFMICNAWWNLWVTVYYGV...       Non  \n",
       "84  MRVMGIRKNYQHLWWWWWKWGWMMLLGMLMICNVAGNLWVTVYYGV...  M-tropic  \n",
       "85  MRVMGIRKNYQHLWWWWWKWGWMMLLGMLMICNVAGNLWATVYYGV...  M-tropic  \n",
       "86  MRVMGIRKNYQHLWWWWWKWGWMMLLGMLTICNVAGNLWVTVYYGV...  M-tropic  \n",
       "\n",
       "[87 rows x 4 columns]"
      ]
     },
     "execution_count": 65,
     "metadata": {},
     "output_type": "execute_result"
    }
   ],
   "source": [
    "df_merged"
   ]
  },
  {
   "cell_type": "code",
   "execution_count": 66,
   "id": "0c62327a",
   "metadata": {},
   "outputs": [
    {
     "data": {
      "text/html": [
       "<div>\n",
       "<style scoped>\n",
       "    .dataframe tbody tr th:only-of-type {\n",
       "        vertical-align: middle;\n",
       "    }\n",
       "\n",
       "    .dataframe tbody tr th {\n",
       "        vertical-align: top;\n",
       "    }\n",
       "\n",
       "    .dataframe thead th {\n",
       "        text-align: right;\n",
       "    }\n",
       "</style>\n",
       "<table border=\"1\" class=\"dataframe\">\n",
       "  <thead>\n",
       "    <tr style=\"text-align: right;\">\n",
       "      <th></th>\n",
       "      <th>ID</th>\n",
       "      <th>sequence</th>\n",
       "      <th>sequence_posrich</th>\n",
       "      <th>tropism</th>\n",
       "    </tr>\n",
       "  </thead>\n",
       "  <tbody>\n",
       "    <tr>\n",
       "      <th>count</th>\n",
       "      <td>87</td>\n",
       "      <td>87</td>\n",
       "      <td>87</td>\n",
       "      <td>87</td>\n",
       "    </tr>\n",
       "    <tr>\n",
       "      <th>unique</th>\n",
       "      <td>87</td>\n",
       "      <td>83</td>\n",
       "      <td>83</td>\n",
       "      <td>2</td>\n",
       "    </tr>\n",
       "    <tr>\n",
       "      <th>top</th>\n",
       "      <td>JN002049.1</td>\n",
       "      <td>MRVKGIRKSYQHLWRWGTMLHGILMICSATENLWVTVYYGVPVWKE...</td>\n",
       "      <td>MRVKGIRKSYQHLWWWWWRWGWTMLHGILMICSATENLWVTVYYGV...</td>\n",
       "      <td>M-tropic</td>\n",
       "    </tr>\n",
       "    <tr>\n",
       "      <th>freq</th>\n",
       "      <td>1</td>\n",
       "      <td>5</td>\n",
       "      <td>5</td>\n",
       "      <td>60</td>\n",
       "    </tr>\n",
       "  </tbody>\n",
       "</table>\n",
       "</div>"
      ],
      "text/plain": [
       "                ID                                           sequence  \\\n",
       "count           87                                                 87   \n",
       "unique          87                                                 83   \n",
       "top     JN002049.1  MRVKGIRKSYQHLWRWGTMLHGILMICSATENLWVTVYYGVPVWKE...   \n",
       "freq             1                                                  5   \n",
       "\n",
       "                                         sequence_posrich   tropism  \n",
       "count                                                  87        87  \n",
       "unique                                                 83         2  \n",
       "top     MRVKGIRKSYQHLWWWWWRWGWTMLHGILMICSATENLWVTVYYGV...  M-tropic  \n",
       "freq                                                    5        60  "
      ]
     },
     "execution_count": 66,
     "metadata": {},
     "output_type": "execute_result"
    }
   ],
   "source": [
    "df_merged.describe()"
   ]
  },
  {
   "cell_type": "code",
   "execution_count": 10,
   "id": "98f10ce7",
   "metadata": {},
   "outputs": [
    {
     "name": "stdout",
     "output_type": "stream",
     "text": [
      "851\n",
      "854\n",
      "853\n",
      "854\n",
      "853\n",
      "848\n",
      "850\n",
      "851\n",
      "850\n",
      "850\n"
     ]
    }
   ],
   "source": [
    "for i in df_merged[\"sequence\"][:10]:\n",
    "    print(len(i))"
   ]
  },
  {
   "cell_type": "code",
   "execution_count": 11,
   "id": "226a0457",
   "metadata": {},
   "outputs": [
    {
     "name": "stdout",
     "output_type": "stream",
     "text": [
      "899\n",
      "899\n",
      "899\n",
      "899\n",
      "899\n",
      "899\n",
      "899\n",
      "899\n",
      "899\n",
      "899\n"
     ]
    }
   ],
   "source": [
    "for i in df_merged[\"sequence_posrich\"][:10]:\n",
    "    print(len(i))"
   ]
  },
  {
   "cell_type": "code",
   "execution_count": 12,
   "id": "e0e45054-2fe8-4b29-96ff-05c3687b6d56",
   "metadata": {},
   "outputs": [],
   "source": [
    "from protlearn.features import length, aac , aaindex1, ngram, entropy, posrich, motif, atc, binary, cksaap, ctd, ctdc, ctdt, ctdd, moreau_broto, moran, geary, paac, apaac, socn, qso\n",
    "import numpy as np"
   ]
  },
  {
   "cell_type": "code",
   "execution_count": 13,
   "id": "dff02046",
   "metadata": {},
   "outputs": [],
   "source": [
    "from sklearn.model_selection import train_test_split\n",
    "tropic_column = df_merged[\"tropism\"]\n",
    "train_df, test_df = train_test_split(df_merged, test_size=0.2, random_state=42, stratify = tropic_column)"
   ]
  },
  {
   "cell_type": "code",
   "execution_count": 14,
   "id": "aec58f6d",
   "metadata": {},
   "outputs": [
    {
     "data": {
      "text/html": [
       "<div>\n",
       "<style scoped>\n",
       "    .dataframe tbody tr th:only-of-type {\n",
       "        vertical-align: middle;\n",
       "    }\n",
       "\n",
       "    .dataframe tbody tr th {\n",
       "        vertical-align: top;\n",
       "    }\n",
       "\n",
       "    .dataframe thead th {\n",
       "        text-align: right;\n",
       "    }\n",
       "</style>\n",
       "<table border=\"1\" class=\"dataframe\">\n",
       "  <thead>\n",
       "    <tr style=\"text-align: right;\">\n",
       "      <th></th>\n",
       "      <th>ID</th>\n",
       "      <th>sequence</th>\n",
       "      <th>sequence_posrich</th>\n",
       "      <th>tropism</th>\n",
       "    </tr>\n",
       "  </thead>\n",
       "  <tbody>\n",
       "    <tr>\n",
       "      <th>count</th>\n",
       "      <td>69</td>\n",
       "      <td>69</td>\n",
       "      <td>69</td>\n",
       "      <td>69</td>\n",
       "    </tr>\n",
       "    <tr>\n",
       "      <th>unique</th>\n",
       "      <td>69</td>\n",
       "      <td>65</td>\n",
       "      <td>65</td>\n",
       "      <td>2</td>\n",
       "    </tr>\n",
       "    <tr>\n",
       "      <th>top</th>\n",
       "      <td>EU308547.1</td>\n",
       "      <td>MRVKGIRKSYQHLWRWGTMLHGILMICSATENLWVTVYYGVPVWKE...</td>\n",
       "      <td>MRVKGIRKSYQHLWWWWWRWGWTMLHGILMICSATENLWVTVYYGV...</td>\n",
       "      <td>M-tropic</td>\n",
       "    </tr>\n",
       "    <tr>\n",
       "      <th>freq</th>\n",
       "      <td>1</td>\n",
       "      <td>5</td>\n",
       "      <td>5</td>\n",
       "      <td>48</td>\n",
       "    </tr>\n",
       "  </tbody>\n",
       "</table>\n",
       "</div>"
      ],
      "text/plain": [
       "                ID                                           sequence  \\\n",
       "count           69                                                 69   \n",
       "unique          69                                                 65   \n",
       "top     EU308547.1  MRVKGIRKSYQHLWRWGTMLHGILMICSATENLWVTVYYGVPVWKE...   \n",
       "freq             1                                                  5   \n",
       "\n",
       "                                         sequence_posrich   tropism  \n",
       "count                                                  69        69  \n",
       "unique                                                 65         2  \n",
       "top     MRVKGIRKSYQHLWWWWWRWGWTMLHGILMICSATENLWVTVYYGV...  M-tropic  \n",
       "freq                                                    5        48  "
      ]
     },
     "execution_count": 14,
     "metadata": {},
     "output_type": "execute_result"
    }
   ],
   "source": [
    "train_df.describe()"
   ]
  },
  {
   "cell_type": "code",
   "execution_count": 15,
   "id": "16c4840c",
   "metadata": {},
   "outputs": [
    {
     "data": {
      "text/html": [
       "<div>\n",
       "<style scoped>\n",
       "    .dataframe tbody tr th:only-of-type {\n",
       "        vertical-align: middle;\n",
       "    }\n",
       "\n",
       "    .dataframe tbody tr th {\n",
       "        vertical-align: top;\n",
       "    }\n",
       "\n",
       "    .dataframe thead th {\n",
       "        text-align: right;\n",
       "    }\n",
       "</style>\n",
       "<table border=\"1\" class=\"dataframe\">\n",
       "  <thead>\n",
       "    <tr style=\"text-align: right;\">\n",
       "      <th></th>\n",
       "      <th>ID</th>\n",
       "      <th>sequence</th>\n",
       "      <th>sequence_posrich</th>\n",
       "      <th>tropism</th>\n",
       "    </tr>\n",
       "  </thead>\n",
       "  <tbody>\n",
       "    <tr>\n",
       "      <th>count</th>\n",
       "      <td>18</td>\n",
       "      <td>18</td>\n",
       "      <td>18</td>\n",
       "      <td>18</td>\n",
       "    </tr>\n",
       "    <tr>\n",
       "      <th>unique</th>\n",
       "      <td>18</td>\n",
       "      <td>18</td>\n",
       "      <td>18</td>\n",
       "      <td>2</td>\n",
       "    </tr>\n",
       "    <tr>\n",
       "      <th>top</th>\n",
       "      <td>DQ976430.1</td>\n",
       "      <td>MRVMGIRKNYQHLWKWGMMLLGMLMICNVAGNLWVTVYYGVPVWKE...</td>\n",
       "      <td>MRVMGIRKNYQHLWWWWWKWGWMMLLGMLMICNVAGNLWVTVYYGV...</td>\n",
       "      <td>M-tropic</td>\n",
       "    </tr>\n",
       "    <tr>\n",
       "      <th>freq</th>\n",
       "      <td>1</td>\n",
       "      <td>1</td>\n",
       "      <td>1</td>\n",
       "      <td>12</td>\n",
       "    </tr>\n",
       "  </tbody>\n",
       "</table>\n",
       "</div>"
      ],
      "text/plain": [
       "                ID                                           sequence  \\\n",
       "count           18                                                 18   \n",
       "unique          18                                                 18   \n",
       "top     DQ976430.1  MRVMGIRKNYQHLWKWGMMLLGMLMICNVAGNLWVTVYYGVPVWKE...   \n",
       "freq             1                                                  1   \n",
       "\n",
       "                                         sequence_posrich   tropism  \n",
       "count                                                  18        18  \n",
       "unique                                                 18         2  \n",
       "top     MRVMGIRKNYQHLWWWWWKWGWMMLLGMLMICNVAGNLWVTVYYGV...  M-tropic  \n",
       "freq                                                    1        12  "
      ]
     },
     "execution_count": 15,
     "metadata": {},
     "output_type": "execute_result"
    }
   ],
   "source": [
    "test_df.describe()"
   ]
  },
  {
   "cell_type": "code",
   "execution_count": 16,
   "id": "b00cb54d-20ae-42f5-9f6e-4e269264f8d2",
   "metadata": {},
   "outputs": [],
   "source": [
    "seqs = list(train_df[\"sequence\"])\n",
    "s_posrich = list(train_df[\"sequence_posrich\"])"
   ]
  },
  {
   "cell_type": "code",
   "execution_count": 17,
   "id": "105353c3",
   "metadata": {},
   "outputs": [],
   "source": [
    "seq_length = length(seqs, method = 'int')"
   ]
  },
  {
   "cell_type": "code",
   "execution_count": 18,
   "id": "51936cca",
   "metadata": {},
   "outputs": [],
   "source": [
    "seq_aac = aac(seqs)"
   ]
  },
  {
   "cell_type": "code",
   "execution_count": 19,
   "id": "9af06278-3cf4-4bd9-87a9-43e37181764f",
   "metadata": {},
   "outputs": [],
   "source": [
    "seq_aaindex1 = aaindex1(seqs)"
   ]
  },
  {
   "cell_type": "code",
   "execution_count": 20,
   "id": "2d3dc96c",
   "metadata": {},
   "outputs": [],
   "source": [
    "seq_ngram = ngram(seqs, n=2)"
   ]
  },
  {
   "cell_type": "code",
   "execution_count": 21,
   "id": "7ec4b299",
   "metadata": {},
   "outputs": [],
   "source": [
    "seq_entropy = entropy(seqs)"
   ]
  },
  {
   "cell_type": "code",
   "execution_count": 22,
   "id": "4b0c2571",
   "metadata": {},
   "outputs": [],
   "source": [
    "pos1 = posrich(s_posrich, position=419, aminoacid='D').reshape(-1,1)"
   ]
  },
  {
   "cell_type": "code",
   "execution_count": 23,
   "id": "ee485915",
   "metadata": {},
   "outputs": [],
   "source": [
    "pos2 = posrich(s_posrich, position=89, aminoacid='K').reshape(-1,1)"
   ]
  },
  {
   "cell_type": "code",
   "execution_count": 24,
   "id": "1771acd4",
   "metadata": {},
   "outputs": [],
   "source": [
    "pos3 = posrich(s_posrich, position=361, aminoacid='Q').reshape(-1,1)"
   ]
  },
  {
   "cell_type": "code",
   "execution_count": 25,
   "id": "9549799b",
   "metadata": {},
   "outputs": [],
   "source": [
    "pos4 = posrich(s_posrich, position=368, aminoacid='R').reshape(-1,1)"
   ]
  },
  {
   "cell_type": "code",
   "execution_count": 26,
   "id": "8805f313",
   "metadata": {},
   "outputs": [],
   "source": [
    "pos5 = posrich(s_posrich, position=471, aminoacid='K').reshape(-1,1)"
   ]
  },
  {
   "cell_type": "code",
   "execution_count": 27,
   "id": "1e37ad53",
   "metadata": {},
   "outputs": [],
   "source": [
    "pos6 = posrich(s_posrich, position=481, aminoacid='Q').reshape(-1,1)"
   ]
  },
  {
   "cell_type": "code",
   "execution_count": 28,
   "id": "02c28c47",
   "metadata": {},
   "outputs": [],
   "source": [
    "pos7 = posrich(s_posrich, position=482, aminoacid='I').reshape(-1,1)"
   ]
  },
  {
   "cell_type": "code",
   "execution_count": 29,
   "id": "6b818933",
   "metadata": {},
   "outputs": [],
   "source": [
    "pos8 = posrich(s_posrich, position=315, aminoacid='N').reshape(-1,1)"
   ]
  },
  {
   "cell_type": "code",
   "execution_count": 30,
   "id": "ed2eb25d",
   "metadata": {},
   "outputs": [],
   "source": [
    "seq_atc = atc(seqs)"
   ]
  },
  {
   "cell_type": "code",
   "execution_count": 31,
   "id": "f8d7b11a",
   "metadata": {},
   "outputs": [],
   "source": [
    "seq_cksaap = cksaap(seqs)"
   ]
  },
  {
   "cell_type": "code",
   "execution_count": 32,
   "id": "30898487",
   "metadata": {},
   "outputs": [],
   "source": [
    "seq_ctd = ctd(seqs)"
   ]
  },
  {
   "cell_type": "code",
   "execution_count": 33,
   "id": "8e00bf44",
   "metadata": {},
   "outputs": [],
   "source": [
    "seq_ctdc = ctdc(seqs)"
   ]
  },
  {
   "cell_type": "code",
   "execution_count": 34,
   "id": "749f679d",
   "metadata": {},
   "outputs": [],
   "source": [
    "seq_ctdt = ctdt(seqs)"
   ]
  },
  {
   "cell_type": "code",
   "execution_count": 35,
   "id": "95b020b7",
   "metadata": {},
   "outputs": [],
   "source": [
    "seq_ctdd = ctdd(seqs)"
   ]
  },
  {
   "cell_type": "code",
   "execution_count": 36,
   "id": "f0373959",
   "metadata": {},
   "outputs": [],
   "source": [
    "mb = moreau_broto(seqs)"
   ]
  },
  {
   "cell_type": "code",
   "execution_count": 37,
   "id": "1f82689f",
   "metadata": {},
   "outputs": [],
   "source": [
    "seq_moran = moran(seqs)"
   ]
  },
  {
   "cell_type": "code",
   "execution_count": 38,
   "id": "058494ab",
   "metadata": {},
   "outputs": [],
   "source": [
    "extracted_features_train = np.concatenate([seq_length, seq_aac[0], seq_aaindex1[0], seq_ngram[0], seq_entropy, seq_atc[0], seq_atc[1], seq_cksaap[0], seq_ctd[0], seq_ctdc[0], seq_ctdt[0], seq_ctdd[0], mb, seq_moran, pos1, pos2, pos3, pos4, pos5, pos6, pos7, pos8], axis=1)"
   ]
  },
  {
   "cell_type": "code",
   "execution_count": 39,
   "id": "713fabdc",
   "metadata": {},
   "outputs": [
    {
     "data": {
      "text/plain": [
       "(69, 2023)"
      ]
     },
     "execution_count": 39,
     "metadata": {},
     "output_type": "execute_result"
    }
   ],
   "source": [
    "np.shape(extracted_features_train)"
   ]
  },
  {
   "cell_type": "code",
   "execution_count": 40,
   "id": "38a9322c",
   "metadata": {},
   "outputs": [],
   "source": [
    "labels_train = train_df[\"tropism\"]"
   ]
  },
  {
   "cell_type": "code",
   "execution_count": 41,
   "id": "3a2b5c64",
   "metadata": {},
   "outputs": [
    {
     "data": {
      "text/plain": [
       "(69,)"
      ]
     },
     "execution_count": 41,
     "metadata": {},
     "output_type": "execute_result"
    }
   ],
   "source": [
    "np.shape(labels_train)"
   ]
  },
  {
   "cell_type": "code",
   "execution_count": 42,
   "metadata": {},
   "outputs": [],
   "source": [
    "from protlearn.features import length, aac , aaindex1, ngram, entropy, posrich, motif, atc, binary, cksaap, ctd, ctdc, ctdt, ctdd, moreau_broto, moran, geary, paac, apaac, socn, qso"
   ]
  },
  {
   "cell_type": "code",
   "execution_count": 43,
   "id": "94ce0303",
   "metadata": {},
   "outputs": [],
   "source": [
    "test_seqs = list(test_df[\"sequence\"])\n",
    "test_seqs_posrich = list(test_df[\"sequence_posrich\"])"
   ]
  },
  {
   "cell_type": "code",
   "execution_count": 44,
   "id": "4e9bb171",
   "metadata": {},
   "outputs": [],
   "source": [
    "t_length = length(test_seqs, method = 'int')\n",
    "t_aac = aac(test_seqs)\n",
    "t_aaindex1 = aaindex1(test_seqs)\n",
    "t_ngram = ngram(test_seqs, n=2)\n",
    "t_entropy = entropy(test_seqs)\n",
    "t_pos1 = posrich(test_seqs_posrich, position=419, aminoacid='D').reshape(-1,1)\n",
    "t_pos2 = posrich(test_seqs_posrich, position=89, aminoacid='K').reshape(-1,1)\n",
    "t_pos3 = posrich(test_seqs_posrich, position=361, aminoacid='Q').reshape(-1,1)\n",
    "t_pos4 = posrich(test_seqs_posrich, position=368, aminoacid='R').reshape(-1,1)\n",
    "t_pos5 = posrich(test_seqs_posrich, position=471, aminoacid='K').reshape(-1,1)\n",
    "t_pos6 = posrich(test_seqs_posrich, position=481, aminoacid='Q').reshape(-1,1)\n",
    "t_pos7 = posrich(test_seqs_posrich, position=482, aminoacid='I').reshape(-1,1)\n",
    "t_pos8 = posrich(test_seqs_posrich, position=315, aminoacid='N').reshape(-1,1)\n",
    "t_atc = atc(test_seqs)\n",
    "t_cksaap = cksaap(test_seqs)\n",
    "t_ctd = ctd(test_seqs)\n",
    "t_ctdc = ctdc(test_seqs)\n",
    "t_ctdt = ctdt(test_seqs)\n",
    "t_ctdd = ctdd(test_seqs)\n",
    "t_mb = moreau_broto(test_seqs)\n",
    "t_moran = moran(test_seqs)"
   ]
  },
  {
   "cell_type": "code",
   "execution_count": 45,
   "id": "bc5f9c27",
   "metadata": {},
   "outputs": [
    {
     "name": "stdout",
     "output_type": "stream",
     "text": [
      "Shape of Length array: (18, 1)\n",
      "Shape of AAC array: (18, 20)\n",
      "Shape of Aaindex1 array: (18, 553)\n",
      "Shape of Ngram array: (18, 400)\n",
      "Shape of Entropy array: (18, 1)\n",
      "Shape of Atom array: (18, 5)\n",
      "Shape of Bond array: (18, 3)\n",
      "Shape of CKSAAP array: (18, 400)\n",
      "Shape of CTD array: (18, 343)\n",
      "Shape of CTDC array: (18, 39)\n",
      "Shape of CTDT array: (18, 39)\n",
      "Shape of CTDD array: (18, 195)\n",
      "Shape of MB array: (18, 8)\n",
      "Shape of Moran array: (18, 8)\n"
     ]
    }
   ],
   "source": [
    "# Print the shapes of individual arrays\n",
    "print(\"Shape of Length array:\", t_length.shape)\n",
    "print(\"Shape of AAC array:\", t_aac[0].shape)\n",
    "print(\"Shape of Aaindex1 array:\", t_aaindex1[0].shape)\n",
    "# ... Continue this pattern for all other arrays ...\n",
    "print(\"Shape of Ngram array:\", t_ngram[0].shape)\n",
    "print(\"Shape of Entropy array:\", t_entropy.shape)\n",
    "print(\"Shape of Atom array:\", t_atc[0].shape)\n",
    "print(\"Shape of Bond array:\", t_atc[1].shape)\n",
    "#print(\"Shape of Binary array:\", t_binary.shape)\n",
    "print(\"Shape of CKSAAP array:\", t_cksaap[0].shape)\n",
    "print(\"Shape of CTD array:\", t_ctd[0].shape)\n",
    "print(\"Shape of CTDC array:\", t_ctdc[0].shape)\n",
    "print(\"Shape of CTDT array:\", t_ctdt[0].shape)\n",
    "print(\"Shape of CTDD array:\", t_ctdd[0].shape)\n",
    "print(\"Shape of MB array:\", t_mb.shape)\n",
    "print(\"Shape of Moran array:\", t_moran.shape)"
   ]
  },
  {
   "cell_type": "code",
   "execution_count": 46,
   "id": "ea6b28a6",
   "metadata": {},
   "outputs": [],
   "source": [
    "extracted_features_test = np.concatenate([t_length, t_aac[0], t_aaindex1[0], t_ngram[0], t_entropy, t_atc[0], t_atc[1], t_cksaap[0], t_ctd[0], t_ctdc[0], t_ctdt[0], t_ctdd[0], t_mb, t_moran, t_pos1, t_pos2, t_pos3, t_pos4, t_pos5, t_pos6, t_pos7, t_pos8], axis=1)"
   ]
  },
  {
   "cell_type": "code",
   "execution_count": 47,
   "id": "bc5f547c",
   "metadata": {},
   "outputs": [
    {
     "data": {
      "text/plain": [
       "(18, 2023)"
      ]
     },
     "execution_count": 47,
     "metadata": {},
     "output_type": "execute_result"
    }
   ],
   "source": [
    "np.shape(extracted_features_test)"
   ]
  },
  {
   "cell_type": "code",
   "execution_count": 48,
   "id": "b2408fd5",
   "metadata": {},
   "outputs": [],
   "source": [
    "from sklearn.preprocessing import OneHotEncoder\n",
    "import numpy as np\n",
    "label_encoder = OneHotEncoder(handle_unknown='ignore')"
   ]
  },
  {
   "cell_type": "code",
   "execution_count": 49,
   "id": "2eb61618",
   "metadata": {},
   "outputs": [
    {
     "data": {
      "text/plain": [
       "(69, 1)"
      ]
     },
     "execution_count": 49,
     "metadata": {},
     "output_type": "execute_result"
    }
   ],
   "source": [
    "np.shape(labels_train.values.reshape(-1,1))"
   ]
  },
  {
   "cell_type": "code",
   "execution_count": 50,
   "id": "d22b7dff",
   "metadata": {},
   "outputs": [],
   "source": [
    "encoded_labels_train = label_encoder.fit_transform(labels_train.values.reshape(-1,1))"
   ]
  },
  {
   "cell_type": "code",
   "execution_count": 51,
   "id": "4035d082",
   "metadata": {},
   "outputs": [],
   "source": [
    "labels_test = test_df[\"tropism\"]\n",
    "encoded_labels_test = label_encoder.transform(labels_test.values.reshape(-1,1))"
   ]
  },
  {
   "cell_type": "code",
   "execution_count": 53,
   "id": "575e7a1c",
   "metadata": {},
   "outputs": [
    {
     "name": "stdout",
     "output_type": "stream",
     "text": [
      "Best Number of Trees: 35\n",
      "Training Set Metrics:\n",
      "Accuracy: 1.0000\n",
      "Precision: 1.0000\n",
      "Recall: 1.0000\n",
      "F1 Score: 1.0000\n",
      "\n",
      "Test Set Metrics:\n",
      "Accuracy: 0.9444\n",
      "Precision: 0.9487\n",
      "Recall: 0.9444\n",
      "F1 Score: 0.9430\n"
     ]
    }
   ],
   "source": [
    "from sklearn.ensemble import RandomForestClassifier\n",
    "from sklearn.metrics import accuracy_score, precision_score, recall_score, f1_score\n",
    "from sklearn.model_selection import GridSearchCV\n",
    "\n",
    "# Assuming extracted_features, label are your training data and t_extracted_features, t_label are your test data\n",
    "\n",
    "# Initialize Random Forest Classifier\n",
    "rfc = RandomForestClassifier(random_state=42)\n",
    "\n",
    "# Define parameter grid for grid search\n",
    "param_grid = {'n_estimators': [33, 34, 35, 36, 37, 38, 39]}  # You can add more values\n",
    "\n",
    "# Initialize GridSearchCV\n",
    "grid_search = GridSearchCV(estimator=rfc, param_grid=param_grid, cv=5)\n",
    "\n",
    "# Train the model\n",
    "grid_search.fit(extracted_features_train, encoded_labels_train.toarray()) \n",
    "\n",
    "# Get the best estimator from the grid search\n",
    "best_rf_classifier = grid_search.best_estimator_\n",
    "\n",
    "# Predictions on training set\n",
    "train_predictions = best_rf_classifier.predict(extracted_features_train)\n",
    "\n",
    "# Predictions on test set\n",
    "test_predictions = best_rf_classifier.predict(extracted_features_test)\n",
    "\n",
    "# Evaluate metrics for training set\n",
    "train_accuracy = accuracy_score(encoded_labels_train.toarray() , train_predictions)\n",
    "\n",
    "train_precision = precision_score(encoded_labels_train.toarray(), train_predictions, average='weighted')\n",
    "train_recall = recall_score(encoded_labels_train.toarray(), train_predictions, average='weighted')\n",
    "train_f1 = f1_score(encoded_labels_train.toarray(), train_predictions, average='weighted')\n",
    "\n",
    "# Evaluate metrics for test set\n",
    "test_accuracy = accuracy_score(encoded_labels_test.toarray(), test_predictions)\n",
    "test_precision = precision_score(encoded_labels_test.toarray(), test_predictions, average='weighted')\n",
    "test_recall = recall_score(encoded_labels_test.toarray(), test_predictions, average='weighted')\n",
    "test_f1 = f1_score(encoded_labels_test.toarray(), test_predictions, average='weighted')\n",
    "\n",
    "# Print results\n",
    "print(\"Best Number of Trees:\", best_rf_classifier.n_estimators)\n",
    "print(\"Training Set Metrics:\")\n",
    "print(f\"Accuracy: {train_accuracy:.4f}\")\n",
    "print(f\"Precision: {train_precision:.4f}\")\n",
    "print(f\"Recall: {train_recall:.4f}\")\n",
    "print(f\"F1 Score: {train_f1:.4f}\")\n",
    "\n",
    "print(\"\\nTest Set Metrics:\")\n",
    "print(f\"Accuracy: {test_accuracy:.4f}\")\n",
    "print(f\"Precision: {test_precision:.4f}\")\n",
    "print(f\"Recall: {test_recall:.4f}\")\n",
    "print(f\"F1 Score: {test_f1:.4f}\")"
   ]
  },
  {
   "cell_type": "code",
   "execution_count": 52,
   "id": "006e8240",
   "metadata": {},
   "outputs": [
    {
     "name": "stdout",
     "output_type": "stream",
     "text": [
      "╒═══════════╤═════════╤══════════╕\n",
      "│ Metric    │   Train │     Test │\n",
      "╞═══════════╪═════════╪══════════╡\n",
      "│ Accuracy  │       1 │ 0.944444 │\n",
      "├───────────┼─────────┼──────────┤\n",
      "│ Precision │       1 │ 0.948718 │\n",
      "├───────────┼─────────┼──────────┤\n",
      "│ Recall    │       1 │ 0.944444 │\n",
      "├───────────┼─────────┼──────────┤\n",
      "│ F1 Score  │       1 │ 0.94303  │\n",
      "╘═══════════╧═════════╧══════════╛\n"
     ]
    }
   ],
   "source": [
    "from tabulate import tabulate\n",
    "\n",
    "results = [\n",
    "    [\"Metric\", \"Train\", \"Test\"],\n",
    "    [\"Accuracy\", train_accuracy, test_accuracy],\n",
    "    [\"Precision\", train_precision, test_precision],\n",
    "    [\"Recall\", train_recall, test_recall],\n",
    "    [\"F1 Score\", train_f1, test_f1]\n",
    "]\n",
    "\n",
    "table = tabulate(results, headers=\"firstrow\", tablefmt=\"fancy_grid\")\n",
    "print(table)\n"
   ]
  },
  {
   "cell_type": "code",
   "execution_count": 53,
   "id": "b1f08299",
   "metadata": {},
   "outputs": [],
   "source": [
    "best_rf_classifier = grid_search.best_estimator_\n",
    "feature_importances = best_rf_classifier.feature_importances_"
   ]
  },
  {
   "cell_type": "code",
   "execution_count": 54,
   "id": "0622246c",
   "metadata": {},
   "outputs": [
    {
     "name": "stdout",
     "output_type": "stream",
     "text": [
      "[ 241 1469 1812  258  440  407  144  290  279  862]\n"
     ]
    }
   ],
   "source": [
    "sorted_indices = np.argsort(feature_importances)\n",
    "\n",
    "# Get the last 10 indices (10 largest values)\n",
    "top_10 = sorted_indices[-10:]\n",
    "print(top_10)"
   ]
  },
  {
   "cell_type": "code",
   "execution_count": 55,
   "id": "beae9a74",
   "metadata": {},
   "outputs": [
    {
     "name": "stdout",
     "output_type": "stream",
     "text": [
      "Shape of Length array: (18, 1)\n",
      "Shape of AAC array: (18, 20)\n",
      "Shape of Aaindex1 array: (18, 553)\n",
      "Shape of Ngram array: (18, 400)\n",
      "Shape of Entropy array: (18, 1)\n",
      "Shape of Atom array: (18, 5)\n",
      "Shape of Bond array: (18, 3)\n",
      "Shape of CKSAAP array: (18, 400)\n",
      "Shape of CTD array: (18, 343)\n",
      "Shape of CTDC array: (18, 39)\n",
      "Shape of CTDT array: (18, 39)\n",
      "Shape of CTDD array: (18, 195)\n",
      "Shape of MB array: (18, 8)\n",
      "Shape of Moran array: (18, 8)\n"
     ]
    }
   ],
   "source": [
    "# Print the shapes of individual arrays\n",
    "print(\"Shape of Length array:\", t_length.shape)\n",
    "print(\"Shape of AAC array:\", t_aac[0].shape)\n",
    "print(\"Shape of Aaindex1 array:\", t_aaindex1[0].shape)\n",
    "# ... Continue this pattern for all other arrays ...\n",
    "print(\"Shape of Ngram array:\", t_ngram[0].shape)\n",
    "print(\"Shape of Entropy array:\", t_entropy.shape)\n",
    "print(\"Shape of Atom array:\", t_atc[0].shape)\n",
    "print(\"Shape of Bond array:\", t_atc[1].shape)\n",
    "#print(\"Shape of Binary array:\", t_binary.shape)\n",
    "print(\"Shape of CKSAAP array:\", t_cksaap[0].shape)\n",
    "print(\"Shape of CTD array:\", t_ctd[0].shape)\n",
    "print(\"Shape of CTDC array:\", t_ctdc[0].shape)\n",
    "print(\"Shape of CTDT array:\", t_ctdt[0].shape)\n",
    "print(\"Shape of CTDD array:\", t_ctdd[0].shape)\n",
    "print(\"Shape of MB array:\", t_mb.shape)\n",
    "print(\"Shape of Moran array:\", t_moran.shape)"
   ]
  },
  {
   "cell_type": "code",
   "execution_count": 56,
   "id": "fce7aae1",
   "metadata": {},
   "outputs": [
    {
     "name": "stdout",
     "output_type": "stream",
     "text": [
      "aaindex1 OOBM850104 220\n",
      "ctd 263 86\n",
      "ctdd Hydrophobicity_ARGP820101-G2D75 8\n",
      "aaindex1 PALJ810116 237\n",
      "aaindex1 AURR980118 419\n",
      "aaindex1 WERD780104 386\n",
      "aaindex1 ISOY800106 123\n",
      "aaindex1 QIAN880113 269\n",
      "aaindex1 QIAN880102 258\n",
      "ngram RK 288\n"
     ]
    }
   ],
   "source": [
    "feature_categories = ['length', 'aac', 'aaindex1', 'ngram', 'entropy', 'atom', 'bond', 'cksaap', 'ctd', 'ctdc', 'ctdt', 'ctdd', 'mb', 'moran', 'pos1', 'pos2', 'pos3', 'pos4', 'pos5', 'pos6', 'pos7']\n",
    "mb_columns = np.array([\"mb[0]\", \"mb[1]\", \"mb[2]\", \"mb[3]\", \"mb[4]\", \"mb[5]\", \"mb[6]\",\"mb[7]\"])\n",
    "moran_columns = np.array([\"moran[0]\", \"moran[1]\", \"moran[2]\", \"moran[3]\", \"moran[4]\", \"moran[5]\", \"moran[6]\",\"moran[7]\"])\n",
    "atc_atoms_columns = np.array([\"C\", \"H\", \"N\", \"O\", \"S\"])\n",
    "atc_bonds_columns = np.array([\"total bonds\", \"single bonds\", \"double bonds\"])\n",
    "feature_names = np.concatenate([np.array([\"length\"]), list(seq_aac[1]), seq_aaindex1[1], seq_ngram[1], np.array([\"entropy\"]), atc_atoms_columns, atc_bonds_columns, seq_cksaap[1], seq_ctd[1], seq_ctdc[1], seq_ctdt[1], seq_ctdd[1], mb_columns, moran_columns, np.array([\"pos1\", \"pos2\", \"pos3\", \"pos4\", \"pos5\", \"pos6\", \"pos7\"])])\n",
    "for index in top_10:\n",
    "    sum = index\n",
    "    counter = 0\n",
    "    arrays = [seq_length, seq_aac[0], seq_aaindex1[0], seq_ngram[0], seq_entropy, seq_atc[0], seq_atc[1], seq_cksaap[0], seq_ctd[0], seq_ctdc[0], seq_ctdt[0], seq_ctdd[0], mb, seq_moran, pos1, pos2, pos3, pos4, pos5, pos6, pos7]\n",
    "    while sum>=0:\n",
    "        sum -= len(arrays[counter][1])\n",
    "        counter+=1\n",
    "    sum += len(arrays[(counter-1)][1])\n",
    "    print(feature_categories[counter-1], feature_names[index], sum)\n",
    "    #feature category, feature name, column in feature category"
   ]
  },
  {
   "cell_type": "code",
   "execution_count": 98,
   "id": "c2267e76",
   "metadata": {},
   "outputs": [
    {
     "ename": "NameError",
     "evalue": "name 'top_10' is not defined",
     "output_type": "error",
     "traceback": [
      "\u001b[0;31m---------------------------------------------------------------------------\u001b[0m",
      "\u001b[0;31mNameError\u001b[0m                                 Traceback (most recent call last)",
      "Cell \u001b[0;32mIn[98], line 3\u001b[0m\n\u001b[1;32m      1\u001b[0m \u001b[39mimport\u001b[39;00m \u001b[39mmatplotlib\u001b[39;00m\u001b[39m.\u001b[39;00m\u001b[39mpyplot\u001b[39;00m \u001b[39mas\u001b[39;00m \u001b[39mplt\u001b[39;00m\n\u001b[1;32m      2\u001b[0m plt\u001b[39m.\u001b[39mtitle(\u001b[39m'\u001b[39m\u001b[39mFeature Importances\u001b[39m\u001b[39m'\u001b[39m)\n\u001b[0;32m----> 3\u001b[0m plt\u001b[39m.\u001b[39mbarh(\u001b[39mrange\u001b[39m(\u001b[39mlen\u001b[39m(top_10)), feature_importances[top_10], color\u001b[39m=\u001b[39m\u001b[39m'\u001b[39m\u001b[39mb\u001b[39m\u001b[39m'\u001b[39m, align\u001b[39m=\u001b[39m\u001b[39m'\u001b[39m\u001b[39mcenter\u001b[39m\u001b[39m'\u001b[39m)\n\u001b[1;32m      4\u001b[0m plt\u001b[39m.\u001b[39myticks(\u001b[39mrange\u001b[39m(\u001b[39mlen\u001b[39m(top_10)), [feature_names[i] \u001b[39mfor\u001b[39;00m i \u001b[39min\u001b[39;00m top_10])\n\u001b[1;32m      5\u001b[0m plt\u001b[39m.\u001b[39mxlabel(\u001b[39m'\u001b[39m\u001b[39mRelative Importance\u001b[39m\u001b[39m'\u001b[39m)\n",
      "\u001b[0;31mNameError\u001b[0m: name 'top_10' is not defined"
     ]
    },
    {
     "data": {
      "image/png": "[encoded data removed]",
      "text/plain": [
       "<Figure size 640x480 with 1 Axes>"
      ]
     },
     "metadata": {},
     "output_type": "display_data"
    }
   ],
   "source": [
    "import matplotlib.pyplot as plt\n",
    "plt.title('Feature Importances')\n",
    "plt.barh(range(len(top_10)), feature_importances[top_10], color='b', align='center')\n",
    "plt.yticks(range(len(top_10)), [feature_names[i] for i in top_10])\n",
    "plt.xlabel('Relative Importance')\n",
    "plt.show()"
   ]
  },
  {
   "cell_type": "code",
   "execution_count": 78,
   "id": "92bebc44",
   "metadata": {},
   "outputs": [],
   "source": [
    "first_feature = np.concatenate((seq_ngram[0][:,288], t_ngram[0][:,288]))"
   ]
  },
  {
   "cell_type": "code",
   "execution_count": 79,
   "id": "b1b8ae2a",
   "metadata": {},
   "outputs": [],
   "source": [
    "tropism_col = np.concatenate((train_df[\"tropism\"], test_df[\"tropism\"]))"
   ]
  },
  {
   "cell_type": "code",
   "execution_count": 80,
   "id": "d2777af1",
   "metadata": {},
   "outputs": [],
   "source": [
    "feature_df1 = pd.DataFrame({\"feature\": first_feature, \"tropism\": tropism_col})"
   ]
  },
  {
   "cell_type": "code",
   "execution_count": 81,
   "id": "e408ea7e",
   "metadata": {},
   "outputs": [
    {
     "data": {
      "image/png": "[encoded data removed]",
      "text/plain": [
       "<Figure size 640x480 with 1 Axes>"
      ]
     },
     "metadata": {},
     "output_type": "display_data"
    }
   ],
   "source": [
    "feature_df1.boxplot(column = \"feature\", by = \"tropism\")\n",
    "plt.title('first feature')\n",
    "plt.show()"
   ]
  },
  {
   "cell_type": "code",
   "execution_count": 82,
   "id": "96716a2c",
   "metadata": {},
   "outputs": [],
   "source": [
    "mtropic1, nontropic1 = feature_df1.query(\"tropism == 'M-tropic'\")[\"feature\"], feature_df1.query(\"tropism == 'Non'\")[\"feature\"]"
   ]
  },
  {
   "cell_type": "code",
   "execution_count": 83,
   "id": "901de603",
   "metadata": {},
   "outputs": [
    {
     "name": "stdout",
     "output_type": "stream",
     "text": [
      "60 27\n"
     ]
    }
   ],
   "source": [
    "print(len(mtropic1), len(nontropic1))"
   ]
  },
  {
   "cell_type": "code",
   "execution_count": 84,
   "id": "5c1d6bba",
   "metadata": {},
   "outputs": [
    {
     "data": {
      "text/plain": [
       "<matplotlib.legend.Legend at 0x283af9f10>"
      ]
     },
     "execution_count": 84,
     "metadata": {},
     "output_type": "execute_result"
    },
    {
     "data": {
      "image/png": "[encoded data removed]",
      "text/plain": [
       "<Figure size 640x480 with 1 Axes>"
      ]
     },
     "metadata": {},
     "output_type": "display_data"
    }
   ],
   "source": [
    "plt.hist(mtropic1, label='mtropic')\n",
    "plt.hist(nontropic1, label='nontropic')\n",
    "plt.title('first feature')\n",
    "plt.legend()"
   ]
  },
  {
   "cell_type": "code",
   "execution_count": 85,
   "id": "cc920cdd",
   "metadata": {},
   "outputs": [
    {
     "data": {
      "text/plain": [
       "Ttest_indResult(statistic=-2.6987868702766935, pvalue=0.008393881020892635)"
      ]
     },
     "execution_count": 85,
     "metadata": {},
     "output_type": "execute_result"
    }
   ],
   "source": [
    "import scipy.stats as stats\n",
    "stats.ttest_ind(a=mtropic1, b=nontropic1, random_state=42)"
   ]
  },
  {
   "cell_type": "code",
   "execution_count": 86,
   "id": "48f76ae9",
   "metadata": {},
   "outputs": [],
   "source": [
    "second_feature = np.concatenate((seq_aaindex1[0][:,258], t_aaindex1[0][:,258]))\n",
    "tropic_col2 = np.concatenate((train_df[\"tropism\"], test_df[\"tropism\"]))"
   ]
  },
  {
   "cell_type": "code",
   "execution_count": 87,
   "id": "6427e258",
   "metadata": {},
   "outputs": [
    {
     "data": {
      "image/png": "[encoded data removed]",
      "text/plain": [
       "<Figure size 640x480 with 1 Axes>"
      ]
     },
     "metadata": {},
     "output_type": "display_data"
    }
   ],
   "source": [
    "feature_df2 = pd.DataFrame({\"feature\": second_feature, \"tropism\": tropic_col2})\n",
    "feature_df2.boxplot(column = \"feature\", by = \"tropism\")\n",
    "plt.title('second feature')\n",
    "plt.show()"
   ]
  },
  {
   "cell_type": "code",
   "execution_count": 88,
   "id": "4e756ccf",
   "metadata": {},
   "outputs": [
    {
     "data": {
      "text/plain": [
       "<matplotlib.legend.Legend at 0x1481ca050>"
      ]
     },
     "execution_count": 88,
     "metadata": {},
     "output_type": "execute_result"
    },
    {
     "data": {
      "image/png": "[encoded data removed]",
      "text/plain": [
       "<Figure size 640x480 with 1 Axes>"
      ]
     },
     "metadata": {},
     "output_type": "display_data"
    }
   ],
   "source": [
    "mtropic2, nontropic2 = feature_df2.query(\"tropism == 'M-tropic'\")[\"feature\"], feature_df2.query(\"tropism == 'Non'\")[\"feature\"]\n",
    "plt.hist(mtropic2, label='mtropic')\n",
    "plt.hist(nontropic2, label='nontropic')\n",
    "plt.title('second feature')\n",
    "plt.legend()"
   ]
  },
  {
   "cell_type": "code",
   "execution_count": 89,
   "id": "424a0757",
   "metadata": {},
   "outputs": [
    {
     "data": {
      "text/plain": [
       "Ttest_indResult(statistic=-4.68686179890498, pvalue=1.045614807837129e-05)"
      ]
     },
     "execution_count": 89,
     "metadata": {},
     "output_type": "execute_result"
    }
   ],
   "source": [
    "import scipy.stats as stats\n",
    "stats.ttest_ind(a=mtropic2, b=nontropic2, random_state=42)"
   ]
  },
  {
   "cell_type": "code",
   "execution_count": 90,
   "id": "3ce21943",
   "metadata": {},
   "outputs": [],
   "source": [
    "third_feature = np.concatenate((seq_aaindex1[0][:,269], t_aaindex1[0][:,269]))\n",
    "tropic_col3 = np.concatenate((train_df[\"tropism\"], test_df[\"tropism\"]))"
   ]
  },
  {
   "cell_type": "code",
   "execution_count": 91,
   "id": "488c8fde",
   "metadata": {},
   "outputs": [
    {
     "data": {
      "image/png": "[encoded data removed]",
      "text/plain": [
       "<Figure size 640x480 with 1 Axes>"
      ]
     },
     "metadata": {},
     "output_type": "display_data"
    }
   ],
   "source": [
    "feature_df3 = pd.DataFrame({\"feature\": third_feature, \"tropism\": tropic_col3})\n",
    "feature_df3.boxplot(column = \"feature\", by = \"tropism\")\n",
    "plt.title('third feature')\n",
    "plt.show()"
   ]
  },
  {
   "cell_type": "code",
   "execution_count": 92,
   "id": "f9fc4615",
   "metadata": {},
   "outputs": [
    {
     "data": {
      "text/plain": [
       "<matplotlib.legend.Legend at 0x148251ed0>"
      ]
     },
     "execution_count": 92,
     "metadata": {},
     "output_type": "execute_result"
    },
    {
     "data": {
      "image/png": "[encoded data removed]",
      "text/plain": [
       "<Figure size 640x480 with 1 Axes>"
      ]
     },
     "metadata": {},
     "output_type": "display_data"
    }
   ],
   "source": [
    "mtropic3, nontropic3 = feature_df3.query(\"tropism == 'M-tropic'\")[\"feature\"], feature_df3.query(\"tropism == 'Non'\")[\"feature\"]\n",
    "plt.hist(mtropic3, label='mtropic')\n",
    "plt.hist(nontropic3, label='nontropic')\n",
    "plt.title('third feature')\n",
    "plt.legend()"
   ]
  },
  {
   "cell_type": "code",
   "execution_count": 93,
   "id": "48461405",
   "metadata": {},
   "outputs": [
    {
     "data": {
      "text/plain": [
       "Ttest_indResult(statistic=-3.7928329964991097, pvalue=0.00027796737080887905)"
      ]
     },
     "execution_count": 93,
     "metadata": {},
     "output_type": "execute_result"
    }
   ],
   "source": [
    "import scipy.stats as stats\n",
    "stats.ttest_ind(a=mtropic3, b=nontropic3, random_state=42)"
   ]
  },
  {
   "cell_type": "code",
   "execution_count": 94,
   "id": "2ace7c99",
   "metadata": {},
   "outputs": [],
   "source": [
    "#validate Thomas et al\n",
    "thomas = np.concatenate((pos7.flatten().astype(int).tolist(), t_pos7.flatten().astype(int).tolist()))\n",
    "tropic_col_thomas = np.concatenate((train_df[\"tropism\"], test_df[\"tropism\"]))"
   ]
  },
  {
   "cell_type": "code",
   "execution_count": 95,
   "id": "4fd2413a",
   "metadata": {},
   "outputs": [],
   "source": [
    "feature_df4 = pd.DataFrame({\"feature\": thomas, \"tropism\": tropic_col_thomas})"
   ]
  },
  {
   "cell_type": "code",
   "execution_count": 96,
   "id": "97326fc4",
   "metadata": {},
   "outputs": [
    {
     "data": {
      "text/plain": [
       "<matplotlib.legend.Legend at 0x283bde490>"
      ]
     },
     "execution_count": 96,
     "metadata": {},
     "output_type": "execute_result"
    },
    {
     "data": {
      "image/png": "[encoded data removed]",
      "text/plain": [
       "<Figure size 640x480 with 1 Axes>"
      ]
     },
     "metadata": {},
     "output_type": "display_data"
    }
   ],
   "source": [
    "mtropic4, nontropic4 = feature_df4.query(\"tropism == 'M-tropic'\")[\"feature\"], feature_df4.query(\"tropism == 'Non'\")[\"feature\"]\n",
    "plt.hist(mtropic4, label='mtropic')\n",
    "plt.hist(nontropic4, label='nontropic')\n",
    "plt.title('thomas')\n",
    "plt.legend()"
   ]
  },
  {
   "cell_type": "code",
   "execution_count": 99,
   "id": "7bb52a19",
   "metadata": {},
   "outputs": [
    {
     "name": "stderr",
     "output_type": "stream",
     "text": [
      "/var/folders/p5/2f9dnzr14y90dpvlgqwnchr80000gn/T/ipykernel_676/217942215.py:2: RuntimeWarning: Precision loss occurred in moment calculation due to catastrophic cancellation. This occurs when the data are nearly identical. Results may be unreliable.\n",
      "  stats.ttest_ind(a=mtropic4, b=nontropic4, random_state=42)\n"
     ]
    },
    {
     "data": {
      "text/plain": [
       "Ttest_indResult(statistic=4.092525928189875, pvalue=9.673415168918449e-05)"
      ]
     },
     "execution_count": 99,
     "metadata": {},
     "output_type": "execute_result"
    }
   ],
   "source": [
    "import scipy.stats as stats\n",
    "stats.ttest_ind(a=mtropic4, b=nontropic4, random_state=42)"
   ]
  }
 ],
 "metadata": {
  "kernelspec": {
   "display_name": "Python 3 (ipykernel)",
   "language": "python",
   "name": "python3"
  },
  "language_info": {
   "codemirror_mode": {
    "name": "ipython",
    "version": 3
   },
   "file_extension": ".py",
   "mimetype": "text/x-python",
   "name": "python",
   "nbconvert_exporter": "python",
   "pygments_lexer": "ipython3",
   "version": "3.11.1"
  }
 },
 "nbformat": 4,
 "nbformat_minor": 5
}
