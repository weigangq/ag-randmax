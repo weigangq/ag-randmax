{
 "cells": [
  {
   "cell_type": "code",
   "execution_count": 1,
   "id": "bc7bd666-eee2-4801-818d-411dadb62371",
   "metadata": {},
   "outputs": [],
   "source": [
    "from Bio import SeqIO\n",
    "from Bio import AlignIO"
   ]
  },
  {
   "cell_type": "code",
   "execution_count": 2,
   "id": "c5a5f11b-9703-45cf-a059-6f4937954894",
   "metadata": {},
   "outputs": [],
   "source": [
    "id = []\n",
    "sequence = []\n",
    "with open(\"HIV_env_pep.aln\") as handle:\n",
    "    for seq in SeqIO.parse(handle, \"fasta\"):\n",
    "        id.append(seq.id)\n",
    "        sequence.append(str(seq.seq))"
   ]
  },
  {
   "cell_type": "code",
   "execution_count": 3,
   "id": "a1cdaa7e-15e0-4043-b542-b22c5faeaf7a",
   "metadata": {
    "scrolled": true
   },
   "outputs": [],
   "source": [
    "import pandas as pd\n",
    "df = pd.DataFrame(list(zip(id,sequence)), columns = [\"ID\", \"sequence\"])\n",
    "df[\"sequence\"] = df[\"sequence\"].str.strip()\n",
    "df[\"sequence\"] = df[\"sequence\"].str.replace('-','')"
   ]
  },
  {
   "cell_type": "code",
   "execution_count": 4,
   "id": "c5bf1838-843d-4578-8557-fff943f2db96",
   "metadata": {},
   "outputs": [
    {
     "data": {
      "text/html": [
       "<div>\n",
       "<style scoped>\n",
       "    .dataframe tbody tr th:only-of-type {\n",
       "        vertical-align: middle;\n",
       "    }\n",
       "\n",
       "    .dataframe tbody tr th {\n",
       "        vertical-align: top;\n",
       "    }\n",
       "\n",
       "    .dataframe thead th {\n",
       "        text-align: right;\n",
       "    }\n",
       "</style>\n",
       "<table border=\"1\" class=\"dataframe\">\n",
       "  <thead>\n",
       "    <tr style=\"text-align: right;\">\n",
       "      <th></th>\n",
       "      <th>ID</th>\n",
       "      <th>sequence</th>\n",
       "    </tr>\n",
       "  </thead>\n",
       "  <tbody>\n",
       "    <tr>\n",
       "      <th>0</th>\n",
       "      <td>EU308561.1</td>\n",
       "      <td>MRVKEKYQHLWRWGWRWGTMLLGMLMICSATEKLWVTVYYGVPVWR...</td>\n",
       "    </tr>\n",
       "    <tr>\n",
       "      <th>1</th>\n",
       "      <td>EU308562.1</td>\n",
       "      <td>MRVKEKYQHLWRWGWRWGTMLLGMLMICSATEKLWVTVYYGVPVWR...</td>\n",
       "    </tr>\n",
       "    <tr>\n",
       "      <th>2</th>\n",
       "      <td>EU308541.1</td>\n",
       "      <td>MRVKEKYQHLWRWGWRWGTMLLGMLMICSATEKLWVTVYYGVPVWK...</td>\n",
       "    </tr>\n",
       "    <tr>\n",
       "      <th>3</th>\n",
       "      <td>EU308543.1</td>\n",
       "      <td>MRVKEKYQHLWRWGWRWGTMLLGMLMICSATEKLWVTVYYGVPVWK...</td>\n",
       "    </tr>\n",
       "    <tr>\n",
       "      <th>4</th>\n",
       "      <td>EU308555.1</td>\n",
       "      <td>MRVKEKYQHLWRWGWRWGTMLLGMLMICSATEKLWVTVYYGVPVWK...</td>\n",
       "    </tr>\n",
       "  </tbody>\n",
       "</table>\n",
       "</div>"
      ],
      "text/plain": [
       "           ID                                           sequence\n",
       "0  EU308561.1  MRVKEKYQHLWRWGWRWGTMLLGMLMICSATEKLWVTVYYGVPVWR...\n",
       "1  EU308562.1  MRVKEKYQHLWRWGWRWGTMLLGMLMICSATEKLWVTVYYGVPVWR...\n",
       "2  EU308541.1  MRVKEKYQHLWRWGWRWGTMLLGMLMICSATEKLWVTVYYGVPVWK...\n",
       "3  EU308543.1  MRVKEKYQHLWRWGWRWGTMLLGMLMICSATEKLWVTVYYGVPVWK...\n",
       "4  EU308555.1  MRVKEKYQHLWRWGWRWGTMLLGMLMICSATEKLWVTVYYGVPVWK..."
      ]
     },
     "execution_count": 4,
     "metadata": {},
     "output_type": "execute_result"
    }
   ],
   "source": [
    "df.head()"
   ]
  },
  {
   "cell_type": "code",
   "execution_count": 5,
   "id": "6da93128-ad8d-40f4-b423-f0716c0ddf82",
   "metadata": {},
   "outputs": [
    {
     "data": {
      "text/html": [
       "<div>\n",
       "<style scoped>\n",
       "    .dataframe tbody tr th:only-of-type {\n",
       "        vertical-align: middle;\n",
       "    }\n",
       "\n",
       "    .dataframe tbody tr th {\n",
       "        vertical-align: top;\n",
       "    }\n",
       "\n",
       "    .dataframe thead th {\n",
       "        text-align: right;\n",
       "    }\n",
       "</style>\n",
       "<table border=\"1\" class=\"dataframe\">\n",
       "  <thead>\n",
       "    <tr style=\"text-align: right;\">\n",
       "      <th></th>\n",
       "      <th>seq</th>\n",
       "      <th>Wayne_rank</th>\n",
       "    </tr>\n",
       "  </thead>\n",
       "  <tbody>\n",
       "    <tr>\n",
       "      <th>0</th>\n",
       "      <td>JN002049.1</td>\n",
       "      <td>Non</td>\n",
       "    </tr>\n",
       "    <tr>\n",
       "      <th>1</th>\n",
       "      <td>JN002030.1</td>\n",
       "      <td>Non</td>\n",
       "    </tr>\n",
       "    <tr>\n",
       "      <th>2</th>\n",
       "      <td>JN002033.1</td>\n",
       "      <td>Non</td>\n",
       "    </tr>\n",
       "    <tr>\n",
       "      <th>3</th>\n",
       "      <td>JN002040.1</td>\n",
       "      <td>Non</td>\n",
       "    </tr>\n",
       "    <tr>\n",
       "      <th>4</th>\n",
       "      <td>JN002043.1</td>\n",
       "      <td>Non</td>\n",
       "    </tr>\n",
       "    <tr>\n",
       "      <th>...</th>\n",
       "      <td>...</td>\n",
       "      <td>...</td>\n",
       "    </tr>\n",
       "    <tr>\n",
       "      <th>82</th>\n",
       "      <td>DQ976419.1</td>\n",
       "      <td>Non</td>\n",
       "    </tr>\n",
       "    <tr>\n",
       "      <th>83</th>\n",
       "      <td>DQ976420.1</td>\n",
       "      <td>Non</td>\n",
       "    </tr>\n",
       "    <tr>\n",
       "      <th>84</th>\n",
       "      <td>DQ976426.1</td>\n",
       "      <td>M-tropic</td>\n",
       "    </tr>\n",
       "    <tr>\n",
       "      <th>85</th>\n",
       "      <td>DQ976428.1</td>\n",
       "      <td>M-tropic</td>\n",
       "    </tr>\n",
       "    <tr>\n",
       "      <th>86</th>\n",
       "      <td>DQ976429.1</td>\n",
       "      <td>M-tropic</td>\n",
       "    </tr>\n",
       "  </tbody>\n",
       "</table>\n",
       "<p>87 rows × 2 columns</p>\n",
       "</div>"
      ],
      "text/plain": [
       "           seq Wayne_rank\n",
       "0   JN002049.1        Non\n",
       "1   JN002030.1        Non\n",
       "2   JN002033.1        Non\n",
       "3   JN002040.1        Non\n",
       "4   JN002043.1        Non\n",
       "..         ...        ...\n",
       "82  DQ976419.1        Non\n",
       "83  DQ976420.1        Non\n",
       "84  DQ976426.1   M-tropic\n",
       "85  DQ976428.1   M-tropic\n",
       "86  DQ976429.1   M-tropic\n",
       "\n",
       "[87 rows x 2 columns]"
      ]
     },
     "execution_count": 5,
     "metadata": {},
     "output_type": "execute_result"
    }
   ],
   "source": [
    "xlsx_labels = pd.read_excel(\"/Users/waynelam/Desktop/WayneLab/HIVClassifier/CellularTropismProject_Master.xlsx\", sheet_name=1)\n",
    "xlsx_labels.drop([\"M_tropism_level\",\"Lily_notes\"],axis=1,inplace=True)\n",
    "xlsx_labels[\"seq\"] = xlsx_labels[\"seq\"].str.replace(' ','')\n",
    "xlsx_labels"
   ]
  },
  {
   "cell_type": "code",
   "execution_count": 6,
   "id": "0aeb489a-315b-415e-ae81-7a115ce72ed5",
   "metadata": {},
   "outputs": [],
   "source": [
    "df_merged = df.merge(xlsx_labels, how=\"right\", left_on=\"ID\", right_on=\"seq\")"
   ]
  },
  {
   "cell_type": "code",
   "execution_count": 7,
   "id": "6d15368d-119b-40cd-a176-6df70f38d61f",
   "metadata": {},
   "outputs": [
    {
     "data": {
      "text/html": [
       "<div>\n",
       "<style scoped>\n",
       "    .dataframe tbody tr th:only-of-type {\n",
       "        vertical-align: middle;\n",
       "    }\n",
       "\n",
       "    .dataframe tbody tr th {\n",
       "        vertical-align: top;\n",
       "    }\n",
       "\n",
       "    .dataframe thead th {\n",
       "        text-align: right;\n",
       "    }\n",
       "</style>\n",
       "<table border=\"1\" class=\"dataframe\">\n",
       "  <thead>\n",
       "    <tr style=\"text-align: right;\">\n",
       "      <th></th>\n",
       "      <th>ID</th>\n",
       "      <th>sequence</th>\n",
       "      <th>seq</th>\n",
       "      <th>Wayne_rank</th>\n",
       "    </tr>\n",
       "  </thead>\n",
       "  <tbody>\n",
       "    <tr>\n",
       "      <th>0</th>\n",
       "      <td>JN002049.1</td>\n",
       "      <td>MRVKEKYQHLWRWGWRWGTMLLGMLMICSATEKLWVTVYYGVPVWK...</td>\n",
       "      <td>JN002049.1</td>\n",
       "      <td>Non</td>\n",
       "    </tr>\n",
       "    <tr>\n",
       "      <th>1</th>\n",
       "      <td>JN002030.1</td>\n",
       "      <td>MRVKEKYQHLWRWGWRWGTMLLGMLMICSATEKLWVTVYYGVPVWK...</td>\n",
       "      <td>JN002030.1</td>\n",
       "      <td>Non</td>\n",
       "    </tr>\n",
       "    <tr>\n",
       "      <th>2</th>\n",
       "      <td>JN002033.1</td>\n",
       "      <td>MRVKEKYQHLWRWGWRWGTMLLGMLMICSATEKLWVTVYYGVPVWK...</td>\n",
       "      <td>JN002033.1</td>\n",
       "      <td>Non</td>\n",
       "    </tr>\n",
       "    <tr>\n",
       "      <th>3</th>\n",
       "      <td>JN002040.1</td>\n",
       "      <td>MRVKEKYQHLWRWGWRWGTMLLGMLMICSATEKLWVTVYYGVPVWK...</td>\n",
       "      <td>JN002040.1</td>\n",
       "      <td>Non</td>\n",
       "    </tr>\n",
       "    <tr>\n",
       "      <th>4</th>\n",
       "      <td>JN002043.1</td>\n",
       "      <td>MRVKEKYQHLWRWGWRWGTMLLGMLMICSATEKLWVTVYYGVPVWK...</td>\n",
       "      <td>JN002043.1</td>\n",
       "      <td>Non</td>\n",
       "    </tr>\n",
       "    <tr>\n",
       "      <th>...</th>\n",
       "      <td>...</td>\n",
       "      <td>...</td>\n",
       "      <td>...</td>\n",
       "      <td>...</td>\n",
       "    </tr>\n",
       "    <tr>\n",
       "      <th>82</th>\n",
       "      <td>DQ976419.1</td>\n",
       "      <td>MRVTGIMRSYQNLWIWGTMMLLGIFMICNANLWVTVYYGVPVWKEA...</td>\n",
       "      <td>DQ976419.1</td>\n",
       "      <td>Non</td>\n",
       "    </tr>\n",
       "    <tr>\n",
       "      <th>83</th>\n",
       "      <td>DQ976420.1</td>\n",
       "      <td>MRVTGIMRSYQNLWIWSTMMLLGIFMICNANLWVTVYYGVPVWKEA...</td>\n",
       "      <td>DQ976420.1</td>\n",
       "      <td>Non</td>\n",
       "    </tr>\n",
       "    <tr>\n",
       "      <th>84</th>\n",
       "      <td>DQ976426.1</td>\n",
       "      <td>MRVMGIRKNYQHLWKWGMMLLGMLMICNVAGNLWVTVYYGVPVWKE...</td>\n",
       "      <td>DQ976426.1</td>\n",
       "      <td>M-tropic</td>\n",
       "    </tr>\n",
       "    <tr>\n",
       "      <th>85</th>\n",
       "      <td>DQ976428.1</td>\n",
       "      <td>MRVMGIRKNYQHLWKWGMMLLGMLMICNVAGNLWATVYYGVPVWKE...</td>\n",
       "      <td>DQ976428.1</td>\n",
       "      <td>M-tropic</td>\n",
       "    </tr>\n",
       "    <tr>\n",
       "      <th>86</th>\n",
       "      <td>DQ976429.1</td>\n",
       "      <td>MRVMGIRKNYQHLWKWGMMLLGMLTICNVAGNLWVTVYYGVPVWKE...</td>\n",
       "      <td>DQ976429.1</td>\n",
       "      <td>M-tropic</td>\n",
       "    </tr>\n",
       "  </tbody>\n",
       "</table>\n",
       "<p>87 rows × 4 columns</p>\n",
       "</div>"
      ],
      "text/plain": [
       "            ID                                           sequence         seq  \\\n",
       "0   JN002049.1  MRVKEKYQHLWRWGWRWGTMLLGMLMICSATEKLWVTVYYGVPVWK...  JN002049.1   \n",
       "1   JN002030.1  MRVKEKYQHLWRWGWRWGTMLLGMLMICSATEKLWVTVYYGVPVWK...  JN002030.1   \n",
       "2   JN002033.1  MRVKEKYQHLWRWGWRWGTMLLGMLMICSATEKLWVTVYYGVPVWK...  JN002033.1   \n",
       "3   JN002040.1  MRVKEKYQHLWRWGWRWGTMLLGMLMICSATEKLWVTVYYGVPVWK...  JN002040.1   \n",
       "4   JN002043.1  MRVKEKYQHLWRWGWRWGTMLLGMLMICSATEKLWVTVYYGVPVWK...  JN002043.1   \n",
       "..         ...                                                ...         ...   \n",
       "82  DQ976419.1  MRVTGIMRSYQNLWIWGTMMLLGIFMICNANLWVTVYYGVPVWKEA...  DQ976419.1   \n",
       "83  DQ976420.1  MRVTGIMRSYQNLWIWSTMMLLGIFMICNANLWVTVYYGVPVWKEA...  DQ976420.1   \n",
       "84  DQ976426.1  MRVMGIRKNYQHLWKWGMMLLGMLMICNVAGNLWVTVYYGVPVWKE...  DQ976426.1   \n",
       "85  DQ976428.1  MRVMGIRKNYQHLWKWGMMLLGMLMICNVAGNLWATVYYGVPVWKE...  DQ976428.1   \n",
       "86  DQ976429.1  MRVMGIRKNYQHLWKWGMMLLGMLTICNVAGNLWVTVYYGVPVWKE...  DQ976429.1   \n",
       "\n",
       "   Wayne_rank  \n",
       "0         Non  \n",
       "1         Non  \n",
       "2         Non  \n",
       "3         Non  \n",
       "4         Non  \n",
       "..        ...  \n",
       "82        Non  \n",
       "83        Non  \n",
       "84   M-tropic  \n",
       "85   M-tropic  \n",
       "86   M-tropic  \n",
       "\n",
       "[87 rows x 4 columns]"
      ]
     },
     "execution_count": 7,
     "metadata": {},
     "output_type": "execute_result"
    }
   ],
   "source": [
    "df_merged"
   ]
  },
  {
   "cell_type": "code",
   "execution_count": 8,
   "id": "e1995156-31db-4c29-8b2d-5fd8b13613ee",
   "metadata": {},
   "outputs": [
    {
     "data": {
      "text/html": [
       "<div>\n",
       "<style scoped>\n",
       "    .dataframe tbody tr th:only-of-type {\n",
       "        vertical-align: middle;\n",
       "    }\n",
       "\n",
       "    .dataframe tbody tr th {\n",
       "        vertical-align: top;\n",
       "    }\n",
       "\n",
       "    .dataframe thead th {\n",
       "        text-align: right;\n",
       "    }\n",
       "</style>\n",
       "<table border=\"1\" class=\"dataframe\">\n",
       "  <thead>\n",
       "    <tr style=\"text-align: right;\">\n",
       "      <th></th>\n",
       "      <th>ID</th>\n",
       "      <th>sequence</th>\n",
       "      <th>seq</th>\n",
       "      <th>Wayne_rank</th>\n",
       "    </tr>\n",
       "  </thead>\n",
       "  <tbody>\n",
       "    <tr>\n",
       "      <th>count</th>\n",
       "      <td>87</td>\n",
       "      <td>87</td>\n",
       "      <td>87</td>\n",
       "      <td>87</td>\n",
       "    </tr>\n",
       "    <tr>\n",
       "      <th>unique</th>\n",
       "      <td>87</td>\n",
       "      <td>83</td>\n",
       "      <td>87</td>\n",
       "      <td>2</td>\n",
       "    </tr>\n",
       "    <tr>\n",
       "      <th>top</th>\n",
       "      <td>JN002049.1</td>\n",
       "      <td>MRVKGIRKSYQHLWRWGTMLHGILMICSATENLWVTVYYGVPVWKE...</td>\n",
       "      <td>JN002049.1</td>\n",
       "      <td>M-tropic</td>\n",
       "    </tr>\n",
       "    <tr>\n",
       "      <th>freq</th>\n",
       "      <td>1</td>\n",
       "      <td>5</td>\n",
       "      <td>1</td>\n",
       "      <td>60</td>\n",
       "    </tr>\n",
       "  </tbody>\n",
       "</table>\n",
       "</div>"
      ],
      "text/plain": [
       "                ID                                           sequence  \\\n",
       "count           87                                                 87   \n",
       "unique          87                                                 83   \n",
       "top     JN002049.1  MRVKGIRKSYQHLWRWGTMLHGILMICSATENLWVTVYYGVPVWKE...   \n",
       "freq             1                                                  5   \n",
       "\n",
       "               seq Wayne_rank  \n",
       "count           87         87  \n",
       "unique          87          2  \n",
       "top     JN002049.1   M-tropic  \n",
       "freq             1         60  "
      ]
     },
     "execution_count": 8,
     "metadata": {},
     "output_type": "execute_result"
    }
   ],
   "source": [
    "df_merged.describe()"
   ]
  },
  {
   "cell_type": "code",
   "execution_count": 9,
   "id": "1395f572-046f-4c2c-b764-72d623eee80b",
   "metadata": {},
   "outputs": [
    {
     "name": "stdout",
     "output_type": "stream",
     "text": [
      "DQ976381.1 MRVKGIRKSYQHLWRWGTMLHGILMICSATENLWVTVYYGVPVWKEATTTLFCASDAKAYDTEVHNVWATHACVPTDPNPQEVELENVTENFNMWKNNMVEQMHEDIISLWDQSLKPCVRLTPLCVILNCTDLKNDTTTTSGGGGIMMEKGEIKNCSFSINTRGRNKEQKDYAFFYKLDVVPINNNNSYRLISCNTSVITQACPKVSFEPIPIHYCAPAGFAILKCKDKKFNGTGPCKNVSTVQCTHGIRPVVSTQLLLNGSLAEEEVVIRSANFSDNTKTIMVQLKEAVEINCTRPNNNTRKSIPMGPGKAFYTTGEIIGDIRQAHCNLSITKWNNTLKQIVEKLREQFENKTIIFNQSAGGDPEIVMHSFNCGGEFFYCNSTQLFNSTWSSNSTWNDTQGSNNPEGNDTITLTCRIKQFINMWQEVGKAMYAPPISGQIRCSSNITGLLLTRDGGTNEISNQTEIFRPGGGDMRDNWRSELYKYKVVKIEPLGVAPTKAKRRVVQREKRAAVGLGAVFLGFLGAAGSTMGAASITLTAQARQLLSGIVQQQNNLLRAIEAQQHLLQLTVWGIKQLQARVLAVERYLKDQQLLGIWGCSGKLICTTTVPWNASWSNKSLDKIWNNMTWMEWEREINNYTSLIYNLIEESQNQQEKNEQELLELDKWASLWNWFDITQWLWYIRIFIMIVGGLIGLRIVFAVLSIVNRVRQGYSPLSFQTRFPAPRGPDRPGGTEEEGGERDRDRSGRLVNGFLALIWDDLRSLCLFSYHRLRDLLLIVTRIVELLGRRGWEALKYWGNLLQYWSQELKNSAVSLLNVTAIAVAEGTDRVIEVLQRAFRAILHIPRRIRQGLERALL\n",
      "DQ976385.1 MRVKGIRKSYQHLWRWGTMLHGILMICSATENLWVTVYYGVPVWKEATTTLFCASDAKAYDTEVHNVWATHACVPTDPNPQEVELENVTENFNMWKNNMVEQMHEDIISLWDQSLKPCVRLTPLCVILNCTDLKNDTTTTSGGGGIMMEKGEIKNCSFSINTRGRNKEQKDYAFFYKLDVVPINNNNSYRLISCNTSVITQACPKVSFEPIPIHYCAPAGFAILKCKDKKFNGTGPCKNVSTVQCTHGIRPVVSTQLLLNGSLAEEEVVIRSANFSDNTKTIMVQLKEAVEINCTRPNNNTRKSIPMGPGKAFYTTGEIIGDIRQAHCNLSITKWNNTLKQIVEKLREQFENKTIIFNQSAGGDPEIVMHSFNCGGEFFYCNSTQLFNSTWSSNSTWNDTQGSNNPEGNDTITLTCRIKQFINMWQEVGKAMYAPPISGQIRCSSNITGLLLTRDGGTNEISNQTEIFRPGGGDMRDNWRSELYKYKVVKIEPLGVAPTKAKRRVVQREKRAAVGLGAVFLGFLGAAGSTMGAASITLTAQARQLLSGIVQQQNNLLRAIEAQQHLLQLTVWGIKQLQARVLAVERYLKDQQLLGIWGCSGKLICTTTVPWNASWSNKSLDKIWNNMTWMEWEREINNYTSLIYNLIEESQNQQEKNEQELLELDKWASLWNWFDITQWLWYIRIFIMIVGGLIGLRIVFAVLSIVNRVRQGYSPLSFQTRFPAPRGPDRPGGTEEEGGERDRDRSGRLVNGFLALIWDDLRSLCLFSYHRLRDLLLIVTRIVELLGRRGWEALKYWGNLLQYWSQELKNSAVSLLNVTAIAVAEGTDRVIEVLQRAFRAILHIPRRIRQGLERALL\n",
      "DQ976382.1 MRVKGIRKSYQHLWRWGTMLHGILMICSATENLWVTVYYGVPVWKEATTTLFCASDAKAYDTEVHNVWATHACVPTDPNPQEVELENVTENFNMWKNNMVEQMHEDIISLWDQSLKPCVRLTPLCVILNCTDLKNDTTTTSGGGGIMMEKGEIKNCSFSINTRGRNKEQKDYAFFYKLDVVPINNNNSYRLISCNTSVITQACPKVSFEPIPIHYCAPAGFAILKCKDKKFNGTGPCKNVSTVQCTHGIRPVVSTQLLLNGSLAEEEVVIRSANFSDNTKTIMVQLKEAVEINCTRPNNNTRKSIPMGPGKAFYTTGEIIGDIRQAHCNLSITKWNNTLKQIVEKLREQFENKTIIFNQSAGGDPEIVMHSFNCGGEFFYCNSTQLFNSTWSSNSTWNDTQGSNNPEGNDTITLTCRIKQFINMWQEVGKAMYAPPISGQIRCSSNITGLLLTRDGGTNEISNQTEIFRPGGGDMRDNWRSELYKYKVVKIEPLGVAPTKAKRRVVQREKRAAVGLGAVFLGFLGAAGSTMGAASITLTAQARQLLSGIVQQQNNLLRAIEAQQHLLQLTVWGIKQLQARVLAVERYLKDQQLLGIWGCSGKLICTTTVPWNASWSNKSLDKIWNNMTWMEWEREINNYTSLIYNLIEESQNQQEKNEQELLELDKWASLWNWFDITQWLWYIRIFIMIVGGLIGLRIVFAVLSIVNRVRQGYSPLSFQTRFPAPRGPDRPGGTEEEGGERDRDRSGRLVNGFLALIWDDLRSLCLFSYHRLRDLLLIVTRIVELLGRRGWEALKYWGNLLQYWSQELKNSAVSLLNVTAIAVAEGTDRVIEVLQRAFRAILHIPRRIRQGLERALL\n",
      "DQ976383.1 MRVKGIRKSYQHLWRWGTMLHGILMICSATENLWVTVYYGVPVWKEATTTLFCASDAKAYDTEVHNVWATHACVPTDPNPQEVELENVTENFNMWKNNMVEQMHEDIISLWDQSLKPCVRLTPLCVILNCTDLKNDTTTTSGGGGIMMEKGEIKNCSFSINTRGRNKEQKDYAFFYKLDVVPINNNNSYRLISCNTSVITQACPKVSFEPIPIHYCAPAGFAILKCKDKKFNGTGPCKNVSTVQCTHGIRPVVSTQLLLNGSLAEEEVVIRSANFSDNTKTIMVQLKEAVEINCTRPNNNTRKSIPMGPGKAFYTTGEIIGDIRQAHCNLSITKWNNTLKQIVEKLREQFENKTIIFNQSAGGDPEIVMHSFNCGGEFFYCNSTQLFNSTWSSNSTWNDTQGSNNPEGNDTITLTCRIKQFINMWQEVGKAMYAPPISGQIRCSSNITGLLLTRDGGTNEISNQTEIFRPGGGDMRDNWRSELYKYKVVKIEPLGVAPTKAKRRVVQREKRAAVGLGAVFLGFLGAAGSTMGAASITLTAQARQLLSGIVQQQNNLLRAIEAQQHLLQLTVWGIKQLQARVLAVERYLKDQQLLGIWGCSGKLICTTTVPWNASWSNKSLDKIWNNMTWMEWEREINNYTSLIYNLIEESQNQQEKNEQELLELDKWASLWNWFDITQWLWYIRIFIMIVGGLIGLRIVFAVLSIVNRVRQGYSPLSFQTRFPAPRGPDRPGGTEEEGGERDRDRSGRLVNGFLALIWDDLRSLCLFSYHRLRDLLLIVTRIVELLGRRGWEALKYWGNLLQYWSQELKNSAVSLLNVTAIAVAEGTDRVIEVLQRAFRAILHIPRRIRQGLERALL\n",
      "DQ976384.1 MRVKGIRKSYQHLWRWGTMLHGILMICSATENLWVTVYYGVPVWKEATTTLFCASDAKAYDTEVHNVWATHACVPTDPNPQEVELENVTENFNMWKNNMVEQMHEDIISLWDQSLKPCVRLTPLCVILNCTDLKNDTTTTSGGGGIMMEKGEIKNCSFSINTRGRNKEQKDYAFFYKLDVVPINNNNSYRLISCNTSVITQACPKVSFEPIPIHYCAPAGFAILKCKDKKFNGTGPCKNVSTVQCTHGIRPVVSTQLLLNGSLAEEEVVIRSANFSDNTKTIMVQLKEAVEINCTRPNNNTRKSIPMGPGKAFYTTGEIIGDIRQAHCNLSITKWNNTLKQIVEKLREQFENKTIIFNQSAGGDPEIVMHSFNCGGEFFYCNSTQLFNSTWSSNSTWNDTQGSNNPEGNDTITLTCRIKQFINMWQEVGKAMYAPPISGQIRCSSNITGLLLTRDGGTNEISNQTEIFRPGGGDMRDNWRSELYKYKVVKIEPLGVAPTKAKRRVVQREKRAAVGLGAVFLGFLGAAGSTMGAASITLTAQARQLLSGIVQQQNNLLRAIEAQQHLLQLTVWGIKQLQARVLAVERYLKDQQLLGIWGCSGKLICTTTVPWNASWSNKSLDKIWNNMTWMEWEREINNYTSLIYNLIEESQNQQEKNEQELLELDKWASLWNWFDITQWLWYIRIFIMIVGGLIGLRIVFAVLSIVNRVRQGYSPLSFQTRFPAPRGPDRPGGTEEEGGERDRDRSGRLVNGFLALIWDDLRSLCLFSYHRLRDLLLIVTRIVELLGRRGWEALKYWGNLLQYWSQELKNSAVSLLNVTAIAVAEGTDRVIEVLQRAFRAILHIPRRIRQGLERALL\n"
     ]
    }
   ],
   "source": [
    "duplicates = df_merged[\"sequence\"].duplicated(keep=False)\n",
    "for i in range(len(duplicates)):\n",
    "    if(duplicates[i]):\n",
    "        print(df_merged[\"ID\"][i], df_merged[\"sequence\"][i])"
   ]
  },
  {
   "cell_type": "code",
   "execution_count": 10,
   "id": "da6d1b4c-4605-4f0d-bb6a-917fff9c3c5c",
   "metadata": {},
   "outputs": [],
   "source": [
    "df_merged.drop('seq', axis=1, inplace=True)\n",
    "df_merged.rename(columns={\"Wayne_rank\":\"tropism\"}, inplace=True)"
   ]
  },
  {
   "cell_type": "code",
   "execution_count": 11,
   "id": "82db6a5b-a59d-4514-aaa7-06ff05ba511c",
   "metadata": {},
   "outputs": [
    {
     "data": {
      "text/html": [
       "<div>\n",
       "<style scoped>\n",
       "    .dataframe tbody tr th:only-of-type {\n",
       "        vertical-align: middle;\n",
       "    }\n",
       "\n",
       "    .dataframe tbody tr th {\n",
       "        vertical-align: top;\n",
       "    }\n",
       "\n",
       "    .dataframe thead th {\n",
       "        text-align: right;\n",
       "    }\n",
       "</style>\n",
       "<table border=\"1\" class=\"dataframe\">\n",
       "  <thead>\n",
       "    <tr style=\"text-align: right;\">\n",
       "      <th></th>\n",
       "      <th>ID</th>\n",
       "      <th>sequence</th>\n",
       "      <th>tropism</th>\n",
       "    </tr>\n",
       "  </thead>\n",
       "  <tbody>\n",
       "    <tr>\n",
       "      <th>0</th>\n",
       "      <td>JN002049.1</td>\n",
       "      <td>MRVKEKYQHLWRWGWRWGTMLLGMLMICSATEKLWVTVYYGVPVWK...</td>\n",
       "      <td>Non</td>\n",
       "    </tr>\n",
       "    <tr>\n",
       "      <th>1</th>\n",
       "      <td>JN002030.1</td>\n",
       "      <td>MRVKEKYQHLWRWGWRWGTMLLGMLMICSATEKLWVTVYYGVPVWK...</td>\n",
       "      <td>Non</td>\n",
       "    </tr>\n",
       "    <tr>\n",
       "      <th>2</th>\n",
       "      <td>JN002033.1</td>\n",
       "      <td>MRVKEKYQHLWRWGWRWGTMLLGMLMICSATEKLWVTVYYGVPVWK...</td>\n",
       "      <td>Non</td>\n",
       "    </tr>\n",
       "    <tr>\n",
       "      <th>3</th>\n",
       "      <td>JN002040.1</td>\n",
       "      <td>MRVKEKYQHLWRWGWRWGTMLLGMLMICSATEKLWVTVYYGVPVWK...</td>\n",
       "      <td>Non</td>\n",
       "    </tr>\n",
       "    <tr>\n",
       "      <th>4</th>\n",
       "      <td>JN002043.1</td>\n",
       "      <td>MRVKEKYQHLWRWGWRWGTMLLGMLMICSATEKLWVTVYYGVPVWK...</td>\n",
       "      <td>Non</td>\n",
       "    </tr>\n",
       "    <tr>\n",
       "      <th>...</th>\n",
       "      <td>...</td>\n",
       "      <td>...</td>\n",
       "      <td>...</td>\n",
       "    </tr>\n",
       "    <tr>\n",
       "      <th>82</th>\n",
       "      <td>DQ976419.1</td>\n",
       "      <td>MRVTGIMRSYQNLWIWGTMMLLGIFMICNANLWVTVYYGVPVWKEA...</td>\n",
       "      <td>Non</td>\n",
       "    </tr>\n",
       "    <tr>\n",
       "      <th>83</th>\n",
       "      <td>DQ976420.1</td>\n",
       "      <td>MRVTGIMRSYQNLWIWSTMMLLGIFMICNANLWVTVYYGVPVWKEA...</td>\n",
       "      <td>Non</td>\n",
       "    </tr>\n",
       "    <tr>\n",
       "      <th>84</th>\n",
       "      <td>DQ976426.1</td>\n",
       "      <td>MRVMGIRKNYQHLWKWGMMLLGMLMICNVAGNLWVTVYYGVPVWKE...</td>\n",
       "      <td>M-tropic</td>\n",
       "    </tr>\n",
       "    <tr>\n",
       "      <th>85</th>\n",
       "      <td>DQ976428.1</td>\n",
       "      <td>MRVMGIRKNYQHLWKWGMMLLGMLMICNVAGNLWATVYYGVPVWKE...</td>\n",
       "      <td>M-tropic</td>\n",
       "    </tr>\n",
       "    <tr>\n",
       "      <th>86</th>\n",
       "      <td>DQ976429.1</td>\n",
       "      <td>MRVMGIRKNYQHLWKWGMMLLGMLTICNVAGNLWVTVYYGVPVWKE...</td>\n",
       "      <td>M-tropic</td>\n",
       "    </tr>\n",
       "  </tbody>\n",
       "</table>\n",
       "<p>87 rows × 3 columns</p>\n",
       "</div>"
      ],
      "text/plain": [
       "            ID                                           sequence   tropism\n",
       "0   JN002049.1  MRVKEKYQHLWRWGWRWGTMLLGMLMICSATEKLWVTVYYGVPVWK...       Non\n",
       "1   JN002030.1  MRVKEKYQHLWRWGWRWGTMLLGMLMICSATEKLWVTVYYGVPVWK...       Non\n",
       "2   JN002033.1  MRVKEKYQHLWRWGWRWGTMLLGMLMICSATEKLWVTVYYGVPVWK...       Non\n",
       "3   JN002040.1  MRVKEKYQHLWRWGWRWGTMLLGMLMICSATEKLWVTVYYGVPVWK...       Non\n",
       "4   JN002043.1  MRVKEKYQHLWRWGWRWGTMLLGMLMICSATEKLWVTVYYGVPVWK...       Non\n",
       "..         ...                                                ...       ...\n",
       "82  DQ976419.1  MRVTGIMRSYQNLWIWGTMMLLGIFMICNANLWVTVYYGVPVWKEA...       Non\n",
       "83  DQ976420.1  MRVTGIMRSYQNLWIWSTMMLLGIFMICNANLWVTVYYGVPVWKEA...       Non\n",
       "84  DQ976426.1  MRVMGIRKNYQHLWKWGMMLLGMLMICNVAGNLWVTVYYGVPVWKE...  M-tropic\n",
       "85  DQ976428.1  MRVMGIRKNYQHLWKWGMMLLGMLMICNVAGNLWATVYYGVPVWKE...  M-tropic\n",
       "86  DQ976429.1  MRVMGIRKNYQHLWKWGMMLLGMLTICNVAGNLWVTVYYGVPVWKE...  M-tropic\n",
       "\n",
       "[87 rows x 3 columns]"
      ]
     },
     "execution_count": 11,
     "metadata": {},
     "output_type": "execute_result"
    }
   ],
   "source": [
    "df_merged"
   ]
  },
  {
   "cell_type": "markdown",
   "id": "4587526e-2a15-4f3a-b0f7-4ca0452478d2",
   "metadata": {},
   "source": [
    "train test split"
   ]
  },
  {
   "cell_type": "code",
   "execution_count": 12,
   "id": "2ceb9e0d-432c-4f4a-a54e-185ec293ff11",
   "metadata": {},
   "outputs": [],
   "source": [
    "from sklearn.model_selection import train_test_split\n",
    "tropic_column = df_merged[\"tropism\"]\n",
    "train_df, test_df = train_test_split(df_merged, test_size=0.2, random_state=42, stratify = tropic_column)"
   ]
  },
  {
   "cell_type": "code",
   "execution_count": 13,
   "id": "28054d5a-9b9b-4298-8630-046667275338",
   "metadata": {},
   "outputs": [
    {
     "data": {
      "text/html": [
       "<div>\n",
       "<style scoped>\n",
       "    .dataframe tbody tr th:only-of-type {\n",
       "        vertical-align: middle;\n",
       "    }\n",
       "\n",
       "    .dataframe tbody tr th {\n",
       "        vertical-align: top;\n",
       "    }\n",
       "\n",
       "    .dataframe thead th {\n",
       "        text-align: right;\n",
       "    }\n",
       "</style>\n",
       "<table border=\"1\" class=\"dataframe\">\n",
       "  <thead>\n",
       "    <tr style=\"text-align: right;\">\n",
       "      <th></th>\n",
       "      <th>ID</th>\n",
       "      <th>sequence</th>\n",
       "      <th>tropism</th>\n",
       "    </tr>\n",
       "  </thead>\n",
       "  <tbody>\n",
       "    <tr>\n",
       "      <th>count</th>\n",
       "      <td>69</td>\n",
       "      <td>69</td>\n",
       "      <td>69</td>\n",
       "    </tr>\n",
       "    <tr>\n",
       "      <th>unique</th>\n",
       "      <td>69</td>\n",
       "      <td>65</td>\n",
       "      <td>2</td>\n",
       "    </tr>\n",
       "    <tr>\n",
       "      <th>top</th>\n",
       "      <td>EU308547.1</td>\n",
       "      <td>MRVKGIRKSYQHLWRWGTMLHGILMICSATENLWVTVYYGVPVWKE...</td>\n",
       "      <td>M-tropic</td>\n",
       "    </tr>\n",
       "    <tr>\n",
       "      <th>freq</th>\n",
       "      <td>1</td>\n",
       "      <td>5</td>\n",
       "      <td>48</td>\n",
       "    </tr>\n",
       "  </tbody>\n",
       "</table>\n",
       "</div>"
      ],
      "text/plain": [
       "                ID                                           sequence  \\\n",
       "count           69                                                 69   \n",
       "unique          69                                                 65   \n",
       "top     EU308547.1  MRVKGIRKSYQHLWRWGTMLHGILMICSATENLWVTVYYGVPVWKE...   \n",
       "freq             1                                                  5   \n",
       "\n",
       "         tropism  \n",
       "count         69  \n",
       "unique         2  \n",
       "top     M-tropic  \n",
       "freq          48  "
      ]
     },
     "execution_count": 13,
     "metadata": {},
     "output_type": "execute_result"
    }
   ],
   "source": [
    "train_df.describe()"
   ]
  },
  {
   "cell_type": "code",
   "execution_count": 14,
   "id": "af6409e6-e864-4bd8-8cb3-b68bd54ca305",
   "metadata": {},
   "outputs": [
    {
     "data": {
      "text/html": [
       "<div>\n",
       "<style scoped>\n",
       "    .dataframe tbody tr th:only-of-type {\n",
       "        vertical-align: middle;\n",
       "    }\n",
       "\n",
       "    .dataframe tbody tr th {\n",
       "        vertical-align: top;\n",
       "    }\n",
       "\n",
       "    .dataframe thead th {\n",
       "        text-align: right;\n",
       "    }\n",
       "</style>\n",
       "<table border=\"1\" class=\"dataframe\">\n",
       "  <thead>\n",
       "    <tr style=\"text-align: right;\">\n",
       "      <th></th>\n",
       "      <th>ID</th>\n",
       "      <th>sequence</th>\n",
       "      <th>tropism</th>\n",
       "    </tr>\n",
       "  </thead>\n",
       "  <tbody>\n",
       "    <tr>\n",
       "      <th>count</th>\n",
       "      <td>18</td>\n",
       "      <td>18</td>\n",
       "      <td>18</td>\n",
       "    </tr>\n",
       "    <tr>\n",
       "      <th>unique</th>\n",
       "      <td>18</td>\n",
       "      <td>18</td>\n",
       "      <td>2</td>\n",
       "    </tr>\n",
       "    <tr>\n",
       "      <th>top</th>\n",
       "      <td>DQ976430.1</td>\n",
       "      <td>MRVMGIRKNYQHLWKWGMMLLGMLMICNVAGNLWVTVYYGVPVWKE...</td>\n",
       "      <td>M-tropic</td>\n",
       "    </tr>\n",
       "    <tr>\n",
       "      <th>freq</th>\n",
       "      <td>1</td>\n",
       "      <td>1</td>\n",
       "      <td>12</td>\n",
       "    </tr>\n",
       "  </tbody>\n",
       "</table>\n",
       "</div>"
      ],
      "text/plain": [
       "                ID                                           sequence  \\\n",
       "count           18                                                 18   \n",
       "unique          18                                                 18   \n",
       "top     DQ976430.1  MRVMGIRKNYQHLWKWGMMLLGMLMICNVAGNLWVTVYYGVPVWKE...   \n",
       "freq             1                                                  1   \n",
       "\n",
       "         tropism  \n",
       "count         18  \n",
       "unique         2  \n",
       "top     M-tropic  \n",
       "freq          12  "
      ]
     },
     "execution_count": 14,
     "metadata": {},
     "output_type": "execute_result"
    }
   ],
   "source": [
    "test_df.describe()"
   ]
  },
  {
   "cell_type": "code",
   "execution_count": 15,
   "id": "e42a6b7e-d39c-4eee-bc6a-71bb35c10357",
   "metadata": {},
   "outputs": [
    {
     "data": {
      "text/plain": [
       "ESM2(\n",
       "  (embed_tokens): Embedding(33, 1280, padding_idx=1)\n",
       "  (layers): ModuleList(\n",
       "    (0-32): 33 x TransformerLayer(\n",
       "      (self_attn): MultiheadAttention(\n",
       "        (k_proj): Linear(in_features=1280, out_features=1280, bias=True)\n",
       "        (v_proj): Linear(in_features=1280, out_features=1280, bias=True)\n",
       "        (q_proj): Linear(in_features=1280, out_features=1280, bias=True)\n",
       "        (out_proj): Linear(in_features=1280, out_features=1280, bias=True)\n",
       "        (rot_emb): RotaryEmbedding()\n",
       "      )\n",
       "      (self_attn_layer_norm): LayerNorm((1280,), eps=1e-05, elementwise_affine=True)\n",
       "      (fc1): Linear(in_features=1280, out_features=5120, bias=True)\n",
       "      (fc2): Linear(in_features=5120, out_features=1280, bias=True)\n",
       "      (final_layer_norm): LayerNorm((1280,), eps=1e-05, elementwise_affine=True)\n",
       "    )\n",
       "  )\n",
       "  (contact_head): ContactPredictionHead(\n",
       "    (regression): Linear(in_features=660, out_features=1, bias=True)\n",
       "    (activation): Sigmoid()\n",
       "  )\n",
       "  (emb_layer_norm_after): LayerNorm((1280,), eps=1e-05, elementwise_affine=True)\n",
       "  (lm_head): RobertaLMHead(\n",
       "    (dense): Linear(in_features=1280, out_features=1280, bias=True)\n",
       "    (layer_norm): LayerNorm((1280,), eps=1e-05, elementwise_affine=True)\n",
       "  )\n",
       ")"
      ]
     },
     "execution_count": 15,
     "metadata": {},
     "output_type": "execute_result"
    }
   ],
   "source": [
    "import torch\n",
    "import esm\n",
    "\n",
    "# Load ESM-2 model\n",
    "model, alphabet = esm.pretrained.esm2_t33_650M_UR50D()\n",
    "batch_converter = alphabet.get_batch_converter()\n",
    "model.eval()"
   ]
  },
  {
   "cell_type": "code",
   "execution_count": 16,
   "id": "3186d1d8-17b4-4a8d-8eac-2dfa79587734",
   "metadata": {},
   "outputs": [
    {
     "name": "stdout",
     "output_type": "stream",
     "text": [
      "[('EU308547.1', 'MRVKEKYQHLWRWGWRWGTMLLGMLMICSATEKLWVTVYYGVPVWKEATTTLFCASDAKAYDPEVHNVWATHACVPTDPNPQEVVLGNVTEDFNMWKNKMVEQMHEDIISLWDQSLKPCVKLTPLCVTLNCTDKWGNTTNTNNANTNSTSWREEMKNCSFNVTTSIRDRVKGYALFYKLDVVQINNDNTTYRLINCNTSVITQACPKVSFEPIPIHYCAPAGFAILKCNDKKFKGKGPCRNVSTVQCTHGIRPVVSSQLLLNGSLAEEEVVIRSENFTNNAKTIIVQLNEPVEINCTRPGNNTRKSIPLGPGKAFYATGDIIGDIRQAHCNISQAKWNKTLNQIVIKLREQFNKTIIFNQSSGGDPEIVMHSFNCGGEFFYCDSTELFNSTWTLNDTRQINNTDRNITLPCRIKQIINLWQQVGKAMYAPPIRGQIRCSSNITGLLLTRDGGHNTTKNMTETFRPGGGDMRDNWRSELYKYKVVQIEPLGVAPTKAKRRVVQREK'), ('DQ976425.1', 'MRVMGIRKNYQHLWKWGMMLLGMLMICNVAGNLWVTVYYGVPVWKEATTTLFCASDAKAYDTEVHNVWATHACVPTDPNPQEVLLENVTENFNMWKNNMVEQMHEDIISLWDQSLKPCVKLTPLCVTLNCTDLRNTTNATSSSGGTMGGGEMKNCSFNITTSIRDKMQKEYALFYKLDIIPIANDNTSYRLINCNTSVITQACPKVTFEPIPIHYCAPAGFAILKCNNKRFNGTGPCTNVSTVQCTHGIRPVVSTQLLLNGSLAEEEVVIRSANFSDNAKNIIVQLNETVEINCTRPNNNTRKSIPIGPGRAIYTTGQIIGDIRQAHCNLSRAKWNETLKQIVTKLREQFGNKTIVFNQSSGGDPEIVTHSFNCGGEFFYCNSTQLFNSTWNITEESNSIEGNDTITLPCRIKQIVNMWQEVGKAMYAPPIRGQIRCSSNITGLILTRDGGNENENETEIFRPGGGDMRDNWRSELYKYKVVKIEPLGVAPTKAKRRVVQREKRAVGIGAMFLGFLGAAGSTMGAASVTLTVQARLLLSGIVQQQNNLLRAIEAQQHLLQLTVWGIKQLQARVLAVERYLKDQQLLGIWGCSGKLICTTAVPWNSSWSNKSLDQIWDNMTWMEWEREISNYTSLIYTLIEESQNQQEKNEQELLALDKWASLWNWFDISNWLWYIKIFIMIVGGLVGLRIVFSVLSIVNRVRQGYSPLSFQIRPPAPRGPDRPGGTEEEGGERDRDGSGRLVDGFLALIWVDLRSLCLFSYHRLRDLLLIVTRIVELLGRRGWELLKYWWNLLQYWSQELKNSAVSLLNAIAIAVAEGTDRVIEVVQRACRAILHISTRTRQGLERALL'), ('JN002042.1', 'MRVKEKYQHLWRWGWRWGTMLLGMLMICSATEKLWVTVYYGVPVWKEATTTLFCASDAKAYDTEVHNVWATHACVPTDPNPQEVLLENVTENFNMWKNNMVEQMHEDIISLWDQSLKPCVKLTPLCVTLNCTDLRNATNTTNSSGRTVEGGEIKNCSFNITTSIRDKVQKEYALFYKLDIIPIANDNTSYRLISCNTSVITQACPKVSFEPIPIHYCTPAGFAIIKCNDKKFNGTGTCTNVSTVQCTHGIRPVVSTQLLLNGSLAEEEVVIRSENFTNNAKNIIVQLNETVEINCTRPNNNTRKSIPMGPGKAFYATGDIIGDIRQAHCNISRTKWNKTLKQIVIKLREQFGYNKTIIFNQSSGGDPEIVTHSFNCGGEFFYCDSSQLFNSTWMFNSTWNDTDGANSTRKNDTITLQCRIKQIINMWQQVGKAMYAPPIRGQIRCTSNITGLILTRDGGDTQNKSDPEIFRPGGGDMRDNWRSELYKYKVVKIEPLGIAPTRAKRRVVQREKRAVGMGAMFLGFLGAAGSTMGAASVTLTVQARQLLSGIVQQQSNLLRAIEAQQHLLQLTVWGIKQLQARILAVERYLKDQQLLGIWGCSGKLICTTAVPWNTSWSNKSMEQIWDNMTWMEWEREISNYTDLIYTLIEKSQNQQEKNEQELLELDKWASLWNWFDITNWLWYIKIFIMIVGGLIGLRIVFTVLSIVNRVRQGYSPLSFQTRLPARRGPDRPERIEEEGGERDRDRSGSLVNGSLALIWDDLRSLCLFSYHRLRDLLLIVTRIVELLGRRGWEALKYWWNLLQYWSQELKNSAVSLLNATAIAVAEGTDRVIEVVQGACRAIRHIPRRIRQGLERILL'), ('DQ976413.1', 'MRVMGIMRNYQHLWKWGTMMLLGILMICNARENLWVTVYYGVPVWKEATTTLFCASDAKAYDTEVHNVWATHACVPTDPNPQEVVLENVTENFNMWKNNMVEQMHEDIINLWDQSLKPCVKLTPLCVTLNCTDANFNSTDVKNAINTTASNTTSSSGGMMEAGEIKNCSFNITTRLRDKVQKEYALFYKLDVVPIGKDNTSYRLISCDTSTVTQACPKVSFEPIPIHYCTPAGFAIIKCNDKKFNGTGPCTNVSTVQCTHGIRPVVSTQLLLNGSLAEEEVVIRSENFTNNAKNIIVQLNETVEINCTRPNNNTRKSIPMGPGKAFYATGDIIGDIRQALCNISRTRWNNTLKQIVIKLREQFGNKTIIFNQSAGGDPEIVTHSFNCGGEFFYCDSSQLFNSTWMFNSTWNDTDGANSTRKNDTITLQCRIKQIINMWQQVGKAMYAPPIRGQIRCTSNITGLILTRDGGDTQNKSDPEIFRPGGGDMRDNWRSELYKYKVVKIEPLGIAPTRAKRRVVQREKRAVGMGAMFLGFLGAAGSTMGAASVTLTVQARQLLSGIVQQQSNLLRAIEAQQHLLQLTVWGIKQLQARVLAVERYLKDQQLLGIWGCSGKLICTTAVPWNTSWSNKSMEQIWDNMTWMEWEREISNYTDLIYTLIEKSQNQQEKNEQELLELDKWASLWNWFDITNWLWYIKIFIMIVGGLIGLRIVFTVLSIVNRVRQGYSPLSFQTRFPAPRGPDRPEGIEEEGGERDRDRSGSLVNGFLAIIWVDLRSLFLFSYHRLRDLLLIVTRIVELLGRRGWEALKYWWNLLQYWSQELKNSAVSLLNATAIAVAEGTDRVIEVLQRAYRAILHIPARIRQGLERALL'), ('DQ976382.1', 'MRVKGIRKSYQHLWRWGTMLHGILMICSATENLWVTVYYGVPVWKEATTTLFCASDAKAYDTEVHNVWATHACVPTDPNPQEVELENVTENFNMWKNNMVEQMHEDIISLWDQSLKPCVRLTPLCVILNCTDLKNDTTTTSGGGGIMMEKGEIKNCSFSINTRGRNKEQKDYAFFYKLDVVPINNNNSYRLISCNTSVITQACPKVSFEPIPIHYCAPAGFAILKCKDKKFNGTGPCKNVSTVQCTHGIRPVVSTQLLLNGSLAEEEVVIRSANFSDNTKTIMVQLKEAVEINCTRPNNNTRKSIPMGPGKAFYTTGEIIGDIRQAHCNLSITKWNNTLKQIVEKLREQFENKTIIFNQSAGGDPEIVMHSFNCGGEFFYCNSTQLFNSTWSSNSTWNDTQGSNNPEGNDTITLTCRIKQFINMWQEVGKAMYAPPISGQIRCSSNITGLLLTRDGGTNEISNQTEIFRPGGGDMRDNWRSELYKYKVVKIEPLGVAPTKAKRRVVQREKRAAVGLGAVFLGFLGAAGSTMGAASITLTAQARQLLSGIVQQQNNLLRAIEAQQHLLQLTVWGIKQLQARVLAVERYLKDQQLLGIWGCSGKLICTTTVPWNASWSNKSLDKIWNNMTWMEWEREINNYTSLIYNLIEESQNQQEKNEQELLELDKWASLWNWFDITQWLWYIRIFIMIVGGLIGLRIVFAVLSIVNRVRQGYSPLSFQTRFPAPRGPDRPGGTEEEGGERDRDRSGRLVNGFLALIWDDLRSLCLFSYHRLRDLLLIVTRIVELLGRRGWEALKYWGNLLQYWSQELKNSAVSLLNVTAIAVAEGTDRVIEVLQRAFRAILHIPRRIRQGLERALL'), ('EU308562.1', 'MRVKEKYQHLWRWGWRWGTMLLGMLMICSATEKLWVTVYYGVPVWRDADTTLFCASDAKAHETEVHNVWATHACVPTDPNPQEIHLENVTENFNMWKNKMVEQMQEDVISLWDQSLKPCVKLTPLCVTLTCTNLTNVNNITNVSDKVGNITDEVTNCTFNMTTELNDKKQKVHALFYKLDIVQIKNSSEYRLINCNTSVVTQACPKVSFEPIPIHYCAPAGFAILKCNDKKFKGKGPCRNVSTVQCTHGIRPVVSTQLLLNGSLAEEEVVIRSENFTNNAKTIIVQLNEPVEINCTRPGNNTRKSIPLGPGKAFYATGDIIGDIRQAHCNINGTEWNKVLKQVAEKLKEHFNNNKTIIFQPPSGGDLEITMHHFNCRGEFFYCNTTQLFNSTCMRNETMDGCNGTITLPCKIKQIINMWQGVGQAMYAPPIRGRINCVSNITGILLTRDGGANNTTNETFRPGGGNIKDNWRSELYKYKVVQIEPLGIAPTKAKRRVVQREK'), ('DQ976389.1', 'MRVKGIRKSYQHLWRWGTMLLGILMICSATENLWVTVYYGVPVWKEATTTLFCASDAKAYDTEAHNVWATHACVPTDPNPQEVELKNVTENFNMWKNNMVEQMHEDVISLWDQSLKPCVRLTPLCVTLNCSDVNATSTINSEEKMEGGPEMKNCSFNITTSMTEKRKKEYALFYSLDVVPIDNGENNTSYRLISCNTSVITQACPKVSFEPIPIHYCAPAGFAILKCNDKKFNGTGPCKNVSTVQCTHGIRPVVSTQLLLNGSLAEEEVVIRSANFSDNTKTIMVQLKEPVEINCTRPNNNTRKSIHMGPGKAFYTTGDIIGDIRRAHCNISRAKWNNTLKQVVEKLTEQFKNKTIIFNQSSGGDPEIVMHSFTCGGEFFYCNSTPLFNSTWTWNDTQGSNSTKGNDTITLQCRIKQIINMWQEVGKAVYAPPISGLVKCSSNITGLLLTRDGGKNESKNNETFRPGGGDMRDNWRSELYKYKVVKIEPLGVAPTKAKRRVVQREKRAVTLGAMFLGFLGAAGSTMGAASIALTVQARQLLSGIVQQQNNLLRAIEAQQHLLQLTVWGIKQLQARVLAVEKYLQDQQLLGIWGCSGKLICTTTVPWNATWSNKSLHEIWDNMTWMEWEREIDNYTDQIYILLEKSQNQQEKNEQELLELDKWASLWNWFDITQWLWYIKIFIMIVGGLIGLRIVFSVLSIVNRVRQGYSPLSFQTHLPTPRGPDRPGGIEEEGGERDRDRSGQLVDGFLAIIWVDLRSLCLFSYHRLRDLLSIVARIVELLGRRGWEILKYWWNLLQYWSQELKNSAVSLLNATAIAVAEGTDRVIEIVQRAFRAILHIPRRIRQGLERALL'), ('DQ976391.1', 'MKVKGIRKSYQNLWKWGTMLLGILMSCSATENLWVTVYYGVPVWKEATTTLFCASDAKAYDTEAHNVWATHACVPTDPNPQELKLENVTENFNMWKNNMVEQMHEDIISLWDQSLKPCVKLTPLCVTLNCSDLNTTSSNGRTIEAGEIKNCSFNITTSMTDKMQKEYSLFYKLDVVPIDKDNISYRLISCNTSVITQACPKVSFEPIPIHYCAPAGFAILKCNNKKFNGTGPCKNVSTVQCTHGIRPVVSTQLLLNGSLAEEEVVIRSANFSDNTKTLIVQLKEPVEINCTRPNNNTRKSIHMGPGKAFYTTGIIGDIRQAHCNISRAKWNNTLKQVVEKLREQYKNKTIIFNQSSGGDPEIVMHSFTCGGEFFYCDTTKLFNSTWSSNNTWNDTTGLHTTEEDDTITLPCKIKQIINMWQEVGKAMYAPPISGRIRCSSNITGLLLTRDGGKNESKNNETFRPGGGDMKDNWRSELYKYKVVKIEPLGVAPTKAKRRVVQREKRAVTLGAMFLGFLGAAGSTMGAASIALTVQARQLLSGIVQQQNNLLRAIEAQQHLLQLTVWGIKQLQARVLAVEKYLQDQQLLGIWGCSGKLICTTTVPWNATWSNKSLHEIWDNMTWMEWEREIDNYTDQIYILLEKSQNQQEKNEQELLELDKWANLWNWFDITQWLWYIKIFIMIVGGLIGLRIVFSVLSIVNRVRQGYSPLSFQTHLPTPRGPDRPGGTEEEGGERDRDRSGQLVNGFLAIIWVDLRSLCLFSYHRLRDLLLIVTRIVELLGRRGWEILKYWWNLLQYWSQELKNSAVSLLNATAIAVAEGTDRVIEVVQRAFRAILRIPRRIRQGLERALL'), ('DQ976422.1', 'MRVMGIMRNYQHLWKWGTMMLLGILMICNATEKLWVTVYYGVPVWKEATTTLFCASDAKAYDAEVHNVWATHACVPTDPNPQEVVLENVTENFNMWKNNMVEQMHEDIINLWDQSLKPCVKLTPLCVTLNCTDANFNSTDVKNATNTTASNTTSSSGGMMEAGEIKNCSFNITTRLRDKVQKEYALFYKLDVVPIGKDNTSYRLISCDTSTVTQTCPKVSFEPIPIHYCAPAGFAIIQCNDKKFNGTGPCKNVSTVQCTHGIRPVVSTQLLLNGSLAEEEVVIRSENFTNNAKNIIVQLNENVEINCTRPNNNTRKSIPMGPGKAFYATGDIIGNIRQAHCNISRTRWNNTLKQIVIKLREQFGNKTIIFDQSSGGDPEIVMHSFNCGGEFFYCNSTQLFNSTWMVNSTWNDTEGSNTSGENDTIALQCRIKQIINMWQQVGKAMYAPPIRGQIRCTSNITGLILTRDGGDPKNGSEPEIFRPGGGDMRDNWRSELYKYKVVKIEPLGIAPTRAKRRVVQREKRAVGIGAVFLGFLGAAGSTMGAASVTLTVQARQLLSGIVQQQSNLLRAIEAQQHLLQLTVWGIKQLQARVLAVERYLKDQQLLGIWGCSGRLICTTAVPWNASWSNKSMEQIWDNMTWMEWEREISNYTDFIYTLIEKSQNQQEKNEQELLELDKWASLWNWFDITNWLWYIKIFIMIVGGLIGLRIVFTVLSIVNRVRQGYSPLSFQTRLPARRGPDRPEGIEEEGGERDRDRSGSLVNGFLAIIWVDLRSLFLFSYHRLRDLLLIVTRIVELLGRRGWEALKYWWNLLQYWSQELKNSAVSLLNTTAIAVAEGTERVIEVLQRAYRAILHIPTRIRQGLERALL'), ('DQ976411.1', 'MRVMGIMRNYQHLWKWGTMMLLGILMICNAREKLWVTVYYGVPVWKEATTTLFCASDAKAYDTEVHNVWATHACVPTDPNPQEVVLENVTENFNMWKNNMVEQMHEDIINLWDQSLKPCVKLTPLCVTLNCTDANFNSTDVKNATNTTAFNTTSSSGGMMEAGEIKNCSFNITTRLRDKVQKEYALFYKLDVVPIGKDNTSYRLISCDTSTVTQACPKVSFEPIPIHYCTPAGFAIIKCNDKKFNGTGPCTNVSTVQCTHGIRPVVSTQLLLNGSLAEEEVVIRSENFTNNAKNIIVQLNETVEINCTRPNNNTRKSIPMGPGKAFYATGDIIGNIRQAHCNISRTRWNNTLKQIVIKLREQFGNKTIIFNQSSGGDPEIVTHSFNCGGEFFYCDSSQLFNSTWMFNSIWNDTDGANSTRKNDTITLQCRIKQIINMWQQVGKAMYAPPIRGQIRCTSNITGLILTRDGGDTQNKSDPEIFRPGGGDMRDNWRSELYKYKVVKIEPLGIAPTRAKRRVVQREKRAVGMGAMLLGFLGAAGSTMGAASVTLTVQARQLLSGIVQQQSNLLRAIEAQQHLLQLTVWGIKQLQARVLAVERYLKVQQLLGIWGCSGKLICTTAVPWNTSWSNKSMEQIWDNMTWMEWEREISNYTDLIYTLIEKSQNQQEKNEQELLELDKWASLWNWFSITNWLWYIKIFIMIVGGLIGLRIVFTVLSIVNRVRQGYSPLSFQTRFPAPRGPDRPEGIEEEGGERDRDRSGTLVNGFLAIIWVDLRSLFLFSYHRLRDLLLIVTRIVELLGRRGWEALKYWWNLLQYWSQELKNSAVSLLNATAIAVAEGTDRVIEVLQRAYRAILHIPTRIRQGLERALL'), ('DQ976388.1', 'MRVKGIRKSYQHLWRWGTMLLGILMICSATENLWVTVYYGVPVWKEATTTLFCASDAKAYDTEAHNVWATHACVPTDPNPQEVELKNVTENFNMWKNNMVEQMHEDVISLWDQSLKPCVRLTPLCVTLNCSDVNATSTINSEEKMEGGPEMKNCSFNITTSMTEKRKKEYALFYKLDVVPIDNGENNTSYRLISCNTSVITQACPKVSFEPIPIHYCAPAGFAILKCNDKKFNGTGPCKNVSTVQCTHGIRPVVSTQLLLNGSLAEEEVVIRSANFSDNTKTIIVQLKEPVEINCTRPNNNTRKSIHMGPGKAFYATGDIIGDIRRAHCNISRAKWNNTLKQVVEKLTEQFKNKTIIFNQSSGGDPEIVMHSFTCGGEFFYCNSTPLFNSTWTWNDTQGSNSTKGNDTITLQCRIKQIINMWQEVGKAMYAPPIKGQIRCSSNITGLLLTRDGGKNESKNNETFRPGGGDMRDNWRSELYKYKVVKIEPLGVAPTKAKRRVVQREKRAVTLGAMFLGFLGAAGSTMGAASIALTVQARQLLSGIVQQQNNLLRAIEAQQHLLQLTVWGIKQLQARVLAVEKYLQDQQLLGIWGCSGKLICTTTVPWNATWSNKSLNEIWDNMTWMEWEREIDNYTDQIYILLEKSQNQQEKNEQELLELDKWASLWNWFDITQWLWYIKIFIMIVGGLIGLRIVFSVLSIVNRVRQGYSPLSFQTHLPTPRGPDRPGGIEEEGGERDRDRSGQLVDGFLAIIWVDLRSLCLFSYHRLRDLLSIVARIVELLGRRGWEILKYWWNLLQYWSQELKNSAVSLLNATAIAVAEGTDRVIEIVQRAFRAILHIPRRIRQGLERALL'), ('DQ976402.1', 'MRVKEIMKNCQHLLTWGTLLFGVLMICSATDQLWVTVYYGVPVWKEASTTLFCASDAKAHNTEVHNVWATHACVPTDPSPQEVRLENVTENFNMWKNNMVEQMQEDIISLWDQSLKPCVKLTPLCVTLNCTNLKNATYTNSSSWEGMKEEIKNCSFNITTNIENKRKKEYALFNKLDVVPTGDGNTSYMLINCNTSAITQACPKVSFEPIPIHYCAPAGFAILQCNDKKFNGTGPCSNVSTVQCTHGIRPVVSTQLLLNGSLAEEEVIIRSENFSNNAKNIIVQLNESVQINCARPNNNTRKSIHLGPGGAFYATGDIIGDIRQAHCNISEADWNNTLKKIVIKLAEQINKTIVFNQSSGGDPEIVMHSFNCGGEFFYCNTTELFNSTWQSDGTRNDTNKKSKNGTIILPCRIRQIVNRWQEVGKAMYAPPISGQINCLSNITGLILTRDGGPGNSTTETFRPGGGDMRDNWRSELYKYKVVKIEPLGVAPTKAKRRVVQREKRAVGTLGAMFLGFLGAAGSTMGAASLTLTVQARQLLSGIVQQQNKLLRAIEAQQHLLQLTVWGIKQLQARVLAVERYLKDQQLLGIWGCSGKLICATAVPWNSSWSNKTLNSIWDNMTWMEWDREINNYTNLIYSLLEESQDQQEKNEQDLLALDEWASLWNWFDITKWLYYIKIFIMIVGGLIGLKIVFTVLSIVNKVRQGYSPLSLQTHLPVPQGPDRPEGTEEEGGDRGRDRSGRLVIGLLPLIWDDLRNLCLFSYRHLRDLLLILARIVELLGRRGWEALKYWWNLLQYWSQELKSSAISLLNAIAIAVAEGTDRVIEVVQTICRAILLIPRRIRQGLERDLL'), ('DQ976410.1', 'MRVMGIMRNYQHLWKWGTMMLLGILMICNARENLWVTVYYGVPVWKEATTTLFCASDAKAYDTEVHNVWATHACVPTDPNPQEVVLENVTEDFNMWKNNMVEQMHEDIINLWDQSLKPCVKLTPLCVTLNCTDANFNSTDVKNAINTTASNTTSSSGGMMEAGEIKNCSFNITTRLRDKVQKEYALFYKLDVVPIGKDNTSYRLISCDTSTVTQACPKVSFEPIPIHYCTPAGFAIIKCNDKKFNGTGPCTNVSTVQCTHGIRPVVSTQLLLNGSLAEEEVVIRSENFTNNAKNIIVQLNETVEINCTRPNNNTRKSIPMGPGKAFYATGDIIGDIRQAHCNISRTRWNNTLKQIVIKLREQFGNKTIIFNQSAGGDPEIVTHSFNCGGEFFYCDSSQLFNSTWMFNSTWNDTDGANSTRKNDTITLQCRIKQIINMWQQVGKAMYAPPIRGQIRCTSNITGLILTRDGGDTQNKSDPEIFRPGGGDMRDNWRSELYKYKVVKIEPLGIAPTRAKRRVVQREKRAVGMGAMFLGFLGAAGSTMGAASVTLTVQARQLLSGIVQQQSNLLRAIEAQQHLLQLTVWGIKQLQARVLAVERYLKDQQLLGIWGCSGKLICTTAVPWNTSWSNKSMEQIWDNMTWMEWEREISNYTDLIYTLIKKSQNQQEKNEQELLKLDKWASLWNWFDITNWLWYIKIFIMIVGGLIGLRIVFTVLSIVNRVRQGYSPLSFQTRFPAPRGPDRPEGIEEEGGERDRDRSGSLVNGFLAIIWVDLRSLFLFSYHRLRDLLLIVTRIMELLGRRGWEALKYWWNLLQYWSQELKNSAVSLLNATAIAVAEGTDRVIEVLQRAYRAILHIPTRIRQGLERALL'), ('DQ976426.1', 'MRVMGIRKNYQHLWKWGMMLLGMLMICNVAGNLWVTVYYGVPVWKEATTTLFCASDAKAYDTEVHNVWATHACVPTDPNPQEVLLENVTENFNMWKNNMVEQMHEDITSLWDQSLKPCVKLTPLCITLNCTDLRNTTNATSSSGGTMGGGEMKNCSFNITTSIRDKMQKEYALFYKLDIIPIANDNTSYRLINCNTSVITQACPKVTFEPIPIHYCAPAGFAILKCNNKRFNGTGPCTNVSTVQCTHGIRPVVSTQLLLNGSLAEEEVVIRSANFSDNAKNIIVQLNETVEINCTRPNNNTRKSIPIGPGRAIYTTGQIIGDIRQAHCNLSRAKWNETLKQIVTKLREQFGNKTIVFNQSSGGDPEIVTHSFNCGGEFFYCNSTQLFNSTWNITEESNSIEGNDTITLPCRIKQIVNMWQEVGKAMYAPPIRGQIRCSSNITGLILTRDGGNENVNETEIFRPGGGDMRDNWRSELYKYKVVKIEPLGVAPTKAKRRVVQREKRAVGIGAMFLGFLGAAGSTMGAASVTLTVQARLLLSGVVQQQNNLLRAIEAQQHLLQLTVWGIKQLQARVLAVERYLKDQQLLGIWGCSGKLICTTAVPWNSSWSNKSLDQIWDNMTWMEWEREISNYTSLIYTLIEESQNQQEKNEQELLALDKWASLWNWFDISNWLWYIKIFIMIVGGLVSLRIVFSVLSIVNRVRQGYSPLSFQIRPPAPRGPDRPGGTEEEGGERDRDGSGRLVDGFLALIWVDLRSLCLFSYHRLRDLLLIVTRIVELLGRRGWELLKYWWNLLQYWSQELKNSAVSLLNAIAIAVAEGTDRVIEVVQRACRAILHISTRIRQGLERALL'), ('JN002026.1', 'MRVKEKYQHLWRWGWRWGTMLLGMLMICSATEKLWVTVYYGVPVWKEATTTLFCASDAKAYDTEVHNVWATHACVPTDPNPQEVVLENVTENFNMWKNNMVEQMHEDIISLWDQSLKPCVKLTPLCVTLNCTDANFNSTDVKNATNTTASNTTTSSGGMMEAGEIKNCSFNITTRLRDKVQKEYALFYKLDVVPIGKDNTSYRLISCDTSTVTQACPKVSFEPIPIHYCTPAGFAIIKCNDKKFNGTGTCTNVSTVQCTHGIRPVVSTQLLLNGSLAEEEVVIRSKNFTNNAKNIIVQLNETVEINCTRPNNNTRKSIPMGPGKAFYATGDIIGNIRQAHCNISRTKWNKTLKQIVIKLREQFGYNKTIIFNQSSGGDPEIVTHSFNCGGEFFYCDSSQLFNSTWMFNSTWNDTDGANSTRKNDTITLQCRIKQIINMWQQVGKAMYAPPIRGQIRCTSNITGLILTRDGGDTQNKSDPEIFRPGGGDMRDNWRSELYKYKVVKIEPLGIAPTRAKRRVVQREKRAVGIGAMFLGFLGAAGSTMGAASVTLTVQARQLLSGIVQQQSNLLRAIEAQQHLLQLTVWGIKQLQARILAVERYLKDQQLLGIWGCSGKLICTTAVPWNTSWSNKSMEQIWDNMTWMEWEREISNYTDLIYTLIEKSQNQQEKNEQELLELDKWASLWNWFDITNWLWYIKIFIMIVGGLIGLRIVFTVLSIVNRVRQGYSPLSFQTRLPARRGPDRPEGIEEEGGERDRDRSGSLVNGSLALIWDDLRSLCLFSYHRLRDLLLIVTRIVELLGRRGWEALKYWWNLLQYWSQELKNSAVSLLNATAIAVAEGTDRVIEVVQGACRAIRHIPRRIRQGLERILL'), ('DQ976409.1', 'MRVTGIMRNYQHLWKWGTMMLLGILMICNARENLWVTVYYGVPVWKEATTTLFCASDAKAYDTEVHNVWATHACVPTDPNPQEVVLENVTENFNMWKNNMVEQMHEDIINLWDQSLKPCVKLTPLCVTLNCTDVNVNGTDVKNATNTTATNTTSSSGRMMEVGEIKNCSFNITTRLRDKVQKEYALFYKLDVVPTGKDNTSYRLISCDTSTVTQACPKVSFEPIPIHYCAPAGFAIIQCNDKKFNGTGPCKNVSSVQCTHGIRPVVSTQLLLNGSLAEEEVVIRSENFTNNAKNIIVQLNETVEINCTRPNNNTRKSIPMGPGKAFYATGDIIGNIRQAHCNISRTRWNNTLKQIVIKLREQFGNKTIIFNQSSGGDPEIVTHSFNCGGEFFYCNSSQLFNSTWMFNSTWNDTDEANSTGENDTITLQCRIKQIINMWQQVGKAMYAPPIRGQIRCTSNITGLILTRDGGEPKNGSDPETFRPGGGDMRDNWRSELYKYKVVKIEPLGIAPTRAKRRVVQREKRAVGIGAVFLGFLGAAGSTMGAASVTLTVQARQLLSGIVQQQSNLLRAIEAQQHLLQLTVWGIKQLQARVLAVERYLKDQQLLGIWGCSGRLICTTAVPWNASWSNKSMEQIWDNMTWMEWEREINNYTDLIYTLIEKSQNQQEKNEQELLELDKWASLWNWFSITNWLWYIKIFIMIVGGLIGLRIVFTVLSIVNRVRQGYSPLSFQTRFPAPRGPDRPEGIEEEGGERDRDRSGTLVNGFLAIIWVDLRSLFLFSYHRLRDLLLIVTRIVELLGRRGWEALKYWWNLLQYWSQELKNSAVSLLNATAIAVAEGTDRVIEIVQRAYRAIIHIPTRIRQGLERALL'), ('DQ976431.1', 'MRVMGIRKNYQHLWKWGMMLLGMLMICNVAGNLWVTVYYGVPVWKEATTTLFCASDAKAYDTEVHNVWATHACVPTDPNPQEVLLENVTENFNMWKNNMVEQMHEDIISLWDQSLKPCVKLTPLCVTLNCTDLRNTTNATSSSGGTMGGGEMKNCSFNITTSIRDKMQKEYALFYKLDIIPIANDNTSYRLINCNTSVITQACPKVTFEPIPIHYCAPAGFAILKCNNKRFNGTGPCTNVSTVQCTHGIRPVVSTQLLLNGSLAEEEVVIRSANFSDNAKNIIVQLNETVEINCTRPNNNTRKSIPIGPGRAIYTTGQIIGDIRQAHCNLSRAKWNETLKQIVTKLREQFGNKTIVFNQSSGGDPEIVTHSFNCGGEFFYCNSTQLFNSTWNITEESNSIEGNDTITLPCRIKQIVNMWQEVGKAMYAPPIRGQIRCSSNITGLILTRDGGNENENETEVFRPGGGDMRDNWRSELYKYKVVKIEPLGVAPTKAKRRVVQREKRAVGIGAMFLGFLGAAGSTMGAASVTLTVQARLLLSGIVQQQNNLLRAIEAQQHLLQLTVWGIKQLQARVLAVERYLKDQQLLGIWGCSGKLICTTAVPWNSSWSNKSLDQIWDNMTWMEWEREISNYTSLIYTLIEESQNQQEKNEQELLALDKWASLWNWFDISNWLWYIKIFIMIVGGLVGLRIVFSVLSIVNRVRQGYSPLSFQIRPPAPRGPDRPGGTEEEGGERDRDGSGRLVDGFLALIWVDLRSLCLFSYHRLRDLLLIVTRIVELLGRRGWELLKYWWNLLQYWSEELKNSAVSLLNAIAIAVAEGTDRVIEVVQRACRAILHIPTRIRQGLERALL'), ('JN002050.1', 'MRVKEKYQHLWRWGWRWGTMLLGMLMICSATEKLWVTVYYGVPVWKEASTTLFCASDAKAHGTEAHNVWATHACVPTDPSPQEVRLENVTENFNMWKNNMVEQVQEDIISLWDQSLKPCVKLTPLCVTLNCINANATYANTSRWEKMEGEIKNCSFNITTNIGNKMKKEYALFNKLDVVPTGDGNTSYMLINCNTSAITQACPKVSFEPIPIHYCAPAGFAILQCNDKKFNGTGPCTNVSTVQCTHGIRPVVSTQLLLNGSLAEEEVVIRSENFTNNAKNIIVHLNESVQINCTRPDNNTRKGIHLGPGGTFFATGAIIGDIRQAHCNISEAQWNNTLKRIVIKLAEQINKTIVFNHPSGGDPEIVMHSFNCGGEFFYCNTTELFNSTWLSNGTRNDTNKNSNNGTIILPCRIRQIVNRWQEVGKAMYAPPISGQINCSSNITGLLLTRDGGPGNSTTETFRPGGGDMRDNWRSELYKYKVVKIEPLGVAPTKAKRRVVQREKRAVGTLGAMFLGFLGAAGSTMGAASLTLTVQARQLLSGIVQQQNNLLRAIEAQQHLLQLTVWGIKQLQARVLAVERYLKDQQLLGIWGCSGKLICTTAVPWNTSWSNKTLNDIWNNMTWMEWDREINNYTNLIYSLIEESQNQQEKNEQDLLALDEWASLWNWFDITKWLYYIKIFIMIVGGLIGLKIVFTVLSVVNKVRQGYSPLSLQTHLPVPQGPDRPEGTEEESGDRGRDRSGRLVIGSLALIWDDLRSLCLFSYHRLRDLLLIVTRIVELLGRRGWEALKYWWNLLQYWSQELKNSAVSLLNATAIAVAEGTDRVIEVVQGACRAIRHIPRRIRQGLERILL'), ('EU308541.1', 'MRVKEKYQHLWRWGWRWGTMLLGMLMICSATEKLWVTVYYGVPVWKDANTTLFCASDAKAYDTEVHNVWATHACVPTDPSPQEVLLENVTEYFNMWKNNMVDQMHEDIINLWDQSLKPCVKLTPLCVTLKCADLRNDTDLRNDTSGSNETEKAMEKGEMKNCSFNITSRVREKVQKGRALFDRTDVVPIENTTDKYRLINCNTSVITQACPKISFEPIPIHYCTPAGFAIIKCKDKKFNGTGPCKNISTVQCTHGIRPVVSTQLLLNGSLAEEEVVIRSANFSDNAKTIIVQLNESVEINCTRPNNNTRTSIPMGPGRAMYATGDIIGNIRQAYCTLSKAKWNDTLRQVVIKLREQFKNKTIVFNHSSGGDPEIVMHSFNCGGEFFYCNTTQLFNSTWKGDKNLNNTGENNTTGKIILPCRIKQIINMWQEVGKAMYAPPIQGLISCTSNITGLLLTRDGGVNNETNNTETFRPGGGDMKDNWRSELYKYKVVRIEPLGVAPTKAKRRVVQREK'), ('DQ976427.1', 'MRVMGIRKNYQHLWKWGMMLLGMLMICNVAGNLWVTVYYGVPVWKEATTTLFCASDAKAYDTEVHNVWATHACVPTDPNPQEVLLENVTENFNMWKNNMVEQMHEDIISLWDQSLKPCVKLTPLCVTLNCTDLRNTTNATSSSGGTMGGGEMKNCSFNITTSIRDKMQKEYALFYKLDIIPIANDNTSYRLINCNTSVIAQACPKVTFEPIPIHYCAPAGFAILKCNNKRFNGTGPCTNVSTVQCTHGIRPVVSTQLLLNGSLAEEEVVIRSANFSDNAKNIIVQLNETVEINCTRPNNNTRKSIPIGPGRAIYITGQIIGDIRQAHCNLSRAKWNETLKQIVTKLREQFGNKTIVFNQSSGGDPEIVTHSFNCGGEFFYCNSTQLFNSTWNITEESNSIEGNDTITLPCRIKQIVNMWQEVGKAMYAPPIRGQIRCSSNITGLILTRDGGNENENETEIFRPGGGDMRDNWRSELYKYKVVKIEPLGVAPTKAKRRVVQREKRAVGIGAMFLGFLGAAGSTMGAASVTLTVQARLLLSGIVQQQNNLLRAIEAQQHLLQLTVWGIKQLQARVLAVERYLKDQQLLGIWGCSGKLICTTAVPWNSSWSNKSLDQIWDNMTWMEWEREISNYTSLIYTLIEESQNQQEKNEQELLALDKWASLWNWFDISNWLWYIKIFIMIVGGLVGLRIVFSVLSIVNRVRQGYSPLSFQIRPPAPRGPDRPGGTEEEGGERDRDGSGRLVDGFLALIWVDLRSLCLFSYHRLRDLLLIVTRIVELLGRRGWELLKYWWNLLQYWSEELKNSAVSLLNAIAIAVAEGTDRVIEVVQRACRAILHIPTRIRQGLERALL'), ('DQ976401.1', 'MRVKEIMKNCQHLLTWGTMLFGMLMICSATEQLWVTVYYGVPVWKEASTTLFCASDAKAHGTEAHNVWATHACVPTDPSPQEVRLENVTENFNMWKNNMVEQMQEDIISLWDQSLKPCVKLTPLCVTLNCINANATYANNSRWEKMEGEIKNCSFNITTNIGNKMKKEYALFNKLDVVPTGDGNTSYMLINCNTSAITQACPKVSFEPIPIHYCAPAGFAILQCNDKKFNGTGPCTNVSTVQCTHGIRPVVSTQLLLNGSLAEEEVVIRSENFTNNAKNIIVHLNESVQINCTRPDNNTRKGIHLGPGGTFFATGAIIGDIRQAHCNISEAQWNNTLKRIVIKLAEQINKTIVFNHSSGGDPEIVMHSFNCGGEFFYCNTTELFNSTWLSNGTRNDTNKNSNNGTIILPCRIRQIVNRWQEVGKAMYAPPISGQINCSSNITGLLLTRDGGPGNSTTETFRPGGGDMRDNWRSELYKYKVVKIEPLGVAPTKAKRRVVQREKRAVGTLGAVFLGFLGAAGSTMGAASLTLTVQARQLLSGIVQQQNNLLRAIEAQQHLLQLTVWGIKQLQARVLAVERYLKDQQLLGIWGCSGKLICTTAVPWNTSWSNKTLNGIWNNMTWMEWDREINNYTNLIYSLIEESQNQQEKNEQELLALDEWASLWNWFSITKWLYYIKIFIMVVGGLVGLKIVFTVLSIVNKVRQGYSPLSFQTHLPVPQGPDRPEGIEEEGGDRGRDRSGRLVIGLSPLIWDDLRNLCLFSYRHLRDLLLILARIVERLGRRGWEALKYWWNLLQYWSQELKNSAVSLLNATAIAVAKGTDRVIEVVQRICRAILHIPRRIRQGLERALL'), ('DQ976392.1', 'MRVKGIRKSCQHLWRWGTMLLGILMICSATENLWVTVYYGVPVWKEATTTLFCASDAKAYDTEAHNVWATHACVPTDPNPQEVELKNVTENFNMWKNNMVEQMHEDIISLWDQSLKPCVRLTPLCVTLNCSDVNATEPTSSSEEKMEGGPEMKNCSFNITTSMTEKRKKEYALFYKLDVVPIDNTSYRLISCNTSVITQACPKVSFEPIPIHYCAPAGFAILKCNDKKFNGSGPCKNVSTVQCTHGIRPVVSTQLLLNGSLAEEEVVIRSANFSDNTKTIIVQLKEPVEINCTRPNNNTRKSIHMGPGKAFYATGDIIGDIRRAHCNISRAKWNNTLKQVVEKLTEQFKNKTIIFNQSSGGDPEIVMHSFTCGGEFFYCNSTPLFNSTWTWNDTQGSNSTKGNDTITLQCRIKQIINMWQEVGKAMYAPPIKGQIRCSSNITGLLLTRDGGKNESKNNETFRPGGGDMRDNWRSELYKYKVVRIEPLGVAPTKAKRRVVQREKRAVTLGAMFLGFLGAAGSTMGAASIALTVQARQLLSGIVQQQNNLLRAIEAQQHLLQLTVWGIKQLRARVLAVEKYLQDQQLLGIWGCSGKLICTTTVPWNATWSNKSLHEIWDNMTWMEWEREIDNYTDQIYILLEKSQNQQEKNEQELLELDKWANLWNWFDITQWLWYIKIFIMIVGGLIGLRIVFSVLSIVNRVRQGYSPLSFQTHLPTPRGPDRPGGIEEEGGERDRDRSGQLVNGFLAIIWVDLRSLCLFSYHRLRDLLLIVTRIVELLGRRGWEILKYWWNLLQYWSQELKNSAVSLLNATAIAVAEGTDRVIEVLQRAFRAILHIPRRIRQGLERALL'), ('EU308553.1', 'MRVKEKYQHLWRWGWRWGTMLLGMLMICSATEKLWVTVYYGVPVWKEATTTLFCASDAKAYDTEVHNVWATHACVPTDPNPQEVVLGNVTEYFNMWRNNMVEQMHEDVISIWDQSLKPCVKLTPLCVTLNCSDYIFNCTQSNNSSSNCTNSNNSSIRMMEKGDIKNCSFKVTTSLRNKVQKEFALFYSLDVVPIDNNDNTSYRLISCNTSVITQACPKVTFEPIPIHYCAPAGFAILKCNNKTFDGKGECKNVSTVQCTHGIRPVVSTQLLLNGSLAEEEVIIRSENFTNNAKTIIVQLNKTVVINCIRPSNNTRRSISIGPGRAFYATGEVIGDIRQAHCNISRVDWNNTLKQVVEKLRVQFKNKTIIFNQSSGGDPEIVTHSVNCGGEFFYCDSTQLFNSTWPANSTWTDPKSSVNITLPCRIKQIVNMWQEVGKAMYAPPIKGQIRCSSNITGLILTRDGGYSNNGSGPEIFRPGGGDMRDNWRSELYKYKVVRIEPLGVAPTKAKRRVVQREK'), ('EU308558.1', 'MRVKEKYQHLWRWGWRWGTMLLGMLMICSATEKLWVTVYYGVPVWKEATTTLFCASDAKAYDTEVHNVWATHACVPTDPNPQEVVLENVTENFNMWKNNMVEQMHEDIISLWDQSLKPCVKLTPLCVTLNCTDLRNVTNINNSSEGMRGEIKNCSFNITTSIRDKVKKDYALFYRLDVVPIDNDNTSYRLINCNTSTITQACPKVSFEPIPIHYCTPAGFAILKCKDKKFNGTGPCKNVSTVQCTHGIRPVVSTQLLLNGSLAEEEVVIRSSNFTDNAKNIIVQLKESVEINCTRPNNNTRKSIHIGPGRAFYTTGDIIGDIRQAHCNISRTKWNNTLNQIATKLKEQFGNNKTIVFNQSSGGDPEIVMHSFNCGGEFFYCNSTQLFNSTWNFNGTWNLTQSNGTEGNDTITLPCRIKQIINMWQEVGKAMYAPPIRGQIRCSSNITGLILTRDGGNNHNNDTETFRPGGGDMRDNWRSELYKYKVVKIEPLGVAPTKAKRRVVQREK'), ('DQ976405.1', 'MRVKEIMKNCQHLLTWGTLLFGVLMICSATDQLWVTVYYGVPVWKEASTTLFCASDAKAHNTEVHNVWATHACVPTDPSPQEVGLENVTENFNMWKNNMVEQMQEDIISLWDQSLKPCVKLTPLCVTLNCTNLKNATYTNSSSWEGMKEEIKNCSFNITTNIENKRKKEYALFNKLDVVPTGDGNTSYMLINCNTSAITQACPKVSFEPIPIHYCAPAGFAILQCNDKKFNGTGPCSNVSTVQCTHGIRPVVSTQLLLNGSLAEEEVIIRSENFSNNAKNIIVQLNESVQINCTRPNNNTRKSIHLGPGGAFYATGDIIGDIRQAHCNISEADWNNTLKKIVIKLAEQINKTIVFNQSSGGDPEIVMHSFNCGGEFFYCNTTELFNSTWQSDGTRNDTNKKSKNGTIILPCRIRQIVNRWQEVGKAMYAPPISGQINCLSNITGLILTRDGGPGNSTTETFRPGGGDMRDNWRSELYKYKVVKIEPLGVAPTKAKRRVVQREKRAVGTLGAMFLGFLGAAGSTMGAASLTLTVQARQLLSGIVQQQNKLLRAIEAQQHLLQLTVWGIKQLQARVLAVERYLKDQQLLGIWGCSGKLICATAVPWNSSWSNKTLNSIWDNMTWMEWDREINNYTNLIYSLLEESQNQQEKNEQDLLALDEWASLWNWFDITKWLYYIKIFIMIVGGLIGLKIVFTVLSIVNKVRQGYSPLSLQTHLPVPQGPDRPEGTEEEGGDRGRDRSGRLVIGLLPLIWDDLRNLCLFSYRHLRDLLLILARIVELLGRRGWEALKYWWNLLQYWSQELKSSAISLLNAIAIAVAEGTDRVIEVVQTICRAILLIPRRIRQGLERDLL'), ('DQ976415.1', 'MRVTGIRRNYQNWWKWGTMMLLGILMICNARRNLWVTVYYGVPVWKEAITTLFCASDAKAYDTEVHNVWATHACVPTDPNPQEVVMENVTENFNMWKNNMVEQMHEDIINLWDQSLKPCVKLTPLCVTLNCTDVNLNGTDVKNATNTTTTNTTSSSGIMMEVGEVKNCSFRTTTSVKDKVQKEYALFYKLDIIPIESDDNTSYRLISCNTSTITQACPKVSFEPIPIHYCAPAGFAIIQCNDKKFNGKGPCKNVSTVQCTHGIRPVVSTQLLLNGSLAEEEVVIRSENFTNNAKNIIVQLNETVEINCTRPNNNTRKSIPMGPGKTFYATGDIIGDIRQAHCNISRTKWNKTLKQIVIKLREQFGNNKTIAFNQSSGGDPEIVTHSFNCGGEFFYCNSSQLFNSTWVFNSTWNDTGGSNSTGENDTITLQCRIKQIINMWQQVGKAMYAPPIRGQIRCTSNITGLILTRDGGDPQNESDPEIFRPGGGDMRDNWRSELYKYKVVKIEPLGIAPTRAKRRVVRREKRAVGIGAMFLGFLGAAGSTMGAASVTLTVQARQLLSGIVQQQSNLLRAIEAQQHLLQLTVWGIKQLQARVLAVERYLKDQQLLGIWGCSGKLICTTAVPWNDSWSNKSMDQIWNNMTWMEWEREISNYTDLIYNLIEKSQNQQEKNEQELLELDKWASLWNWFSITNWLWYIKIFIMIVGGLIGLRIVFTVLSIVNRVRQGYSPLSFQTRLPARRGPDRPEGIEEKGGERDRDRSTPLVNGFLAIIWVDLRSLFLFSYHRLRDLLLIVTRIVELLGRRGWEALKYWWNLLQYWSQELKNSAVSLLNTTAIAVAEGTDRIIEIVQRAYRAIIHIPTRIRQGLERALL'), ('DQ976417.1', 'MRVMGIMRNYQHLWKWGTMMLLGILMICNARENLWVTVYYGVPVWKEATTTLFCASDAKAYDTEVHNVWATHACVPTDPNPQEVVLENVTENFNMWKNNMVEQMHEDIINLWDQSLKPCVKLTPLCVTLNCTDANFNSTDVKNATNTTATNTTSSGGIIMEVGEIKNCSFNITTRLRDKVQKEYALFYKLDVVPIGKDNTSYRLISCDTSTVTQACPKVSFEPIPIHYCTPAGFAIIKCNDKKFNGTGPCTNVSTVQCTHGIRPVVSTQLLLNGSLAEEEVVIRSENFTNNAKNIIVQLNETVEINCTRPNNNTRKSIPMGPGKAFYATGDIIGNIRQAHCNISRTRWNNTLKQIVIKLREQFGNKTIIFNQSSGGDPEIVTHSFNCGGEFFYCNSSQLFNSTWMFNSTWNDTDGANSTGENDTITLQCRIKQIINMWQQVGKAMYAPPIRGQIRCTSNITGLILTRDGGDTQNKSDPEIFRPGGGDMRDNWRSELYKYKVVKIEPLGIAPTRAKRRVVQREKRAVGIGAMFLGFLGAAGSTMGAASVTLTVQARQLLSGIVQQQSNLLRAIEAQQHLLQLTVWGIKQLQARVLAVERYLKDQQLLGIWGCSGKLICTTAVPWNASWSNKSMEQIWDNMTWMEWEREINNYTDLIYTLIEKSQNQQEKNEQELLELDKWASLWNWFDITNWLWYIKIFIMIVGGLIGLRIVFTVLSIVNRVRQGYSPLSFQTRFPAPRGPDRPEGIEEEGGERDRDRSGSLVNGFLAIIWVDLRSLFLFSYHRLRDLLLIVTRIVELLGRRGWEALKYWWNLLQYWSQELKNSAVSLLNATAIAVAEGTDRVIEIVQRAYRAIIHIPTRIRQGLERALL'), ('DQ976421.1', 'MRVMGIMRNYQHLWKWGTMMLLGILMICNATEKLWVTVYYGVPVWKEATTTLFCASDAKAYDAEVHNVWATHACVPTDPNPQEVVLENVTENFNMWKNNMVEQMHEDIINLWDQSLKPCVKLTPLCVTLNCTDANFNSTDVKNATNTTASNTTSSSGGMMEAGEIKNCSFNITTRLRDKVQKEYALFYKLDVVPIGKDNTSYRLISCDTSTVTQTCPKVSFEPIPIHYCAPAGFAIIQCNDKKFNGTGPCKNVSTVQCTHGIRPVVSTQLLLNGSLAEEEVVIRSENFTNNAKNIIVQLNENVEINCTRPNNNTRKSIPMGPGKAFYATGDIIGNIRQAHCNISRTRWNNTLKQIVIKLREQFGNKTIIFDQSSGGDPEIVMHSFNCGGEFFYCNSTQLFNSTWMVNSTWNDTEGSNTSGENDTITLQCRIKQIINMWQQVGKAMYAPPIRGQIRCTSNITGLILTRDGGDPKNGSEPEIFRPGGGDMRDNWRSELYKYKVVKIEPLGIAPTRAKRRVVQREKRAVGIGAVFLGFLGAAGSTMGAASVTLTVQARQLLSGIVQQQSNLLRAIEAQQHLLQLTVWGIKQLQARVLAVERYLKDQQLLGIWGCSGRLICTTAVPWNASWSNKSMEQIWDNMTWMEWEREISNYTDFIYTLIEKSQNQQEKNEQELLELDKWASLWNWFDITNWLWYIKIFIMIVGGLIGLRIVFTVLSIVNRVRQGYSPLSFQTRLPARRGPDRPEGIEEEGGERDRDRSGSLVNGFLAIIWVDLRSLFLFSYHRLRDLLLIVTRIVELLGRRGWEALKYWWNLLQYWSQELKNSAVSLLNTTAIAVAEGTERVIEVLQRAYRAILHIPTRIRQGLERALL'), ('DQ976424.1', 'MRVMGIMRNYQHLWKWGTMMLLGILMICNATEKLWVTVYYGVPVWKEATTTLFCASDAKAYDAEVHNVWATHACVPTDPNPQEVVLENVTENFNMWKNNMVEQMHEDIINLWDQSLKPCVKLTPLCVTLNCTDANFNSTDVKNATNTTASNTTSSSGGMMEAGEIKNCSFNITTRLRDKVQKEYALFYKLDVVPIGKDNTSYRLISCDTSTVTQTCPKVSFEPIPIHYCAPAGFAIIQCNDKKFNGTGPCKNVSTVQCTHGIRPVVSTQLLLNGSLAEEEVVIRSENFTNNAKNIIVQLNENVEINCTRPNNNTRKSIPMGPGKAFYATGDIIGNIRQAHCNISRTRWNNTLKQIVIKLREQFGNKTIIFDQSSGGDPEIVMHSFNCGGEFFYCNSTQLFNSTWMVNSTWNDTEGSNTSGENDTITLQCGIKQIINMWQQVGKAMYAPPIRGQIRCTSNITGLILTRDGGDPKNGSEPEIFRPGGGDMRDNWRSELYKYKVVKIEPLGIAPTRAKRRVVQREKRAVGIGAVFLGFLGAAGSTMGAASVTLTVQARQLLSGIVQQQSNLLRAIEAQQHLLQLTVWGIKQLQARVLAVERYLKDQQLLGIWGCSGRLICTTAVPWNASWSNKSMEQIWDNMTWMEWEREISNYTDFIYTLIEKSQNQQEKNEQELLELDKWASLWNWFDITNWLWYIKIFIMIVGGLIGLRIVFTVLSIVNRVRQGYSPLSFQTRLPARRGPDRPEGIEEEGGERDRDRSGSLVNGFLAIIWVDLRSLFLFSYHRLRDLLLIVTRIVELLGRRGWEALKYWWNLLQYWSQELKNSAVSLLNTTAIAVAEGTERVIEVLQRAYRAILHIPTRIRQGLERALL'), ('DQ976387.1', 'MRVKGIRKSYQHLWRWGTMLHGILMICSATENLWVTVYYGVPVWKEATTTLFCASDAKAYDTEVHNVWATHACVPTDPNPQEVELENVTENFNMWKNNMVEQMHEDIISLWDQSLKPCVRLTPLCVILNCTDLKNDTTTTSGGGGIMMEKGEIKNCSFSINTRGRNKEQKDYAFFYKLDVVPINNNNSYRLISCNTSVITQACPKVSFEPIPIHYCAPAGFAILKCKDKKFNGTGPCKNVSTVQCTHGIRRVVSTQLLLNGSLAEEEVVIRSANFSDNTKTIMVQLKEAVEINCTRPNNNTRKSIPMGPGKAFYTTGEIIGDIRQAHCNLSITKWNNTLKQIVEKLREQFENKTIIFNQSAGGDPEIVMHSFNCGGEFFYCNSTQLFNSTWSSNSTWNDTQGSNNPEGNDTITLTCRIKQFINMWQEVGKAMYAPPISGQIRCSSNITGLLLTRDGGTNEISNQTEIFRPGGGDMRDNWRSELYKYKVVKIEPLGVAPTKAKRRVVQREKRAAVGLGAVFLGFLGAAGSTMGAASITLTAQARQLLSGIVQQQNNLLRAIEAQQHLLQLTVWGIKQLQARVLAVERYLKDQQLLGIWGCSGKLICTTTVPWNASWSNKSLDKIWNNMTWMEWEREINNYTSLIYNLIEESQNQQEKNEQELLELDKWASLWNWFDITQWLWYIRIFIMIVGGLIGLRIVFAVLSIVNRVRQGYSPLSFQTRFPAPRGPDRPGGTEEEGGERDRDRSGRLVSGFLALIWDDLRSLCLFSYHRLRDLLLIVTRIVELLGRRGWEALKYWGNLLQYWSQELKNSAVSLLNVTAIAVAEGTDRVIEVLQRAFRAILHIPRRIRQGLERALL'), ('DQ976414.1', 'MRVTGIMRNYQNLWKWGTMMLLGILMICNARENLWVTVYYGVPVWKEATTTLFCASDAKAYDTEVHNVWATHACVPTDPNPQEVVLENVTENFNMWKNNMVEQMHEDIINLWDQSLKPCVKLTPLCVTLNCTDVNLNGTDVKNAATTTATNATDTDTTSSSGRMMEVGEIKNCSFNITTRLRDKVQKEYALFYKLDVVPIGKDNTSYRLISCDTSTVTQACPKVSFEPIPIHYCTPAGFAIIKCNDKKFNGTGPCTNVSTVQCTHGIRPVVSTQLLLNGSLAEEEVVIRSENFTNNAKNIIVQLNETVEINCTRPNNNTRKSIPMGPGKAFYATGDIIGNIRQAHCNISRTRWNNTLKQIVIKLRERFGNKTIIFNQSSGGDPEIVTHSFNCGGEFFYCNSSQLFNSTWMFNSTWNDTDEANSTGKNDTITLQCRIKQIINMWQQVGKAMYAPPIRGQIRCTSNITGLILTRDGGDTQNKSDPEIFRPGGGDMRDNWRSELYKYKVVKIEPLGIAPTRAKRRVVQREKRAVGIGAMFLGFLGAAGSTMGAASVTLTVQARQLLSGIVQQQSNLLRAIEAQQHLLQLTVWGIKQLQARVLAVERYLKDQQLLGIWGCSGRLICTTAVPWNASWSNKSMEQIWDNMTWMEWEREINNYTDLIYTLIEKSQNQQEKNEQELLELDKWASLWNWFSITNWLWYIKIFIMIVGGLIGLRIVFTVLSIVNRVRQGYSPLSFQTRFPAPRGPDRPEGIEEEGGERDRDRSGTLVNGFLAIIWVDLRSLFLFSYHRLRDLLLIVTRIVELLGRRGWEALKYWWNLLQYWSQELKNSAVSLLNATAIAVAEGTDRVIEVLQRAYRAILHIPTRIRQGLERALL'), ('EU308557.1', 'MRVKEKYQHLWRWGWRWGTMLLGILMICSATEKLWVTVYYGVPVWKEATTTLFCASDAKAYDTEVHNVWATHACVPTDPNPQEVVLENVTENFNMWKNNMVEQMHEDIISLWDQSLKPCVKLTPLCVTLNCTDLRNVTNINNSSEGMRGEIKNCSFNITTSIRDKVKKDYALFYRLDVVPIDNDNSYRLINCNTSTITQACPKVSFEPIPIHYCTPAGFAILKCKDKKFNGTGPCKNVSTVQCTHGIRPVVSTQLLLNGSLAEEEVVIRSSNFTDNAKNIIVQLKESVEINCTRPNNNTRKSIHIGPGRAFYTTGDIIGDIRQAHCNISRTKWNNTLNQIATKLKEQFGNNKTIVFNQSSGGDPEIVMHSFNCGGEFFYCNSTQLFNSTWNFNGTWNLTQSNGTEGNDTITLPCRIKQIINMWQEVGKAMYAPPIRGQIRCSSNITGLILTRDGGNNHNNDTETFRPGGGDMRGNWRSELYKYKVVKIEPLGVAPTKAKRRVVQREK'), ('DQ976404.1', 'MRVKEIMKNCQHLLTWGTLLFGVLMICSATDQLWVTVYYGVPVWKEASTTLFCASDAKAHNTEVHNVWATHACVPTDPSPQEVRLENVTENFNMWKNNMVEQMQEDIISLWDQSLKPCVKLTPLCVTLNCTNLKNATYTNSSSWEGMKEEIKNCSFNITTNIENKRKKEYALFNKLDVVPTGDGNTSYMLINCNTSAITQACPKVSFEPIPIHYCAPAGFAILQCNDKKFNGTGPCSNVSTVQCTHGIRPVVSTQLLLNGSLAEEEVIIRSENFSNNAKNIIVQLNESVQINCTRPNNNTRKSIHLGPGGAFYATGDIIGDIRQAHCNISEADWNNTLKKIVIKLAEQINKTIVFNQPSGGDPEIVMHSFNCGGEFFYCNTTELFNSTWQSDGTRNDTNKKSKNGTIILPCRIRQIVNRWQEVGKAMYAPPISGQINCLSNITGLILTRDGGPGNSTTETLRPGGGDMRDNWRSELYKYKVVKIEPLGVAPTKAKRRVVQREKRAVGTLGAMFLGFLGAAGSTMGAASLTLTVQARQLLSGIVQQQNKLLRAIEAQQHLLQLTVWGIKQLQARVLAVERYLKDQQLLGIWGCSGKLICATAVPWNSSWSNKTLNSIWDNMTWMEWDREINNYTNLIYSLLEESQNQQEKNEQDLLALDEWASLWNWFDITKWLYYIKIFIMIVGGLIGLKIVFTVLSIVNKVRQGYSPLSLQTHLPVPQGPDRPEGTEEEGGDRGRDRSGRLVIGLLPLIWDDLRNLCLFSYRHLRDLLLILARIVELLGRRGWEALKYWWNLLQYWSQELKSSAISLLNAIAIAVAEGTDRIIEVVQTICRAILLIPRRIRQGLERDLL'), ('DQ976399.1', 'MRVKEIMKNCQHLLTWGTMLFGMLMICSATEQLWVTVYYGVPVWKEASTTLFCASDAKAHGTEAHNVWATHACVPTDPSPQEVRLENVTENFNMWKNNMVEQMQEDIISLWDQSLKPCVKLTPLCVTLNCINANATYANNSRWEKMEGEIKNCSFNITTNIGNKMKKEYALFNKLDVVPTGDGNTSYMLINCNTSAITQACPKVSFEPIPIHYCAPAGFAILQCNDKKFNGTGPCTNVSTVQCTHGIRPVVSTQLLLNGSLAEEEVVIRSENFTNNAKNIIVHLNESVQINCTRPDNNTRKGIHLGPGGTFFATGAIIGDIRQAHCNISEAQWNNTLKRIVIKSAEQINKTIVFNHSSGGDPEIVMHSFNCGGEFFYCNTTELFNSTWLSNGTRNDTNKNSNNGTIILPCRIRQIVNRWQEVGKAMYAPPISGQINCSSNITGLLLTRDGGPGNSTTETFRPGGGDMRDNWRSELYKYKVVKIEPLGVAPTKAKRRVVQREKRAVGTLGAVFLGFLGAAGSTMGAASLTLTVQARQLLSGIVQQQNNLLRAIEAQQHLLQLTVWGIKQLQARVLAVERYLKDQQLLGIWGCSGKLICTTAVPWNTSWSNKTLNDIWNNMTWMEWDREINNYTNLIYSLIEESQNQQEKNEQELLALDEWASLWNWFSITKWLYYIKIFIMVVGGLVGLKIVFTVLSIVNKVRQGYSPLSFQTHLPVPQGPDRPEGIEEEGGDRGRDRSGRLVIGLLPLIWDDLRNLCLFSYRHLRDLLLILARIVERLGRRGWEALKYWWNLLQYWSQELKNSAVSLLNATAIAVAKGTDRVIEVVQRICRAILHIPRRIRQGLERALL'), ('U63632.1', 'MRVKGIRKSYQYLWKGGTLLLGILMICSAVEKLWVTVYYGVPVWKEATTTLFCASDAKAYDTEVHNVWATHACVPTDPNPQEVVLENVTEHFNMWKNNMVEQMQEDIISLWDQSLKPCVKLTPLCVTLNCKDVNATNTTNDSEGTMERGEIKNCSFNITTSIRDEVQKEYALFYKLDVVPIDNNNTSYRLISCDTSVITQACPKISFEPIPIHYCAPAGFAILKCNDKTFNGKGPCKNVSTVQCTHGIRPVVSTQLLLNGSLAEEEVVIRSDNFTNNAKTIIVQLKESVEINCTRPNNNTRKSIHIGPGRAFYTTGEIIGDIRQAHCNISRAKWNDTLKQIVIKLREQFENKTIVFNHSSGGDPEIVMHSFNCGGEFFYCNSTQLFNSTWNNNTEGSNNTEGNTITLPCRIKQIINMWQEVGKAMYAPPIRGQIRCSSNITGLLLTRDGGINENGTEIFRPGGGDMRDNWRSELYKYKVVKIEPLGVAPTKAKRRVVQREKRAVGIGAVFLGFLGAAGSTMGAASMTLTVQARLLLSGIVQQQNNLLRAIEAQQRMLQLTVWGIKQLQARVLAVERYLGDQQLLGIWGCSGKLICTTAVPWNASWSNKSLDRIWNNMTWMEWEREIDNYTSEIYTLIEESQNQQEKNEQELLELDKWASLWNWFDITKWLWYIKIFIMIVGGLVGLRLVFTVLSIVNRVRQGYSPLSFQTLLPAPRGPDRPEGIEEEGGERDRDRSGRLVNGFLALIWVDLRSLCLFSYHRLRDLLLTVTRIVELLGRRGWEVLKYWWNLLQYWSQELKNSAVSLLNATAIAVAEGTDRIIEALQRTYRAILHIPTRIRQGLERALL'), ('DQ976420.1', 'MRVTGIMRSYQNLWIWSTMMLLGIFMICNANLWVTVYYGVPVWKEADTTLFCASDAKAYDTEVHNVWATHACVPTDPNPQEVVLENVTENFYMWKNNMVEQMHEDIINLWDQSLKPCVKLTPLCVTLNCTDAIFNSTDTTAANITSSGGKVMEAGEIKNCSFNITTSLRKKVQKEYALFYKLDVVPIRKKTNTTKYRLISCNTSTITQACPKVSFEPIPIHYCAPAGFAIIQCNDKKFNGTGPCTNVSSVQCTHGIRPVVSTQLLLNGSLAEEEVVIRSENFTNNAKVIIVQLNETVEINCTRPNNNTRKSITMGPGKAFYATGDIIGDIRQAHCNISGTRWNNTLKQIVIKLREQFGNKTIIFNQSSGGDPEIVMHSFNCGGEFFYCNSSQLFNSTWRSNNTWNETDGSNTSGNNDTITLQCRIKQFINMWQQVGKAMYAPPIRGQIRCTSNITGLILTRDGGKRNESEPTEIFRPGGGDMRDNWRSELYKYKVVKIEPLGIAPTRAKRRVVQRGKRAVGIGAVFLGFLGAAGSTMGAASVTLTVQARQLLSGIVQQQSNLLRAIEAQQHLLQLTVWGIKQLQARVLAVERYLKDQQLLGIWGCSGRLICTTAVPWNASWSNKTMEQIWDNMTWMEWEREISNYTDLIYNLIEKSQNQQEKNEQELLELDKWASLWNWFSITNWLWYIKIFIMIVGGLIGLRIVFTVLSIVNRVRQGYSPLSFQTRLPARRGPDRPEGIEEEGGERDRDTSTPLVNGFLAIIWVDLRSLFLFSYHRLRDLLLIVTRIVEPLGRRGWETLKYLWNLLQYWSQELKNSAVSLFNATAIAVAEGTDRVIEVVQRAYRAILHIPTRIRQGLERALL'), ('JN002043.1', 'MRVKEKYQHLWRWGWRWGTMLLGMLMICSATEKLWVTVYYGVPVWKEANTTLFCASDAKAHKTEAHNVWATHACVPTDPSPQEVRLENVTENFNMWKNNMVEQMHEDIISLRDQSLKPCVKLTPLCVTLNCINANTTNSSIWEGMKEEIKNCSFNITTNIKKKLKREYALFNKLDVVPTGDSNTSYMLINCNTSAITQACPKVSFEPIPIHYCAPAGFAILQCNDNMFNGTGPCSNVSTVQCTHGIRPVVSTQLLLNGSLAKEEVIIRSENFTNNAKNIIVQLNESVEINCTRPNNNTRKSIPIGPGRAFYATGDIIGNIRQAHCNISRAKWNNTLKQIVIKLAEQINKTIVFNHSSGGDPEIVTHSFNCGGEFFYCDSSQLFNSTWMFNSTWNDTDGANSTRKNDTITLQCRIKQIINMWQQVGKAMYAPPIRGQIRCTSNITGLILTRDGGDTQNKSDPEIFRPGGGDMRDNWRSELYKYKVVKIEPLGIAPTRAKRRVVQREKRAVGMLGAMFLGFLGAAGSTMGAASLTLTVQARQLLSGIVQQQNNLLRAIEAQQHLLQLTVWGIKQLQARVLAVERYLKDQQLLGIWGCSGKLICTTAVPWNTSWSNKSYNNIWDNMTWMEWDREINNYTNIIYSLIEESQNQQEKNEQDLLALDEWASLWNWFDITKWLYYIKIFIMIVGGLIGLKIVFTVLSVVNKVRQGYSPLSLQTHLPVPQGPDRPEGTEEESGNRGRDRSGRLVIGSLALIWDDLRSLCLFSYHRLRDLLLIVTRIVELLGRRGWEALKYWWNLLQYWSQELKNSAVSLLNATAIAVAEGTDRVIEVVQGACRAIRHIPRRIRQGLERILL'), ('DQ976394.1', 'MRVKEIMKNCQHLLTWGTMLFGMLMICSATEQLWVTVYYGVPVWKEASTTLFCASDAKAHGTEAHNVWATHACVPTDPSPQEVRLENVTENFNMWKNNMVEQMQEDIISLWDQSLKPCVKLTPLCVTLNCINANATYANNSRWEKMEGEIKNCSFNITTNIGNKMKKEYALFNKLDVVPTGDGNTSYMLINCNTSAITQACPKVSFEPIPIHYCAPAGFAILQCNDKKFNGTGPCTNVSTVQCTHGIRPVVSTQLLLNGSLAEEEVVIRSENFTNNAKNIIVHLNESVQINCTRPDNNTRKGIHLGPGGTFFATGAIIGDIRQAHCNISEAQWNNTLKRIVIKLAEQINKTVVFNHSSGGDPEIVMHSFNCGGEFFYCNTTELFNSTWLSNGTRNDTNKNSNNGTIILPCRIRQIVNRWQEVGKAMYAPPISGQINCSSNITGLLLTRDGGPGNSTTETFRPGGGDMRDNWRSELYKYKVVKIEPLGVAPTKAKRRVVQREKRAVGTLGAVFLGFLGAAGSTMGAASLTLTVQARQLLSGIVQQQNNLLRAIEAQQHLLQLTVWGIKQLQARVLAVERYLKDQQLLGIWGCSGKLICTTAVPWNTSWSNKTLNDIWNNMTWMEWDREINNYTNLIYSLIEESQNQQEKNEQELLALDEWASLWNWFSITKWLYYIKIFIMVVGGLVGLKIVFTVLSIVNKVRQGYSPLSFQTHLPVPQGPDRPEGIEEEGGDRGRDRSGRLVIGLLPLIWDDLRNLCLFSYRHLRDLLLILARIVERLGRRGWEALKYWWNLLQYWSQELKNSAVSLLNATAIAVAKGTDRVIEVVQRICRAILHIPRRIRQGLERALL'), ('EU308568.1', 'MRVKEKYQHLWRWGWRWGTMLLGMLMICSATEKLWVTVYYGVPVWKEATTTLFCASDAKAYDTEVHNVWATHACVPTDPNPQEVKLENLTENFNMWKNNMVEQMHEDIISLWDQSLKPCVKLTPLCVTLNCTDWQNNATKTNSISVGTMEGGEVKNCSFNITTSIRDKMQKEYALFYKLDIVPIDNSSTRYRLISCNTSVITQACPKVSFEPIPIQYCTPAGFALLKCNDKKFNGTGTCTNVSTVQCTHGIRPVVSTQLLLNGSLAEEEVVIRSENFTNNAKTIIAQLKEPVKINCTRPGNNTRKGIHIGPGRAFYATGGIIGDIRQAHCNLSRTEWNNTLLQIVKKLGEQFRNKTIVFNQSSGGDPEIVMHSFNCGGEFFYCNTTQLFNSTWTWNNNTGWPNKIEGNDTIITLPCRIKQIINRWQEVGKAMYAPPIRGNISCSSNITGLLLTRDGGKESENTTETFRPGGGDMRDNWRSELYKYKVVKIEPLGVAPSKAKRRVVQREK'), ('DQ976385.1', 'MRVKGIRKSYQHLWRWGTMLHGILMICSATENLWVTVYYGVPVWKEATTTLFCASDAKAYDTEVHNVWATHACVPTDPNPQEVELENVTENFNMWKNNMVEQMHEDIISLWDQSLKPCVRLTPLCVILNCTDLKNDTTTTSGGGGIMMEKGEIKNCSFSINTRGRNKEQKDYAFFYKLDVVPINNNNSYRLISCNTSVITQACPKVSFEPIPIHYCAPAGFAILKCKDKKFNGTGPCKNVSTVQCTHGIRPVVSTQLLLNGSLAEEEVVIRSANFSDNTKTIMVQLKEAVEINCTRPNNNTRKSIPMGPGKAFYTTGEIIGDIRQAHCNLSITKWNNTLKQIVEKLREQFENKTIIFNQSAGGDPEIVMHSFNCGGEFFYCNSTQLFNSTWSSNSTWNDTQGSNNPEGNDTITLTCRIKQFINMWQEVGKAMYAPPISGQIRCSSNITGLLLTRDGGTNEISNQTEIFRPGGGDMRDNWRSELYKYKVVKIEPLGVAPTKAKRRVVQREKRAAVGLGAVFLGFLGAAGSTMGAASITLTAQARQLLSGIVQQQNNLLRAIEAQQHLLQLTVWGIKQLQARVLAVERYLKDQQLLGIWGCSGKLICTTTVPWNASWSNKSLDKIWNNMTWMEWEREINNYTSLIYNLIEESQNQQEKNEQELLELDKWASLWNWFDITQWLWYIRIFIMIVGGLIGLRIVFAVLSIVNRVRQGYSPLSFQTRFPAPRGPDRPGGTEEEGGERDRDRSGRLVNGFLALIWDDLRSLCLFSYHRLRDLLLIVTRIVELLGRRGWEALKYWGNLLQYWSQELKNSAVSLLNVTAIAVAEGTDRVIEVLQRAFRAILHIPRRIRQGLERALL'), ('JN002055.1', 'MRVKEKYQHLWRWGWRWGTMLLGMLMICSATEKLWVTVYYGVPVWKEATTTLFCASDAKAYDTEAHNVWATHACVPTDPNPQELKLENVTENFNMWKNNMVEQMHEDIISLWDQSLKPCVKLTPLCVTLNCSDLNTTSSNGEIRERGEIKNCSFNITTSMTDKMQKEYSLFYKLDVVPIDNSNTSYRLTSCNTSVITQACPKVSFEPIPIHYCAPAGFAILKCNNKKFNGTGPCKNVSTVQCTHGIRPVVSTQLLLNGSLAEEEVVIRSANFSDNTKTIIVQLKEPVEINCTRPNNNTRKSIHMGPGKAFYTTGVIGDIRQAHCNISRTKWNNTLKQVVEKLREQYKNKTIIFNQSSGGDPEIVMHSFTCGGEFFYCDTTKLFNSTWSSNSTWNDTTGLNNTGEDDTITLPCRIKQIINMWQEVGKAMYAPPSSGQIRCSSNITGLLLTRDGGINGSEGNETFRPGGGDMRDNWRSELYKYKVVRIEPLGVAPTKAKRRVVQREKRAVGLGAMFLGFLGAAGSTMGAASIALTVQARQLLSGIVQQQNNLLRAIEAQQHLLQLTIWGIKQLQARVLAVERYLQDQQLLGIWGCSGKLICTTTVPWNTSWSNKSLDKIWNNMTWMEWEREIDNYTGLIYTLLEESQNQQEKNEQELLALDKWASLWNWFDITNWLWYIKIFIMIVGGLIGLRIVFTVLSIVNRVRQGYSPLSFQTHLPTPRGPDRPGGTEDEGGERDRDRSGQLVDGSLALIWDDLRSLCLFSYHRLRDLLLIVTRIVELLGRRGWEALKYWWNLLQYWSQELKNSAVSLLNATAIAVAEGTDRVIEVVQGACRAIRHIPRRIRQGLERILL'), ('EU308565.1', 'MRVKEKYQHLWRWGWRWGTMLLGMLMICSATEKLWVTVYYGVPVWKEATTTLFCASDAKAYDTEVHNVWATHACVPTDPNPQEVVLGNVTENFNMWKNNMVEQMHEDIISLWDQSLKPCVKLTPLCVTLNCTDFGNDTTINNSSRVKNCSFNITTNIRDKIQKEHALFNKLDVVPIDDNNSNTSYRLVSCNTSVITQACPKISFEPIPIHYCTPAGFAILKCKDEKFNGTGPCNNVSTVQCTHGIRPVVSTQLLLNGSLAEEGVVIRSQNFSNNAKTIIVQLKEPVEINCTRPNNNTSKSIHIGPGRAFFTIGKIGNKRQAHCNISREKWNNTLQQIVTKLREQFGNKTISFKQSSGGDPEVVMHTFNCGGEFFYCNSSQLFNSTWLSNGSSTWNNSARENITLITLPCRIKQIINMWQEVGKAMYAPPISGQIRCSSNITGLLLIRDGGNDNNTNNNETFRPGGGDMRDNWRSELYKYKVVKIEPLGMAPTKAKRRVVQREK'), ('DQ976416.1', 'MRVTEIMRNCQNLWKWGTMMLLGILIICNAKEKLWVTVYYGVPVWKEATTTLFCASDAKAYDTEVHNVWATHACVPTDPNPQEVVLENVTENFNMWKNNMVEQMHEDIINLWDQSLKPCVKLTPLCVTLNCTDANFNSTDVKNATNTTATNTTSSGGIIMEVGEIKNCSFNITTRLRDKVQKEYALFYKLDVVPIGRDNTSYRLISCDTSTVTQACPKVSFEPIPIHYCTPAGFAIIKCNDKKFNGTGPCTNVSTVQCTHGIRPVVSTQLLLNGSLAEEEVVIRSENFTNNAKNIIVQLNETVEINCTRPNNNTRKSIPMGPGKAFYATGDIIGNIRLAHCNISRTRWNNTLKQIVIKLREQFGNKTIIFNQPSGGDPEIVTHSFNCGGEFFYCNSSQLFNSTWMFNSTWNDTDGANSTGENDTITLQCRIKQIINMWQQVGKAMYAPPIRGQIRCTSNITGLILTRDGGDPQNESDPEIFRPGGGDMRDNWRSELYKYKVVKIEPLGIAPTRAKRRVVQREKRAVGIGAMFLGFLGAAGSTMGAASVTLTVQARQLLSGIVQQQSNLLRAIEAQQHLLQLTVWGIKQLQARVLAVERYLKDQQLLGIWGCSGKLICTTAVPWNASWSNKSMEQIWDNMTWMEWEREISNYTDLIYTLIEKSQNQQEKNEQELLELDKWASLWNWFDITNWLWYIKIFIMIVGGLIGLRIVFTVLSIVNRVRQGYSPLSFQTRFPAPRGPDRPEGIEEEGGERDRDRSGSLVNGFLAIIWVDLRSLFLFSYHRLRDLLLIVTRIVELLGRRGWEALKYWWNLLQYWSQELKNSAVSLLNATAIAVAEGTDRVIEIVQRAYRAIIHIPTRIRQGLERALL'), ('EU308549.1', 'MRVKEKYQHLWRWGWRWGTMLLGMLMICSATEKLWVTVYYGVPVWREAKTTLFCASDAKAYDTEAHNVWATHACVPTDPRPQEVILTNVTEDFNMWKNNMVEQMHEDIISLWDQSLKPCVKLTPLCVTLKCTDLNGTRENGTVMESGEIKNCSFNITTVIRGKVRKEYALFYRLDVVPIDSNKNNSKYRLINCNTSVITQACPKTSFEPIPIHYCAPAGFAILKCNDKNFNGTGPCKNVSTVQCTHGIRPVVSTQLLLNGSLAEDEVVIRSSNFSDNAKNIIVQLNKSVEINCTRPNNNTRKGIHIGPGKAFYTTGEIIGDIRQAHCNISGVQWNNTLEQITEKLREQFVNKTIVFNSSSGGDPEIVMHTFNCGGEFFFCNTTKLFNSTWNRNGTWTGAKGNGTITLPCRIKQIINMWQEVGKAMYAPPIRGQIRCTSNITGLLLTRDGGNITNEEEIFRPAGGNMKDNWRSELYKYKVVKIEPLGVAPTKAKRRVVQREK'), ('DQ976383.1', 'MRVKGIRKSYQHLWRWGTMLHGILMICSATENLWVTVYYGVPVWKEATTTLFCASDAKAYDTEVHNVWATHACVPTDPNPQEVELENVTENFNMWKNNMVEQMHEDIISLWDQSLKPCVRLTPLCVILNCTDLKNDTTTTSGGGGIMMEKGEIKNCSFSINTRGRNKEQKDYAFFYKLDVVPINNNNSYRLISCNTSVITQACPKVSFEPIPIHYCAPAGFAILKCKDKKFNGTGPCKNVSTVQCTHGIRPVVSTQLLLNGSLAEEEVVIRSANFSDNTKTIMVQLKEAVEINCTRPNNNTRKSIPMGPGKAFYTTGEIIGDIRQAHCNLSITKWNNTLKQIVEKLREQFENKTIIFNQSAGGDPEIVMHSFNCGGEFFYCNSTQLFNSTWSSNSTWNDTQGSNNPEGNDTITLTCRIKQFINMWQEVGKAMYAPPISGQIRCSSNITGLLLTRDGGTNEISNQTEIFRPGGGDMRDNWRSELYKYKVVKIEPLGVAPTKAKRRVVQREKRAAVGLGAVFLGFLGAAGSTMGAASITLTAQARQLLSGIVQQQNNLLRAIEAQQHLLQLTVWGIKQLQARVLAVERYLKDQQLLGIWGCSGKLICTTTVPWNASWSNKSLDKIWNNMTWMEWEREINNYTSLIYNLIEESQNQQEKNEQELLELDKWASLWNWFDITQWLWYIRIFIMIVGGLIGLRIVFAVLSIVNRVRQGYSPLSFQTRFPAPRGPDRPGGTEEEGGERDRDRSGRLVNGFLALIWDDLRSLCLFSYHRLRDLLLIVTRIVELLGRRGWEALKYWGNLLQYWSQELKNSAVSLLNVTAIAVAEGTDRVIEVLQRAFRAILHIPRRIRQGLERALL'), ('JN002049.1', 'MRVKEKYQHLWRWGWRWGTMLLGMLMICSATEKLWVTVYYGVPVWKEATTTLFCASDAKAYDTEAHNVWATHACVPTDPNPQEVELKNVTENFNMWKNNMVEQMHEDIISLWDQSLKPCVRLTPLCVTLNCSDVNATKPTSSSQEKMEGGPEMKNCSFNITTSMTEKRKKEYALFYSLDVDNGENNTSYRLISCNTSVITQACPKVSFEPIPIHYCAPAGFAILKCNNKKFNGTGPCKNVSTVQCTHGIRPVVSTQLLLNGSLAEEEIVIRSANFSDNTKTIIVQLKEPVEINCTRPNNNTRKSIHMGPGKAFYATGDIIGDIRRAHCNISGTKWNNTLKQVVEKLRVQFKNKTIIFNQSSGGDPEIVMHSFTCGGEFFYCNSTPLFNSTWTWNDTQGSNSTKGNDTITLQCRIKQIINMWQEVGRAMYAPPISGLVRCSSNITGLLLTRDGGKNESKNNETFRPGGGDMRDNWRSELYKYKVVKIEPLGVAPTKAKRRVVQREKRAVTLGAMFLGFLGAAGSTMGAASIALTVQARQLLSGIVQQQNNLLRAIEAQQHLLQLTVWGIKQLQARVLAVERYLQDQQLLGIWGCSGKLICTTTVPWNATWSNKSLSAIWDNMTWMEWEREIDNYTDQIYILLEKSQNQQEKNEQELLELDKWANLWNWFDITQWLWYIKIFIMIVGGLIGLRIVFSVLSIVNRVRQGYSPLSFQTHLPTPRGPDRPGGIEEEGGERDRDRSGQLVDGSLALIWDDLRSLCLFSYHRLRDLLLIVTRIVELLGRRGWEALKYWWNLLQYWSQELKNSAVSLLNATAIAVAEGTDRVIEVVQGACRAIRHIPRRIRQGLERILL'), ('DQ976396.1', 'MRVKEIMKNCQHLLTWGTMLFGMLMICSATEQLWVTVYYGVPVWKEASTTLFCASDAKAHGTEAHNVWATHACVPTDPSPQEVRLENVTENFNMWKNNMVEQMQEDIISLWDQSLKPCVKLTPLCVTLNCINANATYANNSRWEKMEGEIKNCSFNITTNIGNKMKKEYALFNKLDVVPTGDGNTSYMLINCNTSAITQACPKVSFEPIPIHYCAPAGFAILQCNDKKFNGTGPCTNVSTVQCTHGIRPVVSTQLLLNGSLAEEEVVIRSENFTNNAKNIIVHLNESVQINCTRPDNNTRKGIHLGPGGTFFATGAIIGDIRQAHCNISEAQWNNTLKRIVIKLAEQINKTIVFNHSSGGDPEIVMHSFNCGGEFFYCNTTELFNSTWLSNGTRNDTNKNSNNGTIILPCRIRQIVNRWQEVGKAMYAPPISGQINCSSNITGLLLTRDGGPGNSTTETFRPGGGDMRDNWRSELYKYKVVKIEPLGVAPTKAKRRVVQREKRAVGTLGAVFLGFLGAAGSTMGAASLTLTVQARQLLSGIVQQQNNLLRAIEAQQHLLQLTVWGIKQLQARVLAVERYLKDQQLLGIWGCSGKLICTTAVPWNTSWSNKTLNDIWNNMTWMEWDREINNYTNLIYSLIEESQNQQEKNEQELLALDEWASLWNWFSITKWLYYIKIFIMVVGGLVGLKIVFTVLSIVNKVRQGYSPLSFQTHLPVPQGPGRPEGIEEEGGDRGRDRSGRLVIGLLPLIWDDLRNLCLFSYRHLRDLLLILARIVERLGRRGWEALKYWWNLLQYWSQELKNSAVSLLNATAIAVAKGTDRVIEVVQRICRAILHIPRRIRQGLERALL'), ('JN002034.1', 'MRVKEKYQHLWRWGWRWGTMLLGMLMICSATEKLWVTVYYGVPVWKEASTTLFCASDAKAHGTEAHNVWATHACVPTDPSPQEVRLENVTENFNMWKNNMVEQMQEDIISLWDQSLKPCVKLTPLCVTLNCINANATYANTSRWEKMEGEIKNCSFNITTNIGNKMKKEYALFNKLDVVPTGDGNTSYMLINCNTSAITQACPKVSFEPIPIHYCAPAGFAILQCNDKKFNGTGPCTNVSTVQCTHGIRPVVSTQLLLNGSLAEEEVVIRSENFTNNAKNIIVHLNESVQINCTRPDNNTRKGIHLGPGGTFFATGAKIGDIRQAHCNISEAQWNNTLKKIVIKLAEQINKTIVFNHPSGGDPEIVMHSFNCGGEFFYCNTTELFNSTWLSNGTRNDTNKNSNNGTIILPCRIRQIVNRWQEVGKAMYAPPISGQINCSSNITGLLLTRDGGPGNSTTETFRPGGGDMRDNWRSELYKYKVVKIEPLGVAPTKAKRRVVQREKRAVGTLGAMFLGFLGAAGSAMGAASLTLTVQARQLLSGIVQQQNNLLRAIEAQQHLLQLTVWGIKQLQARVLAVERYLKDQQLLGIWGCSGKLICTTAVPWNTSWSNKTYNTIWDNMTWMEWDREINNYTNLIYSLIEESQNQQEKNEQDLLALDEWASLWNWFDITKWLYYIKIFIMIVGGLIGLKIVFTVLSVVNKVRQGYSPLSLQTHLPVPQGPDRPEGTEEESGDRGRDRSGRLVIGSLALIWDDLRSLCLFSYHRLRDLLLIVTRIVELLGRRGWEALKYWWNLLQYWSQELKNSAVSLLNATAIAVAEGTDRVIEVVQGACRAIRHIPRRIRQGLERILL'), ('DQ976434.1', 'MKVKGIRKNYPRLWTWGMMLLGMLMICSVAGNLWVTVYYGVPVWKEATTTLFCASDAKAYDTEVHNVWATHACVPTDPSPQEVVLGNVTENFNMWKNNMVEQMHEDIISLWDQSLKPCVKLTPLCVTLNCTDFTNATSVGGGEVKNCSFNITTPIRGKMQKEYALLYKLDIVPIDNDNDNTSYRLISCNTSVITQACPKVTFEPIPIHYCAPAGFAILKCNYKKFNGSGPCTNVSTVQCTHGIRPVVSTQLLLNGSLAEEDVVIRSANFSDNAKIIIVQLNETVEINCTRPNNNTRKSIHIGPGRAFYTTGGIIGDIRQAHCNLSRAKWNDTLKQIVTKLREQFGNKTIIFNHSSGGDPEIVTHSFNCGGEFFYCNTTKLFNSTWNVTEGSDGIEGNDTITLPCRIKQIVNMWQEVGKAMYAPPIRGQIRCLSNITGLILTRDGGSENATAEIFRPGGGDMRDNWRSELYKYKVVKIEPLGIAPTKAKRRVVQREKRAVGLGAMFLGFLGAAGSTMGAASVTLTVQARLLLSGIVQQQNNLLRAIEAQQHLLQLTVWGIKQLQARVLAVERYLKDQQLLGIWGCSGKLICTTAVPWNTSWSNKSLDDIWNNMTWMEWEREIDNYTGLIYTLIEESQNQQEKNEQELLALDKWASLWNWFDISNWLWYIKIFVMIVGGLVGLRIVFSVLSIVNRVRQGYSPLSFQIRPPAPRGPDRPEGTGEEGGERDREGSGPLVDGFLALIWVDLRSLCLFSYHRLRDLLLIVTRIVELLGRRGWELLKYWWNLLQYWSQELKNSAVSLLNAIAIAVAEGTDRVIEVVQRACRAILHIPTRIRQGLERALL'), ('JN002030.1', 'MRVKEKYQHLWRWGWRWGTMLLGMLMICSATEKLWVTVYYGVPVWKEATTTLFCASDAKAYDTEAHNVWATHACVPTDPNPQEVELKNVTENFNMWKNNMVEQMHEDIISLWDQSLKPCVRLTPLCVTLNCSDVNATKPTSSSQEKMEGGPEMKNCSFNITTSMTEKRKKEYALFYSLDVVPIDNGENNTSYRLISCNTSVITQACPKVSFEPIPIHYCAPAGFAILKCNDKKFNGTGPCKNVSTVQCTHGIRPVVSTQLLLNGSLAEEEVVIRSANFSDNTKTIIVQLKEPVEINCTRPNNNTRKSIHMGPGKAFYATGDIIGDIRRAHCNISGTKWNNTLKQVVKKLRVQFKNKTIIFNQSSGGDPEIVTHSFTCGGEFFYCNSTPLFNSTWTWNDTQGSNSTKGNDTITLQCRIKQIINMWQEVGKAMYAPPISGLVKCSSNITGLLLTRDGGKNESKNNETFRPGGGDMRDNWRSELYKYKVVKIEPLGVAPTKAKRRVVQREKRAVTFGAMFLGFLGAAGSTMGAASIALTVQARQLLSGIVQQQNNLLRAIEAQQHLLQLTVWGIKQLQARVLAVERYLQDQQLLGIWGCSGKLICTTTVPWNATWSNKSLSAIWDNMTWMEWERKIDNYTDQIYILLEKSQNQQEKNEQELLELDKWANLWNWFDITQWLWYIKIFIMIVGGLIGLRIVFSVLSIVNRVRQGYSPLSFQTHLPTPRGPDRPGGIEEEGGERDRDRSGRLVDGSLALIWDDLRSLCLFSYHRLRDLLLIVTRIVELLGRRGWEALKYWWNLLQYWSQELKNSAVSLLNATAIAVAEGTDRVIEVVQGACRAIRHIPRRIRQGLERILL'), ('EU308567.1', 'MRVKEKYQHLWRWGWRWGTMLLGMLMICSATEKLWVTVYYGVPVWKEATTTLFCASDAKAYDTEVHNVWATHACVPTDPNPQEVKLENLTENFNMWKNNMVEQMHEDIISLWDQSLKPCVKLTPLCVTLNCTDWQNNATKTNSISVGTMEGGEVKNCSFNITTSIRDKMQKEYALFYKLDIVPIDNSSTRYRLISCNTSVITQACPKVSFEPIPIHYCTPAGFALLKCNDKKFNGTGTCTNVSTVQCTHGIRPVVSTQLLLNGSLAEEEVVIRSENFTNNAKTIIAQLKEPVKINCTRPGNNTRKGIHIGPGRAFYATGDIIGDIRQAHCNLSRTEWNNTLLQIVKKLGEQFRNKTIVFNQSSGGDPEIVMHSFNCGGEFFYCNTTQLFNSTWTWNNNTGWPNKIEGNDTIITLPCRIKQIINRWQEVGKAMYAPPIRGNISCSSNITGLLLTRDGGKESENTTETFRPGGGDMRDNWRSELYKYKVVKIEPLGVAPSKAKRRVVQREK'), ('DQ976412.1', 'MRVMGIMRNYQHLWKWGTMMLLGILMICNARENLWVTVYYGVPVWKEATTTLFCASDAKAYDTEVHNVWATHACVPTDPNPQEVVLENVTENFNMWKNNMVEQMHEDIINLWDQSLKPCVKLTPLCVTLNCTDANFNSTDVKNAINTTASNTTSSSGGMMEAGEIKNCSFNITTRLRDKVQKEYALFYKLDVVPIGKDNTSYRLISCDTSTVTQACPKVSFEPIPIHYCTPAGFAIIKCNDKKFNGTGPCTNVSTVQCTHGIRPVVSTQLLLNGSLAEEEVVIRSENFTNNAKNIIVQLNETVEINCTRPNNNTRKSIPMGPGKAFYATGDIIGDIRQAHCNISRTRWNNTLKQIVIKLREQFGNKTIIFNQSAGGDPEIVTHSFNCGGEFFYCDSSQLFNSTWMFNSTWNDTDGANSTRKNDTITLQCRIKQIINMWQQVGKAMYAPPIRGQIRCTSNITGLILTRDGGDTQNKSDPEIFRPGGGDMRDNWRSELYKYKVVKIEPLGIAPTRAKRRVVQREKRAVGMGAMFLGFLGAAGSTMGAASVTLTVQARQLLSGIVQQQSNLLRAIEAQQHLLQLTVWGIKQLQARVLAVERYLKDQQLLGIWGCSGKLICTTAVPWNTSWSNKSMEQIWDNMTWMEWEREISNYTDLIYTLIEKSQNQQEKNEQELLELDKWASLWNWFDITNWLWYIKIFIMIVGGLIGLRIVFTVLSIVNRVRQGYSPLSFQTRFPAPRGPDRPEGIEEEGGERDRDRSGSLVNGFLAIIWVDLRSLFLFSYHRLRDLLLIVTRIVELLGRRGWEALKYWWNLLQYWSQELKNSAVSLLNATAIAVAEGTDRVIEVLQRAYRAILHIPTRIRQGLERALL'), ('DQ976433.1', 'MRVKGIRKNYQHLWTWGMMLLGMLMICNVAGNLWVTVYYGVPVWKEATTTLFCASDAKAYDTEVHNVWATHACVPTDPNPQEVLLENVTENFNMWKNNMVEQMHEDIISLWDQSLKPCVKLTPLCVTLNCTDLRNATTNMKNCSFNITTSIRDKMQKEYALFYKLDIIPIASDNTSYRLISCNTSVITQACPKVTFEPIPIHYCAPAGFAILKCNNKKFNGAGPCTNVSTVQCTHGIRPVVSTQLLLNGSLAEEEVVIRSANISDNAKIIIVQLNETVEINCTRPNNNTRKSIHIGPGRAFYTTGEIIGDIRQAHCNLSRAKWNDTLKQIVTKLREQFGNKTIVFKQSSGGDPEIVTHSFNCAGEFFYCNSTQLFNSTWNITEESNGIEGNDTITLPCRIKQIVNMWQEVGKAMYAPPIRGQIRCSSNITGLILTRDGGRGNETAEIFRPGGGDMRDNWRSELYKYKVVKIEPLGIAPTKAKRRVVQREKRAVGIGAMFLGFLGAAGSTMGAASVTLTVQARLLLSGIVQQQNNLLRAIEAQQHLLQLTVWGIKQLQARVLAVERYLKDQQLLGIWGCSGKLICTTAVPWNTSWSNKSLDYIWNNMTWMEWEREIDNYTGLIYTLIEESQNQQEKNEQELLALDQWASLWNWFDISNWLWYIKIFIMIVGGLVGLRIVFSVLSIVNRVRQGYSPLSFQTRPPAQRGPDRPGGTEEEGGERDRDGSGRLVDGFLAIIWVDLRSLCLFSYHRLRDLLLIVARTVELLGRRGWELLKYWWNLLQYWSQELKNSAVSLLNAIAIAVAEGTDRDIHE'), ('JN002054.1', 'MRVKEKYQHLWRWGWRWGTMLLGMLMICSATEKLWVTVYYGVPVWKEATTTLFCASDAKAYDTEAHNVWATHACVPTDPNPQELKLENVTENFNMWKNNMVEQMHEDIISLWDQSLKPCVKLTPLCVTLNCSDLNTTSSNGEIRERGEIKNCSFNITTSMTDKMQKEYSLFYKLDVVPIDNSNTSYRLISCNTSVITQACPKVSFEPIPIHYCAPAGFAILKCNNKKFNGTGPCKNVSTVQCTHGIRPVVSTQLLLNGSLAEEEVVIRSANFSDNTKTIIVQLKEPVEINCTRPNNNTRKSIHMGPGKAFYTTGVIGDIRQAHCNISRTKWNNTLKQVVEKLREQYKNKTIIFNQSSGGDPEIVMHSFTCGGEFFYCDTTKLFNSTWSNSTRNDTTGLNNTGEDDTITLPCRIKQIINMWQEVGKAMYAPPSSGQIRCSSNITGLLLTRDGGINGSEGNETFRPGGGDMRDNWRSELYKYKVVRIEPLGVAPTKAKRRVVQREKRAVGLGAMFLGFLGAAGSTMGAASIALTVQARQLLSGIVQQQNNLLRAIEAQQHLLQLTIWGIKQLQARVLAVERYLQDQQLLGIWGCSGKLICTTTVPWNTSWSNKSLDKIWNNMTWMEWEREIDNYTGLIYTLLEESQNQQEKNEQELLALDKWASLWNWFDITQWLWYIKIFIMIVGGLIGLRIVFTVLSIVNRVRQGYSPLLFQTHLPTPRGPDRPGGIEDECGERDRDRSGQLVDGSLALIWDDLRSLCLFSYHRLRDLLLIVTRIVELLGRRGWEALKYWWNLLQYWSQELKNSAVSLLNATAIAVAEGTDRVIEVVQGACRAIRHIPRRIRQGLERILL'), ('DQ976390.1', 'MRVKGIRKSYQHLWRWGTMLLGILMICSATENLWVTVYYGVPVWKEATTTLFCASDAKAYDTEAHNVWATHACVPTDPNPQEVELKNVTENFNMWKNNMVEQMHEDIISLWDQSLKPCVRLTPLCVTLNCSDVNATEPTSSSEEKMEGGPEMKNCSFNITTSMTEKRKKEYALFYKLDVVPIDNTSYRLISCNTSVITQACPKVSFEPIPIHYCAPAGFAILKCNDKKFNGTGPCKNVSTVQCTHGIRPVVSTQLLLNGSLAEEEVVIRSANFSDNTKTIIVQLKEPVEINCTRPNNNTRKSIHMGPGKAFYATGDIIGDIRRAHCNISRAKWNNTLKQVVEKLTEQFKNKTIIFNQSSGGDPEIVMHSFTCGGEFFYCNSTPLFNSTWTWNDTQGSNSTKGNDTITLQCRIKQIINMWQEVGKAMYAPPISGQIRCSSNITGLLLTRDGGKNESKNNETFRPGGGDMKDNWRSELYKYKVVKIEPLGVAPTKAKRRVVQREKRAVPLGAMFLGFLGAAGSTMGAASIALTVQARQLLSGIVQQQNNLLRAIEAQQHLLQLTVWGIKQLQARVLAVEKYLQDQQLLGIWGCSGKLICTTTVPWNATWSNKSLHEIWDNMTWMEWEREIDNYTDQIYILLEKSQNQQEKNEQELLELDKWANLWNWFDITQWLWYIKIFIMIVGGLIGLRIVFSVLSIVNRVRQGYSPLSFQTHLPTPRGLDRPGGIEEEGGERDRDRSGQLVNGFLAIIWVDLRSLCLFSYHRLRDLILIVTRIVELLGRRGWGILKYWWNLLQYWSQELKNSAVSWFNATAIAVAEGTDRVIEVVQRAFRAILHIPRRIRQGLERALL'), ('JN002040.1', 'MRVKEKYQHLWRWGWRWGTMLLGMLMICSATEKLWVTVYYGVPVWKEVTTTLFCASDAKAYDTEAHNVWATHACVPTDPNPQEVVLVNVTENFNMWKNNMVEQMHEDIISLWDQSLKPCVRLTPLCVSLNCSDVNATKPTSSSQEKMEGGPEMKNCSFNITTSMTEKRKKEYALFYSLDVVPIDNGENNTSYRLISCNTSVITQACPKVSFEPIPIHYCAPAGFAILKCNDKKFNGTRPCKNVSTVQCTHGIRPVVSTQLLLNGSLAEEEVVIRSANFSDNTKTIIVQLKEPVEINCTRPNNNTRKSIHMGPGKAFYATGDIIGDMRRAHCNISGTKWNNTLKQVVEKLRVQFKNKTIIFNQSSGGDPEIVMHSFTCGGEFFYCNSTPLFNSTWTWNDTQGSNSTKGNDTITLQCRIKQIINMWQEVGKAMYAPPISGLVKCSSNITGLLLTRDGGKNESKNNETFRPGGGDMRDNWRSELYKYKVVKIEPLGVAPTKAKRRVVQREKRAVTFGAMFLGFLGAAGSTMGAASIALTVQARQLLSGIVQQQNNLLRAIEAQQHLLQLTVWGIKQLQARVLAVERYLQDQQLLGIWGCSGKLICTTTVPWNATWSNKSLSAIWDNMTWMEWEREISNYTDQIYILLEKSQNQQEKNEQELLELDKWANLWNWFDITQWLWYIKIFIMIVGGLIGLRIVFSVLSIVNRVRQGYSPLSFQTQLPTPRGPNRPGGIEEEGGERDRDRSGQLVDGSLALIWDDLRSLCLFSYHRLRDLLLIVTRIVELLGRRGWEALKYWWNLLQYWSQELKNSAVSLLNATAIAVAEGTDRVIEVVQGACRAIRHIPRRIRQGLERILL'), ('EU308555.1', 'MRVKEKYQHLWRWGWRWGTMLLGMLMICSATEKLWVTVYYGVPVWKEATTTLFCASDAKAYDTEVHNVWATHACVPTDPNPQEVVLGNVTEYFNMWKNNMVEQMHEDIISIWDQSLKPCVKLTPLCVTLNCSDYIFNCTQSNNSSSNCTNSNNSSIGIMEKGDIKNCSFKVTTSLRNKVQKEFALFYSLDVVQIDNKDNTSYRLISCNTSVITQACPKVTFEPIPIHYCAQAGFAILKCNNKTFDGKGECKNVSTVQCTHGIRPVVVSTQLLLNGSLAEEEVIIRSENFTNNAKTIIVQLNKTVVINCIRPSNNTRRSISIGPGRAFYATGDIIGDIRQAHCNISRVDWNNTLKQVVEKLRVQFKNKTIIFNQSSGGDPEIVTHSVNCGGEFFYCDSTQLFNSTWPANSTWTDPKSSVNITLPCRIKQIVNMWQEVGKAMYAPPIKGQIRCSSNITGLILTRDGGNINGDGPEIFRPGGGDMRDNWRSELYKYKVVRIEPLGVAPTKAKRRVVQREK'), ('DQ976432.1', 'MRVMGIRKNYQHLRKWGMMLLGMLMICNVAGNLWVTVYYGVPVWKEATTTLFCASDAKAYDTEVHNVWATHACVPTDPNPQEVLLENVTENFNMWKNNMVEQMHEDIISLWDQSLKPCVKLTPLCVTLNCTDLRNTTNATSSSGGTMGGGEMKNCSFNITTSIRDKMQKEYALFYKLDIMPIANDNTSYRLINCNTSVITQACPKVTFEPIPIHYCAPAGFAILKCNNKRFNGTGPCTNVSTVQCTHGIRPVVSTQLLLNGSLAEEEVVIRSANFSDNAKNIIVQLNETVEINCTRPNNNTRKSIPIGPGRAIYTTGQIIGDIRQAHCNLSRAKWNETLKQIVTKLREQFGNKTIVFNQSSGGDPEIVTHSFNCGGEFFYCNSTQLFNSTWNITEESNSIEGNDTITLPCRIKQIVNMWQEVGKAMYAPPIRGQIRCSSNITGLILTRDGGNENENETEIFRPGGGDMRDNWRSELYKYKVVKIEPLGVAPTKAKRRVVQREKRAVGIGAMFLGFLGAAGSTMGAASVTLTVQARLLLSGIVQQQNNLLRAIEAQQHLLQLTVWGIKQLQARVLAVERYLKDQQLLGIWGCSGKLICTTAVPWNSSWSNKSLDQIWDNMTWMEWEREISNYTSLIYTLIEESQNQQEKNEQELLALDKWASLWNWFDISNWLWYIKIFIMIVGGLVGLRIVFSVLSIVNRVRQGYSPLSFQIRPPAPRGPDRPGGTEEEGGERDRDGSGRLVDGFLALIWVDLRSLCLFSYHRLRDLLLIVTRIVELLGRRGWELLKYWWNLLQYWSEELKNSAVSLLNAIAIAVAEGTDRVIEVVQRACRAILHIPTRIRQGLERALL'), ('DQ976384.1', 'MRVKGIRKSYQHLWRWGTMLHGILMICSATENLWVTVYYGVPVWKEATTTLFCASDAKAYDTEVHNVWATHACVPTDPNPQEVELENVTENFNMWKNNMVEQMHEDIISLWDQSLKPCVRLTPLCVILNCTDLKNDTTTTSGGGGIMMEKGEIKNCSFSINTRGRNKEQKDYAFFYKLDVVPINNNNSYRLISCNTSVITQACPKVSFEPIPIHYCAPAGFAILKCKDKKFNGTGPCKNVSTVQCTHGIRPVVSTQLLLNGSLAEEEVVIRSANFSDNTKTIMVQLKEAVEINCTRPNNNTRKSIPMGPGKAFYTTGEIIGDIRQAHCNLSITKWNNTLKQIVEKLREQFENKTIIFNQSAGGDPEIVMHSFNCGGEFFYCNSTQLFNSTWSSNSTWNDTQGSNNPEGNDTITLTCRIKQFINMWQEVGKAMYAPPISGQIRCSSNITGLLLTRDGGTNEISNQTEIFRPGGGDMRDNWRSELYKYKVVKIEPLGVAPTKAKRRVVQREKRAAVGLGAVFLGFLGAAGSTMGAASITLTAQARQLLSGIVQQQNNLLRAIEAQQHLLQLTVWGIKQLQARVLAVERYLKDQQLLGIWGCSGKLICTTTVPWNASWSNKSLDKIWNNMTWMEWEREINNYTSLIYNLIEESQNQQEKNEQELLELDKWASLWNWFDITQWLWYIRIFIMIVGGLIGLRIVFAVLSIVNRVRQGYSPLSFQTRFPAPRGPDRPGGTEEEGGERDRDRSGRLVNGFLALIWDDLRSLCLFSYHRLRDLLLIVTRIVELLGRRGWEALKYWGNLLQYWSQELKNSAVSLLNVTAIAVAEGTDRVIEVLQRAFRAILHIPRRIRQGLERALL'), ('DQ976403.1', 'MRVKEIMKNCQHLLTWGTLLFGVLMICSATDQLWVTVYYGVPVWKEASTTLFCASDAKAHNTEVHNVWATHACVPTDPSPQEVRLENVTENFNMWKNNMVEQMQEDIISLWDQSLKPCVKLTPLCVTLNCTNLKNATYTNSSSWEGMKEEIKNCSFNITTNIENKRKKEYALFNKLDVVPTGDGNTSYMLINCNTSAITQACPKVSFEPIPIHYCAPAGFAILQCNDKKFNGTGPCSNVSTVQCTHGIRPVVSTQLLLNGSLAEEEVIIRSENFSNNAKNIIVQLNESVQINCTRPNNNTRKSIHLGPGGAFYATGDIIGDIRQAHCNISEADWNNTLKKIVIKLAEQINKTIVFNQSSGGDPEIVMHSFNCGGEFFYCNTTELFNSTWQSDGTRNDTNKKSKNGTIILPCRIRQIVNRWQEVGKAMYAPPISGQINCLSNITGLILTRDGGPGNSTTETFRPGGGDMRDNWRSELYKYKVVKIEPLGVAPTKAKRRVVQREKRAVGTLGAMFLGFLGAAGSTMGAASLTLTVQARQLLSGIVQQQNKLLRAIEAQQHLLQLTVWGIKQLQARVLAVERYLKDQQLLGIWGCSGKLICATAVPWNSSWSNKTLNSIWDNMTWMEWDREINNYTNLIYSLLEESQNQQEKNEQDLLALDEWASLWNWFDITKWLYYIKIFIMIVGGLIGLKIVFTVLSIVNKVRQGYSPLSLQTHLPVPQGPDRPEGTEEEGGDRGRDRSGRLVIGLLPLIWDDLQNLCLFSYRHLRDLLLILARIVELLGRRGWEALKYWWNLLQYWSQELKSSAISLLNAIAIAVAEGTDRVIEVVQTICRAILLIPRRIRQGLERDLL'), ('HXB2_Env', 'MRVKEKYQHLWRWGWRWGTMLLGMLMICSATEKLWVTVYYGVPVWKEATTTLFCASDAKAYDTEVHNVWATHACVPTDPNPQEVVLVNVTENFNMWKNDMVEQMHEDIISLWDQSLKPCVKLTPLCVSLKCTDLKNDTNTNSSSGRMIMEKGEIKNCSFNISTSIRGKVQKEYAFFYKLDIIPIDNDTTSYKLTSCNTSVITQACPKVSFEPIPIHYCAPAGFAILKCNNKTFNGTGPCTNVSTVQCTHGIRPVVSTQLLLNGSLAEEEVVIRSVNFTDNAKTIIVQLNTSVEINCTRPNNNTRKRIRIQRGPGRAFVTIGKIGNMRQAHCNISRAKWNNTLKQIASKLREQFGNNKTIIFKQSSGGDPEIVTHSFNCGGEFFYCNSTQLFNSTWFNSTWSTEGSNNTEGSDTITLPCRIKQIINMWQKVGKAMYAPPISGQIRCSSNITGLLLTRDGGNSNNESEIFRPGGGDMRDNWRSELYKYKVVKIEPLGVAPTKAKRRVVQREKRAVGIGALFLGFLGAAGSTMGAASMTLTVQARQLLSGIVQQQNNLLRAIEAQQHLLQLTVWGIKQLQARILAVERYLKDQQLLGIWGCSGKLICTTAVPWNASWSNKSLEQIWNHTTWMEWDREINNYTSLIHSLIEESQNQQEKNEQELLELDKWASLWNWFNITNWLWYIKLFIMIVGGLVGLRIVFAVLSIVNRVRQGYSPLSFQTHLPTPRGPDRPEGIEEEGGERDRDRSIRLVNGSLALIWDDLRSLCLFSYHRLRDLLLIVTRIVELLGRRGWEALKYWWNLLQYWSQELKNSAVSLLNATAIAVAEGTDRVIEVVQGACRAIRHIPRRIRQGLERILL'), ('DQ976386.1', 'MRVKGIRKSYQHLWRWGTMLHGILMICSATENLWVTVYYGVPVWKEATTTLFCASDAKAYDTEVHNVWATHACVPTDPNPQEVELENVTENFNMWKNNMVEQMHEDIISLWDQSLKPCVRLTPLCVILNCTDLKNDTTTTSGGGGIMMEKGEIKNCSFSINTRGRNKEQKDYAFFYKLDVVPINNNNSYRLISCNTSVITQACPKVSFEPIPIHYCAPAGFAILKCKDKKFNGTGPCKNVSTVQCTHGIRPVVSTQLLLNGSLAEEEVVIRSANFSDNTKTIMVQLKEAVEINCTRPNNNTRKSIPMGPGKAFYTTGEIIGDIRQAHCNLSITKWNNSLKQIVEKLREQFENKTIIFNQSAGGDPEIVMHSFNCGGEFFYCNSTQLFNSTWSSNSTWNDTQGSNNPEGNDTITLTCRIKQFINMWQEVGKAMYAPPISGQIRCSSNITGLLLTRDGGTNEISNQTEIFRPGGGDMRDNWRSELYKYKVVKIEPLGVAPTKAKRRVVQREKRAAVGLGAVFLGFLGAAGSTMGAASITLTAQARQLLSGIVQQQNNLLRAIEAQQHLLQLTVWGIKQLQARVLAVERYLKDQQLLGIWGCSGKLICTTTVPWNASWSNKSLDKIWNNMTWMEWEREINNYTSLIYNLIEESQNQQERNEQELLELDKWASLWNWFDITQWLWYIRIFIMIVGGLIGLRIVFAVLSIVNRVRQGYSPLSFQTRFPAPRGPDRPGGTEEEGGERDRDRSGRLVNGFLALIWDDLRSLCLFSYHRLRDLLLIVTRIVELLGRRGWEALKYWGNLLQYWSQELKNSAVSLLNVTAIAVAEGTDRVIEVLQRAFRAILHIPRRIRQGLERALL'), ('DQ976418.1', 'MRVMGIMRNYQHLWKWGTMMLLGILMICNARENLWVTVYYGVPVWKEATTTLFCASDAKAYDTEVHNVWATHACVPTDPNPQEVVLENVTENFNMWKNNMVEQMHEDIINLWDQSLKPCVKLTPLCVTLNCTDANFNSTDVKNATNTTATNTTSSGGIIMEVGEIKNCSFNITTRLRDKVQKEYALFYKLDVVPIGRDNTSYRLISCDTSTVTQACPKVSFEPIPIHYCTPAGFAIIKCNDKKFNGTGPCTNVSTVQCTHGIRPVVSTQLLLNGSLAEEEVVIRSENFTNNAKNIIVQLNETVEINCTRPNNNTRKSIPMGPGKAFYATGDIIGNIRQAHCNISRTRWNNTLKQIVIKLREQFGNKTIIFNQSSGGDPEIVTHSFNCGGEFFYCNSSQLFNSTWMFNSTWNDTDGANSTGENDAITLQCRIKQIINMWQQVGKAMYAPPIRGQIRCTSNITGLILTRDGGDTQNKSDPEIFRPGGGDMRDNWRSELYKYKVVRIEPLGIAPTRAKRRVVQREKRAVGIGAMFLGFLGAAGSTMGAASVTLTVQARQLLSGIVQQQSNLLRAIEAQQHLLQLTVWGIKQLQARVLAVERYLKDQQLLGIWGCSGKLICTTAVPWNASWSNKSMEQIWDNMTWMEWEREINNYTDLIYTLIEKSQNQQEKNEQELLELDKWASLWNWFDITNWLWYIKIFIMIVGGLIGLRIVFTVLSIVNRVRQGYSPLSFQTRLPARRGPDRPEGIEEEGGERDRDRSGSLVNGFLAIIWVDLRSLFLFSYHRLRDLLLIVTRIVELLGRRGWEALKYWWNLLQYWSQELKNSAVSLLNTAAIAVAEGTDRVIEVLQRAYRAILHIPTRIRQGLERALL'), ('DQ976428.1', 'MRVMGIRKNYQHLWKWGMMLLGMLMICNVAGNLWATVYYGVPVWKEATTTLFCASDAKAYDTEVHNVWATHACVPTDPNPQEVLLENVTENFNMWKNNMVEQMHEDIISLWDQSLKPCVKLTPLCVTLNCTDLRNTTNATSSSGGTMGGGEMKNCSFNITTSIRDKMQKEYALFYKLDIIPIANDNTSYRLINCNTSVITQACPKVTFEPIPIHYCAPAGFAILKCNNKRFNGTGPCTNVSTVQCTHGIRPVVSTQLLLNGSLAEEEVVIRSANFSDNAKNIIVQLNETVEINCTRPNNNTRKGIPIGPGRAIYTTGQIIGDIRQAHCNLSRAKWNETLKQIVTKLREQFGNKTIVFNQSSGGDPEIVTHSFNCGGEFFYCNSTQLFNSTWNITEESNSIEGNDTITLPCRIKQIVNMWQEVGKAMYAPPIRGQIRCSSNITGLILTRDGGNENENETEIFRPGGGDMRDNWRSELYKYKVVKIEPLGVAPTKAKRRVVQREKRAVGIGAMFLGFLGAAGSTMGAASVTLTVQARLLLSGIVQQQNNLLRAIEAQQHLLQLTVWGIKQLQARVLAVERYLKDQQLLGIWGCSGKLICTTAVPWNSSWSNKSLDQIWDNMTWMEWEREISNYTSLIYTLIEESQNQQEKNEQELLALDKWASLWNWFDISNWLWYIKIFIMIVGGLVGLRIVFSVLSIVNRVRQGYSPLSFQIRPPAPRGPDRPGGTEEEGGERDRDGSGRLVDGFLALIWVDLRSLCLFSYHRLRDLLLIVTRIVELLGRRGWELLKYWWNLLQYWSEELKNSAVSLLNAIAIAVAEGTDRVIEVVQRACRAILHIPTRIRQGLERALL'), ('DQ976419.1', 'MRVTGIMRSYQNLWIWGTMMLLGIFMICNANLWVTVYYGVPVWKEADTTLFCASDAKAYDTEVHNVWATHACVPTDPNPQEVVLENVTENFYMWKNNMVEQMHEDIINLWDQSLKPCVKLTPLCVTLNCTDAIFNSTDTTAANITSSGGKVMGAGEIKNCSFNITTSLRKKVQKEYALFYKLDVVPIRKKTNTTKYRLISCNTSTITQACPKVSFEPIPIHYCAPAGFAIIQCNDKKFNGTGPCTNVSSVQCTHGIRPVVSTQLLLNGSLAEEEVVIRSENFTNNAKVIIVQLNETVEINCTRPNNNTRKSITMGPGKALYATGDIIGDIRQAHCNISGTGWNNTLKRIVIKLREQFGNKTIIFNQSSGGDPEIVMHSFNCGGEFFYCNSSQLFNSTWRSNNTWNETDGSNTSGNNDTITLQCRIKQFINMWQQVGKAMYAPPIRGQIRCTSNITGLILTRDGGKRNESEPTEIFRPGGGDMRDNWRSELYKYKVVKIEPLGIAPTRAKRRVVQREKRAVGIGAVFLGFLGAAGSTMGAASVTLTVQARQLLSGIVQQQSNLLRAIEAQQHLLQLTVWGIKQLQARVLAVERYLKDQQLLGIWGCSGRLICTTAVPWNASWSNKTMEQIWDNMTWMEWEREISNYTDLIYNLIEKSQNQQEKNEQELLELDKWASLWNWFSITNWLWYIKIFIMIVGGLIGLRIVFTVLSIVNRVRQGYSPLSFQTRLPARRGPDRPEGIEEEGGERDRDTSTPLVNGFLAIIWVDLRSLFLFSYHRLRDLLLIVTRIVELLGRRGWETLKYLWNLLQYWSQELKNSAVSLFNATAIAVAEGTDRVIEVVQRAYRAILHIPTRIRQGLERALL'), ('DQ976397.1', 'MRVKEIMKNCQHLLTWGTMLFGMLMICSATEQLWVTVYYGVPVWKEASTTLFCASDAKAHGTEAHNVWATHACVPTDPSPQEVRLENVTENFNMWKNNMAEQMQEDIISLWDQSLKPCVKLTPLCVTLNCINANATYANNSRWEKMEGEIKNCSFNITTNIGNKMKKEYALFNKLDVVPTGDGNTSYMLINCNTSAITQACPKVSFEPIPIHYCAPAGFAILQCNDKKFNGTGPCTNVSTVQCTHGIRPVVSTQLLLNGSLAEEEVVIRSENFTNNAKNIIVHLNESVQINCTRPDNNTRKGIHLGPGGTFFATGAIIGDIRQAHCNISEAQWNNTLKRIVIKLAEQINKTIVFNHSSGGDPEIVMHSFNCGGEFFYCNTTELFNSTWLSNGTRNDTNKNSNNGTIILPCRIRQIVNRWQEVGKAMYAPPISGQINCSSNITGLLLTRDGGPGNSTTETFRPGGGDMRDNWRSELYKYKVVKIEPLGVAPTKAKRRVVQREKRAVGTLGAVFLGFLGAAGSTMGAASLTLTVQARQLLSGIVQQQNNLLRAIEAQQHLLQLTVWGIKQLQARVLAVERYLKDQQLLGIWGCSGKLICTTAVPWNTSWSNKTLNDIWNNMTWMEWDREINNYTNLIYSLIEESQNQQEKNEQELLALDEWASLWNWFSITKWLYYIKIFIMVVGGLVGLKIVFTVLSIVNKVRQGYSPLSFQTHLPVPQGPDRPEGIEEEGGDRGRDRSGRLVIGLLPLIWDDPRNLCLFSYRHLRDLLLILARIVERLGRRGWEALKYWWNLLQYWSQELKNSAVSLLNATAIAVAKGTDRVIEVVQRICRAILHIPRRIRQGLERALL'), ('JN002041.1', 'MRVKEKYQHLWRWGWRWGTMLLGMLMICSATEKLWVTVYYGVPVWKEANTTLFCASDAKAHKTEAHNVWATHACVPTDPSPQEVRLENVTENFNMWKNNMVEQMQEDIINLWDQSLKPCVKLTPLCVTLNCINANTTNSSIWEGMKEEIKNCSFNITTNIKKKLKREYALFNKLDVVPTGDSNTSYMLINCNTSAITQACPKVSFEPIPIHYCAPAGFAILQCNDNKFNGTGPCTNVSTVQCTHGIRPVVSTQLLLNGSLAKEEVIIRSENFTNNAKNIIVQLNESVQINCTRPNNNTRKSIPIGPGRAFYATGDIIGDIRQAHCNISEADWNNTLKKIVIKLAEQINKTIVFNHSSGGDPEIVMHSFNCGGEFFYCNTTELFNSTWQSDGTRNDTNKKSNNGTIILPCRIRQIVNRWQEVGKAMYAPPISGQINCSSNITGLLLTRDGGPGNSTTETFRPGGGDMRDNWRSELYKYKVVKIEPLGVAPTKAKRRVVQREKRAVGTLGAMFLGFLGAAGSTMGAASMTLTVQARQLLSGIVQQQNNLLRAIEAQQHLLQLTVWGIKQLQARVLAVERYLKDQQLLGIWGCSGKLICTTAVPWNTSWSNKSYNNIWDNMTWMEWDREINNYTNIIYSLIEESQNQQEKNEQDLLALDEWASLWNWFDITNWLYYIKIFIMIVGGLIGLKIVLAVLSVVNKVRQGYSPLSLQTHLPVPQGPDRPEGTEEESGNRGRDRSGRLVIGSLALIWDDLRSLCLFSYHRLRDLLLIVTRIVELLGRRGWEALKYWWNLLQYWSQELKNSAVSLLNATAIAVAEGTDRVIEVVQGACRAIRHIPRRIRQGLERILL'), ('DQ976408.1', 'MRVTGIMRNYQHLWKWGTMMLLGILMICNARENLWVTVYYGVPVWKEATTTLFCASDAKAYDTEVHNVWATHACVPTDPNPQEVVLENVTENFNMWKNNMVEQMHEDIINLWDQSLKPCVKLTPLCVTLNCTDVNVNGTDVKNATNTTATNTTSSSGRMMEVGEIKNCSFNITTRLRDKVQKEYALFYKLDVVPTGKDNTSYRLISCDTSTVTQACPKVSFEPIPIHYCAPAGFAIIQCNDKKFNGTGPCKNVSSVQCTHGIRPVVSTQLLLNGSLAEEEVVIRSENFTNNAKNIIVQLNETVEINCTRPNNNTRKSIPMGPGKAFYATGDIIGNIRQAHCNISRTRWNNTLKQIVIKLREQFGNKTIIFNQSSGGDPEIVTHSFNCGGEFFYCNSSQLFNSTWMFNSTWNDTDEANSTGENDTITLQCRIKQIINMWQQVGKAMYAPPIRGQIRCTSNITGLILTRDGGEPKNGSDPETFRPGGGDMRDNWRSELYKYKVVKIEPLGIAPTRAKRRVAQREKRAVGIGAVFLGFLGAAGSTMGAASVTLTVQARQLLSGIVQQQSNLLRAIEAQQHLLQLTVWGIKQLQARVLAVERYLKDQQLLGIWGCSGRLICTTAVPWNASWSNKSMEQIWDNMTWMEWEREINNYTDLIYTLIEKSQNQQEKNEQELLELDKWASLWNWFSITNWLWYIKIFIMIVGGLIGLRIVFTILSIVNRVRQGYSPLSFQTRFPAPRGPDRPEGIEEEGGERDRDRSGTLVNGFLAIIWVDLRSLFLFSYHRLRDLLLIVTRIVELLGRKGWEALKYWWNLLQYWSQELKNSAVSLLNATAIAVAEGTDRVIEIVQRAYRAIIHIPTRIRQGLERALL'), ('DQ976381.1', 'MRVKGIRKSYQHLWRWGTMLHGILMICSATENLWVTVYYGVPVWKEATTTLFCASDAKAYDTEVHNVWATHACVPTDPNPQEVELENVTENFNMWKNNMVEQMHEDIISLWDQSLKPCVRLTPLCVILNCTDLKNDTTTTSGGGGIMMEKGEIKNCSFSINTRGRNKEQKDYAFFYKLDVVPINNNNSYRLISCNTSVITQACPKVSFEPIPIHYCAPAGFAILKCKDKKFNGTGPCKNVSTVQCTHGIRPVVSTQLLLNGSLAEEEVVIRSANFSDNTKTIMVQLKEAVEINCTRPNNNTRKSIPMGPGKAFYTTGEIIGDIRQAHCNLSITKWNNTLKQIVEKLREQFENKTIIFNQSAGGDPEIVMHSFNCGGEFFYCNSTQLFNSTWSSNSTWNDTQGSNNPEGNDTITLTCRIKQFINMWQEVGKAMYAPPISGQIRCSSNITGLLLTRDGGTNEISNQTEIFRPGGGDMRDNWRSELYKYKVVKIEPLGVAPTKAKRRVVQREKRAAVGLGAVFLGFLGAAGSTMGAASITLTAQARQLLSGIVQQQNNLLRAIEAQQHLLQLTVWGIKQLQARVLAVERYLKDQQLLGIWGCSGKLICTTTVPWNASWSNKSLDKIWNNMTWMEWEREINNYTSLIYNLIEESQNQQEKNEQELLELDKWASLWNWFDITQWLWYIRIFIMIVGGLIGLRIVFAVLSIVNRVRQGYSPLSFQTRFPAPRGPDRPGGTEEEGGERDRDRSGRLVNGFLALIWDDLRSLCLFSYHRLRDLLLIVTRIVELLGRRGWEALKYWGNLLQYWSQELKNSAVSLLNVTAIAVAEGTDRVIEVLQRAFRAILHIPRRIRQGLERALL')]\n"
     ]
    }
   ],
   "source": [
    "train_data = [(tuple(list(x))[0], tuple(list(x))[1])  for x in list(train_df[['ID','sequence']].values)]\n",
    "print(train_data)"
   ]
  },
  {
   "cell_type": "code",
   "execution_count": 17,
   "id": "bdf08dfb-318d-4986-83af-63ebb9a4d0ba",
   "metadata": {},
   "outputs": [],
   "source": [
    "dummy_train = train_data"
   ]
  },
  {
   "cell_type": "code",
   "execution_count": 18,
   "id": "471e0392-2546-48df-9924-3c671f237ebe",
   "metadata": {},
   "outputs": [],
   "source": [
    "tr_batch_labels, tr_batch_strs, tr_batch_tokens = batch_converter(dummy_train)\n",
    "tr_batch_lens = (tr_batch_tokens != alphabet.padding_idx).sum(1)"
   ]
  },
  {
   "cell_type": "code",
   "execution_count": 19,
   "id": "e42647c0-6e25-41dc-a91e-5b63221e926d",
   "metadata": {},
   "outputs": [],
   "source": [
    "import numpy as np"
   ]
  },
  {
   "cell_type": "code",
   "execution_count": 20,
   "id": "a98867dd-ca48-4182-bfa8-1055f39dbbe0",
   "metadata": {},
   "outputs": [],
   "source": [
    "# Extract per-residue representations (on CPU)\n",
    "#with torch.no_grad():\n",
    "    #tr_results = model(tr_batch_tokens, repr_layers=[33], return_contacts=False)"
   ]
  },
  {
   "cell_type": "markdown",
   "id": "17a8b2e2",
   "metadata": {},
   "source": [
    "run overnight on laptop"
   ]
  },
  {
   "cell_type": "code",
   "execution_count": 21,
   "id": "a67fb92e-b3a5-4dbb-af21-ea6197d64f92",
   "metadata": {},
   "outputs": [],
   "source": [
    "#tr_token_representations = tr_results[\"representations\"][33]"
   ]
  },
  {
   "cell_type": "code",
   "execution_count": 22,
   "id": "d5c5f726-4363-4c66-97a0-759c99ae8d66",
   "metadata": {},
   "outputs": [],
   "source": [
    "#np.save('esm_features_train.npy', tr_token_representations)"
   ]
  },
  {
   "cell_type": "code",
   "execution_count": 23,
   "id": "c8abcfdc-833f-4269-8469-eca3869a9ad2",
   "metadata": {},
   "outputs": [],
   "source": [
    "tr_token_representations = np.load('esm_features_train.npy')"
   ]
  },
  {
   "cell_type": "code",
   "execution_count": 24,
   "id": "51f711ea-66be-4186-8666-2653bd400dbf",
   "metadata": {},
   "outputs": [
    {
     "data": {
      "text/plain": [
       "[('EU308547.1',\n",
       "  'MRVKEKYQHLWRWGWRWGTMLLGMLMICSATEKLWVTVYYGVPVWKEATTTLFCASDAKAYDPEVHNVWATHACVPTDPNPQEVVLGNVTEDFNMWKNKMVEQMHEDIISLWDQSLKPCVKLTPLCVTLNCTDKWGNTTNTNNANTNSTSWREEMKNCSFNVTTSIRDRVKGYALFYKLDVVQINNDNTTYRLINCNTSVITQACPKVSFEPIPIHYCAPAGFAILKCNDKKFKGKGPCRNVSTVQCTHGIRPVVSSQLLLNGSLAEEEVVIRSENFTNNAKTIIVQLNEPVEINCTRPGNNTRKSIPLGPGKAFYATGDIIGDIRQAHCNISQAKWNKTLNQIVIKLREQFNKTIIFNQSSGGDPEIVMHSFNCGGEFFYCDSTELFNSTWTLNDTRQINNTDRNITLPCRIKQIINLWQQVGKAMYAPPIRGQIRCSSNITGLLLTRDGGHNTTKNMTETFRPGGGDMRDNWRSELYKYKVVQIEPLGVAPTKAKRRVVQREK'),\n",
       " ('DQ976425.1',\n",
       "  'MRVMGIRKNYQHLWKWGMMLLGMLMICNVAGNLWVTVYYGVPVWKEATTTLFCASDAKAYDTEVHNVWATHACVPTDPNPQEVLLENVTENFNMWKNNMVEQMHEDIISLWDQSLKPCVKLTPLCVTLNCTDLRNTTNATSSSGGTMGGGEMKNCSFNITTSIRDKMQKEYALFYKLDIIPIANDNTSYRLINCNTSVITQACPKVTFEPIPIHYCAPAGFAILKCNNKRFNGTGPCTNVSTVQCTHGIRPVVSTQLLLNGSLAEEEVVIRSANFSDNAKNIIVQLNETVEINCTRPNNNTRKSIPIGPGRAIYTTGQIIGDIRQAHCNLSRAKWNETLKQIVTKLREQFGNKTIVFNQSSGGDPEIVTHSFNCGGEFFYCNSTQLFNSTWNITEESNSIEGNDTITLPCRIKQIVNMWQEVGKAMYAPPIRGQIRCSSNITGLILTRDGGNENENETEIFRPGGGDMRDNWRSELYKYKVVKIEPLGVAPTKAKRRVVQREKRAVGIGAMFLGFLGAAGSTMGAASVTLTVQARLLLSGIVQQQNNLLRAIEAQQHLLQLTVWGIKQLQARVLAVERYLKDQQLLGIWGCSGKLICTTAVPWNSSWSNKSLDQIWDNMTWMEWEREISNYTSLIYTLIEESQNQQEKNEQELLALDKWASLWNWFDISNWLWYIKIFIMIVGGLVGLRIVFSVLSIVNRVRQGYSPLSFQIRPPAPRGPDRPGGTEEEGGERDRDGSGRLVDGFLALIWVDLRSLCLFSYHRLRDLLLIVTRIVELLGRRGWELLKYWWNLLQYWSQELKNSAVSLLNAIAIAVAEGTDRVIEVVQRACRAILHISTRTRQGLERALL'),\n",
       " ('JN002042.1',\n",
       "  'MRVKEKYQHLWRWGWRWGTMLLGMLMICSATEKLWVTVYYGVPVWKEATTTLFCASDAKAYDTEVHNVWATHACVPTDPNPQEVLLENVTENFNMWKNNMVEQMHEDIISLWDQSLKPCVKLTPLCVTLNCTDLRNATNTTNSSGRTVEGGEIKNCSFNITTSIRDKVQKEYALFYKLDIIPIANDNTSYRLISCNTSVITQACPKVSFEPIPIHYCTPAGFAIIKCNDKKFNGTGTCTNVSTVQCTHGIRPVVSTQLLLNGSLAEEEVVIRSENFTNNAKNIIVQLNETVEINCTRPNNNTRKSIPMGPGKAFYATGDIIGDIRQAHCNISRTKWNKTLKQIVIKLREQFGYNKTIIFNQSSGGDPEIVTHSFNCGGEFFYCDSSQLFNSTWMFNSTWNDTDGANSTRKNDTITLQCRIKQIINMWQQVGKAMYAPPIRGQIRCTSNITGLILTRDGGDTQNKSDPEIFRPGGGDMRDNWRSELYKYKVVKIEPLGIAPTRAKRRVVQREKRAVGMGAMFLGFLGAAGSTMGAASVTLTVQARQLLSGIVQQQSNLLRAIEAQQHLLQLTVWGIKQLQARILAVERYLKDQQLLGIWGCSGKLICTTAVPWNTSWSNKSMEQIWDNMTWMEWEREISNYTDLIYTLIEKSQNQQEKNEQELLELDKWASLWNWFDITNWLWYIKIFIMIVGGLIGLRIVFTVLSIVNRVRQGYSPLSFQTRLPARRGPDRPERIEEEGGERDRDRSGSLVNGSLALIWDDLRSLCLFSYHRLRDLLLIVTRIVELLGRRGWEALKYWWNLLQYWSQELKNSAVSLLNATAIAVAEGTDRVIEVVQGACRAIRHIPRRIRQGLERILL'),\n",
       " ('DQ976413.1',\n",
       "  'MRVMGIMRNYQHLWKWGTMMLLGILMICNARENLWVTVYYGVPVWKEATTTLFCASDAKAYDTEVHNVWATHACVPTDPNPQEVVLENVTENFNMWKNNMVEQMHEDIINLWDQSLKPCVKLTPLCVTLNCTDANFNSTDVKNAINTTASNTTSSSGGMMEAGEIKNCSFNITTRLRDKVQKEYALFYKLDVVPIGKDNTSYRLISCDTSTVTQACPKVSFEPIPIHYCTPAGFAIIKCNDKKFNGTGPCTNVSTVQCTHGIRPVVSTQLLLNGSLAEEEVVIRSENFTNNAKNIIVQLNETVEINCTRPNNNTRKSIPMGPGKAFYATGDIIGDIRQALCNISRTRWNNTLKQIVIKLREQFGNKTIIFNQSAGGDPEIVTHSFNCGGEFFYCDSSQLFNSTWMFNSTWNDTDGANSTRKNDTITLQCRIKQIINMWQQVGKAMYAPPIRGQIRCTSNITGLILTRDGGDTQNKSDPEIFRPGGGDMRDNWRSELYKYKVVKIEPLGIAPTRAKRRVVQREKRAVGMGAMFLGFLGAAGSTMGAASVTLTVQARQLLSGIVQQQSNLLRAIEAQQHLLQLTVWGIKQLQARVLAVERYLKDQQLLGIWGCSGKLICTTAVPWNTSWSNKSMEQIWDNMTWMEWEREISNYTDLIYTLIEKSQNQQEKNEQELLELDKWASLWNWFDITNWLWYIKIFIMIVGGLIGLRIVFTVLSIVNRVRQGYSPLSFQTRFPAPRGPDRPEGIEEEGGERDRDRSGSLVNGFLAIIWVDLRSLFLFSYHRLRDLLLIVTRIVELLGRRGWEALKYWWNLLQYWSQELKNSAVSLLNATAIAVAEGTDRVIEVLQRAYRAILHIPARIRQGLERALL'),\n",
       " ('DQ976382.1',\n",
       "  'MRVKGIRKSYQHLWRWGTMLHGILMICSATENLWVTVYYGVPVWKEATTTLFCASDAKAYDTEVHNVWATHACVPTDPNPQEVELENVTENFNMWKNNMVEQMHEDIISLWDQSLKPCVRLTPLCVILNCTDLKNDTTTTSGGGGIMMEKGEIKNCSFSINTRGRNKEQKDYAFFYKLDVVPINNNNSYRLISCNTSVITQACPKVSFEPIPIHYCAPAGFAILKCKDKKFNGTGPCKNVSTVQCTHGIRPVVSTQLLLNGSLAEEEVVIRSANFSDNTKTIMVQLKEAVEINCTRPNNNTRKSIPMGPGKAFYTTGEIIGDIRQAHCNLSITKWNNTLKQIVEKLREQFENKTIIFNQSAGGDPEIVMHSFNCGGEFFYCNSTQLFNSTWSSNSTWNDTQGSNNPEGNDTITLTCRIKQFINMWQEVGKAMYAPPISGQIRCSSNITGLLLTRDGGTNEISNQTEIFRPGGGDMRDNWRSELYKYKVVKIEPLGVAPTKAKRRVVQREKRAAVGLGAVFLGFLGAAGSTMGAASITLTAQARQLLSGIVQQQNNLLRAIEAQQHLLQLTVWGIKQLQARVLAVERYLKDQQLLGIWGCSGKLICTTTVPWNASWSNKSLDKIWNNMTWMEWEREINNYTSLIYNLIEESQNQQEKNEQELLELDKWASLWNWFDITQWLWYIRIFIMIVGGLIGLRIVFAVLSIVNRVRQGYSPLSFQTRFPAPRGPDRPGGTEEEGGERDRDRSGRLVNGFLALIWDDLRSLCLFSYHRLRDLLLIVTRIVELLGRRGWEALKYWGNLLQYWSQELKNSAVSLLNVTAIAVAEGTDRVIEVLQRAFRAILHIPRRIRQGLERALL'),\n",
       " ('EU308562.1',\n",
       "  'MRVKEKYQHLWRWGWRWGTMLLGMLMICSATEKLWVTVYYGVPVWRDADTTLFCASDAKAHETEVHNVWATHACVPTDPNPQEIHLENVTENFNMWKNKMVEQMQEDVISLWDQSLKPCVKLTPLCVTLTCTNLTNVNNITNVSDKVGNITDEVTNCTFNMTTELNDKKQKVHALFYKLDIVQIKNSSEYRLINCNTSVVTQACPKVSFEPIPIHYCAPAGFAILKCNDKKFKGKGPCRNVSTVQCTHGIRPVVSTQLLLNGSLAEEEVVIRSENFTNNAKTIIVQLNEPVEINCTRPGNNTRKSIPLGPGKAFYATGDIIGDIRQAHCNINGTEWNKVLKQVAEKLKEHFNNNKTIIFQPPSGGDLEITMHHFNCRGEFFYCNTTQLFNSTCMRNETMDGCNGTITLPCKIKQIINMWQGVGQAMYAPPIRGRINCVSNITGILLTRDGGANNTTNETFRPGGGNIKDNWRSELYKYKVVQIEPLGIAPTKAKRRVVQREK'),\n",
       " ('DQ976389.1',\n",
       "  'MRVKGIRKSYQHLWRWGTMLLGILMICSATENLWVTVYYGVPVWKEATTTLFCASDAKAYDTEAHNVWATHACVPTDPNPQEVELKNVTENFNMWKNNMVEQMHEDVISLWDQSLKPCVRLTPLCVTLNCSDVNATSTINSEEKMEGGPEMKNCSFNITTSMTEKRKKEYALFYSLDVVPIDNGENNTSYRLISCNTSVITQACPKVSFEPIPIHYCAPAGFAILKCNDKKFNGTGPCKNVSTVQCTHGIRPVVSTQLLLNGSLAEEEVVIRSANFSDNTKTIMVQLKEPVEINCTRPNNNTRKSIHMGPGKAFYTTGDIIGDIRRAHCNISRAKWNNTLKQVVEKLTEQFKNKTIIFNQSSGGDPEIVMHSFTCGGEFFYCNSTPLFNSTWTWNDTQGSNSTKGNDTITLQCRIKQIINMWQEVGKAVYAPPISGLVKCSSNITGLLLTRDGGKNESKNNETFRPGGGDMRDNWRSELYKYKVVKIEPLGVAPTKAKRRVVQREKRAVTLGAMFLGFLGAAGSTMGAASIALTVQARQLLSGIVQQQNNLLRAIEAQQHLLQLTVWGIKQLQARVLAVEKYLQDQQLLGIWGCSGKLICTTTVPWNATWSNKSLHEIWDNMTWMEWEREIDNYTDQIYILLEKSQNQQEKNEQELLELDKWASLWNWFDITQWLWYIKIFIMIVGGLIGLRIVFSVLSIVNRVRQGYSPLSFQTHLPTPRGPDRPGGIEEEGGERDRDRSGQLVDGFLAIIWVDLRSLCLFSYHRLRDLLSIVARIVELLGRRGWEILKYWWNLLQYWSQELKNSAVSLLNATAIAVAEGTDRVIEIVQRAFRAILHIPRRIRQGLERALL'),\n",
       " ('DQ976391.1',\n",
       "  'MKVKGIRKSYQNLWKWGTMLLGILMSCSATENLWVTVYYGVPVWKEATTTLFCASDAKAYDTEAHNVWATHACVPTDPNPQELKLENVTENFNMWKNNMVEQMHEDIISLWDQSLKPCVKLTPLCVTLNCSDLNTTSSNGRTIEAGEIKNCSFNITTSMTDKMQKEYSLFYKLDVVPIDKDNISYRLISCNTSVITQACPKVSFEPIPIHYCAPAGFAILKCNNKKFNGTGPCKNVSTVQCTHGIRPVVSTQLLLNGSLAEEEVVIRSANFSDNTKTLIVQLKEPVEINCTRPNNNTRKSIHMGPGKAFYTTGIIGDIRQAHCNISRAKWNNTLKQVVEKLREQYKNKTIIFNQSSGGDPEIVMHSFTCGGEFFYCDTTKLFNSTWSSNNTWNDTTGLHTTEEDDTITLPCKIKQIINMWQEVGKAMYAPPISGRIRCSSNITGLLLTRDGGKNESKNNETFRPGGGDMKDNWRSELYKYKVVKIEPLGVAPTKAKRRVVQREKRAVTLGAMFLGFLGAAGSTMGAASIALTVQARQLLSGIVQQQNNLLRAIEAQQHLLQLTVWGIKQLQARVLAVEKYLQDQQLLGIWGCSGKLICTTTVPWNATWSNKSLHEIWDNMTWMEWEREIDNYTDQIYILLEKSQNQQEKNEQELLELDKWANLWNWFDITQWLWYIKIFIMIVGGLIGLRIVFSVLSIVNRVRQGYSPLSFQTHLPTPRGPDRPGGTEEEGGERDRDRSGQLVNGFLAIIWVDLRSLCLFSYHRLRDLLLIVTRIVELLGRRGWEILKYWWNLLQYWSQELKNSAVSLLNATAIAVAEGTDRVIEVVQRAFRAILRIPRRIRQGLERALL'),\n",
       " ('DQ976422.1',\n",
       "  'MRVMGIMRNYQHLWKWGTMMLLGILMICNATEKLWVTVYYGVPVWKEATTTLFCASDAKAYDAEVHNVWATHACVPTDPNPQEVVLENVTENFNMWKNNMVEQMHEDIINLWDQSLKPCVKLTPLCVTLNCTDANFNSTDVKNATNTTASNTTSSSGGMMEAGEIKNCSFNITTRLRDKVQKEYALFYKLDVVPIGKDNTSYRLISCDTSTVTQTCPKVSFEPIPIHYCAPAGFAIIQCNDKKFNGTGPCKNVSTVQCTHGIRPVVSTQLLLNGSLAEEEVVIRSENFTNNAKNIIVQLNENVEINCTRPNNNTRKSIPMGPGKAFYATGDIIGNIRQAHCNISRTRWNNTLKQIVIKLREQFGNKTIIFDQSSGGDPEIVMHSFNCGGEFFYCNSTQLFNSTWMVNSTWNDTEGSNTSGENDTIALQCRIKQIINMWQQVGKAMYAPPIRGQIRCTSNITGLILTRDGGDPKNGSEPEIFRPGGGDMRDNWRSELYKYKVVKIEPLGIAPTRAKRRVVQREKRAVGIGAVFLGFLGAAGSTMGAASVTLTVQARQLLSGIVQQQSNLLRAIEAQQHLLQLTVWGIKQLQARVLAVERYLKDQQLLGIWGCSGRLICTTAVPWNASWSNKSMEQIWDNMTWMEWEREISNYTDFIYTLIEKSQNQQEKNEQELLELDKWASLWNWFDITNWLWYIKIFIMIVGGLIGLRIVFTVLSIVNRVRQGYSPLSFQTRLPARRGPDRPEGIEEEGGERDRDRSGSLVNGFLAIIWVDLRSLFLFSYHRLRDLLLIVTRIVELLGRRGWEALKYWWNLLQYWSQELKNSAVSLLNTTAIAVAEGTERVIEVLQRAYRAILHIPTRIRQGLERALL'),\n",
       " ('DQ976411.1',\n",
       "  'MRVMGIMRNYQHLWKWGTMMLLGILMICNAREKLWVTVYYGVPVWKEATTTLFCASDAKAYDTEVHNVWATHACVPTDPNPQEVVLENVTENFNMWKNNMVEQMHEDIINLWDQSLKPCVKLTPLCVTLNCTDANFNSTDVKNATNTTAFNTTSSSGGMMEAGEIKNCSFNITTRLRDKVQKEYALFYKLDVVPIGKDNTSYRLISCDTSTVTQACPKVSFEPIPIHYCTPAGFAIIKCNDKKFNGTGPCTNVSTVQCTHGIRPVVSTQLLLNGSLAEEEVVIRSENFTNNAKNIIVQLNETVEINCTRPNNNTRKSIPMGPGKAFYATGDIIGNIRQAHCNISRTRWNNTLKQIVIKLREQFGNKTIIFNQSSGGDPEIVTHSFNCGGEFFYCDSSQLFNSTWMFNSIWNDTDGANSTRKNDTITLQCRIKQIINMWQQVGKAMYAPPIRGQIRCTSNITGLILTRDGGDTQNKSDPEIFRPGGGDMRDNWRSELYKYKVVKIEPLGIAPTRAKRRVVQREKRAVGMGAMLLGFLGAAGSTMGAASVTLTVQARQLLSGIVQQQSNLLRAIEAQQHLLQLTVWGIKQLQARVLAVERYLKVQQLLGIWGCSGKLICTTAVPWNTSWSNKSMEQIWDNMTWMEWEREISNYTDLIYTLIEKSQNQQEKNEQELLELDKWASLWNWFSITNWLWYIKIFIMIVGGLIGLRIVFTVLSIVNRVRQGYSPLSFQTRFPAPRGPDRPEGIEEEGGERDRDRSGTLVNGFLAIIWVDLRSLFLFSYHRLRDLLLIVTRIVELLGRRGWEALKYWWNLLQYWSQELKNSAVSLLNATAIAVAEGTDRVIEVLQRAYRAILHIPTRIRQGLERALL'),\n",
       " ('DQ976388.1',\n",
       "  'MRVKGIRKSYQHLWRWGTMLLGILMICSATENLWVTVYYGVPVWKEATTTLFCASDAKAYDTEAHNVWATHACVPTDPNPQEVELKNVTENFNMWKNNMVEQMHEDVISLWDQSLKPCVRLTPLCVTLNCSDVNATSTINSEEKMEGGPEMKNCSFNITTSMTEKRKKEYALFYKLDVVPIDNGENNTSYRLISCNTSVITQACPKVSFEPIPIHYCAPAGFAILKCNDKKFNGTGPCKNVSTVQCTHGIRPVVSTQLLLNGSLAEEEVVIRSANFSDNTKTIIVQLKEPVEINCTRPNNNTRKSIHMGPGKAFYATGDIIGDIRRAHCNISRAKWNNTLKQVVEKLTEQFKNKTIIFNQSSGGDPEIVMHSFTCGGEFFYCNSTPLFNSTWTWNDTQGSNSTKGNDTITLQCRIKQIINMWQEVGKAMYAPPIKGQIRCSSNITGLLLTRDGGKNESKNNETFRPGGGDMRDNWRSELYKYKVVKIEPLGVAPTKAKRRVVQREKRAVTLGAMFLGFLGAAGSTMGAASIALTVQARQLLSGIVQQQNNLLRAIEAQQHLLQLTVWGIKQLQARVLAVEKYLQDQQLLGIWGCSGKLICTTTVPWNATWSNKSLNEIWDNMTWMEWEREIDNYTDQIYILLEKSQNQQEKNEQELLELDKWASLWNWFDITQWLWYIKIFIMIVGGLIGLRIVFSVLSIVNRVRQGYSPLSFQTHLPTPRGPDRPGGIEEEGGERDRDRSGQLVDGFLAIIWVDLRSLCLFSYHRLRDLLSIVARIVELLGRRGWEILKYWWNLLQYWSQELKNSAVSLLNATAIAVAEGTDRVIEIVQRAFRAILHIPRRIRQGLERALL'),\n",
       " ('DQ976402.1',\n",
       "  'MRVKEIMKNCQHLLTWGTLLFGVLMICSATDQLWVTVYYGVPVWKEASTTLFCASDAKAHNTEVHNVWATHACVPTDPSPQEVRLENVTENFNMWKNNMVEQMQEDIISLWDQSLKPCVKLTPLCVTLNCTNLKNATYTNSSSWEGMKEEIKNCSFNITTNIENKRKKEYALFNKLDVVPTGDGNTSYMLINCNTSAITQACPKVSFEPIPIHYCAPAGFAILQCNDKKFNGTGPCSNVSTVQCTHGIRPVVSTQLLLNGSLAEEEVIIRSENFSNNAKNIIVQLNESVQINCARPNNNTRKSIHLGPGGAFYATGDIIGDIRQAHCNISEADWNNTLKKIVIKLAEQINKTIVFNQSSGGDPEIVMHSFNCGGEFFYCNTTELFNSTWQSDGTRNDTNKKSKNGTIILPCRIRQIVNRWQEVGKAMYAPPISGQINCLSNITGLILTRDGGPGNSTTETFRPGGGDMRDNWRSELYKYKVVKIEPLGVAPTKAKRRVVQREKRAVGTLGAMFLGFLGAAGSTMGAASLTLTVQARQLLSGIVQQQNKLLRAIEAQQHLLQLTVWGIKQLQARVLAVERYLKDQQLLGIWGCSGKLICATAVPWNSSWSNKTLNSIWDNMTWMEWDREINNYTNLIYSLLEESQDQQEKNEQDLLALDEWASLWNWFDITKWLYYIKIFIMIVGGLIGLKIVFTVLSIVNKVRQGYSPLSLQTHLPVPQGPDRPEGTEEEGGDRGRDRSGRLVIGLLPLIWDDLRNLCLFSYRHLRDLLLILARIVELLGRRGWEALKYWWNLLQYWSQELKSSAISLLNAIAIAVAEGTDRVIEVVQTICRAILLIPRRIRQGLERDLL'),\n",
       " ('DQ976410.1',\n",
       "  'MRVMGIMRNYQHLWKWGTMMLLGILMICNARENLWVTVYYGVPVWKEATTTLFCASDAKAYDTEVHNVWATHACVPTDPNPQEVVLENVTEDFNMWKNNMVEQMHEDIINLWDQSLKPCVKLTPLCVTLNCTDANFNSTDVKNAINTTASNTTSSSGGMMEAGEIKNCSFNITTRLRDKVQKEYALFYKLDVVPIGKDNTSYRLISCDTSTVTQACPKVSFEPIPIHYCTPAGFAIIKCNDKKFNGTGPCTNVSTVQCTHGIRPVVSTQLLLNGSLAEEEVVIRSENFTNNAKNIIVQLNETVEINCTRPNNNTRKSIPMGPGKAFYATGDIIGDIRQAHCNISRTRWNNTLKQIVIKLREQFGNKTIIFNQSAGGDPEIVTHSFNCGGEFFYCDSSQLFNSTWMFNSTWNDTDGANSTRKNDTITLQCRIKQIINMWQQVGKAMYAPPIRGQIRCTSNITGLILTRDGGDTQNKSDPEIFRPGGGDMRDNWRSELYKYKVVKIEPLGIAPTRAKRRVVQREKRAVGMGAMFLGFLGAAGSTMGAASVTLTVQARQLLSGIVQQQSNLLRAIEAQQHLLQLTVWGIKQLQARVLAVERYLKDQQLLGIWGCSGKLICTTAVPWNTSWSNKSMEQIWDNMTWMEWEREISNYTDLIYTLIKKSQNQQEKNEQELLKLDKWASLWNWFDITNWLWYIKIFIMIVGGLIGLRIVFTVLSIVNRVRQGYSPLSFQTRFPAPRGPDRPEGIEEEGGERDRDRSGSLVNGFLAIIWVDLRSLFLFSYHRLRDLLLIVTRIMELLGRRGWEALKYWWNLLQYWSQELKNSAVSLLNATAIAVAEGTDRVIEVLQRAYRAILHIPTRIRQGLERALL'),\n",
       " ('DQ976426.1',\n",
       "  'MRVMGIRKNYQHLWKWGMMLLGMLMICNVAGNLWVTVYYGVPVWKEATTTLFCASDAKAYDTEVHNVWATHACVPTDPNPQEVLLENVTENFNMWKNNMVEQMHEDITSLWDQSLKPCVKLTPLCITLNCTDLRNTTNATSSSGGTMGGGEMKNCSFNITTSIRDKMQKEYALFYKLDIIPIANDNTSYRLINCNTSVITQACPKVTFEPIPIHYCAPAGFAILKCNNKRFNGTGPCTNVSTVQCTHGIRPVVSTQLLLNGSLAEEEVVIRSANFSDNAKNIIVQLNETVEINCTRPNNNTRKSIPIGPGRAIYTTGQIIGDIRQAHCNLSRAKWNETLKQIVTKLREQFGNKTIVFNQSSGGDPEIVTHSFNCGGEFFYCNSTQLFNSTWNITEESNSIEGNDTITLPCRIKQIVNMWQEVGKAMYAPPIRGQIRCSSNITGLILTRDGGNENVNETEIFRPGGGDMRDNWRSELYKYKVVKIEPLGVAPTKAKRRVVQREKRAVGIGAMFLGFLGAAGSTMGAASVTLTVQARLLLSGVVQQQNNLLRAIEAQQHLLQLTVWGIKQLQARVLAVERYLKDQQLLGIWGCSGKLICTTAVPWNSSWSNKSLDQIWDNMTWMEWEREISNYTSLIYTLIEESQNQQEKNEQELLALDKWASLWNWFDISNWLWYIKIFIMIVGGLVSLRIVFSVLSIVNRVRQGYSPLSFQIRPPAPRGPDRPGGTEEEGGERDRDGSGRLVDGFLALIWVDLRSLCLFSYHRLRDLLLIVTRIVELLGRRGWELLKYWWNLLQYWSQELKNSAVSLLNAIAIAVAEGTDRVIEVVQRACRAILHISTRIRQGLERALL'),\n",
       " ('JN002026.1',\n",
       "  'MRVKEKYQHLWRWGWRWGTMLLGMLMICSATEKLWVTVYYGVPVWKEATTTLFCASDAKAYDTEVHNVWATHACVPTDPNPQEVVLENVTENFNMWKNNMVEQMHEDIISLWDQSLKPCVKLTPLCVTLNCTDANFNSTDVKNATNTTASNTTTSSGGMMEAGEIKNCSFNITTRLRDKVQKEYALFYKLDVVPIGKDNTSYRLISCDTSTVTQACPKVSFEPIPIHYCTPAGFAIIKCNDKKFNGTGTCTNVSTVQCTHGIRPVVSTQLLLNGSLAEEEVVIRSKNFTNNAKNIIVQLNETVEINCTRPNNNTRKSIPMGPGKAFYATGDIIGNIRQAHCNISRTKWNKTLKQIVIKLREQFGYNKTIIFNQSSGGDPEIVTHSFNCGGEFFYCDSSQLFNSTWMFNSTWNDTDGANSTRKNDTITLQCRIKQIINMWQQVGKAMYAPPIRGQIRCTSNITGLILTRDGGDTQNKSDPEIFRPGGGDMRDNWRSELYKYKVVKIEPLGIAPTRAKRRVVQREKRAVGIGAMFLGFLGAAGSTMGAASVTLTVQARQLLSGIVQQQSNLLRAIEAQQHLLQLTVWGIKQLQARILAVERYLKDQQLLGIWGCSGKLICTTAVPWNTSWSNKSMEQIWDNMTWMEWEREISNYTDLIYTLIEKSQNQQEKNEQELLELDKWASLWNWFDITNWLWYIKIFIMIVGGLIGLRIVFTVLSIVNRVRQGYSPLSFQTRLPARRGPDRPEGIEEEGGERDRDRSGSLVNGSLALIWDDLRSLCLFSYHRLRDLLLIVTRIVELLGRRGWEALKYWWNLLQYWSQELKNSAVSLLNATAIAVAEGTDRVIEVVQGACRAIRHIPRRIRQGLERILL'),\n",
       " ('DQ976409.1',\n",
       "  'MRVTGIMRNYQHLWKWGTMMLLGILMICNARENLWVTVYYGVPVWKEATTTLFCASDAKAYDTEVHNVWATHACVPTDPNPQEVVLENVTENFNMWKNNMVEQMHEDIINLWDQSLKPCVKLTPLCVTLNCTDVNVNGTDVKNATNTTATNTTSSSGRMMEVGEIKNCSFNITTRLRDKVQKEYALFYKLDVVPTGKDNTSYRLISCDTSTVTQACPKVSFEPIPIHYCAPAGFAIIQCNDKKFNGTGPCKNVSSVQCTHGIRPVVSTQLLLNGSLAEEEVVIRSENFTNNAKNIIVQLNETVEINCTRPNNNTRKSIPMGPGKAFYATGDIIGNIRQAHCNISRTRWNNTLKQIVIKLREQFGNKTIIFNQSSGGDPEIVTHSFNCGGEFFYCNSSQLFNSTWMFNSTWNDTDEANSTGENDTITLQCRIKQIINMWQQVGKAMYAPPIRGQIRCTSNITGLILTRDGGEPKNGSDPETFRPGGGDMRDNWRSELYKYKVVKIEPLGIAPTRAKRRVVQREKRAVGIGAVFLGFLGAAGSTMGAASVTLTVQARQLLSGIVQQQSNLLRAIEAQQHLLQLTVWGIKQLQARVLAVERYLKDQQLLGIWGCSGRLICTTAVPWNASWSNKSMEQIWDNMTWMEWEREINNYTDLIYTLIEKSQNQQEKNEQELLELDKWASLWNWFSITNWLWYIKIFIMIVGGLIGLRIVFTVLSIVNRVRQGYSPLSFQTRFPAPRGPDRPEGIEEEGGERDRDRSGTLVNGFLAIIWVDLRSLFLFSYHRLRDLLLIVTRIVELLGRRGWEALKYWWNLLQYWSQELKNSAVSLLNATAIAVAEGTDRVIEIVQRAYRAIIHIPTRIRQGLERALL'),\n",
       " ('DQ976431.1',\n",
       "  'MRVMGIRKNYQHLWKWGMMLLGMLMICNVAGNLWVTVYYGVPVWKEATTTLFCASDAKAYDTEVHNVWATHACVPTDPNPQEVLLENVTENFNMWKNNMVEQMHEDIISLWDQSLKPCVKLTPLCVTLNCTDLRNTTNATSSSGGTMGGGEMKNCSFNITTSIRDKMQKEYALFYKLDIIPIANDNTSYRLINCNTSVITQACPKVTFEPIPIHYCAPAGFAILKCNNKRFNGTGPCTNVSTVQCTHGIRPVVSTQLLLNGSLAEEEVVIRSANFSDNAKNIIVQLNETVEINCTRPNNNTRKSIPIGPGRAIYTTGQIIGDIRQAHCNLSRAKWNETLKQIVTKLREQFGNKTIVFNQSSGGDPEIVTHSFNCGGEFFYCNSTQLFNSTWNITEESNSIEGNDTITLPCRIKQIVNMWQEVGKAMYAPPIRGQIRCSSNITGLILTRDGGNENENETEVFRPGGGDMRDNWRSELYKYKVVKIEPLGVAPTKAKRRVVQREKRAVGIGAMFLGFLGAAGSTMGAASVTLTVQARLLLSGIVQQQNNLLRAIEAQQHLLQLTVWGIKQLQARVLAVERYLKDQQLLGIWGCSGKLICTTAVPWNSSWSNKSLDQIWDNMTWMEWEREISNYTSLIYTLIEESQNQQEKNEQELLALDKWASLWNWFDISNWLWYIKIFIMIVGGLVGLRIVFSVLSIVNRVRQGYSPLSFQIRPPAPRGPDRPGGTEEEGGERDRDGSGRLVDGFLALIWVDLRSLCLFSYHRLRDLLLIVTRIVELLGRRGWELLKYWWNLLQYWSEELKNSAVSLLNAIAIAVAEGTDRVIEVVQRACRAILHIPTRIRQGLERALL'),\n",
       " ('JN002050.1',\n",
       "  'MRVKEKYQHLWRWGWRWGTMLLGMLMICSATEKLWVTVYYGVPVWKEASTTLFCASDAKAHGTEAHNVWATHACVPTDPSPQEVRLENVTENFNMWKNNMVEQVQEDIISLWDQSLKPCVKLTPLCVTLNCINANATYANTSRWEKMEGEIKNCSFNITTNIGNKMKKEYALFNKLDVVPTGDGNTSYMLINCNTSAITQACPKVSFEPIPIHYCAPAGFAILQCNDKKFNGTGPCTNVSTVQCTHGIRPVVSTQLLLNGSLAEEEVVIRSENFTNNAKNIIVHLNESVQINCTRPDNNTRKGIHLGPGGTFFATGAIIGDIRQAHCNISEAQWNNTLKRIVIKLAEQINKTIVFNHPSGGDPEIVMHSFNCGGEFFYCNTTELFNSTWLSNGTRNDTNKNSNNGTIILPCRIRQIVNRWQEVGKAMYAPPISGQINCSSNITGLLLTRDGGPGNSTTETFRPGGGDMRDNWRSELYKYKVVKIEPLGVAPTKAKRRVVQREKRAVGTLGAMFLGFLGAAGSTMGAASLTLTVQARQLLSGIVQQQNNLLRAIEAQQHLLQLTVWGIKQLQARVLAVERYLKDQQLLGIWGCSGKLICTTAVPWNTSWSNKTLNDIWNNMTWMEWDREINNYTNLIYSLIEESQNQQEKNEQDLLALDEWASLWNWFDITKWLYYIKIFIMIVGGLIGLKIVFTVLSVVNKVRQGYSPLSLQTHLPVPQGPDRPEGTEEESGDRGRDRSGRLVIGSLALIWDDLRSLCLFSYHRLRDLLLIVTRIVELLGRRGWEALKYWWNLLQYWSQELKNSAVSLLNATAIAVAEGTDRVIEVVQGACRAIRHIPRRIRQGLERILL'),\n",
       " ('EU308541.1',\n",
       "  'MRVKEKYQHLWRWGWRWGTMLLGMLMICSATEKLWVTVYYGVPVWKDANTTLFCASDAKAYDTEVHNVWATHACVPTDPSPQEVLLENVTEYFNMWKNNMVDQMHEDIINLWDQSLKPCVKLTPLCVTLKCADLRNDTDLRNDTSGSNETEKAMEKGEMKNCSFNITSRVREKVQKGRALFDRTDVVPIENTTDKYRLINCNTSVITQACPKISFEPIPIHYCTPAGFAIIKCKDKKFNGTGPCKNISTVQCTHGIRPVVSTQLLLNGSLAEEEVVIRSANFSDNAKTIIVQLNESVEINCTRPNNNTRTSIPMGPGRAMYATGDIIGNIRQAYCTLSKAKWNDTLRQVVIKLREQFKNKTIVFNHSSGGDPEIVMHSFNCGGEFFYCNTTQLFNSTWKGDKNLNNTGENNTTGKIILPCRIKQIINMWQEVGKAMYAPPIQGLISCTSNITGLLLTRDGGVNNETNNTETFRPGGGDMKDNWRSELYKYKVVRIEPLGVAPTKAKRRVVQREK'),\n",
       " ('DQ976427.1',\n",
       "  'MRVMGIRKNYQHLWKWGMMLLGMLMICNVAGNLWVTVYYGVPVWKEATTTLFCASDAKAYDTEVHNVWATHACVPTDPNPQEVLLENVTENFNMWKNNMVEQMHEDIISLWDQSLKPCVKLTPLCVTLNCTDLRNTTNATSSSGGTMGGGEMKNCSFNITTSIRDKMQKEYALFYKLDIIPIANDNTSYRLINCNTSVIAQACPKVTFEPIPIHYCAPAGFAILKCNNKRFNGTGPCTNVSTVQCTHGIRPVVSTQLLLNGSLAEEEVVIRSANFSDNAKNIIVQLNETVEINCTRPNNNTRKSIPIGPGRAIYITGQIIGDIRQAHCNLSRAKWNETLKQIVTKLREQFGNKTIVFNQSSGGDPEIVTHSFNCGGEFFYCNSTQLFNSTWNITEESNSIEGNDTITLPCRIKQIVNMWQEVGKAMYAPPIRGQIRCSSNITGLILTRDGGNENENETEIFRPGGGDMRDNWRSELYKYKVVKIEPLGVAPTKAKRRVVQREKRAVGIGAMFLGFLGAAGSTMGAASVTLTVQARLLLSGIVQQQNNLLRAIEAQQHLLQLTVWGIKQLQARVLAVERYLKDQQLLGIWGCSGKLICTTAVPWNSSWSNKSLDQIWDNMTWMEWEREISNYTSLIYTLIEESQNQQEKNEQELLALDKWASLWNWFDISNWLWYIKIFIMIVGGLVGLRIVFSVLSIVNRVRQGYSPLSFQIRPPAPRGPDRPGGTEEEGGERDRDGSGRLVDGFLALIWVDLRSLCLFSYHRLRDLLLIVTRIVELLGRRGWELLKYWWNLLQYWSEELKNSAVSLLNAIAIAVAEGTDRVIEVVQRACRAILHIPTRIRQGLERALL'),\n",
       " ('DQ976401.1',\n",
       "  'MRVKEIMKNCQHLLTWGTMLFGMLMICSATEQLWVTVYYGVPVWKEASTTLFCASDAKAHGTEAHNVWATHACVPTDPSPQEVRLENVTENFNMWKNNMVEQMQEDIISLWDQSLKPCVKLTPLCVTLNCINANATYANNSRWEKMEGEIKNCSFNITTNIGNKMKKEYALFNKLDVVPTGDGNTSYMLINCNTSAITQACPKVSFEPIPIHYCAPAGFAILQCNDKKFNGTGPCTNVSTVQCTHGIRPVVSTQLLLNGSLAEEEVVIRSENFTNNAKNIIVHLNESVQINCTRPDNNTRKGIHLGPGGTFFATGAIIGDIRQAHCNISEAQWNNTLKRIVIKLAEQINKTIVFNHSSGGDPEIVMHSFNCGGEFFYCNTTELFNSTWLSNGTRNDTNKNSNNGTIILPCRIRQIVNRWQEVGKAMYAPPISGQINCSSNITGLLLTRDGGPGNSTTETFRPGGGDMRDNWRSELYKYKVVKIEPLGVAPTKAKRRVVQREKRAVGTLGAVFLGFLGAAGSTMGAASLTLTVQARQLLSGIVQQQNNLLRAIEAQQHLLQLTVWGIKQLQARVLAVERYLKDQQLLGIWGCSGKLICTTAVPWNTSWSNKTLNGIWNNMTWMEWDREINNYTNLIYSLIEESQNQQEKNEQELLALDEWASLWNWFSITKWLYYIKIFIMVVGGLVGLKIVFTVLSIVNKVRQGYSPLSFQTHLPVPQGPDRPEGIEEEGGDRGRDRSGRLVIGLSPLIWDDLRNLCLFSYRHLRDLLLILARIVERLGRRGWEALKYWWNLLQYWSQELKNSAVSLLNATAIAVAKGTDRVIEVVQRICRAILHIPRRIRQGLERALL'),\n",
       " ('DQ976392.1',\n",
       "  'MRVKGIRKSCQHLWRWGTMLLGILMICSATENLWVTVYYGVPVWKEATTTLFCASDAKAYDTEAHNVWATHACVPTDPNPQEVELKNVTENFNMWKNNMVEQMHEDIISLWDQSLKPCVRLTPLCVTLNCSDVNATEPTSSSEEKMEGGPEMKNCSFNITTSMTEKRKKEYALFYKLDVVPIDNTSYRLISCNTSVITQACPKVSFEPIPIHYCAPAGFAILKCNDKKFNGSGPCKNVSTVQCTHGIRPVVSTQLLLNGSLAEEEVVIRSANFSDNTKTIIVQLKEPVEINCTRPNNNTRKSIHMGPGKAFYATGDIIGDIRRAHCNISRAKWNNTLKQVVEKLTEQFKNKTIIFNQSSGGDPEIVMHSFTCGGEFFYCNSTPLFNSTWTWNDTQGSNSTKGNDTITLQCRIKQIINMWQEVGKAMYAPPIKGQIRCSSNITGLLLTRDGGKNESKNNETFRPGGGDMRDNWRSELYKYKVVRIEPLGVAPTKAKRRVVQREKRAVTLGAMFLGFLGAAGSTMGAASIALTVQARQLLSGIVQQQNNLLRAIEAQQHLLQLTVWGIKQLRARVLAVEKYLQDQQLLGIWGCSGKLICTTTVPWNATWSNKSLHEIWDNMTWMEWEREIDNYTDQIYILLEKSQNQQEKNEQELLELDKWANLWNWFDITQWLWYIKIFIMIVGGLIGLRIVFSVLSIVNRVRQGYSPLSFQTHLPTPRGPDRPGGIEEEGGERDRDRSGQLVNGFLAIIWVDLRSLCLFSYHRLRDLLLIVTRIVELLGRRGWEILKYWWNLLQYWSQELKNSAVSLLNATAIAVAEGTDRVIEVLQRAFRAILHIPRRIRQGLERALL'),\n",
       " ('EU308553.1',\n",
       "  'MRVKEKYQHLWRWGWRWGTMLLGMLMICSATEKLWVTVYYGVPVWKEATTTLFCASDAKAYDTEVHNVWATHACVPTDPNPQEVVLGNVTEYFNMWRNNMVEQMHEDVISIWDQSLKPCVKLTPLCVTLNCSDYIFNCTQSNNSSSNCTNSNNSSIRMMEKGDIKNCSFKVTTSLRNKVQKEFALFYSLDVVPIDNNDNTSYRLISCNTSVITQACPKVTFEPIPIHYCAPAGFAILKCNNKTFDGKGECKNVSTVQCTHGIRPVVSTQLLLNGSLAEEEVIIRSENFTNNAKTIIVQLNKTVVINCIRPSNNTRRSISIGPGRAFYATGEVIGDIRQAHCNISRVDWNNTLKQVVEKLRVQFKNKTIIFNQSSGGDPEIVTHSVNCGGEFFYCDSTQLFNSTWPANSTWTDPKSSVNITLPCRIKQIVNMWQEVGKAMYAPPIKGQIRCSSNITGLILTRDGGYSNNGSGPEIFRPGGGDMRDNWRSELYKYKVVRIEPLGVAPTKAKRRVVQREK'),\n",
       " ('EU308558.1',\n",
       "  'MRVKEKYQHLWRWGWRWGTMLLGMLMICSATEKLWVTVYYGVPVWKEATTTLFCASDAKAYDTEVHNVWATHACVPTDPNPQEVVLENVTENFNMWKNNMVEQMHEDIISLWDQSLKPCVKLTPLCVTLNCTDLRNVTNINNSSEGMRGEIKNCSFNITTSIRDKVKKDYALFYRLDVVPIDNDNTSYRLINCNTSTITQACPKVSFEPIPIHYCTPAGFAILKCKDKKFNGTGPCKNVSTVQCTHGIRPVVSTQLLLNGSLAEEEVVIRSSNFTDNAKNIIVQLKESVEINCTRPNNNTRKSIHIGPGRAFYTTGDIIGDIRQAHCNISRTKWNNTLNQIATKLKEQFGNNKTIVFNQSSGGDPEIVMHSFNCGGEFFYCNSTQLFNSTWNFNGTWNLTQSNGTEGNDTITLPCRIKQIINMWQEVGKAMYAPPIRGQIRCSSNITGLILTRDGGNNHNNDTETFRPGGGDMRDNWRSELYKYKVVKIEPLGVAPTKAKRRVVQREK'),\n",
       " ('DQ976405.1',\n",
       "  'MRVKEIMKNCQHLLTWGTLLFGVLMICSATDQLWVTVYYGVPVWKEASTTLFCASDAKAHNTEVHNVWATHACVPTDPSPQEVGLENVTENFNMWKNNMVEQMQEDIISLWDQSLKPCVKLTPLCVTLNCTNLKNATYTNSSSWEGMKEEIKNCSFNITTNIENKRKKEYALFNKLDVVPTGDGNTSYMLINCNTSAITQACPKVSFEPIPIHYCAPAGFAILQCNDKKFNGTGPCSNVSTVQCTHGIRPVVSTQLLLNGSLAEEEVIIRSENFSNNAKNIIVQLNESVQINCTRPNNNTRKSIHLGPGGAFYATGDIIGDIRQAHCNISEADWNNTLKKIVIKLAEQINKTIVFNQSSGGDPEIVMHSFNCGGEFFYCNTTELFNSTWQSDGTRNDTNKKSKNGTIILPCRIRQIVNRWQEVGKAMYAPPISGQINCLSNITGLILTRDGGPGNSTTETFRPGGGDMRDNWRSELYKYKVVKIEPLGVAPTKAKRRVVQREKRAVGTLGAMFLGFLGAAGSTMGAASLTLTVQARQLLSGIVQQQNKLLRAIEAQQHLLQLTVWGIKQLQARVLAVERYLKDQQLLGIWGCSGKLICATAVPWNSSWSNKTLNSIWDNMTWMEWDREINNYTNLIYSLLEESQNQQEKNEQDLLALDEWASLWNWFDITKWLYYIKIFIMIVGGLIGLKIVFTVLSIVNKVRQGYSPLSLQTHLPVPQGPDRPEGTEEEGGDRGRDRSGRLVIGLLPLIWDDLRNLCLFSYRHLRDLLLILARIVELLGRRGWEALKYWWNLLQYWSQELKSSAISLLNAIAIAVAEGTDRVIEVVQTICRAILLIPRRIRQGLERDLL'),\n",
       " ('DQ976415.1',\n",
       "  'MRVTGIRRNYQNWWKWGTMMLLGILMICNARRNLWVTVYYGVPVWKEAITTLFCASDAKAYDTEVHNVWATHACVPTDPNPQEVVMENVTENFNMWKNNMVEQMHEDIINLWDQSLKPCVKLTPLCVTLNCTDVNLNGTDVKNATNTTTTNTTSSSGIMMEVGEVKNCSFRTTTSVKDKVQKEYALFYKLDIIPIESDDNTSYRLISCNTSTITQACPKVSFEPIPIHYCAPAGFAIIQCNDKKFNGKGPCKNVSTVQCTHGIRPVVSTQLLLNGSLAEEEVVIRSENFTNNAKNIIVQLNETVEINCTRPNNNTRKSIPMGPGKTFYATGDIIGDIRQAHCNISRTKWNKTLKQIVIKLREQFGNNKTIAFNQSSGGDPEIVTHSFNCGGEFFYCNSSQLFNSTWVFNSTWNDTGGSNSTGENDTITLQCRIKQIINMWQQVGKAMYAPPIRGQIRCTSNITGLILTRDGGDPQNESDPEIFRPGGGDMRDNWRSELYKYKVVKIEPLGIAPTRAKRRVVRREKRAVGIGAMFLGFLGAAGSTMGAASVTLTVQARQLLSGIVQQQSNLLRAIEAQQHLLQLTVWGIKQLQARVLAVERYLKDQQLLGIWGCSGKLICTTAVPWNDSWSNKSMDQIWNNMTWMEWEREISNYTDLIYNLIEKSQNQQEKNEQELLELDKWASLWNWFSITNWLWYIKIFIMIVGGLIGLRIVFTVLSIVNRVRQGYSPLSFQTRLPARRGPDRPEGIEEKGGERDRDRSTPLVNGFLAIIWVDLRSLFLFSYHRLRDLLLIVTRIVELLGRRGWEALKYWWNLLQYWSQELKNSAVSLLNTTAIAVAEGTDRIIEIVQRAYRAIIHIPTRIRQGLERALL'),\n",
       " ('DQ976417.1',\n",
       "  'MRVMGIMRNYQHLWKWGTMMLLGILMICNARENLWVTVYYGVPVWKEATTTLFCASDAKAYDTEVHNVWATHACVPTDPNPQEVVLENVTENFNMWKNNMVEQMHEDIINLWDQSLKPCVKLTPLCVTLNCTDANFNSTDVKNATNTTATNTTSSGGIIMEVGEIKNCSFNITTRLRDKVQKEYALFYKLDVVPIGKDNTSYRLISCDTSTVTQACPKVSFEPIPIHYCTPAGFAIIKCNDKKFNGTGPCTNVSTVQCTHGIRPVVSTQLLLNGSLAEEEVVIRSENFTNNAKNIIVQLNETVEINCTRPNNNTRKSIPMGPGKAFYATGDIIGNIRQAHCNISRTRWNNTLKQIVIKLREQFGNKTIIFNQSSGGDPEIVTHSFNCGGEFFYCNSSQLFNSTWMFNSTWNDTDGANSTGENDTITLQCRIKQIINMWQQVGKAMYAPPIRGQIRCTSNITGLILTRDGGDTQNKSDPEIFRPGGGDMRDNWRSELYKYKVVKIEPLGIAPTRAKRRVVQREKRAVGIGAMFLGFLGAAGSTMGAASVTLTVQARQLLSGIVQQQSNLLRAIEAQQHLLQLTVWGIKQLQARVLAVERYLKDQQLLGIWGCSGKLICTTAVPWNASWSNKSMEQIWDNMTWMEWEREINNYTDLIYTLIEKSQNQQEKNEQELLELDKWASLWNWFDITNWLWYIKIFIMIVGGLIGLRIVFTVLSIVNRVRQGYSPLSFQTRFPAPRGPDRPEGIEEEGGERDRDRSGSLVNGFLAIIWVDLRSLFLFSYHRLRDLLLIVTRIVELLGRRGWEALKYWWNLLQYWSQELKNSAVSLLNATAIAVAEGTDRVIEIVQRAYRAIIHIPTRIRQGLERALL'),\n",
       " ('DQ976421.1',\n",
       "  'MRVMGIMRNYQHLWKWGTMMLLGILMICNATEKLWVTVYYGVPVWKEATTTLFCASDAKAYDAEVHNVWATHACVPTDPNPQEVVLENVTENFNMWKNNMVEQMHEDIINLWDQSLKPCVKLTPLCVTLNCTDANFNSTDVKNATNTTASNTTSSSGGMMEAGEIKNCSFNITTRLRDKVQKEYALFYKLDVVPIGKDNTSYRLISCDTSTVTQTCPKVSFEPIPIHYCAPAGFAIIQCNDKKFNGTGPCKNVSTVQCTHGIRPVVSTQLLLNGSLAEEEVVIRSENFTNNAKNIIVQLNENVEINCTRPNNNTRKSIPMGPGKAFYATGDIIGNIRQAHCNISRTRWNNTLKQIVIKLREQFGNKTIIFDQSSGGDPEIVMHSFNCGGEFFYCNSTQLFNSTWMVNSTWNDTEGSNTSGENDTITLQCRIKQIINMWQQVGKAMYAPPIRGQIRCTSNITGLILTRDGGDPKNGSEPEIFRPGGGDMRDNWRSELYKYKVVKIEPLGIAPTRAKRRVVQREKRAVGIGAVFLGFLGAAGSTMGAASVTLTVQARQLLSGIVQQQSNLLRAIEAQQHLLQLTVWGIKQLQARVLAVERYLKDQQLLGIWGCSGRLICTTAVPWNASWSNKSMEQIWDNMTWMEWEREISNYTDFIYTLIEKSQNQQEKNEQELLELDKWASLWNWFDITNWLWYIKIFIMIVGGLIGLRIVFTVLSIVNRVRQGYSPLSFQTRLPARRGPDRPEGIEEEGGERDRDRSGSLVNGFLAIIWVDLRSLFLFSYHRLRDLLLIVTRIVELLGRRGWEALKYWWNLLQYWSQELKNSAVSLLNTTAIAVAEGTERVIEVLQRAYRAILHIPTRIRQGLERALL'),\n",
       " ('DQ976424.1',\n",
       "  'MRVMGIMRNYQHLWKWGTMMLLGILMICNATEKLWVTVYYGVPVWKEATTTLFCASDAKAYDAEVHNVWATHACVPTDPNPQEVVLENVTENFNMWKNNMVEQMHEDIINLWDQSLKPCVKLTPLCVTLNCTDANFNSTDVKNATNTTASNTTSSSGGMMEAGEIKNCSFNITTRLRDKVQKEYALFYKLDVVPIGKDNTSYRLISCDTSTVTQTCPKVSFEPIPIHYCAPAGFAIIQCNDKKFNGTGPCKNVSTVQCTHGIRPVVSTQLLLNGSLAEEEVVIRSENFTNNAKNIIVQLNENVEINCTRPNNNTRKSIPMGPGKAFYATGDIIGNIRQAHCNISRTRWNNTLKQIVIKLREQFGNKTIIFDQSSGGDPEIVMHSFNCGGEFFYCNSTQLFNSTWMVNSTWNDTEGSNTSGENDTITLQCGIKQIINMWQQVGKAMYAPPIRGQIRCTSNITGLILTRDGGDPKNGSEPEIFRPGGGDMRDNWRSELYKYKVVKIEPLGIAPTRAKRRVVQREKRAVGIGAVFLGFLGAAGSTMGAASVTLTVQARQLLSGIVQQQSNLLRAIEAQQHLLQLTVWGIKQLQARVLAVERYLKDQQLLGIWGCSGRLICTTAVPWNASWSNKSMEQIWDNMTWMEWEREISNYTDFIYTLIEKSQNQQEKNEQELLELDKWASLWNWFDITNWLWYIKIFIMIVGGLIGLRIVFTVLSIVNRVRQGYSPLSFQTRLPARRGPDRPEGIEEEGGERDRDRSGSLVNGFLAIIWVDLRSLFLFSYHRLRDLLLIVTRIVELLGRRGWEALKYWWNLLQYWSQELKNSAVSLLNTTAIAVAEGTERVIEVLQRAYRAILHIPTRIRQGLERALL'),\n",
       " ('DQ976387.1',\n",
       "  'MRVKGIRKSYQHLWRWGTMLHGILMICSATENLWVTVYYGVPVWKEATTTLFCASDAKAYDTEVHNVWATHACVPTDPNPQEVELENVTENFNMWKNNMVEQMHEDIISLWDQSLKPCVRLTPLCVILNCTDLKNDTTTTSGGGGIMMEKGEIKNCSFSINTRGRNKEQKDYAFFYKLDVVPINNNNSYRLISCNTSVITQACPKVSFEPIPIHYCAPAGFAILKCKDKKFNGTGPCKNVSTVQCTHGIRRVVSTQLLLNGSLAEEEVVIRSANFSDNTKTIMVQLKEAVEINCTRPNNNTRKSIPMGPGKAFYTTGEIIGDIRQAHCNLSITKWNNTLKQIVEKLREQFENKTIIFNQSAGGDPEIVMHSFNCGGEFFYCNSTQLFNSTWSSNSTWNDTQGSNNPEGNDTITLTCRIKQFINMWQEVGKAMYAPPISGQIRCSSNITGLLLTRDGGTNEISNQTEIFRPGGGDMRDNWRSELYKYKVVKIEPLGVAPTKAKRRVVQREKRAAVGLGAVFLGFLGAAGSTMGAASITLTAQARQLLSGIVQQQNNLLRAIEAQQHLLQLTVWGIKQLQARVLAVERYLKDQQLLGIWGCSGKLICTTTVPWNASWSNKSLDKIWNNMTWMEWEREINNYTSLIYNLIEESQNQQEKNEQELLELDKWASLWNWFDITQWLWYIRIFIMIVGGLIGLRIVFAVLSIVNRVRQGYSPLSFQTRFPAPRGPDRPGGTEEEGGERDRDRSGRLVSGFLALIWDDLRSLCLFSYHRLRDLLLIVTRIVELLGRRGWEALKYWGNLLQYWSQELKNSAVSLLNVTAIAVAEGTDRVIEVLQRAFRAILHIPRRIRQGLERALL'),\n",
       " ('DQ976414.1',\n",
       "  'MRVTGIMRNYQNLWKWGTMMLLGILMICNARENLWVTVYYGVPVWKEATTTLFCASDAKAYDTEVHNVWATHACVPTDPNPQEVVLENVTENFNMWKNNMVEQMHEDIINLWDQSLKPCVKLTPLCVTLNCTDVNLNGTDVKNAATTTATNATDTDTTSSSGRMMEVGEIKNCSFNITTRLRDKVQKEYALFYKLDVVPIGKDNTSYRLISCDTSTVTQACPKVSFEPIPIHYCTPAGFAIIKCNDKKFNGTGPCTNVSTVQCTHGIRPVVSTQLLLNGSLAEEEVVIRSENFTNNAKNIIVQLNETVEINCTRPNNNTRKSIPMGPGKAFYATGDIIGNIRQAHCNISRTRWNNTLKQIVIKLRERFGNKTIIFNQSSGGDPEIVTHSFNCGGEFFYCNSSQLFNSTWMFNSTWNDTDEANSTGKNDTITLQCRIKQIINMWQQVGKAMYAPPIRGQIRCTSNITGLILTRDGGDTQNKSDPEIFRPGGGDMRDNWRSELYKYKVVKIEPLGIAPTRAKRRVVQREKRAVGIGAMFLGFLGAAGSTMGAASVTLTVQARQLLSGIVQQQSNLLRAIEAQQHLLQLTVWGIKQLQARVLAVERYLKDQQLLGIWGCSGRLICTTAVPWNASWSNKSMEQIWDNMTWMEWEREINNYTDLIYTLIEKSQNQQEKNEQELLELDKWASLWNWFSITNWLWYIKIFIMIVGGLIGLRIVFTVLSIVNRVRQGYSPLSFQTRFPAPRGPDRPEGIEEEGGERDRDRSGTLVNGFLAIIWVDLRSLFLFSYHRLRDLLLIVTRIVELLGRRGWEALKYWWNLLQYWSQELKNSAVSLLNATAIAVAEGTDRVIEVLQRAYRAILHIPTRIRQGLERALL'),\n",
       " ('EU308557.1',\n",
       "  'MRVKEKYQHLWRWGWRWGTMLLGILMICSATEKLWVTVYYGVPVWKEATTTLFCASDAKAYDTEVHNVWATHACVPTDPNPQEVVLENVTENFNMWKNNMVEQMHEDIISLWDQSLKPCVKLTPLCVTLNCTDLRNVTNINNSSEGMRGEIKNCSFNITTSIRDKVKKDYALFYRLDVVPIDNDNSYRLINCNTSTITQACPKVSFEPIPIHYCTPAGFAILKCKDKKFNGTGPCKNVSTVQCTHGIRPVVSTQLLLNGSLAEEEVVIRSSNFTDNAKNIIVQLKESVEINCTRPNNNTRKSIHIGPGRAFYTTGDIIGDIRQAHCNISRTKWNNTLNQIATKLKEQFGNNKTIVFNQSSGGDPEIVMHSFNCGGEFFYCNSTQLFNSTWNFNGTWNLTQSNGTEGNDTITLPCRIKQIINMWQEVGKAMYAPPIRGQIRCSSNITGLILTRDGGNNHNNDTETFRPGGGDMRGNWRSELYKYKVVKIEPLGVAPTKAKRRVVQREK'),\n",
       " ('DQ976404.1',\n",
       "  'MRVKEIMKNCQHLLTWGTLLFGVLMICSATDQLWVTVYYGVPVWKEASTTLFCASDAKAHNTEVHNVWATHACVPTDPSPQEVRLENVTENFNMWKNNMVEQMQEDIISLWDQSLKPCVKLTPLCVTLNCTNLKNATYTNSSSWEGMKEEIKNCSFNITTNIENKRKKEYALFNKLDVVPTGDGNTSYMLINCNTSAITQACPKVSFEPIPIHYCAPAGFAILQCNDKKFNGTGPCSNVSTVQCTHGIRPVVSTQLLLNGSLAEEEVIIRSENFSNNAKNIIVQLNESVQINCTRPNNNTRKSIHLGPGGAFYATGDIIGDIRQAHCNISEADWNNTLKKIVIKLAEQINKTIVFNQPSGGDPEIVMHSFNCGGEFFYCNTTELFNSTWQSDGTRNDTNKKSKNGTIILPCRIRQIVNRWQEVGKAMYAPPISGQINCLSNITGLILTRDGGPGNSTTETLRPGGGDMRDNWRSELYKYKVVKIEPLGVAPTKAKRRVVQREKRAVGTLGAMFLGFLGAAGSTMGAASLTLTVQARQLLSGIVQQQNKLLRAIEAQQHLLQLTVWGIKQLQARVLAVERYLKDQQLLGIWGCSGKLICATAVPWNSSWSNKTLNSIWDNMTWMEWDREINNYTNLIYSLLEESQNQQEKNEQDLLALDEWASLWNWFDITKWLYYIKIFIMIVGGLIGLKIVFTVLSIVNKVRQGYSPLSLQTHLPVPQGPDRPEGTEEEGGDRGRDRSGRLVIGLLPLIWDDLRNLCLFSYRHLRDLLLILARIVELLGRRGWEALKYWWNLLQYWSQELKSSAISLLNAIAIAVAEGTDRIIEVVQTICRAILLIPRRIRQGLERDLL'),\n",
       " ('DQ976399.1',\n",
       "  'MRVKEIMKNCQHLLTWGTMLFGMLMICSATEQLWVTVYYGVPVWKEASTTLFCASDAKAHGTEAHNVWATHACVPTDPSPQEVRLENVTENFNMWKNNMVEQMQEDIISLWDQSLKPCVKLTPLCVTLNCINANATYANNSRWEKMEGEIKNCSFNITTNIGNKMKKEYALFNKLDVVPTGDGNTSYMLINCNTSAITQACPKVSFEPIPIHYCAPAGFAILQCNDKKFNGTGPCTNVSTVQCTHGIRPVVSTQLLLNGSLAEEEVVIRSENFTNNAKNIIVHLNESVQINCTRPDNNTRKGIHLGPGGTFFATGAIIGDIRQAHCNISEAQWNNTLKRIVIKSAEQINKTIVFNHSSGGDPEIVMHSFNCGGEFFYCNTTELFNSTWLSNGTRNDTNKNSNNGTIILPCRIRQIVNRWQEVGKAMYAPPISGQINCSSNITGLLLTRDGGPGNSTTETFRPGGGDMRDNWRSELYKYKVVKIEPLGVAPTKAKRRVVQREKRAVGTLGAVFLGFLGAAGSTMGAASLTLTVQARQLLSGIVQQQNNLLRAIEAQQHLLQLTVWGIKQLQARVLAVERYLKDQQLLGIWGCSGKLICTTAVPWNTSWSNKTLNDIWNNMTWMEWDREINNYTNLIYSLIEESQNQQEKNEQELLALDEWASLWNWFSITKWLYYIKIFIMVVGGLVGLKIVFTVLSIVNKVRQGYSPLSFQTHLPVPQGPDRPEGIEEEGGDRGRDRSGRLVIGLLPLIWDDLRNLCLFSYRHLRDLLLILARIVERLGRRGWEALKYWWNLLQYWSQELKNSAVSLLNATAIAVAKGTDRVIEVVQRICRAILHIPRRIRQGLERALL'),\n",
       " ('U63632.1',\n",
       "  'MRVKGIRKSYQYLWKGGTLLLGILMICSAVEKLWVTVYYGVPVWKEATTTLFCASDAKAYDTEVHNVWATHACVPTDPNPQEVVLENVTEHFNMWKNNMVEQMQEDIISLWDQSLKPCVKLTPLCVTLNCKDVNATNTTNDSEGTMERGEIKNCSFNITTSIRDEVQKEYALFYKLDVVPIDNNNTSYRLISCDTSVITQACPKISFEPIPIHYCAPAGFAILKCNDKTFNGKGPCKNVSTVQCTHGIRPVVSTQLLLNGSLAEEEVVIRSDNFTNNAKTIIVQLKESVEINCTRPNNNTRKSIHIGPGRAFYTTGEIIGDIRQAHCNISRAKWNDTLKQIVIKLREQFENKTIVFNHSSGGDPEIVMHSFNCGGEFFYCNSTQLFNSTWNNNTEGSNNTEGNTITLPCRIKQIINMWQEVGKAMYAPPIRGQIRCSSNITGLLLTRDGGINENGTEIFRPGGGDMRDNWRSELYKYKVVKIEPLGVAPTKAKRRVVQREKRAVGIGAVFLGFLGAAGSTMGAASMTLTVQARLLLSGIVQQQNNLLRAIEAQQRMLQLTVWGIKQLQARVLAVERYLGDQQLLGIWGCSGKLICTTAVPWNASWSNKSLDRIWNNMTWMEWEREIDNYTSEIYTLIEESQNQQEKNEQELLELDKWASLWNWFDITKWLWYIKIFIMIVGGLVGLRLVFTVLSIVNRVRQGYSPLSFQTLLPAPRGPDRPEGIEEEGGERDRDRSGRLVNGFLALIWVDLRSLCLFSYHRLRDLLLTVTRIVELLGRRGWEVLKYWWNLLQYWSQELKNSAVSLLNATAIAVAEGTDRIIEALQRTYRAILHIPTRIRQGLERALL'),\n",
       " ('DQ976420.1',\n",
       "  'MRVTGIMRSYQNLWIWSTMMLLGIFMICNANLWVTVYYGVPVWKEADTTLFCASDAKAYDTEVHNVWATHACVPTDPNPQEVVLENVTENFYMWKNNMVEQMHEDIINLWDQSLKPCVKLTPLCVTLNCTDAIFNSTDTTAANITSSGGKVMEAGEIKNCSFNITTSLRKKVQKEYALFYKLDVVPIRKKTNTTKYRLISCNTSTITQACPKVSFEPIPIHYCAPAGFAIIQCNDKKFNGTGPCTNVSSVQCTHGIRPVVSTQLLLNGSLAEEEVVIRSENFTNNAKVIIVQLNETVEINCTRPNNNTRKSITMGPGKAFYATGDIIGDIRQAHCNISGTRWNNTLKQIVIKLREQFGNKTIIFNQSSGGDPEIVMHSFNCGGEFFYCNSSQLFNSTWRSNNTWNETDGSNTSGNNDTITLQCRIKQFINMWQQVGKAMYAPPIRGQIRCTSNITGLILTRDGGKRNESEPTEIFRPGGGDMRDNWRSELYKYKVVKIEPLGIAPTRAKRRVVQRGKRAVGIGAVFLGFLGAAGSTMGAASVTLTVQARQLLSGIVQQQSNLLRAIEAQQHLLQLTVWGIKQLQARVLAVERYLKDQQLLGIWGCSGRLICTTAVPWNASWSNKTMEQIWDNMTWMEWEREISNYTDLIYNLIEKSQNQQEKNEQELLELDKWASLWNWFSITNWLWYIKIFIMIVGGLIGLRIVFTVLSIVNRVRQGYSPLSFQTRLPARRGPDRPEGIEEEGGERDRDTSTPLVNGFLAIIWVDLRSLFLFSYHRLRDLLLIVTRIVEPLGRRGWETLKYLWNLLQYWSQELKNSAVSLFNATAIAVAEGTDRVIEVVQRAYRAILHIPTRIRQGLERALL'),\n",
       " ('JN002043.1',\n",
       "  'MRVKEKYQHLWRWGWRWGTMLLGMLMICSATEKLWVTVYYGVPVWKEANTTLFCASDAKAHKTEAHNVWATHACVPTDPSPQEVRLENVTENFNMWKNNMVEQMHEDIISLRDQSLKPCVKLTPLCVTLNCINANTTNSSIWEGMKEEIKNCSFNITTNIKKKLKREYALFNKLDVVPTGDSNTSYMLINCNTSAITQACPKVSFEPIPIHYCAPAGFAILQCNDNMFNGTGPCSNVSTVQCTHGIRPVVSTQLLLNGSLAKEEVIIRSENFTNNAKNIIVQLNESVEINCTRPNNNTRKSIPIGPGRAFYATGDIIGNIRQAHCNISRAKWNNTLKQIVIKLAEQINKTIVFNHSSGGDPEIVTHSFNCGGEFFYCDSSQLFNSTWMFNSTWNDTDGANSTRKNDTITLQCRIKQIINMWQQVGKAMYAPPIRGQIRCTSNITGLILTRDGGDTQNKSDPEIFRPGGGDMRDNWRSELYKYKVVKIEPLGIAPTRAKRRVVQREKRAVGMLGAMFLGFLGAAGSTMGAASLTLTVQARQLLSGIVQQQNNLLRAIEAQQHLLQLTVWGIKQLQARVLAVERYLKDQQLLGIWGCSGKLICTTAVPWNTSWSNKSYNNIWDNMTWMEWDREINNYTNIIYSLIEESQNQQEKNEQDLLALDEWASLWNWFDITKWLYYIKIFIMIVGGLIGLKIVFTVLSVVNKVRQGYSPLSLQTHLPVPQGPDRPEGTEEESGNRGRDRSGRLVIGSLALIWDDLRSLCLFSYHRLRDLLLIVTRIVELLGRRGWEALKYWWNLLQYWSQELKNSAVSLLNATAIAVAEGTDRVIEVVQGACRAIRHIPRRIRQGLERILL'),\n",
       " ('DQ976394.1',\n",
       "  'MRVKEIMKNCQHLLTWGTMLFGMLMICSATEQLWVTVYYGVPVWKEASTTLFCASDAKAHGTEAHNVWATHACVPTDPSPQEVRLENVTENFNMWKNNMVEQMQEDIISLWDQSLKPCVKLTPLCVTLNCINANATYANNSRWEKMEGEIKNCSFNITTNIGNKMKKEYALFNKLDVVPTGDGNTSYMLINCNTSAITQACPKVSFEPIPIHYCAPAGFAILQCNDKKFNGTGPCTNVSTVQCTHGIRPVVSTQLLLNGSLAEEEVVIRSENFTNNAKNIIVHLNESVQINCTRPDNNTRKGIHLGPGGTFFATGAIIGDIRQAHCNISEAQWNNTLKRIVIKLAEQINKTVVFNHSSGGDPEIVMHSFNCGGEFFYCNTTELFNSTWLSNGTRNDTNKNSNNGTIILPCRIRQIVNRWQEVGKAMYAPPISGQINCSSNITGLLLTRDGGPGNSTTETFRPGGGDMRDNWRSELYKYKVVKIEPLGVAPTKAKRRVVQREKRAVGTLGAVFLGFLGAAGSTMGAASLTLTVQARQLLSGIVQQQNNLLRAIEAQQHLLQLTVWGIKQLQARVLAVERYLKDQQLLGIWGCSGKLICTTAVPWNTSWSNKTLNDIWNNMTWMEWDREINNYTNLIYSLIEESQNQQEKNEQELLALDEWASLWNWFSITKWLYYIKIFIMVVGGLVGLKIVFTVLSIVNKVRQGYSPLSFQTHLPVPQGPDRPEGIEEEGGDRGRDRSGRLVIGLLPLIWDDLRNLCLFSYRHLRDLLLILARIVERLGRRGWEALKYWWNLLQYWSQELKNSAVSLLNATAIAVAKGTDRVIEVVQRICRAILHIPRRIRQGLERALL'),\n",
       " ('EU308568.1',\n",
       "  'MRVKEKYQHLWRWGWRWGTMLLGMLMICSATEKLWVTVYYGVPVWKEATTTLFCASDAKAYDTEVHNVWATHACVPTDPNPQEVKLENLTENFNMWKNNMVEQMHEDIISLWDQSLKPCVKLTPLCVTLNCTDWQNNATKTNSISVGTMEGGEVKNCSFNITTSIRDKMQKEYALFYKLDIVPIDNSSTRYRLISCNTSVITQACPKVSFEPIPIQYCTPAGFALLKCNDKKFNGTGTCTNVSTVQCTHGIRPVVSTQLLLNGSLAEEEVVIRSENFTNNAKTIIAQLKEPVKINCTRPGNNTRKGIHIGPGRAFYATGGIIGDIRQAHCNLSRTEWNNTLLQIVKKLGEQFRNKTIVFNQSSGGDPEIVMHSFNCGGEFFYCNTTQLFNSTWTWNNNTGWPNKIEGNDTIITLPCRIKQIINRWQEVGKAMYAPPIRGNISCSSNITGLLLTRDGGKESENTTETFRPGGGDMRDNWRSELYKYKVVKIEPLGVAPSKAKRRVVQREK'),\n",
       " ('DQ976385.1',\n",
       "  'MRVKGIRKSYQHLWRWGTMLHGILMICSATENLWVTVYYGVPVWKEATTTLFCASDAKAYDTEVHNVWATHACVPTDPNPQEVELENVTENFNMWKNNMVEQMHEDIISLWDQSLKPCVRLTPLCVILNCTDLKNDTTTTSGGGGIMMEKGEIKNCSFSINTRGRNKEQKDYAFFYKLDVVPINNNNSYRLISCNTSVITQACPKVSFEPIPIHYCAPAGFAILKCKDKKFNGTGPCKNVSTVQCTHGIRPVVSTQLLLNGSLAEEEVVIRSANFSDNTKTIMVQLKEAVEINCTRPNNNTRKSIPMGPGKAFYTTGEIIGDIRQAHCNLSITKWNNTLKQIVEKLREQFENKTIIFNQSAGGDPEIVMHSFNCGGEFFYCNSTQLFNSTWSSNSTWNDTQGSNNPEGNDTITLTCRIKQFINMWQEVGKAMYAPPISGQIRCSSNITGLLLTRDGGTNEISNQTEIFRPGGGDMRDNWRSELYKYKVVKIEPLGVAPTKAKRRVVQREKRAAVGLGAVFLGFLGAAGSTMGAASITLTAQARQLLSGIVQQQNNLLRAIEAQQHLLQLTVWGIKQLQARVLAVERYLKDQQLLGIWGCSGKLICTTTVPWNASWSNKSLDKIWNNMTWMEWEREINNYTSLIYNLIEESQNQQEKNEQELLELDKWASLWNWFDITQWLWYIRIFIMIVGGLIGLRIVFAVLSIVNRVRQGYSPLSFQTRFPAPRGPDRPGGTEEEGGERDRDRSGRLVNGFLALIWDDLRSLCLFSYHRLRDLLLIVTRIVELLGRRGWEALKYWGNLLQYWSQELKNSAVSLLNVTAIAVAEGTDRVIEVLQRAFRAILHIPRRIRQGLERALL'),\n",
       " ('JN002055.1',\n",
       "  'MRVKEKYQHLWRWGWRWGTMLLGMLMICSATEKLWVTVYYGVPVWKEATTTLFCASDAKAYDTEAHNVWATHACVPTDPNPQELKLENVTENFNMWKNNMVEQMHEDIISLWDQSLKPCVKLTPLCVTLNCSDLNTTSSNGEIRERGEIKNCSFNITTSMTDKMQKEYSLFYKLDVVPIDNSNTSYRLTSCNTSVITQACPKVSFEPIPIHYCAPAGFAILKCNNKKFNGTGPCKNVSTVQCTHGIRPVVSTQLLLNGSLAEEEVVIRSANFSDNTKTIIVQLKEPVEINCTRPNNNTRKSIHMGPGKAFYTTGVIGDIRQAHCNISRTKWNNTLKQVVEKLREQYKNKTIIFNQSSGGDPEIVMHSFTCGGEFFYCDTTKLFNSTWSSNSTWNDTTGLNNTGEDDTITLPCRIKQIINMWQEVGKAMYAPPSSGQIRCSSNITGLLLTRDGGINGSEGNETFRPGGGDMRDNWRSELYKYKVVRIEPLGVAPTKAKRRVVQREKRAVGLGAMFLGFLGAAGSTMGAASIALTVQARQLLSGIVQQQNNLLRAIEAQQHLLQLTIWGIKQLQARVLAVERYLQDQQLLGIWGCSGKLICTTTVPWNTSWSNKSLDKIWNNMTWMEWEREIDNYTGLIYTLLEESQNQQEKNEQELLALDKWASLWNWFDITNWLWYIKIFIMIVGGLIGLRIVFTVLSIVNRVRQGYSPLSFQTHLPTPRGPDRPGGTEDEGGERDRDRSGQLVDGSLALIWDDLRSLCLFSYHRLRDLLLIVTRIVELLGRRGWEALKYWWNLLQYWSQELKNSAVSLLNATAIAVAEGTDRVIEVVQGACRAIRHIPRRIRQGLERILL'),\n",
       " ('EU308565.1',\n",
       "  'MRVKEKYQHLWRWGWRWGTMLLGMLMICSATEKLWVTVYYGVPVWKEATTTLFCASDAKAYDTEVHNVWATHACVPTDPNPQEVVLGNVTENFNMWKNNMVEQMHEDIISLWDQSLKPCVKLTPLCVTLNCTDFGNDTTINNSSRVKNCSFNITTNIRDKIQKEHALFNKLDVVPIDDNNSNTSYRLVSCNTSVITQACPKISFEPIPIHYCTPAGFAILKCKDEKFNGTGPCNNVSTVQCTHGIRPVVSTQLLLNGSLAEEGVVIRSQNFSNNAKTIIVQLKEPVEINCTRPNNNTSKSIHIGPGRAFFTIGKIGNKRQAHCNISREKWNNTLQQIVTKLREQFGNKTISFKQSSGGDPEVVMHTFNCGGEFFYCNSSQLFNSTWLSNGSSTWNNSARENITLITLPCRIKQIINMWQEVGKAMYAPPISGQIRCSSNITGLLLIRDGGNDNNTNNNETFRPGGGDMRDNWRSELYKYKVVKIEPLGMAPTKAKRRVVQREK'),\n",
       " ('DQ976416.1',\n",
       "  'MRVTEIMRNCQNLWKWGTMMLLGILIICNAKEKLWVTVYYGVPVWKEATTTLFCASDAKAYDTEVHNVWATHACVPTDPNPQEVVLENVTENFNMWKNNMVEQMHEDIINLWDQSLKPCVKLTPLCVTLNCTDANFNSTDVKNATNTTATNTTSSGGIIMEVGEIKNCSFNITTRLRDKVQKEYALFYKLDVVPIGRDNTSYRLISCDTSTVTQACPKVSFEPIPIHYCTPAGFAIIKCNDKKFNGTGPCTNVSTVQCTHGIRPVVSTQLLLNGSLAEEEVVIRSENFTNNAKNIIVQLNETVEINCTRPNNNTRKSIPMGPGKAFYATGDIIGNIRLAHCNISRTRWNNTLKQIVIKLREQFGNKTIIFNQPSGGDPEIVTHSFNCGGEFFYCNSSQLFNSTWMFNSTWNDTDGANSTGENDTITLQCRIKQIINMWQQVGKAMYAPPIRGQIRCTSNITGLILTRDGGDPQNESDPEIFRPGGGDMRDNWRSELYKYKVVKIEPLGIAPTRAKRRVVQREKRAVGIGAMFLGFLGAAGSTMGAASVTLTVQARQLLSGIVQQQSNLLRAIEAQQHLLQLTVWGIKQLQARVLAVERYLKDQQLLGIWGCSGKLICTTAVPWNASWSNKSMEQIWDNMTWMEWEREISNYTDLIYTLIEKSQNQQEKNEQELLELDKWASLWNWFDITNWLWYIKIFIMIVGGLIGLRIVFTVLSIVNRVRQGYSPLSFQTRFPAPRGPDRPEGIEEEGGERDRDRSGSLVNGFLAIIWVDLRSLFLFSYHRLRDLLLIVTRIVELLGRRGWEALKYWWNLLQYWSQELKNSAVSLLNATAIAVAEGTDRVIEIVQRAYRAIIHIPTRIRQGLERALL'),\n",
       " ('EU308549.1',\n",
       "  'MRVKEKYQHLWRWGWRWGTMLLGMLMICSATEKLWVTVYYGVPVWREAKTTLFCASDAKAYDTEAHNVWATHACVPTDPRPQEVILTNVTEDFNMWKNNMVEQMHEDIISLWDQSLKPCVKLTPLCVTLKCTDLNGTRENGTVMESGEIKNCSFNITTVIRGKVRKEYALFYRLDVVPIDSNKNNSKYRLINCNTSVITQACPKTSFEPIPIHYCAPAGFAILKCNDKNFNGTGPCKNVSTVQCTHGIRPVVSTQLLLNGSLAEDEVVIRSSNFSDNAKNIIVQLNKSVEINCTRPNNNTRKGIHIGPGKAFYTTGEIIGDIRQAHCNISGVQWNNTLEQITEKLREQFVNKTIVFNSSSGGDPEIVMHTFNCGGEFFFCNTTKLFNSTWNRNGTWTGAKGNGTITLPCRIKQIINMWQEVGKAMYAPPIRGQIRCTSNITGLLLTRDGGNITNEEEIFRPAGGNMKDNWRSELYKYKVVKIEPLGVAPTKAKRRVVQREK'),\n",
       " ('DQ976383.1',\n",
       "  'MRVKGIRKSYQHLWRWGTMLHGILMICSATENLWVTVYYGVPVWKEATTTLFCASDAKAYDTEVHNVWATHACVPTDPNPQEVELENVTENFNMWKNNMVEQMHEDIISLWDQSLKPCVRLTPLCVILNCTDLKNDTTTTSGGGGIMMEKGEIKNCSFSINTRGRNKEQKDYAFFYKLDVVPINNNNSYRLISCNTSVITQACPKVSFEPIPIHYCAPAGFAILKCKDKKFNGTGPCKNVSTVQCTHGIRPVVSTQLLLNGSLAEEEVVIRSANFSDNTKTIMVQLKEAVEINCTRPNNNTRKSIPMGPGKAFYTTGEIIGDIRQAHCNLSITKWNNTLKQIVEKLREQFENKTIIFNQSAGGDPEIVMHSFNCGGEFFYCNSTQLFNSTWSSNSTWNDTQGSNNPEGNDTITLTCRIKQFINMWQEVGKAMYAPPISGQIRCSSNITGLLLTRDGGTNEISNQTEIFRPGGGDMRDNWRSELYKYKVVKIEPLGVAPTKAKRRVVQREKRAAVGLGAVFLGFLGAAGSTMGAASITLTAQARQLLSGIVQQQNNLLRAIEAQQHLLQLTVWGIKQLQARVLAVERYLKDQQLLGIWGCSGKLICTTTVPWNASWSNKSLDKIWNNMTWMEWEREINNYTSLIYNLIEESQNQQEKNEQELLELDKWASLWNWFDITQWLWYIRIFIMIVGGLIGLRIVFAVLSIVNRVRQGYSPLSFQTRFPAPRGPDRPGGTEEEGGERDRDRSGRLVNGFLALIWDDLRSLCLFSYHRLRDLLLIVTRIVELLGRRGWEALKYWGNLLQYWSQELKNSAVSLLNVTAIAVAEGTDRVIEVLQRAFRAILHIPRRIRQGLERALL'),\n",
       " ('JN002049.1',\n",
       "  'MRVKEKYQHLWRWGWRWGTMLLGMLMICSATEKLWVTVYYGVPVWKEATTTLFCASDAKAYDTEAHNVWATHACVPTDPNPQEVELKNVTENFNMWKNNMVEQMHEDIISLWDQSLKPCVRLTPLCVTLNCSDVNATKPTSSSQEKMEGGPEMKNCSFNITTSMTEKRKKEYALFYSLDVDNGENNTSYRLISCNTSVITQACPKVSFEPIPIHYCAPAGFAILKCNNKKFNGTGPCKNVSTVQCTHGIRPVVSTQLLLNGSLAEEEIVIRSANFSDNTKTIIVQLKEPVEINCTRPNNNTRKSIHMGPGKAFYATGDIIGDIRRAHCNISGTKWNNTLKQVVEKLRVQFKNKTIIFNQSSGGDPEIVMHSFTCGGEFFYCNSTPLFNSTWTWNDTQGSNSTKGNDTITLQCRIKQIINMWQEVGRAMYAPPISGLVRCSSNITGLLLTRDGGKNESKNNETFRPGGGDMRDNWRSELYKYKVVKIEPLGVAPTKAKRRVVQREKRAVTLGAMFLGFLGAAGSTMGAASIALTVQARQLLSGIVQQQNNLLRAIEAQQHLLQLTVWGIKQLQARVLAVERYLQDQQLLGIWGCSGKLICTTTVPWNATWSNKSLSAIWDNMTWMEWEREIDNYTDQIYILLEKSQNQQEKNEQELLELDKWANLWNWFDITQWLWYIKIFIMIVGGLIGLRIVFSVLSIVNRVRQGYSPLSFQTHLPTPRGPDRPGGIEEEGGERDRDRSGQLVDGSLALIWDDLRSLCLFSYHRLRDLLLIVTRIVELLGRRGWEALKYWWNLLQYWSQELKNSAVSLLNATAIAVAEGTDRVIEVVQGACRAIRHIPRRIRQGLERILL'),\n",
       " ('DQ976396.1',\n",
       "  'MRVKEIMKNCQHLLTWGTMLFGMLMICSATEQLWVTVYYGVPVWKEASTTLFCASDAKAHGTEAHNVWATHACVPTDPSPQEVRLENVTENFNMWKNNMVEQMQEDIISLWDQSLKPCVKLTPLCVTLNCINANATYANNSRWEKMEGEIKNCSFNITTNIGNKMKKEYALFNKLDVVPTGDGNTSYMLINCNTSAITQACPKVSFEPIPIHYCAPAGFAILQCNDKKFNGTGPCTNVSTVQCTHGIRPVVSTQLLLNGSLAEEEVVIRSENFTNNAKNIIVHLNESVQINCTRPDNNTRKGIHLGPGGTFFATGAIIGDIRQAHCNISEAQWNNTLKRIVIKLAEQINKTIVFNHSSGGDPEIVMHSFNCGGEFFYCNTTELFNSTWLSNGTRNDTNKNSNNGTIILPCRIRQIVNRWQEVGKAMYAPPISGQINCSSNITGLLLTRDGGPGNSTTETFRPGGGDMRDNWRSELYKYKVVKIEPLGVAPTKAKRRVVQREKRAVGTLGAVFLGFLGAAGSTMGAASLTLTVQARQLLSGIVQQQNNLLRAIEAQQHLLQLTVWGIKQLQARVLAVERYLKDQQLLGIWGCSGKLICTTAVPWNTSWSNKTLNDIWNNMTWMEWDREINNYTNLIYSLIEESQNQQEKNEQELLALDEWASLWNWFSITKWLYYIKIFIMVVGGLVGLKIVFTVLSIVNKVRQGYSPLSFQTHLPVPQGPGRPEGIEEEGGDRGRDRSGRLVIGLLPLIWDDLRNLCLFSYRHLRDLLLILARIVERLGRRGWEALKYWWNLLQYWSQELKNSAVSLLNATAIAVAKGTDRVIEVVQRICRAILHIPRRIRQGLERALL'),\n",
       " ('JN002034.1',\n",
       "  'MRVKEKYQHLWRWGWRWGTMLLGMLMICSATEKLWVTVYYGVPVWKEASTTLFCASDAKAHGTEAHNVWATHACVPTDPSPQEVRLENVTENFNMWKNNMVEQMQEDIISLWDQSLKPCVKLTPLCVTLNCINANATYANTSRWEKMEGEIKNCSFNITTNIGNKMKKEYALFNKLDVVPTGDGNTSYMLINCNTSAITQACPKVSFEPIPIHYCAPAGFAILQCNDKKFNGTGPCTNVSTVQCTHGIRPVVSTQLLLNGSLAEEEVVIRSENFTNNAKNIIVHLNESVQINCTRPDNNTRKGIHLGPGGTFFATGAKIGDIRQAHCNISEAQWNNTLKKIVIKLAEQINKTIVFNHPSGGDPEIVMHSFNCGGEFFYCNTTELFNSTWLSNGTRNDTNKNSNNGTIILPCRIRQIVNRWQEVGKAMYAPPISGQINCSSNITGLLLTRDGGPGNSTTETFRPGGGDMRDNWRSELYKYKVVKIEPLGVAPTKAKRRVVQREKRAVGTLGAMFLGFLGAAGSAMGAASLTLTVQARQLLSGIVQQQNNLLRAIEAQQHLLQLTVWGIKQLQARVLAVERYLKDQQLLGIWGCSGKLICTTAVPWNTSWSNKTYNTIWDNMTWMEWDREINNYTNLIYSLIEESQNQQEKNEQDLLALDEWASLWNWFDITKWLYYIKIFIMIVGGLIGLKIVFTVLSVVNKVRQGYSPLSLQTHLPVPQGPDRPEGTEEESGDRGRDRSGRLVIGSLALIWDDLRSLCLFSYHRLRDLLLIVTRIVELLGRRGWEALKYWWNLLQYWSQELKNSAVSLLNATAIAVAEGTDRVIEVVQGACRAIRHIPRRIRQGLERILL'),\n",
       " ('DQ976434.1',\n",
       "  'MKVKGIRKNYPRLWTWGMMLLGMLMICSVAGNLWVTVYYGVPVWKEATTTLFCASDAKAYDTEVHNVWATHACVPTDPSPQEVVLGNVTENFNMWKNNMVEQMHEDIISLWDQSLKPCVKLTPLCVTLNCTDFTNATSVGGGEVKNCSFNITTPIRGKMQKEYALLYKLDIVPIDNDNDNTSYRLISCNTSVITQACPKVTFEPIPIHYCAPAGFAILKCNYKKFNGSGPCTNVSTVQCTHGIRPVVSTQLLLNGSLAEEDVVIRSANFSDNAKIIIVQLNETVEINCTRPNNNTRKSIHIGPGRAFYTTGGIIGDIRQAHCNLSRAKWNDTLKQIVTKLREQFGNKTIIFNHSSGGDPEIVTHSFNCGGEFFYCNTTKLFNSTWNVTEGSDGIEGNDTITLPCRIKQIVNMWQEVGKAMYAPPIRGQIRCLSNITGLILTRDGGSENATAEIFRPGGGDMRDNWRSELYKYKVVKIEPLGIAPTKAKRRVVQREKRAVGLGAMFLGFLGAAGSTMGAASVTLTVQARLLLSGIVQQQNNLLRAIEAQQHLLQLTVWGIKQLQARVLAVERYLKDQQLLGIWGCSGKLICTTAVPWNTSWSNKSLDDIWNNMTWMEWEREIDNYTGLIYTLIEESQNQQEKNEQELLALDKWASLWNWFDISNWLWYIKIFVMIVGGLVGLRIVFSVLSIVNRVRQGYSPLSFQIRPPAPRGPDRPEGTGEEGGERDREGSGPLVDGFLALIWVDLRSLCLFSYHRLRDLLLIVTRIVELLGRRGWELLKYWWNLLQYWSQELKNSAVSLLNAIAIAVAEGTDRVIEVVQRACRAILHIPTRIRQGLERALL'),\n",
       " ('JN002030.1',\n",
       "  'MRVKEKYQHLWRWGWRWGTMLLGMLMICSATEKLWVTVYYGVPVWKEATTTLFCASDAKAYDTEAHNVWATHACVPTDPNPQEVELKNVTENFNMWKNNMVEQMHEDIISLWDQSLKPCVRLTPLCVTLNCSDVNATKPTSSSQEKMEGGPEMKNCSFNITTSMTEKRKKEYALFYSLDVVPIDNGENNTSYRLISCNTSVITQACPKVSFEPIPIHYCAPAGFAILKCNDKKFNGTGPCKNVSTVQCTHGIRPVVSTQLLLNGSLAEEEVVIRSANFSDNTKTIIVQLKEPVEINCTRPNNNTRKSIHMGPGKAFYATGDIIGDIRRAHCNISGTKWNNTLKQVVKKLRVQFKNKTIIFNQSSGGDPEIVTHSFTCGGEFFYCNSTPLFNSTWTWNDTQGSNSTKGNDTITLQCRIKQIINMWQEVGKAMYAPPISGLVKCSSNITGLLLTRDGGKNESKNNETFRPGGGDMRDNWRSELYKYKVVKIEPLGVAPTKAKRRVVQREKRAVTFGAMFLGFLGAAGSTMGAASIALTVQARQLLSGIVQQQNNLLRAIEAQQHLLQLTVWGIKQLQARVLAVERYLQDQQLLGIWGCSGKLICTTTVPWNATWSNKSLSAIWDNMTWMEWERKIDNYTDQIYILLEKSQNQQEKNEQELLELDKWANLWNWFDITQWLWYIKIFIMIVGGLIGLRIVFSVLSIVNRVRQGYSPLSFQTHLPTPRGPDRPGGIEEEGGERDRDRSGRLVDGSLALIWDDLRSLCLFSYHRLRDLLLIVTRIVELLGRRGWEALKYWWNLLQYWSQELKNSAVSLLNATAIAVAEGTDRVIEVVQGACRAIRHIPRRIRQGLERILL'),\n",
       " ('EU308567.1',\n",
       "  'MRVKEKYQHLWRWGWRWGTMLLGMLMICSATEKLWVTVYYGVPVWKEATTTLFCASDAKAYDTEVHNVWATHACVPTDPNPQEVKLENLTENFNMWKNNMVEQMHEDIISLWDQSLKPCVKLTPLCVTLNCTDWQNNATKTNSISVGTMEGGEVKNCSFNITTSIRDKMQKEYALFYKLDIVPIDNSSTRYRLISCNTSVITQACPKVSFEPIPIHYCTPAGFALLKCNDKKFNGTGTCTNVSTVQCTHGIRPVVSTQLLLNGSLAEEEVVIRSENFTNNAKTIIAQLKEPVKINCTRPGNNTRKGIHIGPGRAFYATGDIIGDIRQAHCNLSRTEWNNTLLQIVKKLGEQFRNKTIVFNQSSGGDPEIVMHSFNCGGEFFYCNTTQLFNSTWTWNNNTGWPNKIEGNDTIITLPCRIKQIINRWQEVGKAMYAPPIRGNISCSSNITGLLLTRDGGKESENTTETFRPGGGDMRDNWRSELYKYKVVKIEPLGVAPSKAKRRVVQREK'),\n",
       " ('DQ976412.1',\n",
       "  'MRVMGIMRNYQHLWKWGTMMLLGILMICNARENLWVTVYYGVPVWKEATTTLFCASDAKAYDTEVHNVWATHACVPTDPNPQEVVLENVTENFNMWKNNMVEQMHEDIINLWDQSLKPCVKLTPLCVTLNCTDANFNSTDVKNAINTTASNTTSSSGGMMEAGEIKNCSFNITTRLRDKVQKEYALFYKLDVVPIGKDNTSYRLISCDTSTVTQACPKVSFEPIPIHYCTPAGFAIIKCNDKKFNGTGPCTNVSTVQCTHGIRPVVSTQLLLNGSLAEEEVVIRSENFTNNAKNIIVQLNETVEINCTRPNNNTRKSIPMGPGKAFYATGDIIGDIRQAHCNISRTRWNNTLKQIVIKLREQFGNKTIIFNQSAGGDPEIVTHSFNCGGEFFYCDSSQLFNSTWMFNSTWNDTDGANSTRKNDTITLQCRIKQIINMWQQVGKAMYAPPIRGQIRCTSNITGLILTRDGGDTQNKSDPEIFRPGGGDMRDNWRSELYKYKVVKIEPLGIAPTRAKRRVVQREKRAVGMGAMFLGFLGAAGSTMGAASVTLTVQARQLLSGIVQQQSNLLRAIEAQQHLLQLTVWGIKQLQARVLAVERYLKDQQLLGIWGCSGKLICTTAVPWNTSWSNKSMEQIWDNMTWMEWEREISNYTDLIYTLIEKSQNQQEKNEQELLELDKWASLWNWFDITNWLWYIKIFIMIVGGLIGLRIVFTVLSIVNRVRQGYSPLSFQTRFPAPRGPDRPEGIEEEGGERDRDRSGSLVNGFLAIIWVDLRSLFLFSYHRLRDLLLIVTRIVELLGRRGWEALKYWWNLLQYWSQELKNSAVSLLNATAIAVAEGTDRVIEVLQRAYRAILHIPTRIRQGLERALL'),\n",
       " ('DQ976433.1',\n",
       "  'MRVKGIRKNYQHLWTWGMMLLGMLMICNVAGNLWVTVYYGVPVWKEATTTLFCASDAKAYDTEVHNVWATHACVPTDPNPQEVLLENVTENFNMWKNNMVEQMHEDIISLWDQSLKPCVKLTPLCVTLNCTDLRNATTNMKNCSFNITTSIRDKMQKEYALFYKLDIIPIASDNTSYRLISCNTSVITQACPKVTFEPIPIHYCAPAGFAILKCNNKKFNGAGPCTNVSTVQCTHGIRPVVSTQLLLNGSLAEEEVVIRSANISDNAKIIIVQLNETVEINCTRPNNNTRKSIHIGPGRAFYTTGEIIGDIRQAHCNLSRAKWNDTLKQIVTKLREQFGNKTIVFKQSSGGDPEIVTHSFNCAGEFFYCNSTQLFNSTWNITEESNGIEGNDTITLPCRIKQIVNMWQEVGKAMYAPPIRGQIRCSSNITGLILTRDGGRGNETAEIFRPGGGDMRDNWRSELYKYKVVKIEPLGIAPTKAKRRVVQREKRAVGIGAMFLGFLGAAGSTMGAASVTLTVQARLLLSGIVQQQNNLLRAIEAQQHLLQLTVWGIKQLQARVLAVERYLKDQQLLGIWGCSGKLICTTAVPWNTSWSNKSLDYIWNNMTWMEWEREIDNYTGLIYTLIEESQNQQEKNEQELLALDQWASLWNWFDISNWLWYIKIFIMIVGGLVGLRIVFSVLSIVNRVRQGYSPLSFQTRPPAQRGPDRPGGTEEEGGERDRDGSGRLVDGFLAIIWVDLRSLCLFSYHRLRDLLLIVARTVELLGRRGWELLKYWWNLLQYWSQELKNSAVSLLNAIAIAVAEGTDRDIHE'),\n",
       " ('JN002054.1',\n",
       "  'MRVKEKYQHLWRWGWRWGTMLLGMLMICSATEKLWVTVYYGVPVWKEATTTLFCASDAKAYDTEAHNVWATHACVPTDPNPQELKLENVTENFNMWKNNMVEQMHEDIISLWDQSLKPCVKLTPLCVTLNCSDLNTTSSNGEIRERGEIKNCSFNITTSMTDKMQKEYSLFYKLDVVPIDNSNTSYRLISCNTSVITQACPKVSFEPIPIHYCAPAGFAILKCNNKKFNGTGPCKNVSTVQCTHGIRPVVSTQLLLNGSLAEEEVVIRSANFSDNTKTIIVQLKEPVEINCTRPNNNTRKSIHMGPGKAFYTTGVIGDIRQAHCNISRTKWNNTLKQVVEKLREQYKNKTIIFNQSSGGDPEIVMHSFTCGGEFFYCDTTKLFNSTWSNSTRNDTTGLNNTGEDDTITLPCRIKQIINMWQEVGKAMYAPPSSGQIRCSSNITGLLLTRDGGINGSEGNETFRPGGGDMRDNWRSELYKYKVVRIEPLGVAPTKAKRRVVQREKRAVGLGAMFLGFLGAAGSTMGAASIALTVQARQLLSGIVQQQNNLLRAIEAQQHLLQLTIWGIKQLQARVLAVERYLQDQQLLGIWGCSGKLICTTTVPWNTSWSNKSLDKIWNNMTWMEWEREIDNYTGLIYTLLEESQNQQEKNEQELLALDKWASLWNWFDITQWLWYIKIFIMIVGGLIGLRIVFTVLSIVNRVRQGYSPLLFQTHLPTPRGPDRPGGIEDECGERDRDRSGQLVDGSLALIWDDLRSLCLFSYHRLRDLLLIVTRIVELLGRRGWEALKYWWNLLQYWSQELKNSAVSLLNATAIAVAEGTDRVIEVVQGACRAIRHIPRRIRQGLERILL'),\n",
       " ('DQ976390.1',\n",
       "  'MRVKGIRKSYQHLWRWGTMLLGILMICSATENLWVTVYYGVPVWKEATTTLFCASDAKAYDTEAHNVWATHACVPTDPNPQEVELKNVTENFNMWKNNMVEQMHEDIISLWDQSLKPCVRLTPLCVTLNCSDVNATEPTSSSEEKMEGGPEMKNCSFNITTSMTEKRKKEYALFYKLDVVPIDNTSYRLISCNTSVITQACPKVSFEPIPIHYCAPAGFAILKCNDKKFNGTGPCKNVSTVQCTHGIRPVVSTQLLLNGSLAEEEVVIRSANFSDNTKTIIVQLKEPVEINCTRPNNNTRKSIHMGPGKAFYATGDIIGDIRRAHCNISRAKWNNTLKQVVEKLTEQFKNKTIIFNQSSGGDPEIVMHSFTCGGEFFYCNSTPLFNSTWTWNDTQGSNSTKGNDTITLQCRIKQIINMWQEVGKAMYAPPISGQIRCSSNITGLLLTRDGGKNESKNNETFRPGGGDMKDNWRSELYKYKVVKIEPLGVAPTKAKRRVVQREKRAVPLGAMFLGFLGAAGSTMGAASIALTVQARQLLSGIVQQQNNLLRAIEAQQHLLQLTVWGIKQLQARVLAVEKYLQDQQLLGIWGCSGKLICTTTVPWNATWSNKSLHEIWDNMTWMEWEREIDNYTDQIYILLEKSQNQQEKNEQELLELDKWANLWNWFDITQWLWYIKIFIMIVGGLIGLRIVFSVLSIVNRVRQGYSPLSFQTHLPTPRGLDRPGGIEEEGGERDRDRSGQLVNGFLAIIWVDLRSLCLFSYHRLRDLILIVTRIVELLGRRGWGILKYWWNLLQYWSQELKNSAVSWFNATAIAVAEGTDRVIEVVQRAFRAILHIPRRIRQGLERALL'),\n",
       " ('JN002040.1',\n",
       "  'MRVKEKYQHLWRWGWRWGTMLLGMLMICSATEKLWVTVYYGVPVWKEVTTTLFCASDAKAYDTEAHNVWATHACVPTDPNPQEVVLVNVTENFNMWKNNMVEQMHEDIISLWDQSLKPCVRLTPLCVSLNCSDVNATKPTSSSQEKMEGGPEMKNCSFNITTSMTEKRKKEYALFYSLDVVPIDNGENNTSYRLISCNTSVITQACPKVSFEPIPIHYCAPAGFAILKCNDKKFNGTRPCKNVSTVQCTHGIRPVVSTQLLLNGSLAEEEVVIRSANFSDNTKTIIVQLKEPVEINCTRPNNNTRKSIHMGPGKAFYATGDIIGDMRRAHCNISGTKWNNTLKQVVEKLRVQFKNKTIIFNQSSGGDPEIVMHSFTCGGEFFYCNSTPLFNSTWTWNDTQGSNSTKGNDTITLQCRIKQIINMWQEVGKAMYAPPISGLVKCSSNITGLLLTRDGGKNESKNNETFRPGGGDMRDNWRSELYKYKVVKIEPLGVAPTKAKRRVVQREKRAVTFGAMFLGFLGAAGSTMGAASIALTVQARQLLSGIVQQQNNLLRAIEAQQHLLQLTVWGIKQLQARVLAVERYLQDQQLLGIWGCSGKLICTTTVPWNATWSNKSLSAIWDNMTWMEWEREISNYTDQIYILLEKSQNQQEKNEQELLELDKWANLWNWFDITQWLWYIKIFIMIVGGLIGLRIVFSVLSIVNRVRQGYSPLSFQTQLPTPRGPNRPGGIEEEGGERDRDRSGQLVDGSLALIWDDLRSLCLFSYHRLRDLLLIVTRIVELLGRRGWEALKYWWNLLQYWSQELKNSAVSLLNATAIAVAEGTDRVIEVVQGACRAIRHIPRRIRQGLERILL'),\n",
       " ('EU308555.1',\n",
       "  'MRVKEKYQHLWRWGWRWGTMLLGMLMICSATEKLWVTVYYGVPVWKEATTTLFCASDAKAYDTEVHNVWATHACVPTDPNPQEVVLGNVTEYFNMWKNNMVEQMHEDIISIWDQSLKPCVKLTPLCVTLNCSDYIFNCTQSNNSSSNCTNSNNSSIGIMEKGDIKNCSFKVTTSLRNKVQKEFALFYSLDVVQIDNKDNTSYRLISCNTSVITQACPKVTFEPIPIHYCAQAGFAILKCNNKTFDGKGECKNVSTVQCTHGIRPVVVSTQLLLNGSLAEEEVIIRSENFTNNAKTIIVQLNKTVVINCIRPSNNTRRSISIGPGRAFYATGDIIGDIRQAHCNISRVDWNNTLKQVVEKLRVQFKNKTIIFNQSSGGDPEIVTHSVNCGGEFFYCDSTQLFNSTWPANSTWTDPKSSVNITLPCRIKQIVNMWQEVGKAMYAPPIKGQIRCSSNITGLILTRDGGNINGDGPEIFRPGGGDMRDNWRSELYKYKVVRIEPLGVAPTKAKRRVVQREK'),\n",
       " ('DQ976432.1',\n",
       "  'MRVMGIRKNYQHLRKWGMMLLGMLMICNVAGNLWVTVYYGVPVWKEATTTLFCASDAKAYDTEVHNVWATHACVPTDPNPQEVLLENVTENFNMWKNNMVEQMHEDIISLWDQSLKPCVKLTPLCVTLNCTDLRNTTNATSSSGGTMGGGEMKNCSFNITTSIRDKMQKEYALFYKLDIMPIANDNTSYRLINCNTSVITQACPKVTFEPIPIHYCAPAGFAILKCNNKRFNGTGPCTNVSTVQCTHGIRPVVSTQLLLNGSLAEEEVVIRSANFSDNAKNIIVQLNETVEINCTRPNNNTRKSIPIGPGRAIYTTGQIIGDIRQAHCNLSRAKWNETLKQIVTKLREQFGNKTIVFNQSSGGDPEIVTHSFNCGGEFFYCNSTQLFNSTWNITEESNSIEGNDTITLPCRIKQIVNMWQEVGKAMYAPPIRGQIRCSSNITGLILTRDGGNENENETEIFRPGGGDMRDNWRSELYKYKVVKIEPLGVAPTKAKRRVVQREKRAVGIGAMFLGFLGAAGSTMGAASVTLTVQARLLLSGIVQQQNNLLRAIEAQQHLLQLTVWGIKQLQARVLAVERYLKDQQLLGIWGCSGKLICTTAVPWNSSWSNKSLDQIWDNMTWMEWEREISNYTSLIYTLIEESQNQQEKNEQELLALDKWASLWNWFDISNWLWYIKIFIMIVGGLVGLRIVFSVLSIVNRVRQGYSPLSFQIRPPAPRGPDRPGGTEEEGGERDRDGSGRLVDGFLALIWVDLRSLCLFSYHRLRDLLLIVTRIVELLGRRGWELLKYWWNLLQYWSEELKNSAVSLLNAIAIAVAEGTDRVIEVVQRACRAILHIPTRIRQGLERALL'),\n",
       " ('DQ976384.1',\n",
       "  'MRVKGIRKSYQHLWRWGTMLHGILMICSATENLWVTVYYGVPVWKEATTTLFCASDAKAYDTEVHNVWATHACVPTDPNPQEVELENVTENFNMWKNNMVEQMHEDIISLWDQSLKPCVRLTPLCVILNCTDLKNDTTTTSGGGGIMMEKGEIKNCSFSINTRGRNKEQKDYAFFYKLDVVPINNNNSYRLISCNTSVITQACPKVSFEPIPIHYCAPAGFAILKCKDKKFNGTGPCKNVSTVQCTHGIRPVVSTQLLLNGSLAEEEVVIRSANFSDNTKTIMVQLKEAVEINCTRPNNNTRKSIPMGPGKAFYTTGEIIGDIRQAHCNLSITKWNNTLKQIVEKLREQFENKTIIFNQSAGGDPEIVMHSFNCGGEFFYCNSTQLFNSTWSSNSTWNDTQGSNNPEGNDTITLTCRIKQFINMWQEVGKAMYAPPISGQIRCSSNITGLLLTRDGGTNEISNQTEIFRPGGGDMRDNWRSELYKYKVVKIEPLGVAPTKAKRRVVQREKRAAVGLGAVFLGFLGAAGSTMGAASITLTAQARQLLSGIVQQQNNLLRAIEAQQHLLQLTVWGIKQLQARVLAVERYLKDQQLLGIWGCSGKLICTTTVPWNASWSNKSLDKIWNNMTWMEWEREINNYTSLIYNLIEESQNQQEKNEQELLELDKWASLWNWFDITQWLWYIRIFIMIVGGLIGLRIVFAVLSIVNRVRQGYSPLSFQTRFPAPRGPDRPGGTEEEGGERDRDRSGRLVNGFLALIWDDLRSLCLFSYHRLRDLLLIVTRIVELLGRRGWEALKYWGNLLQYWSQELKNSAVSLLNVTAIAVAEGTDRVIEVLQRAFRAILHIPRRIRQGLERALL'),\n",
       " ('DQ976403.1',\n",
       "  'MRVKEIMKNCQHLLTWGTLLFGVLMICSATDQLWVTVYYGVPVWKEASTTLFCASDAKAHNTEVHNVWATHACVPTDPSPQEVRLENVTENFNMWKNNMVEQMQEDIISLWDQSLKPCVKLTPLCVTLNCTNLKNATYTNSSSWEGMKEEIKNCSFNITTNIENKRKKEYALFNKLDVVPTGDGNTSYMLINCNTSAITQACPKVSFEPIPIHYCAPAGFAILQCNDKKFNGTGPCSNVSTVQCTHGIRPVVSTQLLLNGSLAEEEVIIRSENFSNNAKNIIVQLNESVQINCTRPNNNTRKSIHLGPGGAFYATGDIIGDIRQAHCNISEADWNNTLKKIVIKLAEQINKTIVFNQSSGGDPEIVMHSFNCGGEFFYCNTTELFNSTWQSDGTRNDTNKKSKNGTIILPCRIRQIVNRWQEVGKAMYAPPISGQINCLSNITGLILTRDGGPGNSTTETFRPGGGDMRDNWRSELYKYKVVKIEPLGVAPTKAKRRVVQREKRAVGTLGAMFLGFLGAAGSTMGAASLTLTVQARQLLSGIVQQQNKLLRAIEAQQHLLQLTVWGIKQLQARVLAVERYLKDQQLLGIWGCSGKLICATAVPWNSSWSNKTLNSIWDNMTWMEWDREINNYTNLIYSLLEESQNQQEKNEQDLLALDEWASLWNWFDITKWLYYIKIFIMIVGGLIGLKIVFTVLSIVNKVRQGYSPLSLQTHLPVPQGPDRPEGTEEEGGDRGRDRSGRLVIGLLPLIWDDLQNLCLFSYRHLRDLLLILARIVELLGRRGWEALKYWWNLLQYWSQELKSSAISLLNAIAIAVAEGTDRVIEVVQTICRAILLIPRRIRQGLERDLL'),\n",
       " ('HXB2_Env',\n",
       "  'MRVKEKYQHLWRWGWRWGTMLLGMLMICSATEKLWVTVYYGVPVWKEATTTLFCASDAKAYDTEVHNVWATHACVPTDPNPQEVVLVNVTENFNMWKNDMVEQMHEDIISLWDQSLKPCVKLTPLCVSLKCTDLKNDTNTNSSSGRMIMEKGEIKNCSFNISTSIRGKVQKEYAFFYKLDIIPIDNDTTSYKLTSCNTSVITQACPKVSFEPIPIHYCAPAGFAILKCNNKTFNGTGPCTNVSTVQCTHGIRPVVSTQLLLNGSLAEEEVVIRSVNFTDNAKTIIVQLNTSVEINCTRPNNNTRKRIRIQRGPGRAFVTIGKIGNMRQAHCNISRAKWNNTLKQIASKLREQFGNNKTIIFKQSSGGDPEIVTHSFNCGGEFFYCNSTQLFNSTWFNSTWSTEGSNNTEGSDTITLPCRIKQIINMWQKVGKAMYAPPISGQIRCSSNITGLLLTRDGGNSNNESEIFRPGGGDMRDNWRSELYKYKVVKIEPLGVAPTKAKRRVVQREKRAVGIGALFLGFLGAAGSTMGAASMTLTVQARQLLSGIVQQQNNLLRAIEAQQHLLQLTVWGIKQLQARILAVERYLKDQQLLGIWGCSGKLICTTAVPWNASWSNKSLEQIWNHTTWMEWDREINNYTSLIHSLIEESQNQQEKNEQELLELDKWASLWNWFNITNWLWYIKLFIMIVGGLVGLRIVFAVLSIVNRVRQGYSPLSFQTHLPTPRGPDRPEGIEEEGGERDRDRSIRLVNGSLALIWDDLRSLCLFSYHRLRDLLLIVTRIVELLGRRGWEALKYWWNLLQYWSQELKNSAVSLLNATAIAVAEGTDRVIEVVQGACRAIRHIPRRIRQGLERILL'),\n",
       " ('DQ976386.1',\n",
       "  'MRVKGIRKSYQHLWRWGTMLHGILMICSATENLWVTVYYGVPVWKEATTTLFCASDAKAYDTEVHNVWATHACVPTDPNPQEVELENVTENFNMWKNNMVEQMHEDIISLWDQSLKPCVRLTPLCVILNCTDLKNDTTTTSGGGGIMMEKGEIKNCSFSINTRGRNKEQKDYAFFYKLDVVPINNNNSYRLISCNTSVITQACPKVSFEPIPIHYCAPAGFAILKCKDKKFNGTGPCKNVSTVQCTHGIRPVVSTQLLLNGSLAEEEVVIRSANFSDNTKTIMVQLKEAVEINCTRPNNNTRKSIPMGPGKAFYTTGEIIGDIRQAHCNLSITKWNNSLKQIVEKLREQFENKTIIFNQSAGGDPEIVMHSFNCGGEFFYCNSTQLFNSTWSSNSTWNDTQGSNNPEGNDTITLTCRIKQFINMWQEVGKAMYAPPISGQIRCSSNITGLLLTRDGGTNEISNQTEIFRPGGGDMRDNWRSELYKYKVVKIEPLGVAPTKAKRRVVQREKRAAVGLGAVFLGFLGAAGSTMGAASITLTAQARQLLSGIVQQQNNLLRAIEAQQHLLQLTVWGIKQLQARVLAVERYLKDQQLLGIWGCSGKLICTTTVPWNASWSNKSLDKIWNNMTWMEWEREINNYTSLIYNLIEESQNQQERNEQELLELDKWASLWNWFDITQWLWYIRIFIMIVGGLIGLRIVFAVLSIVNRVRQGYSPLSFQTRFPAPRGPDRPGGTEEEGGERDRDRSGRLVNGFLALIWDDLRSLCLFSYHRLRDLLLIVTRIVELLGRRGWEALKYWGNLLQYWSQELKNSAVSLLNVTAIAVAEGTDRVIEVLQRAFRAILHIPRRIRQGLERALL'),\n",
       " ('DQ976418.1',\n",
       "  'MRVMGIMRNYQHLWKWGTMMLLGILMICNARENLWVTVYYGVPVWKEATTTLFCASDAKAYDTEVHNVWATHACVPTDPNPQEVVLENVTENFNMWKNNMVEQMHEDIINLWDQSLKPCVKLTPLCVTLNCTDANFNSTDVKNATNTTATNTTSSGGIIMEVGEIKNCSFNITTRLRDKVQKEYALFYKLDVVPIGRDNTSYRLISCDTSTVTQACPKVSFEPIPIHYCTPAGFAIIKCNDKKFNGTGPCTNVSTVQCTHGIRPVVSTQLLLNGSLAEEEVVIRSENFTNNAKNIIVQLNETVEINCTRPNNNTRKSIPMGPGKAFYATGDIIGNIRQAHCNISRTRWNNTLKQIVIKLREQFGNKTIIFNQSSGGDPEIVTHSFNCGGEFFYCNSSQLFNSTWMFNSTWNDTDGANSTGENDAITLQCRIKQIINMWQQVGKAMYAPPIRGQIRCTSNITGLILTRDGGDTQNKSDPEIFRPGGGDMRDNWRSELYKYKVVRIEPLGIAPTRAKRRVVQREKRAVGIGAMFLGFLGAAGSTMGAASVTLTVQARQLLSGIVQQQSNLLRAIEAQQHLLQLTVWGIKQLQARVLAVERYLKDQQLLGIWGCSGKLICTTAVPWNASWSNKSMEQIWDNMTWMEWEREINNYTDLIYTLIEKSQNQQEKNEQELLELDKWASLWNWFDITNWLWYIKIFIMIVGGLIGLRIVFTVLSIVNRVRQGYSPLSFQTRLPARRGPDRPEGIEEEGGERDRDRSGSLVNGFLAIIWVDLRSLFLFSYHRLRDLLLIVTRIVELLGRRGWEALKYWWNLLQYWSQELKNSAVSLLNTAAIAVAEGTDRVIEVLQRAYRAILHIPTRIRQGLERALL'),\n",
       " ('DQ976428.1',\n",
       "  'MRVMGIRKNYQHLWKWGMMLLGMLMICNVAGNLWATVYYGVPVWKEATTTLFCASDAKAYDTEVHNVWATHACVPTDPNPQEVLLENVTENFNMWKNNMVEQMHEDIISLWDQSLKPCVKLTPLCVTLNCTDLRNTTNATSSSGGTMGGGEMKNCSFNITTSIRDKMQKEYALFYKLDIIPIANDNTSYRLINCNTSVITQACPKVTFEPIPIHYCAPAGFAILKCNNKRFNGTGPCTNVSTVQCTHGIRPVVSTQLLLNGSLAEEEVVIRSANFSDNAKNIIVQLNETVEINCTRPNNNTRKGIPIGPGRAIYTTGQIIGDIRQAHCNLSRAKWNETLKQIVTKLREQFGNKTIVFNQSSGGDPEIVTHSFNCGGEFFYCNSTQLFNSTWNITEESNSIEGNDTITLPCRIKQIVNMWQEVGKAMYAPPIRGQIRCSSNITGLILTRDGGNENENETEIFRPGGGDMRDNWRSELYKYKVVKIEPLGVAPTKAKRRVVQREKRAVGIGAMFLGFLGAAGSTMGAASVTLTVQARLLLSGIVQQQNNLLRAIEAQQHLLQLTVWGIKQLQARVLAVERYLKDQQLLGIWGCSGKLICTTAVPWNSSWSNKSLDQIWDNMTWMEWEREISNYTSLIYTLIEESQNQQEKNEQELLALDKWASLWNWFDISNWLWYIKIFIMIVGGLVGLRIVFSVLSIVNRVRQGYSPLSFQIRPPAPRGPDRPGGTEEEGGERDRDGSGRLVDGFLALIWVDLRSLCLFSYHRLRDLLLIVTRIVELLGRRGWELLKYWWNLLQYWSEELKNSAVSLLNAIAIAVAEGTDRVIEVVQRACRAILHIPTRIRQGLERALL'),\n",
       " ('DQ976419.1',\n",
       "  'MRVTGIMRSYQNLWIWGTMMLLGIFMICNANLWVTVYYGVPVWKEADTTLFCASDAKAYDTEVHNVWATHACVPTDPNPQEVVLENVTENFYMWKNNMVEQMHEDIINLWDQSLKPCVKLTPLCVTLNCTDAIFNSTDTTAANITSSGGKVMGAGEIKNCSFNITTSLRKKVQKEYALFYKLDVVPIRKKTNTTKYRLISCNTSTITQACPKVSFEPIPIHYCAPAGFAIIQCNDKKFNGTGPCTNVSSVQCTHGIRPVVSTQLLLNGSLAEEEVVIRSENFTNNAKVIIVQLNETVEINCTRPNNNTRKSITMGPGKALYATGDIIGDIRQAHCNISGTGWNNTLKRIVIKLREQFGNKTIIFNQSSGGDPEIVMHSFNCGGEFFYCNSSQLFNSTWRSNNTWNETDGSNTSGNNDTITLQCRIKQFINMWQQVGKAMYAPPIRGQIRCTSNITGLILTRDGGKRNESEPTEIFRPGGGDMRDNWRSELYKYKVVKIEPLGIAPTRAKRRVVQREKRAVGIGAVFLGFLGAAGSTMGAASVTLTVQARQLLSGIVQQQSNLLRAIEAQQHLLQLTVWGIKQLQARVLAVERYLKDQQLLGIWGCSGRLICTTAVPWNASWSNKTMEQIWDNMTWMEWEREISNYTDLIYNLIEKSQNQQEKNEQELLELDKWASLWNWFSITNWLWYIKIFIMIVGGLIGLRIVFTVLSIVNRVRQGYSPLSFQTRLPARRGPDRPEGIEEEGGERDRDTSTPLVNGFLAIIWVDLRSLFLFSYHRLRDLLLIVTRIVELLGRRGWETLKYLWNLLQYWSQELKNSAVSLFNATAIAVAEGTDRVIEVVQRAYRAILHIPTRIRQGLERALL'),\n",
       " ('DQ976397.1',\n",
       "  'MRVKEIMKNCQHLLTWGTMLFGMLMICSATEQLWVTVYYGVPVWKEASTTLFCASDAKAHGTEAHNVWATHACVPTDPSPQEVRLENVTENFNMWKNNMAEQMQEDIISLWDQSLKPCVKLTPLCVTLNCINANATYANNSRWEKMEGEIKNCSFNITTNIGNKMKKEYALFNKLDVVPTGDGNTSYMLINCNTSAITQACPKVSFEPIPIHYCAPAGFAILQCNDKKFNGTGPCTNVSTVQCTHGIRPVVSTQLLLNGSLAEEEVVIRSENFTNNAKNIIVHLNESVQINCTRPDNNTRKGIHLGPGGTFFATGAIIGDIRQAHCNISEAQWNNTLKRIVIKLAEQINKTIVFNHSSGGDPEIVMHSFNCGGEFFYCNTTELFNSTWLSNGTRNDTNKNSNNGTIILPCRIRQIVNRWQEVGKAMYAPPISGQINCSSNITGLLLTRDGGPGNSTTETFRPGGGDMRDNWRSELYKYKVVKIEPLGVAPTKAKRRVVQREKRAVGTLGAVFLGFLGAAGSTMGAASLTLTVQARQLLSGIVQQQNNLLRAIEAQQHLLQLTVWGIKQLQARVLAVERYLKDQQLLGIWGCSGKLICTTAVPWNTSWSNKTLNDIWNNMTWMEWDREINNYTNLIYSLIEESQNQQEKNEQELLALDEWASLWNWFSITKWLYYIKIFIMVVGGLVGLKIVFTVLSIVNKVRQGYSPLSFQTHLPVPQGPDRPEGIEEEGGDRGRDRSGRLVIGLLPLIWDDPRNLCLFSYRHLRDLLLILARIVERLGRRGWEALKYWWNLLQYWSQELKNSAVSLLNATAIAVAKGTDRVIEVVQRICRAILHIPRRIRQGLERALL'),\n",
       " ('JN002041.1',\n",
       "  'MRVKEKYQHLWRWGWRWGTMLLGMLMICSATEKLWVTVYYGVPVWKEANTTLFCASDAKAHKTEAHNVWATHACVPTDPSPQEVRLENVTENFNMWKNNMVEQMQEDIINLWDQSLKPCVKLTPLCVTLNCINANTTNSSIWEGMKEEIKNCSFNITTNIKKKLKREYALFNKLDVVPTGDSNTSYMLINCNTSAITQACPKVSFEPIPIHYCAPAGFAILQCNDNKFNGTGPCTNVSTVQCTHGIRPVVSTQLLLNGSLAKEEVIIRSENFTNNAKNIIVQLNESVQINCTRPNNNTRKSIPIGPGRAFYATGDIIGDIRQAHCNISEADWNNTLKKIVIKLAEQINKTIVFNHSSGGDPEIVMHSFNCGGEFFYCNTTELFNSTWQSDGTRNDTNKKSNNGTIILPCRIRQIVNRWQEVGKAMYAPPISGQINCSSNITGLLLTRDGGPGNSTTETFRPGGGDMRDNWRSELYKYKVVKIEPLGVAPTKAKRRVVQREKRAVGTLGAMFLGFLGAAGSTMGAASMTLTVQARQLLSGIVQQQNNLLRAIEAQQHLLQLTVWGIKQLQARVLAVERYLKDQQLLGIWGCSGKLICTTAVPWNTSWSNKSYNNIWDNMTWMEWDREINNYTNIIYSLIEESQNQQEKNEQDLLALDEWASLWNWFDITNWLYYIKIFIMIVGGLIGLKIVLAVLSVVNKVRQGYSPLSLQTHLPVPQGPDRPEGTEEESGNRGRDRSGRLVIGSLALIWDDLRSLCLFSYHRLRDLLLIVTRIVELLGRRGWEALKYWWNLLQYWSQELKNSAVSLLNATAIAVAEGTDRVIEVVQGACRAIRHIPRRIRQGLERILL'),\n",
       " ('DQ976408.1',\n",
       "  'MRVTGIMRNYQHLWKWGTMMLLGILMICNARENLWVTVYYGVPVWKEATTTLFCASDAKAYDTEVHNVWATHACVPTDPNPQEVVLENVTENFNMWKNNMVEQMHEDIINLWDQSLKPCVKLTPLCVTLNCTDVNVNGTDVKNATNTTATNTTSSSGRMMEVGEIKNCSFNITTRLRDKVQKEYALFYKLDVVPTGKDNTSYRLISCDTSTVTQACPKVSFEPIPIHYCAPAGFAIIQCNDKKFNGTGPCKNVSSVQCTHGIRPVVSTQLLLNGSLAEEEVVIRSENFTNNAKNIIVQLNETVEINCTRPNNNTRKSIPMGPGKAFYATGDIIGNIRQAHCNISRTRWNNTLKQIVIKLREQFGNKTIIFNQSSGGDPEIVTHSFNCGGEFFYCNSSQLFNSTWMFNSTWNDTDEANSTGENDTITLQCRIKQIINMWQQVGKAMYAPPIRGQIRCTSNITGLILTRDGGEPKNGSDPETFRPGGGDMRDNWRSELYKYKVVKIEPLGIAPTRAKRRVAQREKRAVGIGAVFLGFLGAAGSTMGAASVTLTVQARQLLSGIVQQQSNLLRAIEAQQHLLQLTVWGIKQLQARVLAVERYLKDQQLLGIWGCSGRLICTTAVPWNASWSNKSMEQIWDNMTWMEWEREINNYTDLIYTLIEKSQNQQEKNEQELLELDKWASLWNWFSITNWLWYIKIFIMIVGGLIGLRIVFTILSIVNRVRQGYSPLSFQTRFPAPRGPDRPEGIEEEGGERDRDRSGTLVNGFLAIIWVDLRSLFLFSYHRLRDLLLIVTRIVELLGRKGWEALKYWWNLLQYWSQELKNSAVSLLNATAIAVAEGTDRVIEIVQRAYRAIIHIPTRIRQGLERALL'),\n",
       " ('DQ976381.1',\n",
       "  'MRVKGIRKSYQHLWRWGTMLHGILMICSATENLWVTVYYGVPVWKEATTTLFCASDAKAYDTEVHNVWATHACVPTDPNPQEVELENVTENFNMWKNNMVEQMHEDIISLWDQSLKPCVRLTPLCVILNCTDLKNDTTTTSGGGGIMMEKGEIKNCSFSINTRGRNKEQKDYAFFYKLDVVPINNNNSYRLISCNTSVITQACPKVSFEPIPIHYCAPAGFAILKCKDKKFNGTGPCKNVSTVQCTHGIRPVVSTQLLLNGSLAEEEVVIRSANFSDNTKTIMVQLKEAVEINCTRPNNNTRKSIPMGPGKAFYTTGEIIGDIRQAHCNLSITKWNNTLKQIVEKLREQFENKTIIFNQSAGGDPEIVMHSFNCGGEFFYCNSTQLFNSTWSSNSTWNDTQGSNNPEGNDTITLTCRIKQFINMWQEVGKAMYAPPISGQIRCSSNITGLLLTRDGGTNEISNQTEIFRPGGGDMRDNWRSELYKYKVVKIEPLGVAPTKAKRRVVQREKRAAVGLGAVFLGFLGAAGSTMGAASITLTAQARQLLSGIVQQQNNLLRAIEAQQHLLQLTVWGIKQLQARVLAVERYLKDQQLLGIWGCSGKLICTTTVPWNASWSNKSLDKIWNNMTWMEWEREINNYTSLIYNLIEESQNQQEKNEQELLELDKWASLWNWFDITQWLWYIRIFIMIVGGLIGLRIVFAVLSIVNRVRQGYSPLSFQTRFPAPRGPDRPGGTEEEGGERDRDRSGRLVNGFLALIWDDLRSLCLFSYHRLRDLLLIVTRIVELLGRRGWEALKYWGNLLQYWSQELKNSAVSLLNVTAIAVAEGTDRVIEVLQRAFRAILHIPRRIRQGLERALL')]"
      ]
     },
     "execution_count": 24,
     "metadata": {},
     "output_type": "execute_result"
    }
   ],
   "source": [
    "train_data"
   ]
  },
  {
   "cell_type": "code",
   "execution_count": 25,
   "id": "84beefad-ea6d-4197-b3d3-6b1342d6e722",
   "metadata": {},
   "outputs": [],
   "source": [
    "# Generate per-sequence representations via averaging\n",
    "# NOTE: token 0 is always a beginning-of-sequence token, so the first residue is token 1.\n",
    "tr_sequence_representations = []\n",
    "for i, tokens_len in enumerate(tr_batch_lens):\n",
    "    tr_sequence_representations.append(tr_token_representations[i, 1 : tokens_len - 1].mean(0))\n"
   ]
  },
  {
   "cell_type": "code",
   "execution_count": 26,
   "id": "ce0288b7-b7ab-4948-862f-7f63cc965bfb",
   "metadata": {},
   "outputs": [
    {
     "data": {
      "text/plain": [
       "69"
      ]
     },
     "execution_count": 26,
     "metadata": {},
     "output_type": "execute_result"
    }
   ],
   "source": [
    "len(tr_sequence_representations)"
   ]
  },
  {
   "cell_type": "code",
   "execution_count": 27,
   "id": "c05f4a16",
   "metadata": {},
   "outputs": [
    {
     "data": {
      "text/plain": [
       "[array([ 0.08490711, -0.07496126, -0.07719713, ..., -0.0226382 ,\n",
       "         0.00400131, -0.03230825], dtype=float32),\n",
       " array([ 0.11518726, -0.09125288, -0.06100389, ...,  0.0015425 ,\n",
       "         0.02060808,  0.03088068], dtype=float32),\n",
       " array([ 0.11272071, -0.07385441, -0.06029629, ...,  0.00668852,\n",
       "         0.02963536,  0.0279387 ], dtype=float32),\n",
       " array([ 0.11749897, -0.08280743, -0.06183972, ...,  0.006782  ,\n",
       "         0.01618916,  0.02772038], dtype=float32),\n",
       " array([ 0.12083178, -0.09043114, -0.06316222, ...,  0.01075422,\n",
       "         0.023979  ,  0.01127691], dtype=float32),\n",
       " array([ 0.06380342, -0.08232762, -0.0830778 , ..., -0.02024761,\n",
       "        -0.00299281, -0.03924829], dtype=float32),\n",
       " array([ 0.12354471, -0.09449242, -0.0709796 , ...,  0.00449767,\n",
       "         0.0174195 ,  0.02368402], dtype=float32),\n",
       " array([ 0.12118679, -0.08698714, -0.07166592, ...,  0.00112348,\n",
       "         0.0192371 ,  0.01015724], dtype=float32),\n",
       " array([ 0.12235231, -0.08623407, -0.06475428, ...,  0.00158986,\n",
       "         0.0092978 ,  0.02402568], dtype=float32),\n",
       " array([ 0.11907788, -0.08458361, -0.06306661, ...,  0.00564391,\n",
       "         0.01724249,  0.02686589], dtype=float32),\n",
       " array([ 0.12270879, -0.09157874, -0.07386854, ...,  0.00556219,\n",
       "         0.01772656,  0.02677891], dtype=float32),\n",
       " array([ 0.11396586, -0.08892284, -0.07060903, ...,  0.0115249 ,\n",
       "         0.01931028,  0.01873618], dtype=float32),\n",
       " array([ 0.11212115, -0.0836817 , -0.06494181, ...,  0.00787418,\n",
       "         0.01359733,  0.02516388], dtype=float32),\n",
       " array([ 0.11762271, -0.09080287, -0.06335314, ...,  0.00302298,\n",
       "         0.02161266,  0.02927631], dtype=float32),\n",
       " array([ 0.11256661, -0.08035353, -0.06173529, ...,  0.0006072 ,\n",
       "         0.01602764,  0.02236207], dtype=float32),\n",
       " array([ 0.11198085, -0.07971115, -0.06296639, ...,  0.00623901,\n",
       "         0.01614822,  0.02079218], dtype=float32),\n",
       " array([ 0.11446295, -0.09233893, -0.06230145, ...,  0.00151204,\n",
       "         0.02028154,  0.03098611], dtype=float32),\n",
       " array([ 0.11981113, -0.09088605, -0.06766091, ...,  0.00582971,\n",
       "         0.03439983,  0.01285577], dtype=float32),\n",
       " array([ 0.09508253, -0.07174487, -0.06161881, ..., -0.00910253,\n",
       "         0.01009245, -0.01161072], dtype=float32),\n",
       " array([ 0.11478824, -0.09223837, -0.0646864 , ...,  0.00221242,\n",
       "         0.02072325,  0.03280722], dtype=float32),\n",
       " array([ 0.1164067 , -0.09225576, -0.07137326, ...,  0.01146123,\n",
       "         0.0284354 ,  0.01521377], dtype=float32),\n",
       " array([ 0.12305836, -0.09058266, -0.07176065, ...,  0.00307167,\n",
       "         0.02224975,  0.0199032 ], dtype=float32),\n",
       " array([ 0.09001558, -0.08701978, -0.05922468, ..., -0.02781147,\n",
       "         0.0139429 , -0.03103743], dtype=float32),\n",
       " array([ 0.07534656, -0.08433831, -0.06652608, ..., -0.0128833 ,\n",
       "         0.00952669, -0.01782419], dtype=float32),\n",
       " array([ 0.11533096, -0.09058411, -0.07155307, ...,  0.01266867,\n",
       "         0.0207157 ,  0.01832582], dtype=float32),\n",
       " array([ 0.1058601 , -0.08811606, -0.06085295, ...,  0.00265828,\n",
       "         0.01122417,  0.02135952], dtype=float32),\n",
       " array([ 0.11229733, -0.07972908, -0.06272896, ...,  0.00190162,\n",
       "         0.01620542,  0.02498434], dtype=float32),\n",
       " array([ 0.12174655, -0.08714964, -0.06444522, ...,  0.00180327,\n",
       "         0.00927575,  0.0231195 ], dtype=float32),\n",
       " array([ 0.12086397, -0.08753189, -0.06469836, ...,  0.00158405,\n",
       "         0.00924582,  0.02535537], dtype=float32),\n",
       " array([ 0.12041086, -0.09078185, -0.06070604, ...,  0.0119276 ,\n",
       "         0.02369344,  0.01037985], dtype=float32),\n",
       " array([ 0.11147022, -0.07947295, -0.05992676, ...,  0.00532073,\n",
       "         0.01581153,  0.01985534], dtype=float32),\n",
       " array([ 0.07902722, -0.08522033, -0.06560385, ..., -0.00920209,\n",
       "         0.0069827 , -0.01356411], dtype=float32),\n",
       " array([ 0.11518122, -0.089151  , -0.07269986, ...,  0.01104702,\n",
       "         0.02199153,  0.01766706], dtype=float32),\n",
       " array([ 0.11518086, -0.09067877, -0.07200639, ...,  0.00949433,\n",
       "         0.0276097 ,  0.01634672], dtype=float32),\n",
       " array([ 0.11817844, -0.08545459, -0.05903231, ...,  0.00864418,\n",
       "         0.0278874 ,  0.02517045], dtype=float32),\n",
       " array([ 0.12095845, -0.07734074, -0.07311133, ...,  0.01782217,\n",
       "         0.01895512,  0.02305946], dtype=float32),\n",
       " array([ 0.11563246, -0.07187745, -0.0584649 , ..., -0.00040094,\n",
       "         0.04378915,  0.01747199], dtype=float32),\n",
       " array([ 0.11585993, -0.09239066, -0.07077686, ...,  0.0105734 ,\n",
       "         0.02903641,  0.01479866], dtype=float32),\n",
       " array([ 0.09442036, -0.08572178, -0.07409546, ..., -0.00577053,\n",
       "         0.00854965, -0.00955238], dtype=float32),\n",
       " array([ 0.12083178, -0.09043114, -0.06316222, ...,  0.01075422,\n",
       "         0.023979  ,  0.01127691], dtype=float32),\n",
       " array([ 0.12091262, -0.08372544, -0.05301144, ...,  0.00359043,\n",
       "         0.04148266,  0.00775059], dtype=float32),\n",
       " array([ 0.08314871, -0.08558787, -0.06859815, ..., -0.0354327 ,\n",
       "        -0.00951863, -0.02950369], dtype=float32),\n",
       " array([ 0.10935397, -0.07832966, -0.06372228, ...,  0.0016398 ,\n",
       "         0.01232376,  0.02698613], dtype=float32),\n",
       " array([ 0.08806708, -0.0841344 , -0.08124709, ..., -0.00920087,\n",
       "         0.00132676, -0.01600637], dtype=float32),\n",
       " array([ 0.12083178, -0.09043114, -0.06316222, ...,  0.01075422,\n",
       "         0.023979  ,  0.01127691], dtype=float32),\n",
       " array([ 0.12391549, -0.09182645, -0.070688  , ...,  0.00466795,\n",
       "         0.02699113,  0.02120793], dtype=float32),\n",
       " array([ 0.11603864, -0.09209149, -0.07074497, ...,  0.01075258,\n",
       "         0.0296577 ,  0.01529384], dtype=float32),\n",
       " array([ 0.11897957, -0.09111162, -0.06762538, ...,  0.00538215,\n",
       "         0.03597366,  0.01526443], dtype=float32),\n",
       " array([ 0.10692605, -0.09330068, -0.06839852, ...,  0.00932563,\n",
       "         0.02751761,  0.02338623], dtype=float32),\n",
       " array([ 0.11839661, -0.09394054, -0.07232996, ...,  0.00726715,\n",
       "         0.02254141,  0.02101259], dtype=float32),\n",
       " array([ 0.0910565 , -0.08710987, -0.07433748, ..., -0.00984217,\n",
       "         0.01095592, -0.01196291], dtype=float32),\n",
       " array([ 0.11585563, -0.08278717, -0.06397513, ...,  0.00613144,\n",
       "         0.01500419,  0.02682224], dtype=float32),\n",
       " array([ 0.11668992, -0.08811021, -0.07312979, ...,  0.00469953,\n",
       "         0.02299404,  0.0241907 ], dtype=float32),\n",
       " array([ 0.12063011, -0.08334652, -0.05564598, ...,  0.00228792,\n",
       "         0.04357997,  0.01049073], dtype=float32),\n",
       " array([ 0.12224199, -0.09481677, -0.0743704 , ...,  0.00167863,\n",
       "         0.01820523,  0.02181814], dtype=float32),\n",
       " array([ 0.12581623, -0.09652858, -0.06769034, ...,  0.00617888,\n",
       "         0.02345956,  0.02117818], dtype=float32),\n",
       " array([ 0.09131594, -0.08417164, -0.06260805, ..., -0.02179388,\n",
       "         0.00795034, -0.00887638], dtype=float32),\n",
       " array([ 0.1149242 , -0.09138108, -0.06060893, ...,  0.00205476,\n",
       "         0.01955223,  0.03221227], dtype=float32),\n",
       " array([ 0.12083178, -0.09043114, -0.06316222, ...,  0.01075422,\n",
       "         0.023979  ,  0.01127691], dtype=float32),\n",
       " array([ 0.11604757, -0.0886118 , -0.07218672, ...,  0.01196832,\n",
       "         0.02140726,  0.01889709], dtype=float32),\n",
       " array([ 0.10737233, -0.07611929, -0.06164775, ...,  0.00516463,\n",
       "         0.03484315,  0.0112748 ], dtype=float32),\n",
       " array([ 0.12038223, -0.08996546, -0.06162121, ...,  0.00981451,\n",
       "         0.02243732,  0.01157194], dtype=float32),\n",
       " array([ 0.11363466, -0.07880953, -0.05874097, ...,  0.00445626,\n",
       "         0.01764602,  0.02451972], dtype=float32),\n",
       " array([ 0.11603267, -0.09203395, -0.06353205, ...,  0.00138528,\n",
       "         0.02214629,  0.03216202], dtype=float32),\n",
       " array([ 0.11723095, -0.08037192, -0.06995711, ...,  0.01716886,\n",
       "         0.02001836,  0.02105013], dtype=float32),\n",
       " array([ 0.11600956, -0.08906882, -0.07334109, ...,  0.01006059,\n",
       "         0.02788651,  0.01593067], dtype=float32),\n",
       " array([ 0.1244503 , -0.08539206, -0.06611985, ...,  0.00646391,\n",
       "         0.03890105,  0.01271367], dtype=float32),\n",
       " array([ 0.11022878, -0.07929622, -0.06343595, ...,  0.00480656,\n",
       "         0.01467209,  0.02119357], dtype=float32),\n",
       " array([ 0.12083178, -0.09043114, -0.06316222, ...,  0.01075422,\n",
       "         0.023979  ,  0.01127691], dtype=float32)]"
      ]
     },
     "execution_count": 27,
     "metadata": {},
     "output_type": "execute_result"
    }
   ],
   "source": [
    "tr_sequence_representations"
   ]
  },
  {
   "cell_type": "code",
   "execution_count": 28,
   "id": "f176f6e9-2c40-41f0-aea2-d895daecc300",
   "metadata": {},
   "outputs": [],
   "source": [
    "train_labels = train_df[\"tropism\"]"
   ]
  },
  {
   "cell_type": "code",
   "execution_count": 29,
   "id": "00f3615d-ae71-4440-8ada-0f11b0603826",
   "metadata": {},
   "outputs": [],
   "source": [
    "from sklearn.preprocessing import OneHotEncoder\n",
    "import numpy as np\n",
    "label_encoder = OneHotEncoder(handle_unknown='ignore')\n"
   ]
  },
  {
   "cell_type": "code",
   "execution_count": 30,
   "id": "f19fbdf5-0f05-49a7-af6e-bed09b73ac45",
   "metadata": {},
   "outputs": [],
   "source": [
    "train_labels = train_labels"
   ]
  },
  {
   "cell_type": "code",
   "execution_count": 31,
   "id": "1d871391",
   "metadata": {},
   "outputs": [
    {
     "data": {
      "text/plain": [
       "(69, 1)"
      ]
     },
     "execution_count": 31,
     "metadata": {},
     "output_type": "execute_result"
    }
   ],
   "source": [
    "np.shape(train_labels.values.reshape(-1,1))"
   ]
  },
  {
   "cell_type": "code",
   "execution_count": 33,
   "id": "84fb3854-1d5f-4223-b493-7feb17ff1478",
   "metadata": {},
   "outputs": [],
   "source": [
    "tr_encoded_data = label_encoder.fit_transform(train_labels.values.reshape(-1,1))"
   ]
  },
  {
   "cell_type": "code",
   "execution_count": 34,
   "id": "ff3db036",
   "metadata": {},
   "outputs": [
    {
     "data": {
      "text/plain": [
       "<69x2 sparse matrix of type '<class 'numpy.float64'>'\n",
       "\twith 69 stored elements in Compressed Sparse Row format>"
      ]
     },
     "execution_count": 34,
     "metadata": {},
     "output_type": "execute_result"
    }
   ],
   "source": [
    "tr_encoded_data"
   ]
  },
  {
   "cell_type": "code",
   "execution_count": 35,
   "id": "f569a600-d25d-457d-9551-5290613167f1",
   "metadata": {},
   "outputs": [],
   "source": [
    "from sklearn.ensemble import RandomForestClassifier\n",
    "rfc = RandomForestClassifier(n_estimators=15, random_state=42)"
   ]
  },
  {
   "cell_type": "code",
   "execution_count": 36,
   "id": "c46e7ef3-3ad9-4f4b-a75e-0c51cfbe2b58",
   "metadata": {},
   "outputs": [],
   "source": [
    "x = tr_sequence_representations"
   ]
  },
  {
   "cell_type": "markdown",
   "id": "e930824e-e7f8-4c99-b6b0-f64eca2ae421",
   "metadata": {},
   "source": [
    "SMOTE"
   ]
  },
  {
   "cell_type": "code",
   "execution_count": 37,
   "id": "d1ad1077-2cc5-462b-883f-607c1bc04c38",
   "metadata": {},
   "outputs": [],
   "source": [
    "from imblearn.over_sampling import SMOTE\n",
    "from sklearn.datasets import make_classification\n",
    "from collections import Counter\n",
    "\n",
    "sm_1 = SMOTE(random_state=42)\n",
    "X_res, y_res = sm_1.fit_resample(x,  tr_encoded_data.toarray())"
   ]
  },
  {
   "cell_type": "code",
   "execution_count": 38,
   "id": "ea6cf248",
   "metadata": {},
   "outputs": [
    {
     "data": {
      "text/plain": [
       "array([[0],\n",
       "       [0],\n",
       "       [0],\n",
       "       [0],\n",
       "       [0],\n",
       "       [0],\n",
       "       [1],\n",
       "       [1],\n",
       "       [1],\n",
       "       [0],\n",
       "       [1],\n",
       "       [0],\n",
       "       [0],\n",
       "       [0],\n",
       "       [0],\n",
       "       [1],\n",
       "       [0],\n",
       "       [0],\n",
       "       [1],\n",
       "       [0],\n",
       "       [0],\n",
       "       [1],\n",
       "       [0],\n",
       "       [0],\n",
       "       [1],\n",
       "       [0],\n",
       "       [0],\n",
       "       [0],\n",
       "       [0],\n",
       "       [0],\n",
       "       [0],\n",
       "       [0],\n",
       "       [1],\n",
       "       [0],\n",
       "       [0],\n",
       "       [1],\n",
       "       [1],\n",
       "       [0],\n",
       "       [0],\n",
       "       [0],\n",
       "       [0],\n",
       "       [0],\n",
       "       [0],\n",
       "       [0],\n",
       "       [0],\n",
       "       [1],\n",
       "       [0],\n",
       "       [0],\n",
       "       [1],\n",
       "       [1],\n",
       "       [0],\n",
       "       [0],\n",
       "       [1],\n",
       "       [0],\n",
       "       [1],\n",
       "       [1],\n",
       "       [0],\n",
       "       [0],\n",
       "       [0],\n",
       "       [1],\n",
       "       [1],\n",
       "       [0],\n",
       "       [0],\n",
       "       [0],\n",
       "       [1],\n",
       "       [0],\n",
       "       [1],\n",
       "       [0],\n",
       "       [0],\n",
       "       [1],\n",
       "       [1],\n",
       "       [1],\n",
       "       [1],\n",
       "       [1],\n",
       "       [1],\n",
       "       [1],\n",
       "       [1],\n",
       "       [1],\n",
       "       [1],\n",
       "       [1],\n",
       "       [1],\n",
       "       [1],\n",
       "       [1],\n",
       "       [1],\n",
       "       [1],\n",
       "       [1],\n",
       "       [1],\n",
       "       [1],\n",
       "       [1],\n",
       "       [1],\n",
       "       [1],\n",
       "       [1],\n",
       "       [1],\n",
       "       [1],\n",
       "       [1],\n",
       "       [1]])"
      ]
     },
     "execution_count": 38,
     "metadata": {},
     "output_type": "execute_result"
    }
   ],
   "source": [
    "y_res"
   ]
  },
  {
   "cell_type": "code",
   "execution_count": 37,
   "id": "14786cbf-de72-4023-94b9-155cca5c6cd6",
   "metadata": {},
   "outputs": [
    {
     "data": {
      "text/plain": [
       "(96, 1)"
      ]
     },
     "execution_count": 37,
     "metadata": {},
     "output_type": "execute_result"
    }
   ],
   "source": [
    "np.shape(y_res)\n"
   ]
  },
  {
   "cell_type": "code",
   "execution_count": 38,
   "id": "78ba0237",
   "metadata": {},
   "outputs": [
    {
     "data": {
      "text/plain": [
       "(96, 1280)"
      ]
     },
     "execution_count": 38,
     "metadata": {},
     "output_type": "execute_result"
    }
   ],
   "source": [
    "np.shape(X_res)"
   ]
  },
  {
   "cell_type": "code",
   "execution_count": 39,
   "id": "c5769258-1ce7-4709-820e-2e13d9fc4603",
   "metadata": {},
   "outputs": [
    {
     "name": "stdout",
     "output_type": "stream",
     "text": [
      "[48. 21.]\n"
     ]
    }
   ],
   "source": [
    "class_counts = tr_encoded_data.toarray().sum(axis=0)\n",
    "print(class_counts)"
   ]
  },
  {
   "cell_type": "code",
   "execution_count": 61,
   "id": "a5e38d3f-7db0-4bf0-a698-94a42f166f8c",
   "metadata": {},
   "outputs": [
    {
     "data": {
      "image/png": "[encoded data removed]",
      "text/plain": [
       "<Figure size 800x600 with 1 Axes>"
      ]
     },
     "metadata": {},
     "output_type": "display_data"
    }
   ],
   "source": [
    "import matplotlib.pyplot as plt\n",
    "\n",
    "# Given data\n",
    "tropism = ['M-tropism', 'Non-M-tropism']\n",
    "original_counts = tr_encoded_data.toarray().sum(axis=0)\n",
    "smote_counts =y_res.sum(axis=0) # Updated counts after applying SMOTE\n",
    "\n",
    "# Set up the figure and axes\n",
    "fig, ax = plt.subplots(figsize=(8, 6))\n",
    "\n",
    "# Plotting the original and SMOTE counts as two separate bars\n",
    "width = 0.4\n",
    "x = range(len(tropism))\n",
    "\n",
    "ax.bar(x, original_counts, width=width, label='Original Counts')\n",
    "ax.bar([i + width for i in x], smote_counts, width=width, label='SMOTE Counts')\n",
    "\n",
    "# Adding labels and title\n",
    "ax.set_xlabel('Tropism')\n",
    "ax.set_ylabel('Number of Samples')\n",
    "ax.set_title('Class Distribution Before and After SMOTE')\n",
    "ax.set_xticks([i + width/2 for i in x])\n",
    "ax.set_xticklabels(tropism)\n",
    "ax.legend()\n",
    "\n",
    "# Display the plot\n",
    "plt.tight_layout()\n",
    "plt.show()"
   ]
  },
  {
   "cell_type": "code",
   "execution_count": 41,
   "id": "be5dc10d-4c26-43c2-a2fe-603fd8cbc5fa",
   "metadata": {},
   "outputs": [
    {
     "name": "stderr",
     "output_type": "stream",
     "text": [
      "/Library/Frameworks/Python.framework/Versions/3.11/lib/python3.11/site-packages/sklearn/base.py:1351: DataConversionWarning: A column-vector y was passed when a 1d array was expected. Please change the shape of y to (n_samples,), for example using ravel().\n",
      "  return fit_method(estimator, *args, **kwargs)\n"
     ]
    },
    {
     "data": {
      "text/html": [
       "<style>#sk-container-id-1 {\n",
       "  /* Definition of color scheme common for light and dark mode */\n",
       "  --sklearn-color-text: black;\n",
       "  --sklearn-color-line: gray;\n",
       "  /* Definition of color scheme for unfitted estimators */\n",
       "  --sklearn-color-unfitted-level-0: #fff5e6;\n",
       "  --sklearn-color-unfitted-level-1: #f6e4d2;\n",
       "  --sklearn-color-unfitted-level-2: #ffe0b3;\n",
       "  --sklearn-color-unfitted-level-3: chocolate;\n",
       "  /* Definition of color scheme for fitted estimators */\n",
       "  --sklearn-color-fitted-level-0: #f0f8ff;\n",
       "  --sklearn-color-fitted-level-1: #d4ebff;\n",
       "  --sklearn-color-fitted-level-2: #b3dbfd;\n",
       "  --sklearn-color-fitted-level-3: cornflowerblue;\n",
       "\n",
       "  /* Specific color for light theme */\n",
       "  --sklearn-color-text-on-default-background: var(--sg-text-color, var(--theme-code-foreground, var(--jp-content-font-color1, black)));\n",
       "  --sklearn-color-background: var(--sg-background-color, var(--theme-background, var(--jp-layout-color0, white)));\n",
       "  --sklearn-color-border-box: var(--sg-text-color, var(--theme-code-foreground, var(--jp-content-font-color1, black)));\n",
       "  --sklearn-color-icon: #696969;\n",
       "\n",
       "  @media (prefers-color-scheme: dark) {\n",
       "    /* Redefinition of color scheme for dark theme */\n",
       "    --sklearn-color-text-on-default-background: var(--sg-text-color, var(--theme-code-foreground, var(--jp-content-font-color1, white)));\n",
       "    --sklearn-color-background: var(--sg-background-color, var(--theme-background, var(--jp-layout-color0, #111)));\n",
       "    --sklearn-color-border-box: var(--sg-text-color, var(--theme-code-foreground, var(--jp-content-font-color1, white)));\n",
       "    --sklearn-color-icon: #878787;\n",
       "  }\n",
       "}\n",
       "\n",
       "#sk-container-id-1 {\n",
       "  color: var(--sklearn-color-text);\n",
       "}\n",
       "\n",
       "#sk-container-id-1 pre {\n",
       "  padding: 0;\n",
       "}\n",
       "\n",
       "#sk-container-id-1 input.sk-hidden--visually {\n",
       "  border: 0;\n",
       "  clip: rect(1px 1px 1px 1px);\n",
       "  clip: rect(1px, 1px, 1px, 1px);\n",
       "  height: 1px;\n",
       "  margin: -1px;\n",
       "  overflow: hidden;\n",
       "  padding: 0;\n",
       "  position: absolute;\n",
       "  width: 1px;\n",
       "}\n",
       "\n",
       "#sk-container-id-1 div.sk-dashed-wrapped {\n",
       "  border: 1px dashed var(--sklearn-color-line);\n",
       "  margin: 0 0.4em 0.5em 0.4em;\n",
       "  box-sizing: border-box;\n",
       "  padding-bottom: 0.4em;\n",
       "  background-color: var(--sklearn-color-background);\n",
       "}\n",
       "\n",
       "#sk-container-id-1 div.sk-container {\n",
       "  /* jupyter's `normalize.less` sets `[hidden] { display: none; }`\n",
       "     but bootstrap.min.css set `[hidden] { display: none !important; }`\n",
       "     so we also need the `!important` here to be able to override the\n",
       "     default hidden behavior on the sphinx rendered scikit-learn.org.\n",
       "     See: https://github.com/scikit-learn/scikit-learn/issues/21755 */\n",
       "  display: inline-block !important;\n",
       "  position: relative;\n",
       "}\n",
       "\n",
       "#sk-container-id-1 div.sk-text-repr-fallback {\n",
       "  display: none;\n",
       "}\n",
       "\n",
       "div.sk-parallel-item,\n",
       "div.sk-serial,\n",
       "div.sk-item {\n",
       "  /* draw centered vertical line to link estimators */\n",
       "  background-image: linear-gradient(var(--sklearn-color-text-on-default-background), var(--sklearn-color-text-on-default-background));\n",
       "  background-size: 2px 100%;\n",
       "  background-repeat: no-repeat;\n",
       "  background-position: center center;\n",
       "}\n",
       "\n",
       "/* Parallel-specific style estimator block */\n",
       "\n",
       "#sk-container-id-1 div.sk-parallel-item::after {\n",
       "  content: \"\";\n",
       "  width: 100%;\n",
       "  border-bottom: 2px solid var(--sklearn-color-text-on-default-background);\n",
       "  flex-grow: 1;\n",
       "}\n",
       "\n",
       "#sk-container-id-1 div.sk-parallel {\n",
       "  display: flex;\n",
       "  align-items: stretch;\n",
       "  justify-content: center;\n",
       "  background-color: var(--sklearn-color-background);\n",
       "  position: relative;\n",
       "}\n",
       "\n",
       "#sk-container-id-1 div.sk-parallel-item {\n",
       "  display: flex;\n",
       "  flex-direction: column;\n",
       "}\n",
       "\n",
       "#sk-container-id-1 div.sk-parallel-item:first-child::after {\n",
       "  align-self: flex-end;\n",
       "  width: 50%;\n",
       "}\n",
       "\n",
       "#sk-container-id-1 div.sk-parallel-item:last-child::after {\n",
       "  align-self: flex-start;\n",
       "  width: 50%;\n",
       "}\n",
       "\n",
       "#sk-container-id-1 div.sk-parallel-item:only-child::after {\n",
       "  width: 0;\n",
       "}\n",
       "\n",
       "/* Serial-specific style estimator block */\n",
       "\n",
       "#sk-container-id-1 div.sk-serial {\n",
       "  display: flex;\n",
       "  flex-direction: column;\n",
       "  align-items: center;\n",
       "  background-color: var(--sklearn-color-background);\n",
       "  padding-right: 1em;\n",
       "  padding-left: 1em;\n",
       "}\n",
       "\n",
       "\n",
       "/* Toggleable style: style used for estimator/Pipeline/ColumnTransformer box that is\n",
       "clickable and can be expanded/collapsed.\n",
       "- Pipeline and ColumnTransformer use this feature and define the default style\n",
       "- Estimators will overwrite some part of the style using the `sk-estimator` class\n",
       "*/\n",
       "\n",
       "/* Pipeline and ColumnTransformer style (default) */\n",
       "\n",
       "#sk-container-id-1 div.sk-toggleable {\n",
       "  /* Default theme specific background. It is overwritten whether we have a\n",
       "  specific estimator or a Pipeline/ColumnTransformer */\n",
       "  background-color: var(--sklearn-color-background);\n",
       "}\n",
       "\n",
       "/* Toggleable label */\n",
       "#sk-container-id-1 label.sk-toggleable__label {\n",
       "  cursor: pointer;\n",
       "  display: block;\n",
       "  width: 100%;\n",
       "  margin-bottom: 0;\n",
       "  padding: 0.5em;\n",
       "  box-sizing: border-box;\n",
       "  text-align: center;\n",
       "}\n",
       "\n",
       "#sk-container-id-1 label.sk-toggleable__label-arrow:before {\n",
       "  /* Arrow on the left of the label */\n",
       "  content: \"▸\";\n",
       "  float: left;\n",
       "  margin-right: 0.25em;\n",
       "  color: var(--sklearn-color-icon);\n",
       "}\n",
       "\n",
       "#sk-container-id-1 label.sk-toggleable__label-arrow:hover:before {\n",
       "  color: var(--sklearn-color-text);\n",
       "}\n",
       "\n",
       "/* Toggleable content - dropdown */\n",
       "\n",
       "#sk-container-id-1 div.sk-toggleable__content {\n",
       "  max-height: 0;\n",
       "  max-width: 0;\n",
       "  overflow: hidden;\n",
       "  text-align: left;\n",
       "  /* unfitted */\n",
       "  background-color: var(--sklearn-color-unfitted-level-0);\n",
       "}\n",
       "\n",
       "#sk-container-id-1 div.sk-toggleable__content.fitted {\n",
       "  /* fitted */\n",
       "  background-color: var(--sklearn-color-fitted-level-0);\n",
       "}\n",
       "\n",
       "#sk-container-id-1 div.sk-toggleable__content pre {\n",
       "  margin: 0.2em;\n",
       "  border-radius: 0.25em;\n",
       "  color: var(--sklearn-color-text);\n",
       "  /* unfitted */\n",
       "  background-color: var(--sklearn-color-unfitted-level-0);\n",
       "}\n",
       "\n",
       "#sk-container-id-1 div.sk-toggleable__content.fitted pre {\n",
       "  /* unfitted */\n",
       "  background-color: var(--sklearn-color-fitted-level-0);\n",
       "}\n",
       "\n",
       "#sk-container-id-1 input.sk-toggleable__control:checked~div.sk-toggleable__content {\n",
       "  /* Expand drop-down */\n",
       "  max-height: 200px;\n",
       "  max-width: 100%;\n",
       "  overflow: auto;\n",
       "}\n",
       "\n",
       "#sk-container-id-1 input.sk-toggleable__control:checked~label.sk-toggleable__label-arrow:before {\n",
       "  content: \"▾\";\n",
       "}\n",
       "\n",
       "/* Pipeline/ColumnTransformer-specific style */\n",
       "\n",
       "#sk-container-id-1 div.sk-label input.sk-toggleable__control:checked~label.sk-toggleable__label {\n",
       "  color: var(--sklearn-color-text);\n",
       "  background-color: var(--sklearn-color-unfitted-level-2);\n",
       "}\n",
       "\n",
       "#sk-container-id-1 div.sk-label.fitted input.sk-toggleable__control:checked~label.sk-toggleable__label {\n",
       "  background-color: var(--sklearn-color-fitted-level-2);\n",
       "}\n",
       "\n",
       "/* Estimator-specific style */\n",
       "\n",
       "/* Colorize estimator box */\n",
       "#sk-container-id-1 div.sk-estimator input.sk-toggleable__control:checked~label.sk-toggleable__label {\n",
       "  /* unfitted */\n",
       "  background-color: var(--sklearn-color-unfitted-level-2);\n",
       "}\n",
       "\n",
       "#sk-container-id-1 div.sk-estimator.fitted input.sk-toggleable__control:checked~label.sk-toggleable__label {\n",
       "  /* fitted */\n",
       "  background-color: var(--sklearn-color-fitted-level-2);\n",
       "}\n",
       "\n",
       "#sk-container-id-1 div.sk-label label.sk-toggleable__label,\n",
       "#sk-container-id-1 div.sk-label label {\n",
       "  /* The background is the default theme color */\n",
       "  color: var(--sklearn-color-text-on-default-background);\n",
       "}\n",
       "\n",
       "/* On hover, darken the color of the background */\n",
       "#sk-container-id-1 div.sk-label:hover label.sk-toggleable__label {\n",
       "  color: var(--sklearn-color-text);\n",
       "  background-color: var(--sklearn-color-unfitted-level-2);\n",
       "}\n",
       "\n",
       "/* Label box, darken color on hover, fitted */\n",
       "#sk-container-id-1 div.sk-label.fitted:hover label.sk-toggleable__label.fitted {\n",
       "  color: var(--sklearn-color-text);\n",
       "  background-color: var(--sklearn-color-fitted-level-2);\n",
       "}\n",
       "\n",
       "/* Estimator label */\n",
       "\n",
       "#sk-container-id-1 div.sk-label label {\n",
       "  font-family: monospace;\n",
       "  font-weight: bold;\n",
       "  display: inline-block;\n",
       "  line-height: 1.2em;\n",
       "}\n",
       "\n",
       "#sk-container-id-1 div.sk-label-container {\n",
       "  text-align: center;\n",
       "}\n",
       "\n",
       "/* Estimator-specific */\n",
       "#sk-container-id-1 div.sk-estimator {\n",
       "  font-family: monospace;\n",
       "  border: 1px dotted var(--sklearn-color-border-box);\n",
       "  border-radius: 0.25em;\n",
       "  box-sizing: border-box;\n",
       "  margin-bottom: 0.5em;\n",
       "  /* unfitted */\n",
       "  background-color: var(--sklearn-color-unfitted-level-0);\n",
       "}\n",
       "\n",
       "#sk-container-id-1 div.sk-estimator.fitted {\n",
       "  /* fitted */\n",
       "  background-color: var(--sklearn-color-fitted-level-0);\n",
       "}\n",
       "\n",
       "/* on hover */\n",
       "#sk-container-id-1 div.sk-estimator:hover {\n",
       "  /* unfitted */\n",
       "  background-color: var(--sklearn-color-unfitted-level-2);\n",
       "}\n",
       "\n",
       "#sk-container-id-1 div.sk-estimator.fitted:hover {\n",
       "  /* fitted */\n",
       "  background-color: var(--sklearn-color-fitted-level-2);\n",
       "}\n",
       "\n",
       "/* Specification for estimator info (e.g. \"i\" and \"?\") */\n",
       "\n",
       "/* Common style for \"i\" and \"?\" */\n",
       "\n",
       ".sk-estimator-doc-link,\n",
       "a:link.sk-estimator-doc-link,\n",
       "a:visited.sk-estimator-doc-link {\n",
       "  float: right;\n",
       "  font-size: smaller;\n",
       "  line-height: 1em;\n",
       "  font-family: monospace;\n",
       "  background-color: var(--sklearn-color-background);\n",
       "  border-radius: 1em;\n",
       "  height: 1em;\n",
       "  width: 1em;\n",
       "  text-decoration: none !important;\n",
       "  margin-left: 1ex;\n",
       "  /* unfitted */\n",
       "  border: var(--sklearn-color-unfitted-level-1) 1pt solid;\n",
       "  color: var(--sklearn-color-unfitted-level-1);\n",
       "}\n",
       "\n",
       ".sk-estimator-doc-link.fitted,\n",
       "a:link.sk-estimator-doc-link.fitted,\n",
       "a:visited.sk-estimator-doc-link.fitted {\n",
       "  /* fitted */\n",
       "  border: var(--sklearn-color-fitted-level-1) 1pt solid;\n",
       "  color: var(--sklearn-color-fitted-level-1);\n",
       "}\n",
       "\n",
       "/* On hover */\n",
       "div.sk-estimator:hover .sk-estimator-doc-link:hover,\n",
       ".sk-estimator-doc-link:hover,\n",
       "div.sk-label-container:hover .sk-estimator-doc-link:hover,\n",
       ".sk-estimator-doc-link:hover {\n",
       "  /* unfitted */\n",
       "  background-color: var(--sklearn-color-unfitted-level-3);\n",
       "  color: var(--sklearn-color-background);\n",
       "  text-decoration: none;\n",
       "}\n",
       "\n",
       "div.sk-estimator.fitted:hover .sk-estimator-doc-link.fitted:hover,\n",
       ".sk-estimator-doc-link.fitted:hover,\n",
       "div.sk-label-container:hover .sk-estimator-doc-link.fitted:hover,\n",
       ".sk-estimator-doc-link.fitted:hover {\n",
       "  /* fitted */\n",
       "  background-color: var(--sklearn-color-fitted-level-3);\n",
       "  color: var(--sklearn-color-background);\n",
       "  text-decoration: none;\n",
       "}\n",
       "\n",
       "/* Span, style for the box shown on hovering the info icon */\n",
       ".sk-estimator-doc-link span {\n",
       "  display: none;\n",
       "  z-index: 9999;\n",
       "  position: relative;\n",
       "  font-weight: normal;\n",
       "  right: .2ex;\n",
       "  padding: .5ex;\n",
       "  margin: .5ex;\n",
       "  width: min-content;\n",
       "  min-width: 20ex;\n",
       "  max-width: 50ex;\n",
       "  color: var(--sklearn-color-text);\n",
       "  box-shadow: 2pt 2pt 4pt #999;\n",
       "  /* unfitted */\n",
       "  background: var(--sklearn-color-unfitted-level-0);\n",
       "  border: .5pt solid var(--sklearn-color-unfitted-level-3);\n",
       "}\n",
       "\n",
       ".sk-estimator-doc-link.fitted span {\n",
       "  /* fitted */\n",
       "  background: var(--sklearn-color-fitted-level-0);\n",
       "  border: var(--sklearn-color-fitted-level-3);\n",
       "}\n",
       "\n",
       ".sk-estimator-doc-link:hover span {\n",
       "  display: block;\n",
       "}\n",
       "\n",
       "/* \"?\"-specific style due to the `<a>` HTML tag */\n",
       "\n",
       "#sk-container-id-1 a.estimator_doc_link {\n",
       "  float: right;\n",
       "  font-size: 1rem;\n",
       "  line-height: 1em;\n",
       "  font-family: monospace;\n",
       "  background-color: var(--sklearn-color-background);\n",
       "  border-radius: 1rem;\n",
       "  height: 1rem;\n",
       "  width: 1rem;\n",
       "  text-decoration: none;\n",
       "  /* unfitted */\n",
       "  color: var(--sklearn-color-unfitted-level-1);\n",
       "  border: var(--sklearn-color-unfitted-level-1) 1pt solid;\n",
       "}\n",
       "\n",
       "#sk-container-id-1 a.estimator_doc_link.fitted {\n",
       "  /* fitted */\n",
       "  border: var(--sklearn-color-fitted-level-1) 1pt solid;\n",
       "  color: var(--sklearn-color-fitted-level-1);\n",
       "}\n",
       "\n",
       "/* On hover */\n",
       "#sk-container-id-1 a.estimator_doc_link:hover {\n",
       "  /* unfitted */\n",
       "  background-color: var(--sklearn-color-unfitted-level-3);\n",
       "  color: var(--sklearn-color-background);\n",
       "  text-decoration: none;\n",
       "}\n",
       "\n",
       "#sk-container-id-1 a.estimator_doc_link.fitted:hover {\n",
       "  /* fitted */\n",
       "  background-color: var(--sklearn-color-fitted-level-3);\n",
       "}\n",
       "</style><div id=\"sk-container-id-1\" class=\"sk-top-container\"><div class=\"sk-text-repr-fallback\"><pre>RandomForestClassifier(n_estimators=15, random_state=42)</pre><b>In a Jupyter environment, please rerun this cell to show the HTML representation or trust the notebook. <br />On GitHub, the HTML representation is unable to render, please try loading this page with nbviewer.org.</b></div><div class=\"sk-container\" hidden><div class=\"sk-item\"><div class=\"sk-estimator fitted sk-toggleable\"><input class=\"sk-toggleable__control sk-hidden--visually\" id=\"sk-estimator-id-1\" type=\"checkbox\" checked><label for=\"sk-estimator-id-1\" class=\"sk-toggleable__label fitted sk-toggleable__label-arrow fitted\">&nbsp;&nbsp;RandomForestClassifier<a class=\"sk-estimator-doc-link fitted\" rel=\"noreferrer\" target=\"_blank\" href=\"https://scikit-learn.org/1.4/modules/generated/sklearn.ensemble.RandomForestClassifier.html\">?<span>Documentation for RandomForestClassifier</span></a><span class=\"sk-estimator-doc-link fitted\">i<span>Fitted</span></span></label><div class=\"sk-toggleable__content fitted\"><pre>RandomForestClassifier(n_estimators=15, random_state=42)</pre></div> </div></div></div></div>"
      ],
      "text/plain": [
       "RandomForestClassifier(n_estimators=15, random_state=42)"
      ]
     },
     "execution_count": 41,
     "metadata": {},
     "output_type": "execute_result"
    }
   ],
   "source": [
    "rfc.fit(X_res, y_res)"
   ]
  },
  {
   "cell_type": "code",
   "execution_count": 42,
   "id": "7ee989ef-69eb-4afa-820b-a6485258975c",
   "metadata": {
    "scrolled": true
   },
   "outputs": [],
   "source": [
    "y_pred = rfc.predict(X_res)"
   ]
  },
  {
   "cell_type": "code",
   "execution_count": 43,
   "id": "d46544c9",
   "metadata": {},
   "outputs": [
    {
     "data": {
      "text/plain": [
       "(96,)"
      ]
     },
     "execution_count": 43,
     "metadata": {},
     "output_type": "execute_result"
    }
   ],
   "source": [
    "np.shape(y_pred)"
   ]
  },
  {
   "cell_type": "code",
   "execution_count": 44,
   "id": "c08f0c3f-c0fb-40bf-956a-ff6d6e57f9c1",
   "metadata": {},
   "outputs": [],
   "source": [
    "from sklearn.metrics import accuracy_score\n",
    "from sklearn.metrics import precision_score\n",
    "from sklearn.metrics import recall_score\n",
    "from sklearn.metrics import f1_score\n",
    "from sklearn.metrics import roc_curve, auc\n",
    "accuracy = accuracy_score(y_res, y_pred)\n",
    "precision = precision_score(y_res, y_pred, average='macro')\n",
    "recall = recall_score(y_res, y_pred, average='macro')\n",
    "f1 = f1_score(y_res, y_pred, average='macro')"
   ]
  },
  {
   "cell_type": "code",
   "execution_count": 45,
   "id": "fd95ab5a-b265-42bc-bbb8-f9eb3f30f763",
   "metadata": {},
   "outputs": [],
   "source": [
    "test_data = [(tuple(list(x))[1], tuple(list(x))[0])  for x in list(test_df[['sequence','ID']].values)]\n",
    "test_batch_labels, test_batch_strs, test_batch_tokens = batch_converter(test_data)\n",
    "test_batch_lens = (test_batch_tokens != alphabet.padding_idx).sum(1)\n"
   ]
  },
  {
   "cell_type": "code",
   "execution_count": 46,
   "id": "67ae2617-62a2-46d9-8543-d4e3ba3ecfb7",
   "metadata": {},
   "outputs": [],
   "source": [
    "# Extract per-residue representations (on CPU)\n",
    "#with torch.no_grad():\n",
    "    #test_results = model(test_batch_tokens, repr_layers=[33], return_contacts=False)\n"
   ]
  },
  {
   "cell_type": "code",
   "execution_count": 47,
   "id": "5c9a9952-6cba-44b1-9fd8-e79335bbacf7",
   "metadata": {},
   "outputs": [],
   "source": [
    "#test_token_representations = test_results[\"representations\"][33]"
   ]
  },
  {
   "cell_type": "code",
   "execution_count": 48,
   "id": "2e0c9373-eb81-434b-8cde-31e05bd39456",
   "metadata": {},
   "outputs": [],
   "source": [
    "#np.save('esm_features_test.npy', test_token_representations)"
   ]
  },
  {
   "cell_type": "code",
   "execution_count": 49,
   "id": "923f6338-669e-44c8-9a12-8d6330ac42d2",
   "metadata": {},
   "outputs": [],
   "source": [
    "test_token_representations = np.load('esm_features_test.npy')"
   ]
  },
  {
   "cell_type": "code",
   "execution_count": 50,
   "id": "2edf059b-4109-4453-b058-dc60fd362162",
   "metadata": {},
   "outputs": [],
   "source": [
    "# Generate per-sequence representations via averaging\n",
    "# NOTE: token 0 is always a beginning-of-sequence token, so the first residue is token 1.\n",
    "test_sequence_representations = []\n",
    "for i, tokens_len in enumerate(test_batch_lens):\n",
    "    test_sequence_representations.append(test_token_representations[i, 1 : tokens_len - 1].mean(0))\n",
    "test_labels = test_df['tropism']"
   ]
  },
  {
   "cell_type": "code",
   "execution_count": 51,
   "id": "11bebe52-34c6-48d9-a9b5-ab5a353c838b",
   "metadata": {},
   "outputs": [],
   "source": [
    "transformed_labels = label_encoder.transform(test_labels.values.reshape(-1,1))"
   ]
  },
  {
   "cell_type": "code",
   "execution_count": 52,
   "id": "9fa556a3-fbce-4673-be0f-80ea4690bb86",
   "metadata": {},
   "outputs": [],
   "source": [
    "x_test = test_sequence_representations"
   ]
  },
  {
   "cell_type": "code",
   "execution_count": 53,
   "id": "b2ef9454-6b3b-4daf-ba97-730aff7dd17b",
   "metadata": {},
   "outputs": [
    {
     "data": {
      "text/plain": [
       "array([0, 0, 0, 0, 0, 0, 0, 1, 1, 0, 0, 1, 1, 1, 0, 1, 1, 0])"
      ]
     },
     "execution_count": 53,
     "metadata": {},
     "output_type": "execute_result"
    }
   ],
   "source": [
    "y_pred_test = rfc.predict(x_test)"
   ]
  },
  {
   "cell_type": "code",
   "execution_count": 59,
   "id": "cff150cb",
   "metadata": {},
   "outputs": [
    {
     "data": {
      "text/plain": [
       "<18x2 sparse matrix of type '<class 'numpy.float64'>'\n",
       "\twith 18 stored elements in Compressed Sparse Row format>"
      ]
     },
     "execution_count": 59,
     "metadata": {},
     "output_type": "execute_result"
    }
   ],
   "source": [
    "y_pred_test_encoded = label_encoder.fit_transform(y_pred_test.reshape(-1,1))"
   ]
  },
  {
   "cell_type": "code",
   "execution_count": 60,
   "id": "4067357e",
   "metadata": {},
   "outputs": [
    {
     "data": {
      "text/plain": [
       "array([[0],\n",
       "       [0],\n",
       "       [0],\n",
       "       [0],\n",
       "       [0],\n",
       "       [0],\n",
       "       [0],\n",
       "       [1],\n",
       "       [1],\n",
       "       [0],\n",
       "       [0],\n",
       "       [1],\n",
       "       [1],\n",
       "       [1],\n",
       "       [0],\n",
       "       [1],\n",
       "       [1],\n",
       "       [0]])"
      ]
     },
     "execution_count": 60,
     "metadata": {},
     "output_type": "execute_result"
    }
   ],
   "source": [
    "test_original = label_encoder.inverse_transform(y_pred_test_encoded.toarray())\n",
    "test_original"
   ]
  },
  {
   "cell_type": "code",
   "execution_count": null,
   "id": "b424ad97-01c3-4712-be9d-2cc463d385f1",
   "metadata": {},
   "outputs": [],
   "source": [
    "def func_to_check(max_dep, n_estimators):\n",
    "  rfc = RandomForestClassifier(n_estimators=n_estimators, random_state=42, max_depth=max_dep)\n",
    "  x = tr_sequence_representations\n",
    "  rfc.fit(X_res, y_res)\n",
    "  y_pred = rfc.predict(x)\n",
    "  y_pred_encoded = label_encoder.fit_transform(y_pred.reshape(-1,1))\n",
    "  accuracy = accuracy_score(tr_encoded_data.toarray(), y_pred_encoded.toarray())\n",
    "  precision = precision_score(tr_encoded_data.toarray(), y_pred_encoded.toarray(), average='macro')\n",
    "  recall = recall_score(tr_encoded_data.toarray(), y_pred_encoded.toarray(), average='macro')\n",
    "  f1 = f1_score(tr_encoded_data.toarray(), y_pred_encoded.toarray(), average='macro')\n",
    "  y_pred_test = rfc.predict(x_test)\n",
    "  y_pred_test_encoded = label_encoder.fit_transform(y_pred_test.reshape(-1,1))\n",
    "  test_accuracy = accuracy_score(transformed_labels.toarray(), y_pred_test_encoded.toarray())\n",
    "  test_precision = precision_score(transformed_labels.toarray(), y_pred_test_encoded.toarray(), average='weighted')\n",
    "  test_recall = recall_score(transformed_labels.toarray(), y_pred_test_encoded.toarray(), average='weighted')\n",
    "  test_f1 = f1_score(transformed_labels.toarray(), y_pred_test_encoded.toarray(), average='weighted')\n",
    "  return accuracy, precision, recall, f1 , test_accuracy, test_precision, test_recall, test_f1"
   ]
  },
  {
   "cell_type": "code",
   "execution_count": null,
   "id": "369de1a0-5a63-495a-b3b4-2f341c9feb5d",
   "metadata": {},
   "outputs": [],
   "source": [
    "import numpy as np\n",
    "n_estimators_range = np.linspace(10, 200, 10).astype(int)"
   ]
  },
  {
   "cell_type": "code",
   "execution_count": null,
   "id": "4fa3618b-ff4f-474f-a54b-aedf70c1319c",
   "metadata": {},
   "outputs": [
    {
     "name": "stderr",
     "output_type": "stream",
     "text": [
      "/Library/Frameworks/Python.framework/Versions/3.11/lib/python3.11/site-packages/sklearn/base.py:1351: DataConversionWarning: A column-vector y was passed when a 1d array was expected. Please change the shape of y to (n_samples,), for example using ravel().\n",
      "  return fit_method(estimator, *args, **kwargs)\n",
      "/Library/Frameworks/Python.framework/Versions/3.11/lib/python3.11/site-packages/sklearn/base.py:1351: DataConversionWarning: A column-vector y was passed when a 1d array was expected. Please change the shape of y to (n_samples,), for example using ravel().\n",
      "  return fit_method(estimator, *args, **kwargs)\n",
      "/Library/Frameworks/Python.framework/Versions/3.11/lib/python3.11/site-packages/sklearn/base.py:1351: DataConversionWarning: A column-vector y was passed when a 1d array was expected. Please change the shape of y to (n_samples,), for example using ravel().\n",
      "  return fit_method(estimator, *args, **kwargs)\n",
      "/Library/Frameworks/Python.framework/Versions/3.11/lib/python3.11/site-packages/sklearn/base.py:1351: DataConversionWarning: A column-vector y was passed when a 1d array was expected. Please change the shape of y to (n_samples,), for example using ravel().\n",
      "  return fit_method(estimator, *args, **kwargs)\n",
      "/Library/Frameworks/Python.framework/Versions/3.11/lib/python3.11/site-packages/sklearn/base.py:1351: DataConversionWarning: A column-vector y was passed when a 1d array was expected. Please change the shape of y to (n_samples,), for example using ravel().\n",
      "  return fit_method(estimator, *args, **kwargs)\n",
      "/Library/Frameworks/Python.framework/Versions/3.11/lib/python3.11/site-packages/sklearn/base.py:1351: DataConversionWarning: A column-vector y was passed when a 1d array was expected. Please change the shape of y to (n_samples,), for example using ravel().\n",
      "  return fit_method(estimator, *args, **kwargs)\n",
      "/Library/Frameworks/Python.framework/Versions/3.11/lib/python3.11/site-packages/sklearn/base.py:1351: DataConversionWarning: A column-vector y was passed when a 1d array was expected. Please change the shape of y to (n_samples,), for example using ravel().\n",
      "  return fit_method(estimator, *args, **kwargs)\n"
     ]
    },
    {
     "name": "stdout",
     "output_type": "stream",
     "text": [
      "max depth:  5 n_ estimators: 10 metrics: (0.9855072463768116, 0.9772727272727273, 0.9895833333333333, 0.9831089351285189, 0.8888888888888888, 0.8888888888888888, 0.8888888888888888, 0.8888888888888888)\n",
      "max depth:  7 n_ estimators: 10 metrics: (0.9855072463768116, 0.9772727272727273, 0.9895833333333333, 0.9831089351285189, 0.8888888888888888, 0.8888888888888888, 0.8888888888888888, 0.8888888888888888)\n",
      "max depth:  8 n_ estimators: 10 metrics: (0.9855072463768116, 0.9772727272727273, 0.9895833333333333, 0.9831089351285189, 0.8888888888888888, 0.8888888888888888, 0.8888888888888888, 0.8888888888888888)\n",
      "max depth:  10 n_ estimators: 10 metrics: (0.9855072463768116, 0.9772727272727273, 0.9895833333333333, 0.9831089351285189, 0.8888888888888888, 0.8888888888888888, 0.8888888888888888, 0.8888888888888888)\n",
      "max depth:  15 n_ estimators: 10 metrics: (0.9855072463768116, 0.9772727272727273, 0.9895833333333333, 0.9831089351285189, 0.8888888888888888, 0.8888888888888888, 0.8888888888888888, 0.8888888888888888)\n",
      "max depth:  20 n_ estimators: 10 metrics: (0.9855072463768116, 0.9772727272727273, 0.9895833333333333, 0.9831089351285189, 0.8888888888888888, 0.8888888888888888, 0.8888888888888888, 0.8888888888888888)\n",
      "max depth:  25 n_ estimators: 10 metrics: (0.9855072463768116, 0.9772727272727273, 0.9895833333333333, 0.9831089351285189, 0.8888888888888888, 0.8888888888888888, 0.8888888888888888, 0.8888888888888888)\n",
      "max depth:  30 n_ estimators: 10 metrics: (0.9855072463768116, 0.9772727272727273, 0.9895833333333333, 0.9831089351285189, 0.8888888888888888, 0.8888888888888888, 0.8888888888888888, 0.8888888888888888)\n",
      "max depth:  40 n_ estimators: 10 metrics: (0.9855072463768116, 0.9772727272727273, 0.9895833333333333, 0.9831089351285189, 0.8888888888888888, 0.8888888888888888, 0.8888888888888888, 0.8888888888888888)\n",
      "max depth:  5 n_ estimators: 31 metrics: (1.0, 1.0, 1.0, 1.0, 0.8333333333333334, 0.8441558441558441, 0.8333333333333334, 0.8361204013377928)\n",
      "max depth:  7 n_ estimators: 31 metrics: (1.0, 1.0, 1.0, 1.0, 0.8333333333333334, 0.8441558441558441, 0.8333333333333334, 0.8361204013377928)\n",
      "max depth:  8 n_ estimators: 31 metrics: (1.0, 1.0, 1.0, 1.0, 0.8333333333333334, 0.8441558441558441, 0.8333333333333334, 0.8361204013377928)\n"
     ]
    },
    {
     "name": "stderr",
     "output_type": "stream",
     "text": [
      "/Library/Frameworks/Python.framework/Versions/3.11/lib/python3.11/site-packages/sklearn/base.py:1351: DataConversionWarning: A column-vector y was passed when a 1d array was expected. Please change the shape of y to (n_samples,), for example using ravel().\n",
      "  return fit_method(estimator, *args, **kwargs)\n",
      "/Library/Frameworks/Python.framework/Versions/3.11/lib/python3.11/site-packages/sklearn/base.py:1351: DataConversionWarning: A column-vector y was passed when a 1d array was expected. Please change the shape of y to (n_samples,), for example using ravel().\n",
      "  return fit_method(estimator, *args, **kwargs)\n",
      "/Library/Frameworks/Python.framework/Versions/3.11/lib/python3.11/site-packages/sklearn/base.py:1351: DataConversionWarning: A column-vector y was passed when a 1d array was expected. Please change the shape of y to (n_samples,), for example using ravel().\n",
      "  return fit_method(estimator, *args, **kwargs)\n",
      "/Library/Frameworks/Python.framework/Versions/3.11/lib/python3.11/site-packages/sklearn/base.py:1351: DataConversionWarning: A column-vector y was passed when a 1d array was expected. Please change the shape of y to (n_samples,), for example using ravel().\n",
      "  return fit_method(estimator, *args, **kwargs)\n",
      "/Library/Frameworks/Python.framework/Versions/3.11/lib/python3.11/site-packages/sklearn/base.py:1351: DataConversionWarning: A column-vector y was passed when a 1d array was expected. Please change the shape of y to (n_samples,), for example using ravel().\n",
      "  return fit_method(estimator, *args, **kwargs)\n",
      "/Library/Frameworks/Python.framework/Versions/3.11/lib/python3.11/site-packages/sklearn/base.py:1351: DataConversionWarning: A column-vector y was passed when a 1d array was expected. Please change the shape of y to (n_samples,), for example using ravel().\n",
      "  return fit_method(estimator, *args, **kwargs)\n"
     ]
    },
    {
     "name": "stdout",
     "output_type": "stream",
     "text": [
      "max depth:  10 n_ estimators: 31 metrics: (1.0, 1.0, 1.0, 1.0, 0.8333333333333334, 0.8441558441558441, 0.8333333333333334, 0.8361204013377928)\n",
      "max depth:  15 n_ estimators: 31 metrics: (1.0, 1.0, 1.0, 1.0, 0.8333333333333334, 0.8441558441558441, 0.8333333333333334, 0.8361204013377928)\n",
      "max depth:  20 n_ estimators: 31 metrics: (1.0, 1.0, 1.0, 1.0, 0.8333333333333334, 0.8441558441558441, 0.8333333333333334, 0.8361204013377928)\n",
      "max depth:  25 n_ estimators: 31 metrics: (1.0, 1.0, 1.0, 1.0, 0.8333333333333334, 0.8441558441558441, 0.8333333333333334, 0.8361204013377928)\n",
      "max depth:  30 n_ estimators: 31 metrics: (1.0, 1.0, 1.0, 1.0, 0.8333333333333334, 0.8441558441558441, 0.8333333333333334, 0.8361204013377928)\n",
      "max depth:  40 n_ estimators: 31 metrics: (1.0, 1.0, 1.0, 1.0, 0.8333333333333334, 0.8441558441558441, 0.8333333333333334, 0.8361204013377928)\n"
     ]
    },
    {
     "name": "stderr",
     "output_type": "stream",
     "text": [
      "/Library/Frameworks/Python.framework/Versions/3.11/lib/python3.11/site-packages/sklearn/base.py:1351: DataConversionWarning: A column-vector y was passed when a 1d array was expected. Please change the shape of y to (n_samples,), for example using ravel().\n",
      "  return fit_method(estimator, *args, **kwargs)\n",
      "/Library/Frameworks/Python.framework/Versions/3.11/lib/python3.11/site-packages/sklearn/base.py:1351: DataConversionWarning: A column-vector y was passed when a 1d array was expected. Please change the shape of y to (n_samples,), for example using ravel().\n",
      "  return fit_method(estimator, *args, **kwargs)\n",
      "/Library/Frameworks/Python.framework/Versions/3.11/lib/python3.11/site-packages/sklearn/base.py:1351: DataConversionWarning: A column-vector y was passed when a 1d array was expected. Please change the shape of y to (n_samples,), for example using ravel().\n",
      "  return fit_method(estimator, *args, **kwargs)\n",
      "/Library/Frameworks/Python.framework/Versions/3.11/lib/python3.11/site-packages/sklearn/base.py:1351: DataConversionWarning: A column-vector y was passed when a 1d array was expected. Please change the shape of y to (n_samples,), for example using ravel().\n",
      "  return fit_method(estimator, *args, **kwargs)\n",
      "/Library/Frameworks/Python.framework/Versions/3.11/lib/python3.11/site-packages/sklearn/base.py:1351: DataConversionWarning: A column-vector y was passed when a 1d array was expected. Please change the shape of y to (n_samples,), for example using ravel().\n",
      "  return fit_method(estimator, *args, **kwargs)\n",
      "/Library/Frameworks/Python.framework/Versions/3.11/lib/python3.11/site-packages/sklearn/base.py:1351: DataConversionWarning: A column-vector y was passed when a 1d array was expected. Please change the shape of y to (n_samples,), for example using ravel().\n",
      "  return fit_method(estimator, *args, **kwargs)\n"
     ]
    },
    {
     "name": "stdout",
     "output_type": "stream",
     "text": [
      "max depth:  5 n_ estimators: 52 metrics: (1.0, 1.0, 1.0, 1.0, 0.8888888888888888, 0.8888888888888888, 0.8888888888888888, 0.8888888888888888)\n",
      "max depth:  7 n_ estimators: 52 metrics: (1.0, 1.0, 1.0, 1.0, 0.8888888888888888, 0.8888888888888888, 0.8888888888888888, 0.8888888888888888)\n",
      "max depth:  8 n_ estimators: 52 metrics: (1.0, 1.0, 1.0, 1.0, 0.8888888888888888, 0.8888888888888888, 0.8888888888888888, 0.8888888888888888)\n",
      "max depth:  10 n_ estimators: 52 metrics: (1.0, 1.0, 1.0, 1.0, 0.8888888888888888, 0.8888888888888888, 0.8888888888888888, 0.8888888888888888)\n",
      "max depth:  15 n_ estimators: 52 metrics: (1.0, 1.0, 1.0, 1.0, 0.8888888888888888, 0.8888888888888888, 0.8888888888888888, 0.8888888888888888)\n"
     ]
    },
    {
     "name": "stderr",
     "output_type": "stream",
     "text": [
      "/Library/Frameworks/Python.framework/Versions/3.11/lib/python3.11/site-packages/sklearn/base.py:1351: DataConversionWarning: A column-vector y was passed when a 1d array was expected. Please change the shape of y to (n_samples,), for example using ravel().\n",
      "  return fit_method(estimator, *args, **kwargs)\n",
      "/Library/Frameworks/Python.framework/Versions/3.11/lib/python3.11/site-packages/sklearn/base.py:1351: DataConversionWarning: A column-vector y was passed when a 1d array was expected. Please change the shape of y to (n_samples,), for example using ravel().\n",
      "  return fit_method(estimator, *args, **kwargs)\n",
      "/Library/Frameworks/Python.framework/Versions/3.11/lib/python3.11/site-packages/sklearn/base.py:1351: DataConversionWarning: A column-vector y was passed when a 1d array was expected. Please change the shape of y to (n_samples,), for example using ravel().\n",
      "  return fit_method(estimator, *args, **kwargs)\n",
      "/Library/Frameworks/Python.framework/Versions/3.11/lib/python3.11/site-packages/sklearn/base.py:1351: DataConversionWarning: A column-vector y was passed when a 1d array was expected. Please change the shape of y to (n_samples,), for example using ravel().\n",
      "  return fit_method(estimator, *args, **kwargs)\n",
      "/Library/Frameworks/Python.framework/Versions/3.11/lib/python3.11/site-packages/sklearn/base.py:1351: DataConversionWarning: A column-vector y was passed when a 1d array was expected. Please change the shape of y to (n_samples,), for example using ravel().\n",
      "  return fit_method(estimator, *args, **kwargs)\n"
     ]
    },
    {
     "name": "stdout",
     "output_type": "stream",
     "text": [
      "max depth:  20 n_ estimators: 52 metrics: (1.0, 1.0, 1.0, 1.0, 0.8888888888888888, 0.8888888888888888, 0.8888888888888888, 0.8888888888888888)\n",
      "max depth:  25 n_ estimators: 52 metrics: (1.0, 1.0, 1.0, 1.0, 0.8888888888888888, 0.8888888888888888, 0.8888888888888888, 0.8888888888888888)\n",
      "max depth:  30 n_ estimators: 52 metrics: (1.0, 1.0, 1.0, 1.0, 0.8888888888888888, 0.8888888888888888, 0.8888888888888888, 0.8888888888888888)\n",
      "max depth:  40 n_ estimators: 52 metrics: (1.0, 1.0, 1.0, 1.0, 0.8888888888888888, 0.8888888888888888, 0.8888888888888888, 0.8888888888888888)\n"
     ]
    },
    {
     "name": "stderr",
     "output_type": "stream",
     "text": [
      "/Library/Frameworks/Python.framework/Versions/3.11/lib/python3.11/site-packages/sklearn/base.py:1351: DataConversionWarning: A column-vector y was passed when a 1d array was expected. Please change the shape of y to (n_samples,), for example using ravel().\n",
      "  return fit_method(estimator, *args, **kwargs)\n",
      "/Library/Frameworks/Python.framework/Versions/3.11/lib/python3.11/site-packages/sklearn/base.py:1351: DataConversionWarning: A column-vector y was passed when a 1d array was expected. Please change the shape of y to (n_samples,), for example using ravel().\n",
      "  return fit_method(estimator, *args, **kwargs)\n",
      "/Library/Frameworks/Python.framework/Versions/3.11/lib/python3.11/site-packages/sklearn/base.py:1351: DataConversionWarning: A column-vector y was passed when a 1d array was expected. Please change the shape of y to (n_samples,), for example using ravel().\n",
      "  return fit_method(estimator, *args, **kwargs)\n",
      "/Library/Frameworks/Python.framework/Versions/3.11/lib/python3.11/site-packages/sklearn/base.py:1351: DataConversionWarning: A column-vector y was passed when a 1d array was expected. Please change the shape of y to (n_samples,), for example using ravel().\n",
      "  return fit_method(estimator, *args, **kwargs)\n"
     ]
    },
    {
     "name": "stdout",
     "output_type": "stream",
     "text": [
      "max depth:  5 n_ estimators: 73 metrics: (1.0, 1.0, 1.0, 1.0, 0.8333333333333334, 0.8441558441558441, 0.8333333333333334, 0.8361204013377928)\n",
      "max depth:  7 n_ estimators: 73 metrics: (1.0, 1.0, 1.0, 1.0, 0.8333333333333334, 0.8441558441558441, 0.8333333333333334, 0.8361204013377928)\n",
      "max depth:  8 n_ estimators: 73 metrics: (1.0, 1.0, 1.0, 1.0, 0.8333333333333334, 0.8441558441558441, 0.8333333333333334, 0.8361204013377928)\n",
      "max depth:  10 n_ estimators: 73 metrics: (1.0, 1.0, 1.0, 1.0, 0.8333333333333334, 0.8441558441558441, 0.8333333333333334, 0.8361204013377928)\n"
     ]
    },
    {
     "name": "stderr",
     "output_type": "stream",
     "text": [
      "/Library/Frameworks/Python.framework/Versions/3.11/lib/python3.11/site-packages/sklearn/base.py:1351: DataConversionWarning: A column-vector y was passed when a 1d array was expected. Please change the shape of y to (n_samples,), for example using ravel().\n",
      "  return fit_method(estimator, *args, **kwargs)\n",
      "/Library/Frameworks/Python.framework/Versions/3.11/lib/python3.11/site-packages/sklearn/base.py:1351: DataConversionWarning: A column-vector y was passed when a 1d array was expected. Please change the shape of y to (n_samples,), for example using ravel().\n",
      "  return fit_method(estimator, *args, **kwargs)\n",
      "/Library/Frameworks/Python.framework/Versions/3.11/lib/python3.11/site-packages/sklearn/base.py:1351: DataConversionWarning: A column-vector y was passed when a 1d array was expected. Please change the shape of y to (n_samples,), for example using ravel().\n",
      "  return fit_method(estimator, *args, **kwargs)\n",
      "/Library/Frameworks/Python.framework/Versions/3.11/lib/python3.11/site-packages/sklearn/base.py:1351: DataConversionWarning: A column-vector y was passed when a 1d array was expected. Please change the shape of y to (n_samples,), for example using ravel().\n",
      "  return fit_method(estimator, *args, **kwargs)\n"
     ]
    },
    {
     "name": "stdout",
     "output_type": "stream",
     "text": [
      "max depth:  15 n_ estimators: 73 metrics: (1.0, 1.0, 1.0, 1.0, 0.8333333333333334, 0.8441558441558441, 0.8333333333333334, 0.8361204013377928)\n",
      "max depth:  20 n_ estimators: 73 metrics: (1.0, 1.0, 1.0, 1.0, 0.8333333333333334, 0.8441558441558441, 0.8333333333333334, 0.8361204013377928)\n",
      "max depth:  25 n_ estimators: 73 metrics: (1.0, 1.0, 1.0, 1.0, 0.8333333333333334, 0.8441558441558441, 0.8333333333333334, 0.8361204013377928)\n",
      "max depth:  30 n_ estimators: 73 metrics: (1.0, 1.0, 1.0, 1.0, 0.8333333333333334, 0.8441558441558441, 0.8333333333333334, 0.8361204013377928)\n"
     ]
    },
    {
     "name": "stderr",
     "output_type": "stream",
     "text": [
      "/Library/Frameworks/Python.framework/Versions/3.11/lib/python3.11/site-packages/sklearn/base.py:1351: DataConversionWarning: A column-vector y was passed when a 1d array was expected. Please change the shape of y to (n_samples,), for example using ravel().\n",
      "  return fit_method(estimator, *args, **kwargs)\n",
      "/Library/Frameworks/Python.framework/Versions/3.11/lib/python3.11/site-packages/sklearn/base.py:1351: DataConversionWarning: A column-vector y was passed when a 1d array was expected. Please change the shape of y to (n_samples,), for example using ravel().\n",
      "  return fit_method(estimator, *args, **kwargs)\n",
      "/Library/Frameworks/Python.framework/Versions/3.11/lib/python3.11/site-packages/sklearn/base.py:1351: DataConversionWarning: A column-vector y was passed when a 1d array was expected. Please change the shape of y to (n_samples,), for example using ravel().\n",
      "  return fit_method(estimator, *args, **kwargs)\n",
      "/Library/Frameworks/Python.framework/Versions/3.11/lib/python3.11/site-packages/sklearn/base.py:1351: DataConversionWarning: A column-vector y was passed when a 1d array was expected. Please change the shape of y to (n_samples,), for example using ravel().\n",
      "  return fit_method(estimator, *args, **kwargs)\n"
     ]
    },
    {
     "name": "stdout",
     "output_type": "stream",
     "text": [
      "max depth:  40 n_ estimators: 73 metrics: (1.0, 1.0, 1.0, 1.0, 0.8333333333333334, 0.8441558441558441, 0.8333333333333334, 0.8361204013377928)\n",
      "max depth:  5 n_ estimators: 94 metrics: (1.0, 1.0, 1.0, 1.0, 0.9444444444444444, 0.9487179487179487, 0.9444444444444444, 0.9430303030303029)\n",
      "max depth:  7 n_ estimators: 94 metrics: (1.0, 1.0, 1.0, 1.0, 0.9444444444444444, 0.9487179487179487, 0.9444444444444444, 0.9430303030303029)\n"
     ]
    },
    {
     "name": "stderr",
     "output_type": "stream",
     "text": [
      "/Library/Frameworks/Python.framework/Versions/3.11/lib/python3.11/site-packages/sklearn/base.py:1351: DataConversionWarning: A column-vector y was passed when a 1d array was expected. Please change the shape of y to (n_samples,), for example using ravel().\n",
      "  return fit_method(estimator, *args, **kwargs)\n",
      "/Library/Frameworks/Python.framework/Versions/3.11/lib/python3.11/site-packages/sklearn/base.py:1351: DataConversionWarning: A column-vector y was passed when a 1d array was expected. Please change the shape of y to (n_samples,), for example using ravel().\n",
      "  return fit_method(estimator, *args, **kwargs)\n",
      "/Library/Frameworks/Python.framework/Versions/3.11/lib/python3.11/site-packages/sklearn/base.py:1351: DataConversionWarning: A column-vector y was passed when a 1d array was expected. Please change the shape of y to (n_samples,), for example using ravel().\n",
      "  return fit_method(estimator, *args, **kwargs)\n"
     ]
    },
    {
     "name": "stdout",
     "output_type": "stream",
     "text": [
      "max depth:  8 n_ estimators: 94 metrics: (1.0, 1.0, 1.0, 1.0, 0.9444444444444444, 0.9487179487179487, 0.9444444444444444, 0.9430303030303029)\n",
      "max depth:  10 n_ estimators: 94 metrics: (1.0, 1.0, 1.0, 1.0, 0.9444444444444444, 0.9487179487179487, 0.9444444444444444, 0.9430303030303029)\n",
      "max depth:  15 n_ estimators: 94 metrics: (1.0, 1.0, 1.0, 1.0, 0.9444444444444444, 0.9487179487179487, 0.9444444444444444, 0.9430303030303029)\n"
     ]
    },
    {
     "name": "stderr",
     "output_type": "stream",
     "text": [
      "/Library/Frameworks/Python.framework/Versions/3.11/lib/python3.11/site-packages/sklearn/base.py:1351: DataConversionWarning: A column-vector y was passed when a 1d array was expected. Please change the shape of y to (n_samples,), for example using ravel().\n",
      "  return fit_method(estimator, *args, **kwargs)\n",
      "/Library/Frameworks/Python.framework/Versions/3.11/lib/python3.11/site-packages/sklearn/base.py:1351: DataConversionWarning: A column-vector y was passed when a 1d array was expected. Please change the shape of y to (n_samples,), for example using ravel().\n",
      "  return fit_method(estimator, *args, **kwargs)\n",
      "/Library/Frameworks/Python.framework/Versions/3.11/lib/python3.11/site-packages/sklearn/base.py:1351: DataConversionWarning: A column-vector y was passed when a 1d array was expected. Please change the shape of y to (n_samples,), for example using ravel().\n",
      "  return fit_method(estimator, *args, **kwargs)\n"
     ]
    },
    {
     "name": "stdout",
     "output_type": "stream",
     "text": [
      "max depth:  20 n_ estimators: 94 metrics: (1.0, 1.0, 1.0, 1.0, 0.9444444444444444, 0.9487179487179487, 0.9444444444444444, 0.9430303030303029)\n",
      "max depth:  25 n_ estimators: 94 metrics: (1.0, 1.0, 1.0, 1.0, 0.9444444444444444, 0.9487179487179487, 0.9444444444444444, 0.9430303030303029)\n",
      "max depth:  30 n_ estimators: 94 metrics: (1.0, 1.0, 1.0, 1.0, 0.9444444444444444, 0.9487179487179487, 0.9444444444444444, 0.9430303030303029)\n"
     ]
    },
    {
     "name": "stderr",
     "output_type": "stream",
     "text": [
      "/Library/Frameworks/Python.framework/Versions/3.11/lib/python3.11/site-packages/sklearn/base.py:1351: DataConversionWarning: A column-vector y was passed when a 1d array was expected. Please change the shape of y to (n_samples,), for example using ravel().\n",
      "  return fit_method(estimator, *args, **kwargs)\n",
      "/Library/Frameworks/Python.framework/Versions/3.11/lib/python3.11/site-packages/sklearn/base.py:1351: DataConversionWarning: A column-vector y was passed when a 1d array was expected. Please change the shape of y to (n_samples,), for example using ravel().\n",
      "  return fit_method(estimator, *args, **kwargs)\n",
      "/Library/Frameworks/Python.framework/Versions/3.11/lib/python3.11/site-packages/sklearn/base.py:1351: DataConversionWarning: A column-vector y was passed when a 1d array was expected. Please change the shape of y to (n_samples,), for example using ravel().\n",
      "  return fit_method(estimator, *args, **kwargs)\n"
     ]
    },
    {
     "name": "stdout",
     "output_type": "stream",
     "text": [
      "max depth:  40 n_ estimators: 94 metrics: (1.0, 1.0, 1.0, 1.0, 0.9444444444444444, 0.9487179487179487, 0.9444444444444444, 0.9430303030303029)\n",
      "max depth:  5 n_ estimators: 115 metrics: (1.0, 1.0, 1.0, 1.0, 0.8888888888888888, 0.8888888888888888, 0.8888888888888888, 0.8888888888888888)\n",
      "max depth:  7 n_ estimators: 115 metrics: (1.0, 1.0, 1.0, 1.0, 0.8888888888888888, 0.8888888888888888, 0.8888888888888888, 0.8888888888888888)\n"
     ]
    },
    {
     "name": "stderr",
     "output_type": "stream",
     "text": [
      "/Library/Frameworks/Python.framework/Versions/3.11/lib/python3.11/site-packages/sklearn/base.py:1351: DataConversionWarning: A column-vector y was passed when a 1d array was expected. Please change the shape of y to (n_samples,), for example using ravel().\n",
      "  return fit_method(estimator, *args, **kwargs)\n",
      "/Library/Frameworks/Python.framework/Versions/3.11/lib/python3.11/site-packages/sklearn/base.py:1351: DataConversionWarning: A column-vector y was passed when a 1d array was expected. Please change the shape of y to (n_samples,), for example using ravel().\n",
      "  return fit_method(estimator, *args, **kwargs)\n",
      "/Library/Frameworks/Python.framework/Versions/3.11/lib/python3.11/site-packages/sklearn/base.py:1351: DataConversionWarning: A column-vector y was passed when a 1d array was expected. Please change the shape of y to (n_samples,), for example using ravel().\n",
      "  return fit_method(estimator, *args, **kwargs)\n"
     ]
    },
    {
     "name": "stdout",
     "output_type": "stream",
     "text": [
      "max depth:  8 n_ estimators: 115 metrics: (1.0, 1.0, 1.0, 1.0, 0.8888888888888888, 0.8888888888888888, 0.8888888888888888, 0.8888888888888888)\n",
      "max depth:  10 n_ estimators: 115 metrics: (1.0, 1.0, 1.0, 1.0, 0.8888888888888888, 0.8888888888888888, 0.8888888888888888, 0.8888888888888888)\n",
      "max depth:  15 n_ estimators: 115 metrics: (1.0, 1.0, 1.0, 1.0, 0.8888888888888888, 0.8888888888888888, 0.8888888888888888, 0.8888888888888888)\n"
     ]
    },
    {
     "name": "stderr",
     "output_type": "stream",
     "text": [
      "/Library/Frameworks/Python.framework/Versions/3.11/lib/python3.11/site-packages/sklearn/base.py:1351: DataConversionWarning: A column-vector y was passed when a 1d array was expected. Please change the shape of y to (n_samples,), for example using ravel().\n",
      "  return fit_method(estimator, *args, **kwargs)\n",
      "/Library/Frameworks/Python.framework/Versions/3.11/lib/python3.11/site-packages/sklearn/base.py:1351: DataConversionWarning: A column-vector y was passed when a 1d array was expected. Please change the shape of y to (n_samples,), for example using ravel().\n",
      "  return fit_method(estimator, *args, **kwargs)\n",
      "/Library/Frameworks/Python.framework/Versions/3.11/lib/python3.11/site-packages/sklearn/base.py:1351: DataConversionWarning: A column-vector y was passed when a 1d array was expected. Please change the shape of y to (n_samples,), for example using ravel().\n",
      "  return fit_method(estimator, *args, **kwargs)\n"
     ]
    },
    {
     "name": "stdout",
     "output_type": "stream",
     "text": [
      "max depth:  20 n_ estimators: 115 metrics: (1.0, 1.0, 1.0, 1.0, 0.8888888888888888, 0.8888888888888888, 0.8888888888888888, 0.8888888888888888)\n",
      "max depth:  25 n_ estimators: 115 metrics: (1.0, 1.0, 1.0, 1.0, 0.8888888888888888, 0.8888888888888888, 0.8888888888888888, 0.8888888888888888)\n"
     ]
    },
    {
     "name": "stderr",
     "output_type": "stream",
     "text": [
      "/Library/Frameworks/Python.framework/Versions/3.11/lib/python3.11/site-packages/sklearn/base.py:1351: DataConversionWarning: A column-vector y was passed when a 1d array was expected. Please change the shape of y to (n_samples,), for example using ravel().\n",
      "  return fit_method(estimator, *args, **kwargs)\n",
      "/Library/Frameworks/Python.framework/Versions/3.11/lib/python3.11/site-packages/sklearn/base.py:1351: DataConversionWarning: A column-vector y was passed when a 1d array was expected. Please change the shape of y to (n_samples,), for example using ravel().\n",
      "  return fit_method(estimator, *args, **kwargs)\n"
     ]
    },
    {
     "name": "stdout",
     "output_type": "stream",
     "text": [
      "max depth:  30 n_ estimators: 115 metrics: (1.0, 1.0, 1.0, 1.0, 0.8888888888888888, 0.8888888888888888, 0.8888888888888888, 0.8888888888888888)\n",
      "max depth:  40 n_ estimators: 115 metrics: (1.0, 1.0, 1.0, 1.0, 0.8888888888888888, 0.8888888888888888, 0.8888888888888888, 0.8888888888888888)\n"
     ]
    },
    {
     "name": "stderr",
     "output_type": "stream",
     "text": [
      "/Library/Frameworks/Python.framework/Versions/3.11/lib/python3.11/site-packages/sklearn/base.py:1351: DataConversionWarning: A column-vector y was passed when a 1d array was expected. Please change the shape of y to (n_samples,), for example using ravel().\n",
      "  return fit_method(estimator, *args, **kwargs)\n",
      "/Library/Frameworks/Python.framework/Versions/3.11/lib/python3.11/site-packages/sklearn/base.py:1351: DataConversionWarning: A column-vector y was passed when a 1d array was expected. Please change the shape of y to (n_samples,), for example using ravel().\n",
      "  return fit_method(estimator, *args, **kwargs)\n"
     ]
    },
    {
     "name": "stdout",
     "output_type": "stream",
     "text": [
      "max depth:  5 n_ estimators: 136 metrics: (1.0, 1.0, 1.0, 1.0, 0.8888888888888888, 0.8888888888888888, 0.8888888888888888, 0.8888888888888888)\n"
     ]
    },
    {
     "name": "stderr",
     "output_type": "stream",
     "text": [
      "/Library/Frameworks/Python.framework/Versions/3.11/lib/python3.11/site-packages/sklearn/base.py:1351: DataConversionWarning: A column-vector y was passed when a 1d array was expected. Please change the shape of y to (n_samples,), for example using ravel().\n",
      "  return fit_method(estimator, *args, **kwargs)\n"
     ]
    },
    {
     "name": "stdout",
     "output_type": "stream",
     "text": [
      "max depth:  7 n_ estimators: 136 metrics: (1.0, 1.0, 1.0, 1.0, 0.9444444444444444, 0.9487179487179487, 0.9444444444444444, 0.9430303030303029)\n",
      "max depth:  8 n_ estimators: 136 metrics: (1.0, 1.0, 1.0, 1.0, 0.9444444444444444, 0.9487179487179487, 0.9444444444444444, 0.9430303030303029)\n"
     ]
    },
    {
     "name": "stderr",
     "output_type": "stream",
     "text": [
      "/Library/Frameworks/Python.framework/Versions/3.11/lib/python3.11/site-packages/sklearn/base.py:1351: DataConversionWarning: A column-vector y was passed when a 1d array was expected. Please change the shape of y to (n_samples,), for example using ravel().\n",
      "  return fit_method(estimator, *args, **kwargs)\n",
      "/Library/Frameworks/Python.framework/Versions/3.11/lib/python3.11/site-packages/sklearn/base.py:1351: DataConversionWarning: A column-vector y was passed when a 1d array was expected. Please change the shape of y to (n_samples,), for example using ravel().\n",
      "  return fit_method(estimator, *args, **kwargs)\n"
     ]
    },
    {
     "name": "stdout",
     "output_type": "stream",
     "text": [
      "max depth:  10 n_ estimators: 136 metrics: (1.0, 1.0, 1.0, 1.0, 0.9444444444444444, 0.9487179487179487, 0.9444444444444444, 0.9430303030303029)\n",
      "max depth:  15 n_ estimators: 136 metrics: (1.0, 1.0, 1.0, 1.0, 0.9444444444444444, 0.9487179487179487, 0.9444444444444444, 0.9430303030303029)\n"
     ]
    },
    {
     "name": "stderr",
     "output_type": "stream",
     "text": [
      "/Library/Frameworks/Python.framework/Versions/3.11/lib/python3.11/site-packages/sklearn/base.py:1351: DataConversionWarning: A column-vector y was passed when a 1d array was expected. Please change the shape of y to (n_samples,), for example using ravel().\n",
      "  return fit_method(estimator, *args, **kwargs)\n",
      "/Library/Frameworks/Python.framework/Versions/3.11/lib/python3.11/site-packages/sklearn/base.py:1351: DataConversionWarning: A column-vector y was passed when a 1d array was expected. Please change the shape of y to (n_samples,), for example using ravel().\n",
      "  return fit_method(estimator, *args, **kwargs)\n"
     ]
    },
    {
     "name": "stdout",
     "output_type": "stream",
     "text": [
      "max depth:  20 n_ estimators: 136 metrics: (1.0, 1.0, 1.0, 1.0, 0.9444444444444444, 0.9487179487179487, 0.9444444444444444, 0.9430303030303029)\n",
      "max depth:  25 n_ estimators: 136 metrics: (1.0, 1.0, 1.0, 1.0, 0.9444444444444444, 0.9487179487179487, 0.9444444444444444, 0.9430303030303029)\n"
     ]
    },
    {
     "name": "stderr",
     "output_type": "stream",
     "text": [
      "/Library/Frameworks/Python.framework/Versions/3.11/lib/python3.11/site-packages/sklearn/base.py:1351: DataConversionWarning: A column-vector y was passed when a 1d array was expected. Please change the shape of y to (n_samples,), for example using ravel().\n",
      "  return fit_method(estimator, *args, **kwargs)\n",
      "/Library/Frameworks/Python.framework/Versions/3.11/lib/python3.11/site-packages/sklearn/base.py:1351: DataConversionWarning: A column-vector y was passed when a 1d array was expected. Please change the shape of y to (n_samples,), for example using ravel().\n",
      "  return fit_method(estimator, *args, **kwargs)\n"
     ]
    },
    {
     "name": "stdout",
     "output_type": "stream",
     "text": [
      "max depth:  30 n_ estimators: 136 metrics: (1.0, 1.0, 1.0, 1.0, 0.9444444444444444, 0.9487179487179487, 0.9444444444444444, 0.9430303030303029)\n",
      "max depth:  40 n_ estimators: 136 metrics: (1.0, 1.0, 1.0, 1.0, 0.9444444444444444, 0.9487179487179487, 0.9444444444444444, 0.9430303030303029)\n"
     ]
    },
    {
     "name": "stderr",
     "output_type": "stream",
     "text": [
      "/Library/Frameworks/Python.framework/Versions/3.11/lib/python3.11/site-packages/sklearn/base.py:1351: DataConversionWarning: A column-vector y was passed when a 1d array was expected. Please change the shape of y to (n_samples,), for example using ravel().\n",
      "  return fit_method(estimator, *args, **kwargs)\n",
      "/Library/Frameworks/Python.framework/Versions/3.11/lib/python3.11/site-packages/sklearn/base.py:1351: DataConversionWarning: A column-vector y was passed when a 1d array was expected. Please change the shape of y to (n_samples,), for example using ravel().\n",
      "  return fit_method(estimator, *args, **kwargs)\n"
     ]
    },
    {
     "name": "stdout",
     "output_type": "stream",
     "text": [
      "max depth:  5 n_ estimators: 157 metrics: (1.0, 1.0, 1.0, 1.0, 0.8888888888888888, 0.8888888888888888, 0.8888888888888888, 0.8888888888888888)\n",
      "max depth:  7 n_ estimators: 157 metrics: (1.0, 1.0, 1.0, 1.0, 0.8888888888888888, 0.8888888888888888, 0.8888888888888888, 0.8888888888888888)\n"
     ]
    },
    {
     "name": "stderr",
     "output_type": "stream",
     "text": [
      "/Library/Frameworks/Python.framework/Versions/3.11/lib/python3.11/site-packages/sklearn/base.py:1351: DataConversionWarning: A column-vector y was passed when a 1d array was expected. Please change the shape of y to (n_samples,), for example using ravel().\n",
      "  return fit_method(estimator, *args, **kwargs)\n",
      "/Library/Frameworks/Python.framework/Versions/3.11/lib/python3.11/site-packages/sklearn/base.py:1351: DataConversionWarning: A column-vector y was passed when a 1d array was expected. Please change the shape of y to (n_samples,), for example using ravel().\n",
      "  return fit_method(estimator, *args, **kwargs)\n"
     ]
    },
    {
     "name": "stdout",
     "output_type": "stream",
     "text": [
      "max depth:  8 n_ estimators: 157 metrics: (1.0, 1.0, 1.0, 1.0, 0.8888888888888888, 0.8888888888888888, 0.8888888888888888, 0.8888888888888888)\n",
      "max depth:  10 n_ estimators: 157 metrics: (1.0, 1.0, 1.0, 1.0, 0.8888888888888888, 0.8888888888888888, 0.8888888888888888, 0.8888888888888888)\n"
     ]
    },
    {
     "name": "stderr",
     "output_type": "stream",
     "text": [
      "/Library/Frameworks/Python.framework/Versions/3.11/lib/python3.11/site-packages/sklearn/base.py:1351: DataConversionWarning: A column-vector y was passed when a 1d array was expected. Please change the shape of y to (n_samples,), for example using ravel().\n",
      "  return fit_method(estimator, *args, **kwargs)\n",
      "/Library/Frameworks/Python.framework/Versions/3.11/lib/python3.11/site-packages/sklearn/base.py:1351: DataConversionWarning: A column-vector y was passed when a 1d array was expected. Please change the shape of y to (n_samples,), for example using ravel().\n",
      "  return fit_method(estimator, *args, **kwargs)\n"
     ]
    },
    {
     "name": "stdout",
     "output_type": "stream",
     "text": [
      "max depth:  15 n_ estimators: 157 metrics: (1.0, 1.0, 1.0, 1.0, 0.8888888888888888, 0.8888888888888888, 0.8888888888888888, 0.8888888888888888)\n",
      "max depth:  20 n_ estimators: 157 metrics: (1.0, 1.0, 1.0, 1.0, 0.8888888888888888, 0.8888888888888888, 0.8888888888888888, 0.8888888888888888)\n"
     ]
    },
    {
     "name": "stderr",
     "output_type": "stream",
     "text": [
      "/Library/Frameworks/Python.framework/Versions/3.11/lib/python3.11/site-packages/sklearn/base.py:1351: DataConversionWarning: A column-vector y was passed when a 1d array was expected. Please change the shape of y to (n_samples,), for example using ravel().\n",
      "  return fit_method(estimator, *args, **kwargs)\n",
      "/Library/Frameworks/Python.framework/Versions/3.11/lib/python3.11/site-packages/sklearn/base.py:1351: DataConversionWarning: A column-vector y was passed when a 1d array was expected. Please change the shape of y to (n_samples,), for example using ravel().\n",
      "  return fit_method(estimator, *args, **kwargs)\n"
     ]
    },
    {
     "name": "stdout",
     "output_type": "stream",
     "text": [
      "max depth:  25 n_ estimators: 157 metrics: (1.0, 1.0, 1.0, 1.0, 0.8888888888888888, 0.8888888888888888, 0.8888888888888888, 0.8888888888888888)\n",
      "max depth:  30 n_ estimators: 157 metrics: (1.0, 1.0, 1.0, 1.0, 0.8888888888888888, 0.8888888888888888, 0.8888888888888888, 0.8888888888888888)\n"
     ]
    },
    {
     "name": "stderr",
     "output_type": "stream",
     "text": [
      "/Library/Frameworks/Python.framework/Versions/3.11/lib/python3.11/site-packages/sklearn/base.py:1351: DataConversionWarning: A column-vector y was passed when a 1d array was expected. Please change the shape of y to (n_samples,), for example using ravel().\n",
      "  return fit_method(estimator, *args, **kwargs)\n",
      "/Library/Frameworks/Python.framework/Versions/3.11/lib/python3.11/site-packages/sklearn/base.py:1351: DataConversionWarning: A column-vector y was passed when a 1d array was expected. Please change the shape of y to (n_samples,), for example using ravel().\n",
      "  return fit_method(estimator, *args, **kwargs)\n"
     ]
    },
    {
     "name": "stdout",
     "output_type": "stream",
     "text": [
      "max depth:  40 n_ estimators: 157 metrics: (1.0, 1.0, 1.0, 1.0, 0.8888888888888888, 0.8888888888888888, 0.8888888888888888, 0.8888888888888888)\n",
      "max depth:  5 n_ estimators: 178 metrics: (1.0, 1.0, 1.0, 1.0, 0.8888888888888888, 0.8888888888888888, 0.8888888888888888, 0.8888888888888888)\n"
     ]
    },
    {
     "name": "stderr",
     "output_type": "stream",
     "text": [
      "/Library/Frameworks/Python.framework/Versions/3.11/lib/python3.11/site-packages/sklearn/base.py:1351: DataConversionWarning: A column-vector y was passed when a 1d array was expected. Please change the shape of y to (n_samples,), for example using ravel().\n",
      "  return fit_method(estimator, *args, **kwargs)\n",
      "/Library/Frameworks/Python.framework/Versions/3.11/lib/python3.11/site-packages/sklearn/base.py:1351: DataConversionWarning: A column-vector y was passed when a 1d array was expected. Please change the shape of y to (n_samples,), for example using ravel().\n",
      "  return fit_method(estimator, *args, **kwargs)\n"
     ]
    },
    {
     "name": "stdout",
     "output_type": "stream",
     "text": [
      "max depth:  7 n_ estimators: 178 metrics: (1.0, 1.0, 1.0, 1.0, 0.8888888888888888, 0.8888888888888888, 0.8888888888888888, 0.8888888888888888)\n",
      "max depth:  8 n_ estimators: 178 metrics: (1.0, 1.0, 1.0, 1.0, 0.8888888888888888, 0.8888888888888888, 0.8888888888888888, 0.8888888888888888)\n"
     ]
    },
    {
     "name": "stderr",
     "output_type": "stream",
     "text": [
      "/Library/Frameworks/Python.framework/Versions/3.11/lib/python3.11/site-packages/sklearn/base.py:1351: DataConversionWarning: A column-vector y was passed when a 1d array was expected. Please change the shape of y to (n_samples,), for example using ravel().\n",
      "  return fit_method(estimator, *args, **kwargs)\n",
      "/Library/Frameworks/Python.framework/Versions/3.11/lib/python3.11/site-packages/sklearn/base.py:1351: DataConversionWarning: A column-vector y was passed when a 1d array was expected. Please change the shape of y to (n_samples,), for example using ravel().\n",
      "  return fit_method(estimator, *args, **kwargs)\n"
     ]
    },
    {
     "name": "stdout",
     "output_type": "stream",
     "text": [
      "max depth:  10 n_ estimators: 178 metrics: (1.0, 1.0, 1.0, 1.0, 0.8888888888888888, 0.8888888888888888, 0.8888888888888888, 0.8888888888888888)\n",
      "max depth:  15 n_ estimators: 178 metrics: (1.0, 1.0, 1.0, 1.0, 0.8888888888888888, 0.8888888888888888, 0.8888888888888888, 0.8888888888888888)\n"
     ]
    },
    {
     "name": "stderr",
     "output_type": "stream",
     "text": [
      "/Library/Frameworks/Python.framework/Versions/3.11/lib/python3.11/site-packages/sklearn/base.py:1351: DataConversionWarning: A column-vector y was passed when a 1d array was expected. Please change the shape of y to (n_samples,), for example using ravel().\n",
      "  return fit_method(estimator, *args, **kwargs)\n",
      "/Library/Frameworks/Python.framework/Versions/3.11/lib/python3.11/site-packages/sklearn/base.py:1351: DataConversionWarning: A column-vector y was passed when a 1d array was expected. Please change the shape of y to (n_samples,), for example using ravel().\n",
      "  return fit_method(estimator, *args, **kwargs)\n"
     ]
    },
    {
     "name": "stdout",
     "output_type": "stream",
     "text": [
      "max depth:  20 n_ estimators: 178 metrics: (1.0, 1.0, 1.0, 1.0, 0.8888888888888888, 0.8888888888888888, 0.8888888888888888, 0.8888888888888888)\n",
      "max depth:  25 n_ estimators: 178 metrics: (1.0, 1.0, 1.0, 1.0, 0.8888888888888888, 0.8888888888888888, 0.8888888888888888, 0.8888888888888888)\n"
     ]
    },
    {
     "name": "stderr",
     "output_type": "stream",
     "text": [
      "/Library/Frameworks/Python.framework/Versions/3.11/lib/python3.11/site-packages/sklearn/base.py:1351: DataConversionWarning: A column-vector y was passed when a 1d array was expected. Please change the shape of y to (n_samples,), for example using ravel().\n",
      "  return fit_method(estimator, *args, **kwargs)\n",
      "/Library/Frameworks/Python.framework/Versions/3.11/lib/python3.11/site-packages/sklearn/base.py:1351: DataConversionWarning: A column-vector y was passed when a 1d array was expected. Please change the shape of y to (n_samples,), for example using ravel().\n",
      "  return fit_method(estimator, *args, **kwargs)\n"
     ]
    },
    {
     "name": "stdout",
     "output_type": "stream",
     "text": [
      "max depth:  30 n_ estimators: 178 metrics: (1.0, 1.0, 1.0, 1.0, 0.8888888888888888, 0.8888888888888888, 0.8888888888888888, 0.8888888888888888)\n",
      "max depth:  40 n_ estimators: 178 metrics: (1.0, 1.0, 1.0, 1.0, 0.8888888888888888, 0.8888888888888888, 0.8888888888888888, 0.8888888888888888)\n"
     ]
    },
    {
     "name": "stderr",
     "output_type": "stream",
     "text": [
      "/Library/Frameworks/Python.framework/Versions/3.11/lib/python3.11/site-packages/sklearn/base.py:1351: DataConversionWarning: A column-vector y was passed when a 1d array was expected. Please change the shape of y to (n_samples,), for example using ravel().\n",
      "  return fit_method(estimator, *args, **kwargs)\n",
      "/Library/Frameworks/Python.framework/Versions/3.11/lib/python3.11/site-packages/sklearn/base.py:1351: DataConversionWarning: A column-vector y was passed when a 1d array was expected. Please change the shape of y to (n_samples,), for example using ravel().\n",
      "  return fit_method(estimator, *args, **kwargs)\n"
     ]
    },
    {
     "name": "stdout",
     "output_type": "stream",
     "text": [
      "max depth:  5 n_ estimators: 200 metrics: (1.0, 1.0, 1.0, 1.0, 0.8888888888888888, 0.8888888888888888, 0.8888888888888888, 0.8888888888888888)\n",
      "max depth:  7 n_ estimators: 200 metrics: (1.0, 1.0, 1.0, 1.0, 0.9444444444444444, 0.9487179487179487, 0.9444444444444444, 0.9430303030303029)\n"
     ]
    },
    {
     "name": "stderr",
     "output_type": "stream",
     "text": [
      "/Library/Frameworks/Python.framework/Versions/3.11/lib/python3.11/site-packages/sklearn/base.py:1351: DataConversionWarning: A column-vector y was passed when a 1d array was expected. Please change the shape of y to (n_samples,), for example using ravel().\n",
      "  return fit_method(estimator, *args, **kwargs)\n",
      "/Library/Frameworks/Python.framework/Versions/3.11/lib/python3.11/site-packages/sklearn/base.py:1351: DataConversionWarning: A column-vector y was passed when a 1d array was expected. Please change the shape of y to (n_samples,), for example using ravel().\n",
      "  return fit_method(estimator, *args, **kwargs)\n"
     ]
    },
    {
     "name": "stdout",
     "output_type": "stream",
     "text": [
      "max depth:  8 n_ estimators: 200 metrics: (1.0, 1.0, 1.0, 1.0, 0.9444444444444444, 0.9487179487179487, 0.9444444444444444, 0.9430303030303029)\n",
      "max depth:  10 n_ estimators: 200 metrics: (1.0, 1.0, 1.0, 1.0, 0.9444444444444444, 0.9487179487179487, 0.9444444444444444, 0.9430303030303029)\n"
     ]
    },
    {
     "name": "stderr",
     "output_type": "stream",
     "text": [
      "/Library/Frameworks/Python.framework/Versions/3.11/lib/python3.11/site-packages/sklearn/base.py:1351: DataConversionWarning: A column-vector y was passed when a 1d array was expected. Please change the shape of y to (n_samples,), for example using ravel().\n",
      "  return fit_method(estimator, *args, **kwargs)\n",
      "/Library/Frameworks/Python.framework/Versions/3.11/lib/python3.11/site-packages/sklearn/base.py:1351: DataConversionWarning: A column-vector y was passed when a 1d array was expected. Please change the shape of y to (n_samples,), for example using ravel().\n",
      "  return fit_method(estimator, *args, **kwargs)\n"
     ]
    },
    {
     "name": "stdout",
     "output_type": "stream",
     "text": [
      "max depth:  15 n_ estimators: 200 metrics: (1.0, 1.0, 1.0, 1.0, 0.9444444444444444, 0.9487179487179487, 0.9444444444444444, 0.9430303030303029)\n",
      "max depth:  20 n_ estimators: 200 metrics: (1.0, 1.0, 1.0, 1.0, 0.9444444444444444, 0.9487179487179487, 0.9444444444444444, 0.9430303030303029)\n"
     ]
    },
    {
     "name": "stderr",
     "output_type": "stream",
     "text": [
      "/Library/Frameworks/Python.framework/Versions/3.11/lib/python3.11/site-packages/sklearn/base.py:1351: DataConversionWarning: A column-vector y was passed when a 1d array was expected. Please change the shape of y to (n_samples,), for example using ravel().\n",
      "  return fit_method(estimator, *args, **kwargs)\n",
      "/Library/Frameworks/Python.framework/Versions/3.11/lib/python3.11/site-packages/sklearn/base.py:1351: DataConversionWarning: A column-vector y was passed when a 1d array was expected. Please change the shape of y to (n_samples,), for example using ravel().\n",
      "  return fit_method(estimator, *args, **kwargs)\n"
     ]
    },
    {
     "name": "stdout",
     "output_type": "stream",
     "text": [
      "max depth:  25 n_ estimators: 200 metrics: (1.0, 1.0, 1.0, 1.0, 0.9444444444444444, 0.9487179487179487, 0.9444444444444444, 0.9430303030303029)\n",
      "max depth:  30 n_ estimators: 200 metrics: (1.0, 1.0, 1.0, 1.0, 0.9444444444444444, 0.9487179487179487, 0.9444444444444444, 0.9430303030303029)\n"
     ]
    },
    {
     "name": "stderr",
     "output_type": "stream",
     "text": [
      "/Library/Frameworks/Python.framework/Versions/3.11/lib/python3.11/site-packages/sklearn/base.py:1351: DataConversionWarning: A column-vector y was passed when a 1d array was expected. Please change the shape of y to (n_samples,), for example using ravel().\n",
      "  return fit_method(estimator, *args, **kwargs)\n",
      "/Library/Frameworks/Python.framework/Versions/3.11/lib/python3.11/site-packages/sklearn/base.py:1351: DataConversionWarning: A column-vector y was passed when a 1d array was expected. Please change the shape of y to (n_samples,), for example using ravel().\n",
      "  return fit_method(estimator, *args, **kwargs)\n"
     ]
    },
    {
     "name": "stdout",
     "output_type": "stream",
     "text": [
      "max depth:  40 n_ estimators: 200 metrics: (1.0, 1.0, 1.0, 1.0, 0.9444444444444444, 0.9487179487179487, 0.9444444444444444, 0.9430303030303029)\n"
     ]
    }
   ],
   "source": [
    "for n_estimators in n_estimators_range:\n",
    "  for max_dep in [5, 7, 8, 10, 15, 20, 25, 30, 40]:\n",
    "\n",
    "    print(\"max depth: \", max_dep, \"n_ estimators:\", n_estimators, \"metrics:\", func_to_check(max_dep, n_estimators))"
   ]
  },
  {
   "cell_type": "code",
   "execution_count": null,
   "id": "2aaa3596-4eed-4118-ac4c-f9d7f9bb3550",
   "metadata": {},
   "outputs": [],
   "source": [
    "max_dep = 5\n",
    "n_estimators = 94"
   ]
  },
  {
   "cell_type": "code",
   "execution_count": null,
   "id": "a5c47a72-a4b0-43f7-ac60-4d3989ac0b82",
   "metadata": {
    "scrolled": true
   },
   "outputs": [
    {
     "name": "stderr",
     "output_type": "stream",
     "text": [
      "/Library/Frameworks/Python.framework/Versions/3.11/lib/python3.11/site-packages/sklearn/base.py:1351: DataConversionWarning: A column-vector y was passed when a 1d array was expected. Please change the shape of y to (n_samples,), for example using ravel().\n",
      "  return fit_method(estimator, *args, **kwargs)\n"
     ]
    },
    {
     "data": {
      "text/html": [
       "<style>#sk-container-id-2 {\n",
       "  /* Definition of color scheme common for light and dark mode */\n",
       "  --sklearn-color-text: black;\n",
       "  --sklearn-color-line: gray;\n",
       "  /* Definition of color scheme for unfitted estimators */\n",
       "  --sklearn-color-unfitted-level-0: #fff5e6;\n",
       "  --sklearn-color-unfitted-level-1: #f6e4d2;\n",
       "  --sklearn-color-unfitted-level-2: #ffe0b3;\n",
       "  --sklearn-color-unfitted-level-3: chocolate;\n",
       "  /* Definition of color scheme for fitted estimators */\n",
       "  --sklearn-color-fitted-level-0: #f0f8ff;\n",
       "  --sklearn-color-fitted-level-1: #d4ebff;\n",
       "  --sklearn-color-fitted-level-2: #b3dbfd;\n",
       "  --sklearn-color-fitted-level-3: cornflowerblue;\n",
       "\n",
       "  /* Specific color for light theme */\n",
       "  --sklearn-color-text-on-default-background: var(--sg-text-color, var(--theme-code-foreground, var(--jp-content-font-color1, black)));\n",
       "  --sklearn-color-background: var(--sg-background-color, var(--theme-background, var(--jp-layout-color0, white)));\n",
       "  --sklearn-color-border-box: var(--sg-text-color, var(--theme-code-foreground, var(--jp-content-font-color1, black)));\n",
       "  --sklearn-color-icon: #696969;\n",
       "\n",
       "  @media (prefers-color-scheme: dark) {\n",
       "    /* Redefinition of color scheme for dark theme */\n",
       "    --sklearn-color-text-on-default-background: var(--sg-text-color, var(--theme-code-foreground, var(--jp-content-font-color1, white)));\n",
       "    --sklearn-color-background: var(--sg-background-color, var(--theme-background, var(--jp-layout-color0, #111)));\n",
       "    --sklearn-color-border-box: var(--sg-text-color, var(--theme-code-foreground, var(--jp-content-font-color1, white)));\n",
       "    --sklearn-color-icon: #878787;\n",
       "  }\n",
       "}\n",
       "\n",
       "#sk-container-id-2 {\n",
       "  color: var(--sklearn-color-text);\n",
       "}\n",
       "\n",
       "#sk-container-id-2 pre {\n",
       "  padding: 0;\n",
       "}\n",
       "\n",
       "#sk-container-id-2 input.sk-hidden--visually {\n",
       "  border: 0;\n",
       "  clip: rect(1px 1px 1px 1px);\n",
       "  clip: rect(1px, 1px, 1px, 1px);\n",
       "  height: 1px;\n",
       "  margin: -1px;\n",
       "  overflow: hidden;\n",
       "  padding: 0;\n",
       "  position: absolute;\n",
       "  width: 1px;\n",
       "}\n",
       "\n",
       "#sk-container-id-2 div.sk-dashed-wrapped {\n",
       "  border: 1px dashed var(--sklearn-color-line);\n",
       "  margin: 0 0.4em 0.5em 0.4em;\n",
       "  box-sizing: border-box;\n",
       "  padding-bottom: 0.4em;\n",
       "  background-color: var(--sklearn-color-background);\n",
       "}\n",
       "\n",
       "#sk-container-id-2 div.sk-container {\n",
       "  /* jupyter's `normalize.less` sets `[hidden] { display: none; }`\n",
       "     but bootstrap.min.css set `[hidden] { display: none !important; }`\n",
       "     so we also need the `!important` here to be able to override the\n",
       "     default hidden behavior on the sphinx rendered scikit-learn.org.\n",
       "     See: https://github.com/scikit-learn/scikit-learn/issues/21755 */\n",
       "  display: inline-block !important;\n",
       "  position: relative;\n",
       "}\n",
       "\n",
       "#sk-container-id-2 div.sk-text-repr-fallback {\n",
       "  display: none;\n",
       "}\n",
       "\n",
       "div.sk-parallel-item,\n",
       "div.sk-serial,\n",
       "div.sk-item {\n",
       "  /* draw centered vertical line to link estimators */\n",
       "  background-image: linear-gradient(var(--sklearn-color-text-on-default-background), var(--sklearn-color-text-on-default-background));\n",
       "  background-size: 2px 100%;\n",
       "  background-repeat: no-repeat;\n",
       "  background-position: center center;\n",
       "}\n",
       "\n",
       "/* Parallel-specific style estimator block */\n",
       "\n",
       "#sk-container-id-2 div.sk-parallel-item::after {\n",
       "  content: \"\";\n",
       "  width: 100%;\n",
       "  border-bottom: 2px solid var(--sklearn-color-text-on-default-background);\n",
       "  flex-grow: 1;\n",
       "}\n",
       "\n",
       "#sk-container-id-2 div.sk-parallel {\n",
       "  display: flex;\n",
       "  align-items: stretch;\n",
       "  justify-content: center;\n",
       "  background-color: var(--sklearn-color-background);\n",
       "  position: relative;\n",
       "}\n",
       "\n",
       "#sk-container-id-2 div.sk-parallel-item {\n",
       "  display: flex;\n",
       "  flex-direction: column;\n",
       "}\n",
       "\n",
       "#sk-container-id-2 div.sk-parallel-item:first-child::after {\n",
       "  align-self: flex-end;\n",
       "  width: 50%;\n",
       "}\n",
       "\n",
       "#sk-container-id-2 div.sk-parallel-item:last-child::after {\n",
       "  align-self: flex-start;\n",
       "  width: 50%;\n",
       "}\n",
       "\n",
       "#sk-container-id-2 div.sk-parallel-item:only-child::after {\n",
       "  width: 0;\n",
       "}\n",
       "\n",
       "/* Serial-specific style estimator block */\n",
       "\n",
       "#sk-container-id-2 div.sk-serial {\n",
       "  display: flex;\n",
       "  flex-direction: column;\n",
       "  align-items: center;\n",
       "  background-color: var(--sklearn-color-background);\n",
       "  padding-right: 1em;\n",
       "  padding-left: 1em;\n",
       "}\n",
       "\n",
       "\n",
       "/* Toggleable style: style used for estimator/Pipeline/ColumnTransformer box that is\n",
       "clickable and can be expanded/collapsed.\n",
       "- Pipeline and ColumnTransformer use this feature and define the default style\n",
       "- Estimators will overwrite some part of the style using the `sk-estimator` class\n",
       "*/\n",
       "\n",
       "/* Pipeline and ColumnTransformer style (default) */\n",
       "\n",
       "#sk-container-id-2 div.sk-toggleable {\n",
       "  /* Default theme specific background. It is overwritten whether we have a\n",
       "  specific estimator or a Pipeline/ColumnTransformer */\n",
       "  background-color: var(--sklearn-color-background);\n",
       "}\n",
       "\n",
       "/* Toggleable label */\n",
       "#sk-container-id-2 label.sk-toggleable__label {\n",
       "  cursor: pointer;\n",
       "  display: block;\n",
       "  width: 100%;\n",
       "  margin-bottom: 0;\n",
       "  padding: 0.5em;\n",
       "  box-sizing: border-box;\n",
       "  text-align: center;\n",
       "}\n",
       "\n",
       "#sk-container-id-2 label.sk-toggleable__label-arrow:before {\n",
       "  /* Arrow on the left of the label */\n",
       "  content: \"▸\";\n",
       "  float: left;\n",
       "  margin-right: 0.25em;\n",
       "  color: var(--sklearn-color-icon);\n",
       "}\n",
       "\n",
       "#sk-container-id-2 label.sk-toggleable__label-arrow:hover:before {\n",
       "  color: var(--sklearn-color-text);\n",
       "}\n",
       "\n",
       "/* Toggleable content - dropdown */\n",
       "\n",
       "#sk-container-id-2 div.sk-toggleable__content {\n",
       "  max-height: 0;\n",
       "  max-width: 0;\n",
       "  overflow: hidden;\n",
       "  text-align: left;\n",
       "  /* unfitted */\n",
       "  background-color: var(--sklearn-color-unfitted-level-0);\n",
       "}\n",
       "\n",
       "#sk-container-id-2 div.sk-toggleable__content.fitted {\n",
       "  /* fitted */\n",
       "  background-color: var(--sklearn-color-fitted-level-0);\n",
       "}\n",
       "\n",
       "#sk-container-id-2 div.sk-toggleable__content pre {\n",
       "  margin: 0.2em;\n",
       "  border-radius: 0.25em;\n",
       "  color: var(--sklearn-color-text);\n",
       "  /* unfitted */\n",
       "  background-color: var(--sklearn-color-unfitted-level-0);\n",
       "}\n",
       "\n",
       "#sk-container-id-2 div.sk-toggleable__content.fitted pre {\n",
       "  /* unfitted */\n",
       "  background-color: var(--sklearn-color-fitted-level-0);\n",
       "}\n",
       "\n",
       "#sk-container-id-2 input.sk-toggleable__control:checked~div.sk-toggleable__content {\n",
       "  /* Expand drop-down */\n",
       "  max-height: 200px;\n",
       "  max-width: 100%;\n",
       "  overflow: auto;\n",
       "}\n",
       "\n",
       "#sk-container-id-2 input.sk-toggleable__control:checked~label.sk-toggleable__label-arrow:before {\n",
       "  content: \"▾\";\n",
       "}\n",
       "\n",
       "/* Pipeline/ColumnTransformer-specific style */\n",
       "\n",
       "#sk-container-id-2 div.sk-label input.sk-toggleable__control:checked~label.sk-toggleable__label {\n",
       "  color: var(--sklearn-color-text);\n",
       "  background-color: var(--sklearn-color-unfitted-level-2);\n",
       "}\n",
       "\n",
       "#sk-container-id-2 div.sk-label.fitted input.sk-toggleable__control:checked~label.sk-toggleable__label {\n",
       "  background-color: var(--sklearn-color-fitted-level-2);\n",
       "}\n",
       "\n",
       "/* Estimator-specific style */\n",
       "\n",
       "/* Colorize estimator box */\n",
       "#sk-container-id-2 div.sk-estimator input.sk-toggleable__control:checked~label.sk-toggleable__label {\n",
       "  /* unfitted */\n",
       "  background-color: var(--sklearn-color-unfitted-level-2);\n",
       "}\n",
       "\n",
       "#sk-container-id-2 div.sk-estimator.fitted input.sk-toggleable__control:checked~label.sk-toggleable__label {\n",
       "  /* fitted */\n",
       "  background-color: var(--sklearn-color-fitted-level-2);\n",
       "}\n",
       "\n",
       "#sk-container-id-2 div.sk-label label.sk-toggleable__label,\n",
       "#sk-container-id-2 div.sk-label label {\n",
       "  /* The background is the default theme color */\n",
       "  color: var(--sklearn-color-text-on-default-background);\n",
       "}\n",
       "\n",
       "/* On hover, darken the color of the background */\n",
       "#sk-container-id-2 div.sk-label:hover label.sk-toggleable__label {\n",
       "  color: var(--sklearn-color-text);\n",
       "  background-color: var(--sklearn-color-unfitted-level-2);\n",
       "}\n",
       "\n",
       "/* Label box, darken color on hover, fitted */\n",
       "#sk-container-id-2 div.sk-label.fitted:hover label.sk-toggleable__label.fitted {\n",
       "  color: var(--sklearn-color-text);\n",
       "  background-color: var(--sklearn-color-fitted-level-2);\n",
       "}\n",
       "\n",
       "/* Estimator label */\n",
       "\n",
       "#sk-container-id-2 div.sk-label label {\n",
       "  font-family: monospace;\n",
       "  font-weight: bold;\n",
       "  display: inline-block;\n",
       "  line-height: 1.2em;\n",
       "}\n",
       "\n",
       "#sk-container-id-2 div.sk-label-container {\n",
       "  text-align: center;\n",
       "}\n",
       "\n",
       "/* Estimator-specific */\n",
       "#sk-container-id-2 div.sk-estimator {\n",
       "  font-family: monospace;\n",
       "  border: 1px dotted var(--sklearn-color-border-box);\n",
       "  border-radius: 0.25em;\n",
       "  box-sizing: border-box;\n",
       "  margin-bottom: 0.5em;\n",
       "  /* unfitted */\n",
       "  background-color: var(--sklearn-color-unfitted-level-0);\n",
       "}\n",
       "\n",
       "#sk-container-id-2 div.sk-estimator.fitted {\n",
       "  /* fitted */\n",
       "  background-color: var(--sklearn-color-fitted-level-0);\n",
       "}\n",
       "\n",
       "/* on hover */\n",
       "#sk-container-id-2 div.sk-estimator:hover {\n",
       "  /* unfitted */\n",
       "  background-color: var(--sklearn-color-unfitted-level-2);\n",
       "}\n",
       "\n",
       "#sk-container-id-2 div.sk-estimator.fitted:hover {\n",
       "  /* fitted */\n",
       "  background-color: var(--sklearn-color-fitted-level-2);\n",
       "}\n",
       "\n",
       "/* Specification for estimator info (e.g. \"i\" and \"?\") */\n",
       "\n",
       "/* Common style for \"i\" and \"?\" */\n",
       "\n",
       ".sk-estimator-doc-link,\n",
       "a:link.sk-estimator-doc-link,\n",
       "a:visited.sk-estimator-doc-link {\n",
       "  float: right;\n",
       "  font-size: smaller;\n",
       "  line-height: 1em;\n",
       "  font-family: monospace;\n",
       "  background-color: var(--sklearn-color-background);\n",
       "  border-radius: 1em;\n",
       "  height: 1em;\n",
       "  width: 1em;\n",
       "  text-decoration: none !important;\n",
       "  margin-left: 1ex;\n",
       "  /* unfitted */\n",
       "  border: var(--sklearn-color-unfitted-level-1) 1pt solid;\n",
       "  color: var(--sklearn-color-unfitted-level-1);\n",
       "}\n",
       "\n",
       ".sk-estimator-doc-link.fitted,\n",
       "a:link.sk-estimator-doc-link.fitted,\n",
       "a:visited.sk-estimator-doc-link.fitted {\n",
       "  /* fitted */\n",
       "  border: var(--sklearn-color-fitted-level-1) 1pt solid;\n",
       "  color: var(--sklearn-color-fitted-level-1);\n",
       "}\n",
       "\n",
       "/* On hover */\n",
       "div.sk-estimator:hover .sk-estimator-doc-link:hover,\n",
       ".sk-estimator-doc-link:hover,\n",
       "div.sk-label-container:hover .sk-estimator-doc-link:hover,\n",
       ".sk-estimator-doc-link:hover {\n",
       "  /* unfitted */\n",
       "  background-color: var(--sklearn-color-unfitted-level-3);\n",
       "  color: var(--sklearn-color-background);\n",
       "  text-decoration: none;\n",
       "}\n",
       "\n",
       "div.sk-estimator.fitted:hover .sk-estimator-doc-link.fitted:hover,\n",
       ".sk-estimator-doc-link.fitted:hover,\n",
       "div.sk-label-container:hover .sk-estimator-doc-link.fitted:hover,\n",
       ".sk-estimator-doc-link.fitted:hover {\n",
       "  /* fitted */\n",
       "  background-color: var(--sklearn-color-fitted-level-3);\n",
       "  color: var(--sklearn-color-background);\n",
       "  text-decoration: none;\n",
       "}\n",
       "\n",
       "/* Span, style for the box shown on hovering the info icon */\n",
       ".sk-estimator-doc-link span {\n",
       "  display: none;\n",
       "  z-index: 9999;\n",
       "  position: relative;\n",
       "  font-weight: normal;\n",
       "  right: .2ex;\n",
       "  padding: .5ex;\n",
       "  margin: .5ex;\n",
       "  width: min-content;\n",
       "  min-width: 20ex;\n",
       "  max-width: 50ex;\n",
       "  color: var(--sklearn-color-text);\n",
       "  box-shadow: 2pt 2pt 4pt #999;\n",
       "  /* unfitted */\n",
       "  background: var(--sklearn-color-unfitted-level-0);\n",
       "  border: .5pt solid var(--sklearn-color-unfitted-level-3);\n",
       "}\n",
       "\n",
       ".sk-estimator-doc-link.fitted span {\n",
       "  /* fitted */\n",
       "  background: var(--sklearn-color-fitted-level-0);\n",
       "  border: var(--sklearn-color-fitted-level-3);\n",
       "}\n",
       "\n",
       ".sk-estimator-doc-link:hover span {\n",
       "  display: block;\n",
       "}\n",
       "\n",
       "/* \"?\"-specific style due to the `<a>` HTML tag */\n",
       "\n",
       "#sk-container-id-2 a.estimator_doc_link {\n",
       "  float: right;\n",
       "  font-size: 1rem;\n",
       "  line-height: 1em;\n",
       "  font-family: monospace;\n",
       "  background-color: var(--sklearn-color-background);\n",
       "  border-radius: 1rem;\n",
       "  height: 1rem;\n",
       "  width: 1rem;\n",
       "  text-decoration: none;\n",
       "  /* unfitted */\n",
       "  color: var(--sklearn-color-unfitted-level-1);\n",
       "  border: var(--sklearn-color-unfitted-level-1) 1pt solid;\n",
       "}\n",
       "\n",
       "#sk-container-id-2 a.estimator_doc_link.fitted {\n",
       "  /* fitted */\n",
       "  border: var(--sklearn-color-fitted-level-1) 1pt solid;\n",
       "  color: var(--sklearn-color-fitted-level-1);\n",
       "}\n",
       "\n",
       "/* On hover */\n",
       "#sk-container-id-2 a.estimator_doc_link:hover {\n",
       "  /* unfitted */\n",
       "  background-color: var(--sklearn-color-unfitted-level-3);\n",
       "  color: var(--sklearn-color-background);\n",
       "  text-decoration: none;\n",
       "}\n",
       "\n",
       "#sk-container-id-2 a.estimator_doc_link.fitted:hover {\n",
       "  /* fitted */\n",
       "  background-color: var(--sklearn-color-fitted-level-3);\n",
       "}\n",
       "</style><div id=\"sk-container-id-2\" class=\"sk-top-container\"><div class=\"sk-text-repr-fallback\"><pre>RandomForestClassifier(max_depth=5, n_estimators=94, random_state=42)</pre><b>In a Jupyter environment, please rerun this cell to show the HTML representation or trust the notebook. <br />On GitHub, the HTML representation is unable to render, please try loading this page with nbviewer.org.</b></div><div class=\"sk-container\" hidden><div class=\"sk-item\"><div class=\"sk-estimator fitted sk-toggleable\"><input class=\"sk-toggleable__control sk-hidden--visually\" id=\"sk-estimator-id-2\" type=\"checkbox\" checked><label for=\"sk-estimator-id-2\" class=\"sk-toggleable__label fitted sk-toggleable__label-arrow fitted\">&nbsp;&nbsp;RandomForestClassifier<a class=\"sk-estimator-doc-link fitted\" rel=\"noreferrer\" target=\"_blank\" href=\"https://scikit-learn.org/1.4/modules/generated/sklearn.ensemble.RandomForestClassifier.html\">?<span>Documentation for RandomForestClassifier</span></a><span class=\"sk-estimator-doc-link fitted\">i<span>Fitted</span></span></label><div class=\"sk-toggleable__content fitted\"><pre>RandomForestClassifier(max_depth=5, n_estimators=94, random_state=42)</pre></div> </div></div></div></div>"
      ],
      "text/plain": [
       "RandomForestClassifier(max_depth=5, n_estimators=94, random_state=42)"
      ]
     },
     "execution_count": 57,
     "metadata": {},
     "output_type": "execute_result"
    }
   ],
   "source": [
    "rfc = RandomForestClassifier(n_estimators=n_estimators, random_state=42, max_depth=max_dep)\n",
    "#x = [tensor.numpy() for tensor in tr_sequence_representations]\n",
    "x = tr_sequence_representations\n",
    "rfc.fit(X_res,y_res)"
   ]
  },
  {
   "cell_type": "code",
   "execution_count": null,
   "id": "9e7e6337-2c3a-4f93-8986-7158ba5b93c9",
   "metadata": {},
   "outputs": [
    {
     "name": "stderr",
     "output_type": "stream",
     "text": [
      "/Library/Frameworks/Python.framework/Versions/3.11/lib/python3.11/site-packages/sklearn/base.py:1351: DataConversionWarning: A column-vector y was passed when a 1d array was expected. Please change the shape of y to (n_samples,), for example using ravel().\n",
      "  return fit_method(estimator, *args, **kwargs)\n"
     ]
    }
   ],
   "source": [
    "from sklearn.metrics import accuracy_score\n",
    "from sklearn.metrics import precision_score\n",
    "from sklearn.metrics import recall_score\n",
    "from sklearn.metrics import f1_score\n",
    "from sklearn.metrics import roc_curve, auc\n",
    "\n",
    "rfc = RandomForestClassifier(n_estimators=n_estimators, random_state=42, max_depth=max_dep)\n",
    "#x = [tensor.numpy() for tensor in tr_sequence_representations]\n",
    "x = tr_sequence_representations\n",
    "rfc.fit(X_res, y_res)\n",
    "y_pred = rfc.predict(x)\n",
    "y_pred_encoded = label_encoder.fit_transform(y_pred.reshape(-1,1))\n",
    "accuracy = accuracy_score(tr_encoded_data.toarray(), y_pred_encoded.toarray())\n",
    "precision = precision_score(tr_encoded_data.toarray(), y_pred_encoded.toarray(), average='macro')\n",
    "recall = recall_score(tr_encoded_data.toarray(), y_pred_encoded.toarray(), average='macro')\n",
    "f1 = f1_score(tr_encoded_data.toarray(), y_pred_encoded.toarray(), average='macro')\n",
    "y_pred_test = rfc.predict(x_test)\n",
    "y_pred_test_encoded = label_encoder.fit_transform(y_pred_test.reshape(-1,1))\n",
    "test_accuracy = accuracy_score(transformed_labels.toarray(), y_pred_test_encoded.toarray())\n",
    "test_precision = precision_score(transformed_labels.toarray(), y_pred_test_encoded.toarray(), average='weighted')\n",
    "test_recall = recall_score(transformed_labels.toarray(), y_pred_test_encoded.toarray(), average='weighted')\n",
    "test_f1 = f1_score(transformed_labels.toarray(), y_pred_test_encoded.toarray(), average='weighted')\n"
   ]
  },
  {
   "cell_type": "code",
   "execution_count": 59,
   "id": "a2790951-2861-4fe5-b04f-a653e4ab6499",
   "metadata": {},
   "outputs": [
    {
     "name": "stdout",
     "output_type": "stream",
     "text": [
      "╒═══════════╤═════════╤══════════╕\n",
      "│ Metric    │   Train │     Test │\n",
      "╞═══════════╪═════════╪══════════╡\n",
      "│ Accuracy  │       1 │ 0.944444 │\n",
      "├───────────┼─────────┼──────────┤\n",
      "│ Precision │       1 │ 0.948718 │\n",
      "├───────────┼─────────┼──────────┤\n",
      "│ Recall    │       1 │ 0.944444 │\n",
      "├───────────┼─────────┼──────────┤\n",
      "│ F1 Score  │       1 │ 0.94303  │\n",
      "╘═══════════╧═════════╧══════════╛\n"
     ]
    }
   ],
   "source": [
    "from tabulate import tabulate\n",
    "\n",
    "results = [\n",
    "    [\"Metric\", \"Train\", \"Test\"],\n",
    "    [\"Accuracy\", accuracy, test_accuracy],\n",
    "    [\"Precision\", precision, test_precision],\n",
    "    [\"Recall\", recall, test_recall],\n",
    "    [\"F1 Score\", f1, test_f1]\n",
    "]\n",
    "\n",
    "table = tabulate(results, headers=\"firstrow\", tablefmt=\"fancy_grid\")\n",
    "print(table)\n"
   ]
  }
 ],
 "metadata": {
  "kernelspec": {
   "display_name": "Python 3 (ipykernel)",
   "language": "python",
   "name": "python3"
  },
  "language_info": {
   "codemirror_mode": {
    "name": "ipython",
    "version": 3
   },
   "file_extension": ".py",
   "mimetype": "text/x-python",
   "name": "python",
   "nbconvert_exporter": "python",
   "pygments_lexer": "ipython3",
   "version": "3.11.1"
  }
 },
 "nbformat": 4,
 "nbformat_minor": 5
}
