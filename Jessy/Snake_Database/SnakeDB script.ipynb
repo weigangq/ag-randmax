{
 "cells": [
  {
   "cell_type": "code",
   "execution_count": 4,
   "id": "260ef417",
   "metadata": {},
   "outputs": [],
   "source": [
    "from Bio import SeqIO\n",
    "import os\n",
    "import pandas as pd\n",
    "\n",
    "# Directory containing your multi-fasta files\n",
    "fasta_directory = \"/Users/jessyramirez/Documents/Snake_Database/\"\n",
    "\n",
    "# Initialize an empty list to store the data\n",
    "data = []\n",
    "\n",
    "# Define a dictionary to map filenames to class labels\n",
    "class_labels = {\n",
    "    \"sequence_Metalloproteinase.fasta\": \"Metalloproteinase\",\n",
    "    \"sequence_Phospholipase_A2_inhibitors.fasta\": \"Phospholipase_A2_inhibitors\",\n",
    "    \"sequence_Serine_protease.fasta\": \"Serine_protease\",\n",
    "    \"sequence_Three_finger_toxins.fasta\": \"Three_finger_toxins\"\n",
    "}\n",
    "\n",
    "# Iterate through the files in the directory\n",
    "for filename in os.listdir(fasta_directory):\n",
    "    if filename.endswith(\".fasta\"):\n",
    "        class_label = class_labels.get(filename, \"Unknown\")\n",
    "        filepath = os.path.join(fasta_directory, filename)\n",
    "        for record in SeqIO.parse(filepath, \"fasta\"):\n",
    "            fasta_id = record.id\n",
    "            sequence = str(record.seq)\n",
    "            data.append([fasta_id, sequence, class_label])\n",
    "\n",
    "# Create a DataFrame\n",
    "df = pd.DataFrame(data, columns=[\"Fasta ID\", \"Sequence\", \"Class Label\"])\n",
    "\n",
    "# Save the DataFrame to a CSV file\n",
    "df.to_csv(\"/Users/jessyramirez/Documents/Snake_Database/SnakeDB.csv\", index=False)\n"
   ]
  },
  {
   "cell_type": "code",
   "execution_count": null,
   "id": "35396cb9",
   "metadata": {},
   "outputs": [],
   "source": []
  }
 ],
 "metadata": {
  "kernelspec": {
   "display_name": "Python 3 (ipykernel)",
   "language": "python",
   "name": "python3"
  },
  "language_info": {
   "codemirror_mode": {
    "name": "ipython",
    "version": 3
   },
   "file_extension": ".py",
   "mimetype": "text/x-python",
   "name": "python",
   "nbconvert_exporter": "python",
   "pygments_lexer": "ipython3",
   "version": "3.10.8"
  }
 },
 "nbformat": 4,
 "nbformat_minor": 5
}
