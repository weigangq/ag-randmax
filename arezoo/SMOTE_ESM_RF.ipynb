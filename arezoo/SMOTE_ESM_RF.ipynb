{
  "cells": [
    {
      "cell_type": "code",
      "execution_count": 1,
      "metadata": {
        "colab": {
          "base_uri": "https://localhost:8080/"
        },
        "id": "zIhyyVx98RYo",
        "outputId": "e44a299f-dd4b-40c0-9bc8-a9cccbe4b4c2"
      },
      "outputs": [
        {
          "output_type": "stream",
          "name": "stdout",
          "text": [
            "Mounted at /content/drive\n"
          ]
        }
      ],
      "source": [
        "import pandas as pd\n",
        "from google.colab import drive\n",
        "drive.mount('/content/drive')"
      ]
    },
    {
      "cell_type": "code",
      "execution_count": 2,
      "metadata": {
        "id": "2Raxyf658TEy"
      },
      "outputs": [],
      "source": [
        "train_df = pd.read_csv('/content/drive/My Drive/cone/ConoTrainingData.csv')"
      ]
    },
    {
      "cell_type": "code",
      "execution_count": 3,
      "metadata": {
        "colab": {
          "base_uri": "https://localhost:8080/",
          "height": 112
        },
        "id": "ROy8H-Py9p_7",
        "outputId": "ca6d044d-7047-4e00-8d51-df6e9bd7b1fd"
      },
      "outputs": [
        {
          "output_type": "execute_result",
          "data": {
            "text/plain": [
              "  CLASS LABEL                  SEQUENCE  ACC_ID\n",
              "0          Ca          GCCSHPACSVNHPELC  Q1L777\n",
              "1          Ca  CYDGGTSCDSGIQCCSGWCIFVCL  Q9U648"
            ],
            "text/html": [
              "\n",
              "  <div id=\"df-4ed4e373-79aa-4232-abc2-d7e2e7dd6cec\">\n",
              "    <div class=\"colab-df-container\">\n",
              "      <div>\n",
              "<style scoped>\n",
              "    .dataframe tbody tr th:only-of-type {\n",
              "        vertical-align: middle;\n",
              "    }\n",
              "\n",
              "    .dataframe tbody tr th {\n",
              "        vertical-align: top;\n",
              "    }\n",
              "\n",
              "    .dataframe thead th {\n",
              "        text-align: right;\n",
              "    }\n",
              "</style>\n",
              "<table border=\"1\" class=\"dataframe\">\n",
              "  <thead>\n",
              "    <tr style=\"text-align: right;\">\n",
              "      <th></th>\n",
              "      <th>CLASS LABEL</th>\n",
              "      <th>SEQUENCE</th>\n",
              "      <th>ACC_ID</th>\n",
              "    </tr>\n",
              "  </thead>\n",
              "  <tbody>\n",
              "    <tr>\n",
              "      <th>0</th>\n",
              "      <td>Ca</td>\n",
              "      <td>GCCSHPACSVNHPELC</td>\n",
              "      <td>Q1L777</td>\n",
              "    </tr>\n",
              "    <tr>\n",
              "      <th>1</th>\n",
              "      <td>Ca</td>\n",
              "      <td>CYDGGTSCDSGIQCCSGWCIFVCL</td>\n",
              "      <td>Q9U648</td>\n",
              "    </tr>\n",
              "  </tbody>\n",
              "</table>\n",
              "</div>\n",
              "      <button class=\"colab-df-convert\" onclick=\"convertToInteractive('df-4ed4e373-79aa-4232-abc2-d7e2e7dd6cec')\"\n",
              "              title=\"Convert this dataframe to an interactive table.\"\n",
              "              style=\"display:none;\">\n",
              "        \n",
              "  <svg xmlns=\"http://www.w3.org/2000/svg\" height=\"24px\"viewBox=\"0 0 24 24\"\n",
              "       width=\"24px\">\n",
              "    <path d=\"M0 0h24v24H0V0z\" fill=\"none\"/>\n",
              "    <path d=\"M18.56 5.44l.94 2.06.94-2.06 2.06-.94-2.06-.94-.94-2.06-.94 2.06-2.06.94zm-11 1L8.5 8.5l.94-2.06 2.06-.94-2.06-.94L8.5 2.5l-.94 2.06-2.06.94zm10 10l.94 2.06.94-2.06 2.06-.94-2.06-.94-.94-2.06-.94 2.06-2.06.94z\"/><path d=\"M17.41 7.96l-1.37-1.37c-.4-.4-.92-.59-1.43-.59-.52 0-1.04.2-1.43.59L10.3 9.45l-7.72 7.72c-.78.78-.78 2.05 0 2.83L4 21.41c.39.39.9.59 1.41.59.51 0 1.02-.2 1.41-.59l7.78-7.78 2.81-2.81c.8-.78.8-2.07 0-2.86zM5.41 20L4 18.59l7.72-7.72 1.47 1.35L5.41 20z\"/>\n",
              "  </svg>\n",
              "      </button>\n",
              "      \n",
              "  <style>\n",
              "    .colab-df-container {\n",
              "      display:flex;\n",
              "      flex-wrap:wrap;\n",
              "      gap: 12px;\n",
              "    }\n",
              "\n",
              "    .colab-df-convert {\n",
              "      background-color: #E8F0FE;\n",
              "      border: none;\n",
              "      border-radius: 50%;\n",
              "      cursor: pointer;\n",
              "      display: none;\n",
              "      fill: #1967D2;\n",
              "      height: 32px;\n",
              "      padding: 0 0 0 0;\n",
              "      width: 32px;\n",
              "    }\n",
              "\n",
              "    .colab-df-convert:hover {\n",
              "      background-color: #E2EBFA;\n",
              "      box-shadow: 0px 1px 2px rgba(60, 64, 67, 0.3), 0px 1px 3px 1px rgba(60, 64, 67, 0.15);\n",
              "      fill: #174EA6;\n",
              "    }\n",
              "\n",
              "    [theme=dark] .colab-df-convert {\n",
              "      background-color: #3B4455;\n",
              "      fill: #D2E3FC;\n",
              "    }\n",
              "\n",
              "    [theme=dark] .colab-df-convert:hover {\n",
              "      background-color: #434B5C;\n",
              "      box-shadow: 0px 1px 3px 1px rgba(0, 0, 0, 0.15);\n",
              "      filter: drop-shadow(0px 1px 2px rgba(0, 0, 0, 0.3));\n",
              "      fill: #FFFFFF;\n",
              "    }\n",
              "  </style>\n",
              "\n",
              "      <script>\n",
              "        const buttonEl =\n",
              "          document.querySelector('#df-4ed4e373-79aa-4232-abc2-d7e2e7dd6cec button.colab-df-convert');\n",
              "        buttonEl.style.display =\n",
              "          google.colab.kernel.accessAllowed ? 'block' : 'none';\n",
              "\n",
              "        async function convertToInteractive(key) {\n",
              "          const element = document.querySelector('#df-4ed4e373-79aa-4232-abc2-d7e2e7dd6cec');\n",
              "          const dataTable =\n",
              "            await google.colab.kernel.invokeFunction('convertToInteractive',\n",
              "                                                     [key], {});\n",
              "          if (!dataTable) return;\n",
              "\n",
              "          const docLinkHtml = 'Like what you see? Visit the ' +\n",
              "            '<a target=\"_blank\" href=https://colab.research.google.com/notebooks/data_table.ipynb>data table notebook</a>'\n",
              "            + ' to learn more about interactive tables.';\n",
              "          element.innerHTML = '';\n",
              "          dataTable['output_type'] = 'display_data';\n",
              "          await google.colab.output.renderOutput(dataTable, element);\n",
              "          const docLink = document.createElement('div');\n",
              "          docLink.innerHTML = docLinkHtml;\n",
              "          element.appendChild(docLink);\n",
              "        }\n",
              "      </script>\n",
              "    </div>\n",
              "  </div>\n",
              "  "
            ]
          },
          "metadata": {},
          "execution_count": 3
        }
      ],
      "source": [
        "train_df.head(2)"
      ]
    },
    {
      "cell_type": "code",
      "execution_count": 4,
      "metadata": {
        "id": "MiCI8KOw9ri1"
      },
      "outputs": [],
      "source": [
        "test_df = pd.read_csv('/content/drive/My Drive/cone/ConoTestData.csv')"
      ]
    },
    {
      "cell_type": "code",
      "execution_count": 5,
      "metadata": {
        "colab": {
          "base_uri": "https://localhost:8080/",
          "height": 112
        },
        "id": "FcnWgyoV95Aw",
        "outputId": "fb0e0171-a37d-4918-9753-a785d5b11735"
      },
      "outputs": [
        {
          "output_type": "execute_result",
          "data": {
            "text/plain": [
              "  CLASS LABEL                           SEQUENCE  ACC_ID\n",
              "0           K     QKSLVPSVITTCCGYDPGTMCPPCRCTNSC  P0C828\n",
              "1           K  SRCFPPGIYCTPYLPCCWGICCGTCRNVCHLRI  Q7YZS9"
            ],
            "text/html": [
              "\n",
              "  <div id=\"df-53b50751-8b75-4fe8-b49b-015ee6a25279\">\n",
              "    <div class=\"colab-df-container\">\n",
              "      <div>\n",
              "<style scoped>\n",
              "    .dataframe tbody tr th:only-of-type {\n",
              "        vertical-align: middle;\n",
              "    }\n",
              "\n",
              "    .dataframe tbody tr th {\n",
              "        vertical-align: top;\n",
              "    }\n",
              "\n",
              "    .dataframe thead th {\n",
              "        text-align: right;\n",
              "    }\n",
              "</style>\n",
              "<table border=\"1\" class=\"dataframe\">\n",
              "  <thead>\n",
              "    <tr style=\"text-align: right;\">\n",
              "      <th></th>\n",
              "      <th>CLASS LABEL</th>\n",
              "      <th>SEQUENCE</th>\n",
              "      <th>ACC_ID</th>\n",
              "    </tr>\n",
              "  </thead>\n",
              "  <tbody>\n",
              "    <tr>\n",
              "      <th>0</th>\n",
              "      <td>K</td>\n",
              "      <td>QKSLVPSVITTCCGYDPGTMCPPCRCTNSC</td>\n",
              "      <td>P0C828</td>\n",
              "    </tr>\n",
              "    <tr>\n",
              "      <th>1</th>\n",
              "      <td>K</td>\n",
              "      <td>SRCFPPGIYCTPYLPCCWGICCGTCRNVCHLRI</td>\n",
              "      <td>Q7YZS9</td>\n",
              "    </tr>\n",
              "  </tbody>\n",
              "</table>\n",
              "</div>\n",
              "      <button class=\"colab-df-convert\" onclick=\"convertToInteractive('df-53b50751-8b75-4fe8-b49b-015ee6a25279')\"\n",
              "              title=\"Convert this dataframe to an interactive table.\"\n",
              "              style=\"display:none;\">\n",
              "        \n",
              "  <svg xmlns=\"http://www.w3.org/2000/svg\" height=\"24px\"viewBox=\"0 0 24 24\"\n",
              "       width=\"24px\">\n",
              "    <path d=\"M0 0h24v24H0V0z\" fill=\"none\"/>\n",
              "    <path d=\"M18.56 5.44l.94 2.06.94-2.06 2.06-.94-2.06-.94-.94-2.06-.94 2.06-2.06.94zm-11 1L8.5 8.5l.94-2.06 2.06-.94-2.06-.94L8.5 2.5l-.94 2.06-2.06.94zm10 10l.94 2.06.94-2.06 2.06-.94-2.06-.94-.94-2.06-.94 2.06-2.06.94z\"/><path d=\"M17.41 7.96l-1.37-1.37c-.4-.4-.92-.59-1.43-.59-.52 0-1.04.2-1.43.59L10.3 9.45l-7.72 7.72c-.78.78-.78 2.05 0 2.83L4 21.41c.39.39.9.59 1.41.59.51 0 1.02-.2 1.41-.59l7.78-7.78 2.81-2.81c.8-.78.8-2.07 0-2.86zM5.41 20L4 18.59l7.72-7.72 1.47 1.35L5.41 20z\"/>\n",
              "  </svg>\n",
              "      </button>\n",
              "      \n",
              "  <style>\n",
              "    .colab-df-container {\n",
              "      display:flex;\n",
              "      flex-wrap:wrap;\n",
              "      gap: 12px;\n",
              "    }\n",
              "\n",
              "    .colab-df-convert {\n",
              "      background-color: #E8F0FE;\n",
              "      border: none;\n",
              "      border-radius: 50%;\n",
              "      cursor: pointer;\n",
              "      display: none;\n",
              "      fill: #1967D2;\n",
              "      height: 32px;\n",
              "      padding: 0 0 0 0;\n",
              "      width: 32px;\n",
              "    }\n",
              "\n",
              "    .colab-df-convert:hover {\n",
              "      background-color: #E2EBFA;\n",
              "      box-shadow: 0px 1px 2px rgba(60, 64, 67, 0.3), 0px 1px 3px 1px rgba(60, 64, 67, 0.15);\n",
              "      fill: #174EA6;\n",
              "    }\n",
              "\n",
              "    [theme=dark] .colab-df-convert {\n",
              "      background-color: #3B4455;\n",
              "      fill: #D2E3FC;\n",
              "    }\n",
              "\n",
              "    [theme=dark] .colab-df-convert:hover {\n",
              "      background-color: #434B5C;\n",
              "      box-shadow: 0px 1px 3px 1px rgba(0, 0, 0, 0.15);\n",
              "      filter: drop-shadow(0px 1px 2px rgba(0, 0, 0, 0.3));\n",
              "      fill: #FFFFFF;\n",
              "    }\n",
              "  </style>\n",
              "\n",
              "      <script>\n",
              "        const buttonEl =\n",
              "          document.querySelector('#df-53b50751-8b75-4fe8-b49b-015ee6a25279 button.colab-df-convert');\n",
              "        buttonEl.style.display =\n",
              "          google.colab.kernel.accessAllowed ? 'block' : 'none';\n",
              "\n",
              "        async function convertToInteractive(key) {\n",
              "          const element = document.querySelector('#df-53b50751-8b75-4fe8-b49b-015ee6a25279');\n",
              "          const dataTable =\n",
              "            await google.colab.kernel.invokeFunction('convertToInteractive',\n",
              "                                                     [key], {});\n",
              "          if (!dataTable) return;\n",
              "\n",
              "          const docLinkHtml = 'Like what you see? Visit the ' +\n",
              "            '<a target=\"_blank\" href=https://colab.research.google.com/notebooks/data_table.ipynb>data table notebook</a>'\n",
              "            + ' to learn more about interactive tables.';\n",
              "          element.innerHTML = '';\n",
              "          dataTable['output_type'] = 'display_data';\n",
              "          await google.colab.output.renderOutput(dataTable, element);\n",
              "          const docLink = document.createElement('div');\n",
              "          docLink.innerHTML = docLinkHtml;\n",
              "          element.appendChild(docLink);\n",
              "        }\n",
              "      </script>\n",
              "    </div>\n",
              "  </div>\n",
              "  "
            ]
          },
          "metadata": {},
          "execution_count": 5
        }
      ],
      "source": [
        "test_df.head(2)"
      ]
    },
    {
      "cell_type": "code",
      "execution_count": 6,
      "metadata": {
        "colab": {
          "base_uri": "https://localhost:8080/",
          "height": 175
        },
        "id": "vzjScHtk966U",
        "outputId": "2aed34ef-9a3c-410e-a57e-3b09534ed42e"
      },
      "outputs": [
        {
          "output_type": "execute_result",
          "data": {
            "text/plain": [
              "       CLASS LABEL          SEQUENCE  ACC_ID\n",
              "count          145               145     145\n",
              "unique           3               145     145\n",
              "top             Ca  GCCSHPACSVNHPELC  Q1L777\n",
              "freq            70                 1       1"
            ],
            "text/html": [
              "\n",
              "  <div id=\"df-dd3bcf17-18d6-4e11-aca0-d2c930d405d7\">\n",
              "    <div class=\"colab-df-container\">\n",
              "      <div>\n",
              "<style scoped>\n",
              "    .dataframe tbody tr th:only-of-type {\n",
              "        vertical-align: middle;\n",
              "    }\n",
              "\n",
              "    .dataframe tbody tr th {\n",
              "        vertical-align: top;\n",
              "    }\n",
              "\n",
              "    .dataframe thead th {\n",
              "        text-align: right;\n",
              "    }\n",
              "</style>\n",
              "<table border=\"1\" class=\"dataframe\">\n",
              "  <thead>\n",
              "    <tr style=\"text-align: right;\">\n",
              "      <th></th>\n",
              "      <th>CLASS LABEL</th>\n",
              "      <th>SEQUENCE</th>\n",
              "      <th>ACC_ID</th>\n",
              "    </tr>\n",
              "  </thead>\n",
              "  <tbody>\n",
              "    <tr>\n",
              "      <th>count</th>\n",
              "      <td>145</td>\n",
              "      <td>145</td>\n",
              "      <td>145</td>\n",
              "    </tr>\n",
              "    <tr>\n",
              "      <th>unique</th>\n",
              "      <td>3</td>\n",
              "      <td>145</td>\n",
              "      <td>145</td>\n",
              "    </tr>\n",
              "    <tr>\n",
              "      <th>top</th>\n",
              "      <td>Ca</td>\n",
              "      <td>GCCSHPACSVNHPELC</td>\n",
              "      <td>Q1L777</td>\n",
              "    </tr>\n",
              "    <tr>\n",
              "      <th>freq</th>\n",
              "      <td>70</td>\n",
              "      <td>1</td>\n",
              "      <td>1</td>\n",
              "    </tr>\n",
              "  </tbody>\n",
              "</table>\n",
              "</div>\n",
              "      <button class=\"colab-df-convert\" onclick=\"convertToInteractive('df-dd3bcf17-18d6-4e11-aca0-d2c930d405d7')\"\n",
              "              title=\"Convert this dataframe to an interactive table.\"\n",
              "              style=\"display:none;\">\n",
              "        \n",
              "  <svg xmlns=\"http://www.w3.org/2000/svg\" height=\"24px\"viewBox=\"0 0 24 24\"\n",
              "       width=\"24px\">\n",
              "    <path d=\"M0 0h24v24H0V0z\" fill=\"none\"/>\n",
              "    <path d=\"M18.56 5.44l.94 2.06.94-2.06 2.06-.94-2.06-.94-.94-2.06-.94 2.06-2.06.94zm-11 1L8.5 8.5l.94-2.06 2.06-.94-2.06-.94L8.5 2.5l-.94 2.06-2.06.94zm10 10l.94 2.06.94-2.06 2.06-.94-2.06-.94-.94-2.06-.94 2.06-2.06.94z\"/><path d=\"M17.41 7.96l-1.37-1.37c-.4-.4-.92-.59-1.43-.59-.52 0-1.04.2-1.43.59L10.3 9.45l-7.72 7.72c-.78.78-.78 2.05 0 2.83L4 21.41c.39.39.9.59 1.41.59.51 0 1.02-.2 1.41-.59l7.78-7.78 2.81-2.81c.8-.78.8-2.07 0-2.86zM5.41 20L4 18.59l7.72-7.72 1.47 1.35L5.41 20z\"/>\n",
              "  </svg>\n",
              "      </button>\n",
              "      \n",
              "  <style>\n",
              "    .colab-df-container {\n",
              "      display:flex;\n",
              "      flex-wrap:wrap;\n",
              "      gap: 12px;\n",
              "    }\n",
              "\n",
              "    .colab-df-convert {\n",
              "      background-color: #E8F0FE;\n",
              "      border: none;\n",
              "      border-radius: 50%;\n",
              "      cursor: pointer;\n",
              "      display: none;\n",
              "      fill: #1967D2;\n",
              "      height: 32px;\n",
              "      padding: 0 0 0 0;\n",
              "      width: 32px;\n",
              "    }\n",
              "\n",
              "    .colab-df-convert:hover {\n",
              "      background-color: #E2EBFA;\n",
              "      box-shadow: 0px 1px 2px rgba(60, 64, 67, 0.3), 0px 1px 3px 1px rgba(60, 64, 67, 0.15);\n",
              "      fill: #174EA6;\n",
              "    }\n",
              "\n",
              "    [theme=dark] .colab-df-convert {\n",
              "      background-color: #3B4455;\n",
              "      fill: #D2E3FC;\n",
              "    }\n",
              "\n",
              "    [theme=dark] .colab-df-convert:hover {\n",
              "      background-color: #434B5C;\n",
              "      box-shadow: 0px 1px 3px 1px rgba(0, 0, 0, 0.15);\n",
              "      filter: drop-shadow(0px 1px 2px rgba(0, 0, 0, 0.3));\n",
              "      fill: #FFFFFF;\n",
              "    }\n",
              "  </style>\n",
              "\n",
              "      <script>\n",
              "        const buttonEl =\n",
              "          document.querySelector('#df-dd3bcf17-18d6-4e11-aca0-d2c930d405d7 button.colab-df-convert');\n",
              "        buttonEl.style.display =\n",
              "          google.colab.kernel.accessAllowed ? 'block' : 'none';\n",
              "\n",
              "        async function convertToInteractive(key) {\n",
              "          const element = document.querySelector('#df-dd3bcf17-18d6-4e11-aca0-d2c930d405d7');\n",
              "          const dataTable =\n",
              "            await google.colab.kernel.invokeFunction('convertToInteractive',\n",
              "                                                     [key], {});\n",
              "          if (!dataTable) return;\n",
              "\n",
              "          const docLinkHtml = 'Like what you see? Visit the ' +\n",
              "            '<a target=\"_blank\" href=https://colab.research.google.com/notebooks/data_table.ipynb>data table notebook</a>'\n",
              "            + ' to learn more about interactive tables.';\n",
              "          element.innerHTML = '';\n",
              "          dataTable['output_type'] = 'display_data';\n",
              "          await google.colab.output.renderOutput(dataTable, element);\n",
              "          const docLink = document.createElement('div');\n",
              "          docLink.innerHTML = docLinkHtml;\n",
              "          element.appendChild(docLink);\n",
              "        }\n",
              "      </script>\n",
              "    </div>\n",
              "  </div>\n",
              "  "
            ]
          },
          "metadata": {},
          "execution_count": 6
        }
      ],
      "source": [
        "train_df.describe()"
      ]
    },
    {
      "cell_type": "code",
      "execution_count": 7,
      "metadata": {
        "colab": {
          "base_uri": "https://localhost:8080/"
        },
        "id": "OUBw04vs-BYX",
        "outputId": "f0e1dea2-2b50-45be-83e7-34125eecf39e"
      },
      "outputs": [
        {
          "output_type": "execute_result",
          "data": {
            "text/plain": [
              "70"
            ]
          },
          "metadata": {},
          "execution_count": 7
        }
      ],
      "source": [
        "sum(train_df['CLASS LABEL']=='Ca')"
      ]
    },
    {
      "cell_type": "code",
      "execution_count": 8,
      "metadata": {
        "colab": {
          "base_uri": "https://localhost:8080/"
        },
        "id": "fl2njC0g-gcj",
        "outputId": "e25d4833-8ce8-42eb-84f1-9c659fe6b146"
      },
      "outputs": [
        {
          "output_type": "execute_result",
          "data": {
            "text/plain": [
              "26"
            ]
          },
          "metadata": {},
          "execution_count": 8
        }
      ],
      "source": [
        "sum(train_df['CLASS LABEL']=='K')"
      ]
    },
    {
      "cell_type": "code",
      "execution_count": 9,
      "metadata": {
        "colab": {
          "base_uri": "https://localhost:8080/"
        },
        "id": "5Nl19Az5-1lJ",
        "outputId": "56461900-44b8-4f39-ff60-dae11e633497"
      },
      "outputs": [
        {
          "output_type": "execute_result",
          "data": {
            "text/plain": [
              "49"
            ]
          },
          "metadata": {},
          "execution_count": 9
        }
      ],
      "source": [
        "sum(train_df['CLASS LABEL']=='Na')"
      ]
    },
    {
      "cell_type": "code",
      "execution_count": 10,
      "metadata": {
        "colab": {
          "base_uri": "https://localhost:8080/"
        },
        "id": "gez-WqJa-suN",
        "outputId": "4c0d3f91-c83a-4737-946a-fc212525b8c1"
      },
      "outputs": [
        {
          "output_type": "execute_result",
          "data": {
            "text/plain": [
              "array(['Ca', 'K', 'Na'], dtype=object)"
            ]
          },
          "metadata": {},
          "execution_count": 10
        }
      ],
      "source": [
        "train_df['CLASS LABEL'].unique()"
      ]
    },
    {
      "cell_type": "code",
      "execution_count": 11,
      "metadata": {
        "colab": {
          "base_uri": "https://localhost:8080/",
          "height": 175
        },
        "id": "19cGZI4U-lyK",
        "outputId": "ae1a4859-f1a9-4d53-8413-59e18165e3bf"
      },
      "outputs": [
        {
          "output_type": "execute_result",
          "data": {
            "text/plain": [
              "       CLASS LABEL                                    SEQUENCE  ACC_ID\n",
              "count           70                                          70      70\n",
              "unique           3                                          67      70\n",
              "top             Na  GHVPCGKDGRKCGYHADCCNCCLSGICKPSTSWTGCSTSTFD  P0C828\n",
              "freq            37                                           2       1"
            ],
            "text/html": [
              "\n",
              "  <div id=\"df-b6d9979c-ebd2-473d-aa47-c6121051c005\">\n",
              "    <div class=\"colab-df-container\">\n",
              "      <div>\n",
              "<style scoped>\n",
              "    .dataframe tbody tr th:only-of-type {\n",
              "        vertical-align: middle;\n",
              "    }\n",
              "\n",
              "    .dataframe tbody tr th {\n",
              "        vertical-align: top;\n",
              "    }\n",
              "\n",
              "    .dataframe thead th {\n",
              "        text-align: right;\n",
              "    }\n",
              "</style>\n",
              "<table border=\"1\" class=\"dataframe\">\n",
              "  <thead>\n",
              "    <tr style=\"text-align: right;\">\n",
              "      <th></th>\n",
              "      <th>CLASS LABEL</th>\n",
              "      <th>SEQUENCE</th>\n",
              "      <th>ACC_ID</th>\n",
              "    </tr>\n",
              "  </thead>\n",
              "  <tbody>\n",
              "    <tr>\n",
              "      <th>count</th>\n",
              "      <td>70</td>\n",
              "      <td>70</td>\n",
              "      <td>70</td>\n",
              "    </tr>\n",
              "    <tr>\n",
              "      <th>unique</th>\n",
              "      <td>3</td>\n",
              "      <td>67</td>\n",
              "      <td>70</td>\n",
              "    </tr>\n",
              "    <tr>\n",
              "      <th>top</th>\n",
              "      <td>Na</td>\n",
              "      <td>GHVPCGKDGRKCGYHADCCNCCLSGICKPSTSWTGCSTSTFD</td>\n",
              "      <td>P0C828</td>\n",
              "    </tr>\n",
              "    <tr>\n",
              "      <th>freq</th>\n",
              "      <td>37</td>\n",
              "      <td>2</td>\n",
              "      <td>1</td>\n",
              "    </tr>\n",
              "  </tbody>\n",
              "</table>\n",
              "</div>\n",
              "      <button class=\"colab-df-convert\" onclick=\"convertToInteractive('df-b6d9979c-ebd2-473d-aa47-c6121051c005')\"\n",
              "              title=\"Convert this dataframe to an interactive table.\"\n",
              "              style=\"display:none;\">\n",
              "        \n",
              "  <svg xmlns=\"http://www.w3.org/2000/svg\" height=\"24px\"viewBox=\"0 0 24 24\"\n",
              "       width=\"24px\">\n",
              "    <path d=\"M0 0h24v24H0V0z\" fill=\"none\"/>\n",
              "    <path d=\"M18.56 5.44l.94 2.06.94-2.06 2.06-.94-2.06-.94-.94-2.06-.94 2.06-2.06.94zm-11 1L8.5 8.5l.94-2.06 2.06-.94-2.06-.94L8.5 2.5l-.94 2.06-2.06.94zm10 10l.94 2.06.94-2.06 2.06-.94-2.06-.94-.94-2.06-.94 2.06-2.06.94z\"/><path d=\"M17.41 7.96l-1.37-1.37c-.4-.4-.92-.59-1.43-.59-.52 0-1.04.2-1.43.59L10.3 9.45l-7.72 7.72c-.78.78-.78 2.05 0 2.83L4 21.41c.39.39.9.59 1.41.59.51 0 1.02-.2 1.41-.59l7.78-7.78 2.81-2.81c.8-.78.8-2.07 0-2.86zM5.41 20L4 18.59l7.72-7.72 1.47 1.35L5.41 20z\"/>\n",
              "  </svg>\n",
              "      </button>\n",
              "      \n",
              "  <style>\n",
              "    .colab-df-container {\n",
              "      display:flex;\n",
              "      flex-wrap:wrap;\n",
              "      gap: 12px;\n",
              "    }\n",
              "\n",
              "    .colab-df-convert {\n",
              "      background-color: #E8F0FE;\n",
              "      border: none;\n",
              "      border-radius: 50%;\n",
              "      cursor: pointer;\n",
              "      display: none;\n",
              "      fill: #1967D2;\n",
              "      height: 32px;\n",
              "      padding: 0 0 0 0;\n",
              "      width: 32px;\n",
              "    }\n",
              "\n",
              "    .colab-df-convert:hover {\n",
              "      background-color: #E2EBFA;\n",
              "      box-shadow: 0px 1px 2px rgba(60, 64, 67, 0.3), 0px 1px 3px 1px rgba(60, 64, 67, 0.15);\n",
              "      fill: #174EA6;\n",
              "    }\n",
              "\n",
              "    [theme=dark] .colab-df-convert {\n",
              "      background-color: #3B4455;\n",
              "      fill: #D2E3FC;\n",
              "    }\n",
              "\n",
              "    [theme=dark] .colab-df-convert:hover {\n",
              "      background-color: #434B5C;\n",
              "      box-shadow: 0px 1px 3px 1px rgba(0, 0, 0, 0.15);\n",
              "      filter: drop-shadow(0px 1px 2px rgba(0, 0, 0, 0.3));\n",
              "      fill: #FFFFFF;\n",
              "    }\n",
              "  </style>\n",
              "\n",
              "      <script>\n",
              "        const buttonEl =\n",
              "          document.querySelector('#df-b6d9979c-ebd2-473d-aa47-c6121051c005 button.colab-df-convert');\n",
              "        buttonEl.style.display =\n",
              "          google.colab.kernel.accessAllowed ? 'block' : 'none';\n",
              "\n",
              "        async function convertToInteractive(key) {\n",
              "          const element = document.querySelector('#df-b6d9979c-ebd2-473d-aa47-c6121051c005');\n",
              "          const dataTable =\n",
              "            await google.colab.kernel.invokeFunction('convertToInteractive',\n",
              "                                                     [key], {});\n",
              "          if (!dataTable) return;\n",
              "\n",
              "          const docLinkHtml = 'Like what you see? Visit the ' +\n",
              "            '<a target=\"_blank\" href=https://colab.research.google.com/notebooks/data_table.ipynb>data table notebook</a>'\n",
              "            + ' to learn more about interactive tables.';\n",
              "          element.innerHTML = '';\n",
              "          dataTable['output_type'] = 'display_data';\n",
              "          await google.colab.output.renderOutput(dataTable, element);\n",
              "          const docLink = document.createElement('div');\n",
              "          docLink.innerHTML = docLinkHtml;\n",
              "          element.appendChild(docLink);\n",
              "        }\n",
              "      </script>\n",
              "    </div>\n",
              "  </div>\n",
              "  "
            ]
          },
          "metadata": {},
          "execution_count": 11
        }
      ],
      "source": [
        "test_df.describe()"
      ]
    },
    {
      "cell_type": "code",
      "execution_count": 12,
      "metadata": {
        "colab": {
          "base_uri": "https://localhost:8080/"
        },
        "id": "3BVwj3J7-p0X",
        "outputId": "69df8ea9-b43d-4d21-9d9c-c3f7c5260176"
      },
      "outputs": [
        {
          "output_type": "execute_result",
          "data": {
            "text/plain": [
              "21"
            ]
          },
          "metadata": {},
          "execution_count": 12
        }
      ],
      "source": [
        "sum(test_df['CLASS LABEL']=='Ca')\n"
      ]
    },
    {
      "cell_type": "code",
      "execution_count": 13,
      "metadata": {
        "colab": {
          "base_uri": "https://localhost:8080/"
        },
        "id": "bAzqMk00_IVq",
        "outputId": "09eb8631-36aa-44f9-e5c6-9191cdbf4c5b"
      },
      "outputs": [
        {
          "output_type": "execute_result",
          "data": {
            "text/plain": [
              "12"
            ]
          },
          "metadata": {},
          "execution_count": 13
        }
      ],
      "source": [
        "sum(test_df['CLASS LABEL']=='K')\n"
      ]
    },
    {
      "cell_type": "code",
      "execution_count": 14,
      "metadata": {
        "colab": {
          "base_uri": "https://localhost:8080/"
        },
        "id": "lLRwIVKm_UGY",
        "outputId": "178a8b0b-87bd-403c-889f-439c3eb4b2b1"
      },
      "outputs": [
        {
          "output_type": "execute_result",
          "data": {
            "text/plain": [
              "37"
            ]
          },
          "metadata": {},
          "execution_count": 14
        }
      ],
      "source": [
        "sum(test_df['CLASS LABEL']=='Na')"
      ]
    },
    {
      "cell_type": "code",
      "execution_count": 15,
      "metadata": {
        "colab": {
          "base_uri": "https://localhost:8080/"
        },
        "id": "nWtoGQmoFiCY",
        "outputId": "27794c95-d864-4720-cf72-7d2750535bda"
      },
      "outputs": [
        {
          "output_type": "stream",
          "name": "stdout",
          "text": [
            "Looking in indexes: https://pypi.org/simple, https://us-python.pkg.dev/colab-wheels/public/simple/\n",
            "Collecting fair-esm\n",
            "  Downloading fair_esm-2.0.0-py3-none-any.whl (93 kB)\n",
            "\u001b[2K     \u001b[90m━━━━━━━━━━━━━━━━━━━━━━━━━━━━━━━━━━━━━━━━\u001b[0m \u001b[32m93.1/93.1 kB\u001b[0m \u001b[31m4.3 MB/s\u001b[0m eta \u001b[36m0:00:00\u001b[0m\n",
            "\u001b[?25hInstalling collected packages: fair-esm\n",
            "Successfully installed fair-esm-2.0.0\n"
          ]
        }
      ],
      "source": [
        "!pip install fair-esm "
      ]
    },
    {
      "cell_type": "code",
      "execution_count": 16,
      "metadata": {
        "colab": {
          "base_uri": "https://localhost:8080/"
        },
        "id": "9IY7_wv-U70t",
        "outputId": "e78200fd-13bb-4b4e-d30d-21cd91f01037"
      },
      "outputs": [
        {
          "output_type": "stream",
          "name": "stderr",
          "text": [
            "Downloading: \"https://dl.fbaipublicfiles.com/fair-esm/models/esm2_t33_650M_UR50D.pt\" to /root/.cache/torch/hub/checkpoints/esm2_t33_650M_UR50D.pt\n",
            "Downloading: \"https://dl.fbaipublicfiles.com/fair-esm/regression/esm2_t33_650M_UR50D-contact-regression.pt\" to /root/.cache/torch/hub/checkpoints/esm2_t33_650M_UR50D-contact-regression.pt\n"
          ]
        },
        {
          "output_type": "execute_result",
          "data": {
            "text/plain": [
              "ESM2(\n",
              "  (embed_tokens): Embedding(33, 1280, padding_idx=1)\n",
              "  (layers): ModuleList(\n",
              "    (0-32): 33 x TransformerLayer(\n",
              "      (self_attn): MultiheadAttention(\n",
              "        (k_proj): Linear(in_features=1280, out_features=1280, bias=True)\n",
              "        (v_proj): Linear(in_features=1280, out_features=1280, bias=True)\n",
              "        (q_proj): Linear(in_features=1280, out_features=1280, bias=True)\n",
              "        (out_proj): Linear(in_features=1280, out_features=1280, bias=True)\n",
              "        (rot_emb): RotaryEmbedding()\n",
              "      )\n",
              "      (self_attn_layer_norm): LayerNorm((1280,), eps=1e-05, elementwise_affine=True)\n",
              "      (fc1): Linear(in_features=1280, out_features=5120, bias=True)\n",
              "      (fc2): Linear(in_features=5120, out_features=1280, bias=True)\n",
              "      (final_layer_norm): LayerNorm((1280,), eps=1e-05, elementwise_affine=True)\n",
              "    )\n",
              "  )\n",
              "  (contact_head): ContactPredictionHead(\n",
              "    (regression): Linear(in_features=660, out_features=1, bias=True)\n",
              "    (activation): Sigmoid()\n",
              "  )\n",
              "  (emb_layer_norm_after): LayerNorm((1280,), eps=1e-05, elementwise_affine=True)\n",
              "  (lm_head): RobertaLMHead(\n",
              "    (dense): Linear(in_features=1280, out_features=1280, bias=True)\n",
              "    (layer_norm): LayerNorm((1280,), eps=1e-05, elementwise_affine=True)\n",
              "  )\n",
              ")"
            ]
          },
          "metadata": {},
          "execution_count": 16
        }
      ],
      "source": [
        "import torch\n",
        "import esm\n",
        "\n",
        "# Load ESM-2 model\n",
        "model, alphabet = esm.pretrained.esm2_t33_650M_UR50D()\n",
        "batch_converter = alphabet.get_batch_converter()\n",
        "model.eval()  # disables dropout for deterministic results"
      ]
    },
    {
      "cell_type": "code",
      "execution_count": 17,
      "metadata": {
        "id": "VsHI_dR-OKnK"
      },
      "outputs": [],
      "source": [
        "train_data = [(tuple(list(x))[1], tuple(list(x))[0])  for x in list(train_df[['SEQUENCE','ACC_ID']].values)]"
      ]
    },
    {
      "cell_type": "code",
      "execution_count": 18,
      "metadata": {
        "id": "NhdaVyafOopx"
      },
      "outputs": [],
      "source": [
        "dummy_train = train_data"
      ]
    },
    {
      "cell_type": "code",
      "execution_count": 19,
      "metadata": {
        "id": "opLyiPBlPLAK"
      },
      "outputs": [],
      "source": [
        "tr_batch_labels, tr_batch_strs, tr_batch_tokens = batch_converter(dummy_train)\n",
        "tr_batch_lens = (tr_batch_tokens != alphabet.padding_idx).sum(1)\n",
        "\n"
      ]
    },
    {
      "cell_type": "code",
      "execution_count": 20,
      "metadata": {
        "id": "n1xb4USisKGA"
      },
      "outputs": [],
      "source": [
        "# Extract per-residue representations (on CPU)\n",
        "with torch.no_grad():\n",
        "    tr_results = model(tr_batch_tokens, repr_layers=[33], return_contacts=False)\n",
        "\n",
        "\n"
      ]
    },
    {
      "cell_type": "code",
      "execution_count": 21,
      "metadata": {
        "id": "9vekYVVgsLkB"
      },
      "outputs": [],
      "source": [
        "tr_token_representations = tr_results[\"representations\"][33]"
      ]
    },
    {
      "cell_type": "code",
      "execution_count": 22,
      "metadata": {
        "id": "9_lmuVbxsIKD"
      },
      "outputs": [],
      "source": [
        "# Generate per-sequence representations via averaging\n",
        "# NOTE: token 0 is always a beginning-of-sequence token, so the first residue is token 1.\n",
        "tr_sequence_representations = []\n",
        "for i, tokens_len in enumerate(tr_batch_lens):\n",
        "    tr_sequence_representations.append(tr_token_representations[i, 1 : tokens_len - 1].mean(0))\n"
      ]
    },
    {
      "cell_type": "markdown",
      "metadata": {
        "id": "_ytOgP-crjGo"
      },
      "source": [
        "this is the length of each string + 2 (beginning and end)"
      ]
    },
    {
      "cell_type": "markdown",
      "metadata": {
        "id": "ogJX-qGcowuN"
      },
      "source": [
        "the letters start with 0, end with 2, and 1 is used for padding. Because we have 20 different amino acids, we have 23 different numbers."
      ]
    },
    {
      "cell_type": "code",
      "execution_count": 23,
      "metadata": {
        "id": "adeJnypLQ4xB"
      },
      "outputs": [],
      "source": [
        "train_labels = train_df['CLASS LABEL']"
      ]
    },
    {
      "cell_type": "code",
      "execution_count": 24,
      "metadata": {
        "id": "y7Vg5WF1QbDM"
      },
      "outputs": [],
      "source": [
        "from sklearn.preprocessing import OneHotEncoder\n",
        "import numpy as np\n",
        "label_encoder = OneHotEncoder()\n"
      ]
    },
    {
      "cell_type": "code",
      "execution_count": 25,
      "metadata": {
        "id": "fMn851WwZbsK"
      },
      "outputs": [],
      "source": [
        "train_labels = train_labels"
      ]
    },
    {
      "cell_type": "code",
      "execution_count": 26,
      "metadata": {
        "id": "ZzbidYjmZkXG"
      },
      "outputs": [],
      "source": [
        "\n",
        "tr_encoded_data = label_encoder.fit_transform(train_labels.values.reshape(-1,1))"
      ]
    },
    {
      "cell_type": "code",
      "execution_count": 27,
      "metadata": {
        "id": "wcjP5FEsTzJv"
      },
      "outputs": [],
      "source": [
        "from sklearn.ensemble import RandomForestClassifier\n",
        "rfc = RandomForestClassifier(n_estimators=15, random_state=42)"
      ]
    },
    {
      "cell_type": "code",
      "execution_count": 28,
      "metadata": {
        "id": "V9hmYrKZgS7O"
      },
      "outputs": [],
      "source": [
        "x = [tensor.numpy() for tensor in tr_sequence_representations]"
      ]
    },
    {
      "cell_type": "code",
      "source": [
        "# begin smote\n",
        "\n",
        "\n",
        "\n",
        "from imblearn.over_sampling import SMOTE\n",
        "from sklearn.datasets import make_classification\n",
        "from collections import Counter\n",
        "\n",
        "sm_1 = SMOTE(random_state=42)\n",
        "X_res, y_res = sm_1.fit_resample(x,  tr_encoded_data.toarray())\n",
        "\n"
      ],
      "metadata": {
        "id": "0pbfoDlb4zCd"
      },
      "execution_count": 29,
      "outputs": []
    },
    {
      "cell_type": "code",
      "execution_count": 30,
      "metadata": {
        "colab": {
          "base_uri": "https://localhost:8080/",
          "height": 75
        },
        "id": "1sr4nw18VtOB",
        "outputId": "01c03b95-60e6-4eb1-8a5d-dab8fa28368a"
      },
      "outputs": [
        {
          "output_type": "execute_result",
          "data": {
            "text/plain": [
              "RandomForestClassifier(n_estimators=15, random_state=42)"
            ],
            "text/html": [
              "<style>#sk-container-id-1 {color: black;background-color: white;}#sk-container-id-1 pre{padding: 0;}#sk-container-id-1 div.sk-toggleable {background-color: white;}#sk-container-id-1 label.sk-toggleable__label {cursor: pointer;display: block;width: 100%;margin-bottom: 0;padding: 0.3em;box-sizing: border-box;text-align: center;}#sk-container-id-1 label.sk-toggleable__label-arrow:before {content: \"▸\";float: left;margin-right: 0.25em;color: #696969;}#sk-container-id-1 label.sk-toggleable__label-arrow:hover:before {color: black;}#sk-container-id-1 div.sk-estimator:hover label.sk-toggleable__label-arrow:before {color: black;}#sk-container-id-1 div.sk-toggleable__content {max-height: 0;max-width: 0;overflow: hidden;text-align: left;background-color: #f0f8ff;}#sk-container-id-1 div.sk-toggleable__content pre {margin: 0.2em;color: black;border-radius: 0.25em;background-color: #f0f8ff;}#sk-container-id-1 input.sk-toggleable__control:checked~div.sk-toggleable__content {max-height: 200px;max-width: 100%;overflow: auto;}#sk-container-id-1 input.sk-toggleable__control:checked~label.sk-toggleable__label-arrow:before {content: \"▾\";}#sk-container-id-1 div.sk-estimator input.sk-toggleable__control:checked~label.sk-toggleable__label {background-color: #d4ebff;}#sk-container-id-1 div.sk-label input.sk-toggleable__control:checked~label.sk-toggleable__label {background-color: #d4ebff;}#sk-container-id-1 input.sk-hidden--visually {border: 0;clip: rect(1px 1px 1px 1px);clip: rect(1px, 1px, 1px, 1px);height: 1px;margin: -1px;overflow: hidden;padding: 0;position: absolute;width: 1px;}#sk-container-id-1 div.sk-estimator {font-family: monospace;background-color: #f0f8ff;border: 1px dotted black;border-radius: 0.25em;box-sizing: border-box;margin-bottom: 0.5em;}#sk-container-id-1 div.sk-estimator:hover {background-color: #d4ebff;}#sk-container-id-1 div.sk-parallel-item::after {content: \"\";width: 100%;border-bottom: 1px solid gray;flex-grow: 1;}#sk-container-id-1 div.sk-label:hover label.sk-toggleable__label {background-color: #d4ebff;}#sk-container-id-1 div.sk-serial::before {content: \"\";position: absolute;border-left: 1px solid gray;box-sizing: border-box;top: 0;bottom: 0;left: 50%;z-index: 0;}#sk-container-id-1 div.sk-serial {display: flex;flex-direction: column;align-items: center;background-color: white;padding-right: 0.2em;padding-left: 0.2em;position: relative;}#sk-container-id-1 div.sk-item {position: relative;z-index: 1;}#sk-container-id-1 div.sk-parallel {display: flex;align-items: stretch;justify-content: center;background-color: white;position: relative;}#sk-container-id-1 div.sk-item::before, #sk-container-id-1 div.sk-parallel-item::before {content: \"\";position: absolute;border-left: 1px solid gray;box-sizing: border-box;top: 0;bottom: 0;left: 50%;z-index: -1;}#sk-container-id-1 div.sk-parallel-item {display: flex;flex-direction: column;z-index: 1;position: relative;background-color: white;}#sk-container-id-1 div.sk-parallel-item:first-child::after {align-self: flex-end;width: 50%;}#sk-container-id-1 div.sk-parallel-item:last-child::after {align-self: flex-start;width: 50%;}#sk-container-id-1 div.sk-parallel-item:only-child::after {width: 0;}#sk-container-id-1 div.sk-dashed-wrapped {border: 1px dashed gray;margin: 0 0.4em 0.5em 0.4em;box-sizing: border-box;padding-bottom: 0.4em;background-color: white;}#sk-container-id-1 div.sk-label label {font-family: monospace;font-weight: bold;display: inline-block;line-height: 1.2em;}#sk-container-id-1 div.sk-label-container {text-align: center;}#sk-container-id-1 div.sk-container {/* jupyter's `normalize.less` sets `[hidden] { display: none; }` but bootstrap.min.css set `[hidden] { display: none !important; }` so we also need the `!important` here to be able to override the default hidden behavior on the sphinx rendered scikit-learn.org. See: https://github.com/scikit-learn/scikit-learn/issues/21755 */display: inline-block !important;position: relative;}#sk-container-id-1 div.sk-text-repr-fallback {display: none;}</style><div id=\"sk-container-id-1\" class=\"sk-top-container\"><div class=\"sk-text-repr-fallback\"><pre>RandomForestClassifier(n_estimators=15, random_state=42)</pre><b>In a Jupyter environment, please rerun this cell to show the HTML representation or trust the notebook. <br />On GitHub, the HTML representation is unable to render, please try loading this page with nbviewer.org.</b></div><div class=\"sk-container\" hidden><div class=\"sk-item\"><div class=\"sk-estimator sk-toggleable\"><input class=\"sk-toggleable__control sk-hidden--visually\" id=\"sk-estimator-id-1\" type=\"checkbox\" checked><label for=\"sk-estimator-id-1\" class=\"sk-toggleable__label sk-toggleable__label-arrow\">RandomForestClassifier</label><div class=\"sk-toggleable__content\"><pre>RandomForestClassifier(n_estimators=15, random_state=42)</pre></div></div></div></div></div>"
            ]
          },
          "metadata": {},
          "execution_count": 30
        }
      ],
      "source": [
        "rfc.fit(X_res, y_res)"
      ]
    },
    {
      "cell_type": "code",
      "execution_count": 31,
      "metadata": {
        "id": "Ybu8p6BfVyv2"
      },
      "outputs": [],
      "source": [
        "y_pred = rfc.predict(X_res)"
      ]
    },
    {
      "cell_type": "code",
      "execution_count": 32,
      "metadata": {
        "id": "_DMzGrNPkSrb"
      },
      "outputs": [],
      "source": [
        "from sklearn.metrics import accuracy_score\n",
        "from sklearn.metrics import precision_score\n",
        "from sklearn.metrics import recall_score\n",
        "from sklearn.metrics import f1_score\n",
        "from sklearn.metrics import roc_curve, auc\n",
        "accuracy = accuracy_score(y_res, y_pred)\n",
        "precision = precision_score(y_res, y_pred, average='macro')\n",
        "recall = recall_score(y_res, y_pred, average='macro')\n",
        "f1 = f1_score(y_res, y_pred, average='macro')\n"
      ]
    },
    {
      "cell_type": "markdown",
      "metadata": {
        "id": "WlRIndZNz6x8"
      },
      "source": [
        "train"
      ]
    },
    {
      "cell_type": "code",
      "execution_count": 33,
      "metadata": {
        "id": "s4arJcymli7r"
      },
      "outputs": [],
      "source": [
        "test_data = [(tuple(list(x))[1], tuple(list(x))[0])  for x in list(test_df[['SEQUENCE','ACC_ID']].values)]\n",
        "test_batch_labels, test_batch_strs, test_batch_tokens = batch_converter(test_data)\n",
        "test_batch_lens = (test_batch_tokens != alphabet.padding_idx).sum(1)\n",
        "\n",
        "# Extract per-residue representations (on CPU)\n",
        "with torch.no_grad():\n",
        "    test_results = model(test_batch_tokens, repr_layers=[33], return_contacts=False)\n",
        "test_token_representations = test_results[\"representations\"][33]"
      ]
    },
    {
      "cell_type": "code",
      "execution_count": 34,
      "metadata": {
        "id": "YCLT2JG-05oT"
      },
      "outputs": [],
      "source": [
        "\n",
        "\n",
        "\n",
        "\n",
        "# Generate per-sequence representations via averaging\n",
        "# NOTE: token 0 is always a beginning-of-sequence token, so the first residue is token 1.\n",
        "test_sequence_representations = []\n",
        "for i, tokens_len in enumerate(test_batch_lens):\n",
        "    test_sequence_representations.append(test_token_representations[i, 1 : tokens_len - 1].mean(0))\n",
        "test_labels = test_df['CLASS LABEL']\n"
      ]
    },
    {
      "cell_type": "code",
      "execution_count": 35,
      "metadata": {
        "id": "z2FoxGK61l_s"
      },
      "outputs": [],
      "source": [
        "transformed_labels =label_encoder.transform(test_labels.values.reshape(-1,1))"
      ]
    },
    {
      "cell_type": "code",
      "execution_count": 36,
      "metadata": {
        "id": "jkxnLS-Q1ocs"
      },
      "outputs": [],
      "source": [
        "x_test = [tensor.numpy() for tensor in test_sequence_representations]"
      ]
    },
    {
      "cell_type": "code",
      "execution_count": 37,
      "metadata": {
        "id": "c2hS90y231Db"
      },
      "outputs": [],
      "source": [
        "y_pred_test = rfc.predict(x_test)"
      ]
    },
    {
      "cell_type": "code",
      "execution_count": 38,
      "metadata": {
        "id": "W8XE0Zy-89E0"
      },
      "outputs": [],
      "source": [
        "def func_to_check(max_dep, n_estimators):\n",
        "  rfc = RandomForestClassifier(n_estimators=n_estimators, random_state=42, max_depth=max_dep)\n",
        "  x = [tensor.numpy() for tensor in tr_sequence_representations]\n",
        "  rfc.fit(X_res, y_res)\n",
        "  y_pred = rfc.predict(x)\n",
        "  accuracy = accuracy_score(tr_encoded_data.toarray(), y_pred)\n",
        "  precision = precision_score(tr_encoded_data.toarray(), y_pred, average='macro')\n",
        "  recall = recall_score(tr_encoded_data.toarray(), y_pred, average='macro')\n",
        "  f1 = f1_score(tr_encoded_data.toarray(), y_pred, average='macro')\n",
        "  y_pred_test = rfc.predict(x_test)\n",
        "  test_accuracy = accuracy_score(transformed_labels.toarray(), y_pred_test)\n",
        "  test_precision = precision_score(transformed_labels.toarray(), y_pred_test, average='weighted')\n",
        "  test_recall = recall_score(transformed_labels.toarray(), y_pred_test, average='weighted')\n",
        "  test_f1 = f1_score(transformed_labels.toarray(), y_pred_test, average='weighted')\n",
        "  return accuracy, precision, recall, f1 , test_accuracy, test_precision, test_recall, test_f1\n",
        "\n"
      ]
    },
    {
      "cell_type": "code",
      "execution_count": 39,
      "metadata": {
        "id": "yisDnbHB_dt8"
      },
      "outputs": [],
      "source": [
        "import numpy as np\n",
        "n_estimators_range = np.linspace(10, 200, 10).astype(int)"
      ]
    },
    {
      "cell_type": "markdown",
      "metadata": {
        "id": "IqQT_oAWWvVq"
      },
      "source": [
        "printed metrics are training accuracy, training precision, training recall, training f1 score, testing accuracy, testing precision, testing recall, testing f1 score. "
      ]
    },
    {
      "cell_type": "code",
      "source": [
        "for n_estimators in n_estimators_range:\n",
        "  for max_dep in [5, 7, 8, 10, 15, 20, 25, 30, 40]:\n",
        "  \n",
        "    #max_depth.append(max_dep)\n",
        "    #n_estimators_1.append(n_estimators)\n",
        "    #train_acc_1, train_prec_1, train_recall_1, train_f1_1, test_acc_1, test_prec_1, test_recall_1, test_f1_1 = func_to_check(max_dep, n_estimators)\n",
        "    #train_acc.append(train_acc_1)\n",
        "    #train_prec.append(train_prec_1)\n",
        "    #train_recall.append(train_recall_1)\n",
        "    #train_f1.append(train_f1_1)\n",
        "    #test_acc.append(test_acc_1)\n",
        "    #test_prec.append(test_prec_1)\n",
        "    #test_recall.append(test_recall_1)\n",
        "    #test_f1.append(test_f1_1)\n",
        "        \n",
        "\n",
        "    print(\"max depth: \", max_dep, \"n_ estimators:\", n_estimators, \"metrics:\", func_to_check(max_dep, n_estimators))"
      ],
      "metadata": {
        "colab": {
          "base_uri": "https://localhost:8080/"
        },
        "id": "kkAK5j4bd3K4",
        "outputId": "f41399d9-4bd1-42c1-f295-c6ae09463272"
      },
      "execution_count": 40,
      "outputs": [
        {
          "output_type": "stream",
          "name": "stdout",
          "text": [
            "max depth:  5 n_ estimators: 10 metrics: (0.9586206896551724, 0.9807692307692308, 0.9633699633699634, 0.9712173831762261, 0.8714285714285714, 0.910204081632653, 0.8714285714285714, 0.8788788426763111)\n",
            "max depth:  7 n_ estimators: 10 metrics: (0.9655172413793104, 1.0, 0.9600732600732601, 0.9793673965936739, 0.8428571428571429, 0.9241964285714285, 0.8428571428571429, 0.8808715851133667)\n",
            "max depth:  8 n_ estimators: 10 metrics: (0.9655172413793104, 1.0, 0.9681318681318681, 0.9836601307189543, 0.7857142857142857, 0.9041774891774891, 0.7857142857142857, 0.839639855562364)\n",
            "max depth:  10 n_ estimators: 10 metrics: (0.9724137931034482, 1.0, 0.972893772893773, 0.986164782214589, 0.7571428571428571, 0.9498214285714285, 0.7571428571428571, 0.8398870694522867)\n",
            "max depth:  15 n_ estimators: 10 metrics: (0.9724137931034482, 1.0, 0.972893772893773, 0.986164782214589, 0.7571428571428571, 0.9498214285714285, 0.7571428571428571, 0.8398870694522867)\n",
            "max depth:  20 n_ estimators: 10 metrics: (0.9724137931034482, 1.0, 0.972893772893773, 0.986164782214589, 0.7571428571428571, 0.9498214285714285, 0.7571428571428571, 0.8398870694522867)\n",
            "max depth:  25 n_ estimators: 10 metrics: (0.9724137931034482, 1.0, 0.972893772893773, 0.986164782214589, 0.7571428571428571, 0.9498214285714285, 0.7571428571428571, 0.8398870694522867)\n",
            "max depth:  30 n_ estimators: 10 metrics: (0.9724137931034482, 1.0, 0.972893772893773, 0.986164782214589, 0.7571428571428571, 0.9498214285714285, 0.7571428571428571, 0.8398870694522867)\n",
            "max depth:  40 n_ estimators: 10 metrics: (0.9724137931034482, 1.0, 0.972893772893773, 0.986164782214589, 0.7571428571428571, 0.9498214285714285, 0.7571428571428571, 0.8398870694522867)\n",
            "max depth:  5 n_ estimators: 31 metrics: (0.9862068965517241, 0.9933333333333333, 0.9904761904761905, 0.9918020787586005, 0.9142857142857143, 0.956596035543404, 0.9142857142857143, 0.9334199713330147)\n",
            "max depth:  7 n_ estimators: 31 metrics: (1.0, 1.0, 1.0, 1.0, 0.9428571428571428, 0.9868131868131869, 0.9428571428571428, 0.9634603174603176)\n",
            "max depth:  8 n_ estimators: 31 metrics: (1.0, 1.0, 1.0, 1.0, 0.9285714285714286, 0.9868131868131869, 0.9285714285714286, 0.9558088531187124)\n",
            "max depth:  10 n_ estimators: 31 metrics: (1.0, 1.0, 1.0, 1.0, 0.9285714285714286, 0.9868131868131869, 0.9285714285714286, 0.9558088531187124)\n",
            "max depth:  15 n_ estimators: 31 metrics: (1.0, 1.0, 1.0, 1.0, 0.9285714285714286, 0.9868131868131869, 0.9285714285714286, 0.9558088531187124)\n",
            "max depth:  20 n_ estimators: 31 metrics: (1.0, 1.0, 1.0, 1.0, 0.9285714285714286, 0.9868131868131869, 0.9285714285714286, 0.9558088531187124)\n",
            "max depth:  25 n_ estimators: 31 metrics: (1.0, 1.0, 1.0, 1.0, 0.9285714285714286, 0.9868131868131869, 0.9285714285714286, 0.9558088531187124)\n",
            "max depth:  30 n_ estimators: 31 metrics: (1.0, 1.0, 1.0, 1.0, 0.9285714285714286, 0.9868131868131869, 0.9285714285714286, 0.9558088531187124)\n",
            "max depth:  40 n_ estimators: 31 metrics: (1.0, 1.0, 1.0, 1.0, 0.9285714285714286, 0.9868131868131869, 0.9285714285714286, 0.9558088531187124)\n",
            "max depth:  5 n_ estimators: 52 metrics: (0.993103448275862, 1.0, 0.9952380952380953, 0.9976019184652278, 0.9285714285714286, 0.9857142857142858, 0.9285714285714286, 0.9553966581363842)\n",
            "max depth:  7 n_ estimators: 52 metrics: (1.0, 1.0, 1.0, 1.0, 0.9285714285714286, 0.9868131868131869, 0.9285714285714286, 0.9558088531187124)\n",
            "max depth:  8 n_ estimators: 52 metrics: (1.0, 1.0, 1.0, 1.0, 0.9142857142857143, 0.9710237131289763, 0.9142857142857143, 0.9408088531187124)\n",
            "max depth:  10 n_ estimators: 52 metrics: (1.0, 1.0, 1.0, 1.0, 0.9142857142857143, 0.9710237131289763, 0.9142857142857143, 0.9408088531187124)\n",
            "max depth:  15 n_ estimators: 52 metrics: (1.0, 1.0, 1.0, 1.0, 0.9142857142857143, 0.9710237131289763, 0.9142857142857143, 0.9408088531187124)\n",
            "max depth:  20 n_ estimators: 52 metrics: (1.0, 1.0, 1.0, 1.0, 0.9142857142857143, 0.9710237131289763, 0.9142857142857143, 0.9408088531187124)\n",
            "max depth:  25 n_ estimators: 52 metrics: (1.0, 1.0, 1.0, 1.0, 0.9142857142857143, 0.9710237131289763, 0.9142857142857143, 0.9408088531187124)\n",
            "max depth:  30 n_ estimators: 52 metrics: (1.0, 1.0, 1.0, 1.0, 0.9142857142857143, 0.9710237131289763, 0.9142857142857143, 0.9408088531187124)\n",
            "max depth:  40 n_ estimators: 52 metrics: (1.0, 1.0, 1.0, 1.0, 0.9142857142857143, 0.9710237131289763, 0.9142857142857143, 0.9408088531187124)\n",
            "max depth:  5 n_ estimators: 73 metrics: (1.0, 1.0, 1.0, 1.0, 0.9428571428571428, 0.9844155844155844, 0.9428571428571428, 0.9630819738810849)\n",
            "max depth:  7 n_ estimators: 73 metrics: (1.0, 1.0, 1.0, 1.0, 0.9428571428571428, 0.9868131868131869, 0.9428571428571428, 0.9634603174603176)\n",
            "max depth:  8 n_ estimators: 73 metrics: (1.0, 1.0, 1.0, 1.0, 0.9285714285714286, 0.9718131868131868, 0.9285714285714286, 0.9488576336065173)\n",
            "max depth:  10 n_ estimators: 73 metrics: (1.0, 1.0, 1.0, 1.0, 0.9285714285714286, 0.9718131868131868, 0.9285714285714286, 0.9488576336065173)\n",
            "max depth:  15 n_ estimators: 73 metrics: (1.0, 1.0, 1.0, 1.0, 0.9285714285714286, 0.9718131868131868, 0.9285714285714286, 0.9488576336065173)\n",
            "max depth:  20 n_ estimators: 73 metrics: (1.0, 1.0, 1.0, 1.0, 0.9285714285714286, 0.9718131868131868, 0.9285714285714286, 0.9488576336065173)\n",
            "max depth:  25 n_ estimators: 73 metrics: (1.0, 1.0, 1.0, 1.0, 0.9285714285714286, 0.9718131868131868, 0.9285714285714286, 0.9488576336065173)\n",
            "max depth:  30 n_ estimators: 73 metrics: (1.0, 1.0, 1.0, 1.0, 0.9285714285714286, 0.9718131868131868, 0.9285714285714286, 0.9488576336065173)\n",
            "max depth:  40 n_ estimators: 73 metrics: (1.0, 1.0, 1.0, 1.0, 0.9285714285714286, 0.9718131868131868, 0.9285714285714286, 0.9488576336065173)\n",
            "max depth:  5 n_ estimators: 94 metrics: (0.993103448275862, 1.0, 0.9952380952380953, 0.9976019184652278, 0.9571428571428572, 0.9857142857142858, 0.9571428571428572, 0.9711565080425755)\n",
            "max depth:  7 n_ estimators: 94 metrics: (1.0, 1.0, 1.0, 1.0, 0.9285714285714286, 0.9868131868131869, 0.9285714285714286, 0.9558088531187124)\n",
            "max depth:  8 n_ estimators: 94 metrics: (1.0, 1.0, 1.0, 1.0, 0.9142857142857143, 0.9718131868131868, 0.9142857142857143, 0.940987555998009)\n",
            "max depth:  10 n_ estimators: 94 metrics: (1.0, 1.0, 1.0, 1.0, 0.9, 0.9868131868131869, 0.9, 0.939861852433281)\n",
            "max depth:  15 n_ estimators: 94 metrics: (1.0, 1.0, 1.0, 1.0, 0.9142857142857143, 0.9868131868131869, 0.9142857142857143, 0.9479387755102042)\n",
            "max depth:  20 n_ estimators: 94 metrics: (1.0, 1.0, 1.0, 1.0, 0.9142857142857143, 0.9868131868131869, 0.9142857142857143, 0.9479387755102042)\n",
            "max depth:  25 n_ estimators: 94 metrics: (1.0, 1.0, 1.0, 1.0, 0.9142857142857143, 0.9868131868131869, 0.9142857142857143, 0.9479387755102042)\n",
            "max depth:  30 n_ estimators: 94 metrics: (1.0, 1.0, 1.0, 1.0, 0.9142857142857143, 0.9868131868131869, 0.9142857142857143, 0.9479387755102042)\n",
            "max depth:  40 n_ estimators: 94 metrics: (1.0, 1.0, 1.0, 1.0, 0.9142857142857143, 0.9868131868131869, 0.9142857142857143, 0.9479387755102042)\n",
            "max depth:  5 n_ estimators: 115 metrics: (1.0, 1.0, 1.0, 1.0, 0.9428571428571428, 0.9868131868131869, 0.9428571428571428, 0.9628252295649555)\n",
            "max depth:  7 n_ estimators: 115 metrics: (1.0, 1.0, 1.0, 1.0, 0.9285714285714286, 0.9718131868131868, 0.9285714285714286, 0.9488576336065173)\n",
            "max depth:  8 n_ estimators: 115 metrics: (1.0, 1.0, 1.0, 1.0, 0.9285714285714286, 0.9718131868131868, 0.9285714285714286, 0.9488576336065173)\n",
            "max depth:  10 n_ estimators: 115 metrics: (1.0, 1.0, 1.0, 1.0, 0.9285714285714286, 0.9718131868131868, 0.9285714285714286, 0.9488576336065173)\n",
            "max depth:  15 n_ estimators: 115 metrics: (1.0, 1.0, 1.0, 1.0, 0.9285714285714286, 0.9718131868131868, 0.9285714285714286, 0.9488576336065173)\n",
            "max depth:  20 n_ estimators: 115 metrics: (1.0, 1.0, 1.0, 1.0, 0.9285714285714286, 0.9718131868131868, 0.9285714285714286, 0.9488576336065173)\n",
            "max depth:  25 n_ estimators: 115 metrics: (1.0, 1.0, 1.0, 1.0, 0.9285714285714286, 0.9718131868131868, 0.9285714285714286, 0.9488576336065173)\n",
            "max depth:  30 n_ estimators: 115 metrics: (1.0, 1.0, 1.0, 1.0, 0.9285714285714286, 0.9718131868131868, 0.9285714285714286, 0.9488576336065173)\n",
            "max depth:  40 n_ estimators: 115 metrics: (1.0, 1.0, 1.0, 1.0, 0.9285714285714286, 0.9718131868131868, 0.9285714285714286, 0.9488576336065173)\n",
            "max depth:  5 n_ estimators: 136 metrics: (1.0, 1.0, 1.0, 1.0, 0.9714285714285714, 0.9868131868131869, 0.9714285714285714, 0.978585079471147)\n",
            "max depth:  7 n_ estimators: 136 metrics: (1.0, 1.0, 1.0, 1.0, 0.9428571428571428, 0.9718131868131868, 0.9428571428571428, 0.9565090979481222)\n",
            "max depth:  8 n_ estimators: 136 metrics: (1.0, 1.0, 1.0, 1.0, 0.9285714285714286, 0.9718131868131868, 0.9285714285714286, 0.9488576336065173)\n",
            "max depth:  10 n_ estimators: 136 metrics: (1.0, 1.0, 1.0, 1.0, 0.9142857142857143, 0.9718131868131868, 0.9142857142857143, 0.940987555998009)\n",
            "max depth:  15 n_ estimators: 136 metrics: (1.0, 1.0, 1.0, 1.0, 0.9142857142857143, 0.9718131868131868, 0.9142857142857143, 0.940987555998009)\n",
            "max depth:  20 n_ estimators: 136 metrics: (1.0, 1.0, 1.0, 1.0, 0.9142857142857143, 0.9718131868131868, 0.9142857142857143, 0.940987555998009)\n",
            "max depth:  25 n_ estimators: 136 metrics: (1.0, 1.0, 1.0, 1.0, 0.9142857142857143, 0.9718131868131868, 0.9142857142857143, 0.940987555998009)\n",
            "max depth:  30 n_ estimators: 136 metrics: (1.0, 1.0, 1.0, 1.0, 0.9142857142857143, 0.9718131868131868, 0.9142857142857143, 0.940987555998009)\n",
            "max depth:  40 n_ estimators: 136 metrics: (1.0, 1.0, 1.0, 1.0, 0.9142857142857143, 0.9718131868131868, 0.9142857142857143, 0.940987555998009)\n",
            "max depth:  5 n_ estimators: 157 metrics: (1.0, 1.0, 1.0, 1.0, 0.9714285714285714, 0.9868131868131869, 0.9714285714285714, 0.978585079471147)\n",
            "max depth:  7 n_ estimators: 157 metrics: (1.0, 1.0, 1.0, 1.0, 0.9428571428571428, 0.9868131868131869, 0.9428571428571428, 0.9634603174603176)\n",
            "max depth:  8 n_ estimators: 157 metrics: (1.0, 1.0, 1.0, 1.0, 0.9285714285714286, 0.9718131868131868, 0.9285714285714286, 0.9488576336065173)\n",
            "max depth:  10 n_ estimators: 157 metrics: (1.0, 1.0, 1.0, 1.0, 0.9285714285714286, 0.9718131868131868, 0.9285714285714286, 0.9488576336065173)\n",
            "max depth:  15 n_ estimators: 157 metrics: (1.0, 1.0, 1.0, 1.0, 0.9285714285714286, 0.9718131868131868, 0.9285714285714286, 0.9488576336065173)\n",
            "max depth:  20 n_ estimators: 157 metrics: (1.0, 1.0, 1.0, 1.0, 0.9285714285714286, 0.9718131868131868, 0.9285714285714286, 0.9488576336065173)\n",
            "max depth:  25 n_ estimators: 157 metrics: (1.0, 1.0, 1.0, 1.0, 0.9285714285714286, 0.9718131868131868, 0.9285714285714286, 0.9488576336065173)\n",
            "max depth:  30 n_ estimators: 157 metrics: (1.0, 1.0, 1.0, 1.0, 0.9285714285714286, 0.9718131868131868, 0.9285714285714286, 0.9488576336065173)\n",
            "max depth:  40 n_ estimators: 157 metrics: (1.0, 1.0, 1.0, 1.0, 0.9285714285714286, 0.9718131868131868, 0.9285714285714286, 0.9488576336065173)\n",
            "max depth:  5 n_ estimators: 178 metrics: (1.0, 1.0, 1.0, 1.0, 0.9714285714285714, 0.9868131868131869, 0.9714285714285714, 0.978585079471147)\n",
            "max depth:  7 n_ estimators: 178 metrics: (1.0, 1.0, 1.0, 1.0, 0.9428571428571428, 0.9868131868131869, 0.9428571428571428, 0.9634603174603176)\n",
            "max depth:  8 n_ estimators: 178 metrics: (1.0, 1.0, 1.0, 1.0, 0.9428571428571428, 0.9718131868131868, 0.9428571428571428, 0.9565090979481222)\n",
            "max depth:  10 n_ estimators: 178 metrics: (1.0, 1.0, 1.0, 1.0, 0.9142857142857143, 0.9718131868131868, 0.9142857142857143, 0.940987555998009)\n",
            "max depth:  15 n_ estimators: 178 metrics: (1.0, 1.0, 1.0, 1.0, 0.9142857142857143, 0.9718131868131868, 0.9142857142857143, 0.940987555998009)\n",
            "max depth:  20 n_ estimators: 178 metrics: (1.0, 1.0, 1.0, 1.0, 0.9142857142857143, 0.9718131868131868, 0.9142857142857143, 0.940987555998009)\n",
            "max depth:  25 n_ estimators: 178 metrics: (1.0, 1.0, 1.0, 1.0, 0.9142857142857143, 0.9718131868131868, 0.9142857142857143, 0.940987555998009)\n",
            "max depth:  30 n_ estimators: 178 metrics: (1.0, 1.0, 1.0, 1.0, 0.9142857142857143, 0.9718131868131868, 0.9142857142857143, 0.940987555998009)\n",
            "max depth:  40 n_ estimators: 178 metrics: (1.0, 1.0, 1.0, 1.0, 0.9142857142857143, 0.9718131868131868, 0.9142857142857143, 0.940987555998009)\n",
            "max depth:  5 n_ estimators: 200 metrics: (1.0, 1.0, 1.0, 1.0, 0.9714285714285714, 0.9868131868131869, 0.9714285714285714, 0.978585079471147)\n",
            "max depth:  7 n_ estimators: 200 metrics: (1.0, 1.0, 1.0, 1.0, 0.9428571428571428, 0.9868131868131869, 0.9428571428571428, 0.9634603174603176)\n",
            "max depth:  8 n_ estimators: 200 metrics: (1.0, 1.0, 1.0, 1.0, 0.9571428571428572, 0.9725274725274726, 0.9571428571428572, 0.9641746031746032)\n",
            "max depth:  10 n_ estimators: 200 metrics: (1.0, 1.0, 1.0, 1.0, 0.9285714285714286, 0.9725274725274726, 0.9285714285714286, 0.9486530612244898)\n",
            "max depth:  15 n_ estimators: 200 metrics: (1.0, 1.0, 1.0, 1.0, 0.9285714285714286, 0.9725274725274726, 0.9285714285714286, 0.9486530612244898)\n",
            "max depth:  20 n_ estimators: 200 metrics: (1.0, 1.0, 1.0, 1.0, 0.9285714285714286, 0.9725274725274726, 0.9285714285714286, 0.9486530612244898)\n",
            "max depth:  25 n_ estimators: 200 metrics: (1.0, 1.0, 1.0, 1.0, 0.9285714285714286, 0.9725274725274726, 0.9285714285714286, 0.9486530612244898)\n",
            "max depth:  30 n_ estimators: 200 metrics: (1.0, 1.0, 1.0, 1.0, 0.9285714285714286, 0.9725274725274726, 0.9285714285714286, 0.9486530612244898)\n",
            "max depth:  40 n_ estimators: 200 metrics: (1.0, 1.0, 1.0, 1.0, 0.9285714285714286, 0.9725274725274726, 0.9285714285714286, 0.9486530612244898)\n"
          ]
        }
      ]
    },
    {
      "cell_type": "markdown",
      "metadata": {
        "id": "ZEC4n8x6XPrs"
      },
      "source": [
        "Seems like one of the best parameters and metrics are: \n",
        "\n",
        "\n",
        "max depth:  5 n_ estimators: 136 metrics: (1.0, 1.0, 1.0, 1.0, 0.9714285714285714, 0.9868131868131869, 0.9714285714285714, 0.978585079471147)\n",
        "\n"
      ]
    },
    {
      "cell_type": "code",
      "source": [],
      "metadata": {
        "id": "L8_FZX3qVliw"
      },
      "execution_count": null,
      "outputs": []
    }
  ],
  "metadata": {
    "accelerator": "GPU",
    "colab": {
      "machine_shape": "hm",
      "provenance": []
    },
    "gpuClass": "premium",
    "kernelspec": {
      "display_name": "Python 3",
      "name": "python3"
    },
    "language_info": {
      "name": "python"
    }
  },
  "nbformat": 4,
  "nbformat_minor": 0
}