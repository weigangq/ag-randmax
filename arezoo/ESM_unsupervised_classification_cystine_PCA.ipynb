{
  "cells": [
    {
      "cell_type": "code",
      "execution_count": 1,
      "metadata": {
        "colab": {
          "base_uri": "https://localhost:8080/"
        },
        "id": "oPvA6-bTmIUK",
        "outputId": "42533e1c-d095-4e74-e2f2-38f87f70dc8e"
      },
      "outputs": [
        {
          "name": "stderr",
          "output_type": "stream",
          "text": [
            "/Users/arezoobybordi/miniforge3/envs/ninen/lib/python3.8/site-packages/tqdm/auto.py:21: TqdmWarning: IProgress not found. Please update jupyter and ipywidgets. See https://ipywidgets.readthedocs.io/en/stable/user_install.html\n",
            "  from .autonotebook import tqdm as notebook_tqdm\n"
          ]
        },
        {
          "data": {
            "text/plain": [
              "ESM2(\n",
              "  (embed_tokens): Embedding(33, 1280, padding_idx=1)\n",
              "  (layers): ModuleList(\n",
              "    (0): TransformerLayer(\n",
              "      (self_attn): MultiheadAttention(\n",
              "        (k_proj): Linear(in_features=1280, out_features=1280, bias=True)\n",
              "        (v_proj): Linear(in_features=1280, out_features=1280, bias=True)\n",
              "        (q_proj): Linear(in_features=1280, out_features=1280, bias=True)\n",
              "        (out_proj): Linear(in_features=1280, out_features=1280, bias=True)\n",
              "        (rot_emb): RotaryEmbedding()\n",
              "      )\n",
              "      (self_attn_layer_norm): LayerNorm((1280,), eps=1e-05, elementwise_affine=True)\n",
              "      (fc1): Linear(in_features=1280, out_features=5120, bias=True)\n",
              "      (fc2): Linear(in_features=5120, out_features=1280, bias=True)\n",
              "      (final_layer_norm): LayerNorm((1280,), eps=1e-05, elementwise_affine=True)\n",
              "    )\n",
              "    (1): TransformerLayer(\n",
              "      (self_attn): MultiheadAttention(\n",
              "        (k_proj): Linear(in_features=1280, out_features=1280, bias=True)\n",
              "        (v_proj): Linear(in_features=1280, out_features=1280, bias=True)\n",
              "        (q_proj): Linear(in_features=1280, out_features=1280, bias=True)\n",
              "        (out_proj): Linear(in_features=1280, out_features=1280, bias=True)\n",
              "        (rot_emb): RotaryEmbedding()\n",
              "      )\n",
              "      (self_attn_layer_norm): LayerNorm((1280,), eps=1e-05, elementwise_affine=True)\n",
              "      (fc1): Linear(in_features=1280, out_features=5120, bias=True)\n",
              "      (fc2): Linear(in_features=5120, out_features=1280, bias=True)\n",
              "      (final_layer_norm): LayerNorm((1280,), eps=1e-05, elementwise_affine=True)\n",
              "    )\n",
              "    (2): TransformerLayer(\n",
              "      (self_attn): MultiheadAttention(\n",
              "        (k_proj): Linear(in_features=1280, out_features=1280, bias=True)\n",
              "        (v_proj): Linear(in_features=1280, out_features=1280, bias=True)\n",
              "        (q_proj): Linear(in_features=1280, out_features=1280, bias=True)\n",
              "        (out_proj): Linear(in_features=1280, out_features=1280, bias=True)\n",
              "        (rot_emb): RotaryEmbedding()\n",
              "      )\n",
              "      (self_attn_layer_norm): LayerNorm((1280,), eps=1e-05, elementwise_affine=True)\n",
              "      (fc1): Linear(in_features=1280, out_features=5120, bias=True)\n",
              "      (fc2): Linear(in_features=5120, out_features=1280, bias=True)\n",
              "      (final_layer_norm): LayerNorm((1280,), eps=1e-05, elementwise_affine=True)\n",
              "    )\n",
              "    (3): TransformerLayer(\n",
              "      (self_attn): MultiheadAttention(\n",
              "        (k_proj): Linear(in_features=1280, out_features=1280, bias=True)\n",
              "        (v_proj): Linear(in_features=1280, out_features=1280, bias=True)\n",
              "        (q_proj): Linear(in_features=1280, out_features=1280, bias=True)\n",
              "        (out_proj): Linear(in_features=1280, out_features=1280, bias=True)\n",
              "        (rot_emb): RotaryEmbedding()\n",
              "      )\n",
              "      (self_attn_layer_norm): LayerNorm((1280,), eps=1e-05, elementwise_affine=True)\n",
              "      (fc1): Linear(in_features=1280, out_features=5120, bias=True)\n",
              "      (fc2): Linear(in_features=5120, out_features=1280, bias=True)\n",
              "      (final_layer_norm): LayerNorm((1280,), eps=1e-05, elementwise_affine=True)\n",
              "    )\n",
              "    (4): TransformerLayer(\n",
              "      (self_attn): MultiheadAttention(\n",
              "        (k_proj): Linear(in_features=1280, out_features=1280, bias=True)\n",
              "        (v_proj): Linear(in_features=1280, out_features=1280, bias=True)\n",
              "        (q_proj): Linear(in_features=1280, out_features=1280, bias=True)\n",
              "        (out_proj): Linear(in_features=1280, out_features=1280, bias=True)\n",
              "        (rot_emb): RotaryEmbedding()\n",
              "      )\n",
              "      (self_attn_layer_norm): LayerNorm((1280,), eps=1e-05, elementwise_affine=True)\n",
              "      (fc1): Linear(in_features=1280, out_features=5120, bias=True)\n",
              "      (fc2): Linear(in_features=5120, out_features=1280, bias=True)\n",
              "      (final_layer_norm): LayerNorm((1280,), eps=1e-05, elementwise_affine=True)\n",
              "    )\n",
              "    (5): TransformerLayer(\n",
              "      (self_attn): MultiheadAttention(\n",
              "        (k_proj): Linear(in_features=1280, out_features=1280, bias=True)\n",
              "        (v_proj): Linear(in_features=1280, out_features=1280, bias=True)\n",
              "        (q_proj): Linear(in_features=1280, out_features=1280, bias=True)\n",
              "        (out_proj): Linear(in_features=1280, out_features=1280, bias=True)\n",
              "        (rot_emb): RotaryEmbedding()\n",
              "      )\n",
              "      (self_attn_layer_norm): LayerNorm((1280,), eps=1e-05, elementwise_affine=True)\n",
              "      (fc1): Linear(in_features=1280, out_features=5120, bias=True)\n",
              "      (fc2): Linear(in_features=5120, out_features=1280, bias=True)\n",
              "      (final_layer_norm): LayerNorm((1280,), eps=1e-05, elementwise_affine=True)\n",
              "    )\n",
              "    (6): TransformerLayer(\n",
              "      (self_attn): MultiheadAttention(\n",
              "        (k_proj): Linear(in_features=1280, out_features=1280, bias=True)\n",
              "        (v_proj): Linear(in_features=1280, out_features=1280, bias=True)\n",
              "        (q_proj): Linear(in_features=1280, out_features=1280, bias=True)\n",
              "        (out_proj): Linear(in_features=1280, out_features=1280, bias=True)\n",
              "        (rot_emb): RotaryEmbedding()\n",
              "      )\n",
              "      (self_attn_layer_norm): LayerNorm((1280,), eps=1e-05, elementwise_affine=True)\n",
              "      (fc1): Linear(in_features=1280, out_features=5120, bias=True)\n",
              "      (fc2): Linear(in_features=5120, out_features=1280, bias=True)\n",
              "      (final_layer_norm): LayerNorm((1280,), eps=1e-05, elementwise_affine=True)\n",
              "    )\n",
              "    (7): TransformerLayer(\n",
              "      (self_attn): MultiheadAttention(\n",
              "        (k_proj): Linear(in_features=1280, out_features=1280, bias=True)\n",
              "        (v_proj): Linear(in_features=1280, out_features=1280, bias=True)\n",
              "        (q_proj): Linear(in_features=1280, out_features=1280, bias=True)\n",
              "        (out_proj): Linear(in_features=1280, out_features=1280, bias=True)\n",
              "        (rot_emb): RotaryEmbedding()\n",
              "      )\n",
              "      (self_attn_layer_norm): LayerNorm((1280,), eps=1e-05, elementwise_affine=True)\n",
              "      (fc1): Linear(in_features=1280, out_features=5120, bias=True)\n",
              "      (fc2): Linear(in_features=5120, out_features=1280, bias=True)\n",
              "      (final_layer_norm): LayerNorm((1280,), eps=1e-05, elementwise_affine=True)\n",
              "    )\n",
              "    (8): TransformerLayer(\n",
              "      (self_attn): MultiheadAttention(\n",
              "        (k_proj): Linear(in_features=1280, out_features=1280, bias=True)\n",
              "        (v_proj): Linear(in_features=1280, out_features=1280, bias=True)\n",
              "        (q_proj): Linear(in_features=1280, out_features=1280, bias=True)\n",
              "        (out_proj): Linear(in_features=1280, out_features=1280, bias=True)\n",
              "        (rot_emb): RotaryEmbedding()\n",
              "      )\n",
              "      (self_attn_layer_norm): LayerNorm((1280,), eps=1e-05, elementwise_affine=True)\n",
              "      (fc1): Linear(in_features=1280, out_features=5120, bias=True)\n",
              "      (fc2): Linear(in_features=5120, out_features=1280, bias=True)\n",
              "      (final_layer_norm): LayerNorm((1280,), eps=1e-05, elementwise_affine=True)\n",
              "    )\n",
              "    (9): TransformerLayer(\n",
              "      (self_attn): MultiheadAttention(\n",
              "        (k_proj): Linear(in_features=1280, out_features=1280, bias=True)\n",
              "        (v_proj): Linear(in_features=1280, out_features=1280, bias=True)\n",
              "        (q_proj): Linear(in_features=1280, out_features=1280, bias=True)\n",
              "        (out_proj): Linear(in_features=1280, out_features=1280, bias=True)\n",
              "        (rot_emb): RotaryEmbedding()\n",
              "      )\n",
              "      (self_attn_layer_norm): LayerNorm((1280,), eps=1e-05, elementwise_affine=True)\n",
              "      (fc1): Linear(in_features=1280, out_features=5120, bias=True)\n",
              "      (fc2): Linear(in_features=5120, out_features=1280, bias=True)\n",
              "      (final_layer_norm): LayerNorm((1280,), eps=1e-05, elementwise_affine=True)\n",
              "    )\n",
              "    (10): TransformerLayer(\n",
              "      (self_attn): MultiheadAttention(\n",
              "        (k_proj): Linear(in_features=1280, out_features=1280, bias=True)\n",
              "        (v_proj): Linear(in_features=1280, out_features=1280, bias=True)\n",
              "        (q_proj): Linear(in_features=1280, out_features=1280, bias=True)\n",
              "        (out_proj): Linear(in_features=1280, out_features=1280, bias=True)\n",
              "        (rot_emb): RotaryEmbedding()\n",
              "      )\n",
              "      (self_attn_layer_norm): LayerNorm((1280,), eps=1e-05, elementwise_affine=True)\n",
              "      (fc1): Linear(in_features=1280, out_features=5120, bias=True)\n",
              "      (fc2): Linear(in_features=5120, out_features=1280, bias=True)\n",
              "      (final_layer_norm): LayerNorm((1280,), eps=1e-05, elementwise_affine=True)\n",
              "    )\n",
              "    (11): TransformerLayer(\n",
              "      (self_attn): MultiheadAttention(\n",
              "        (k_proj): Linear(in_features=1280, out_features=1280, bias=True)\n",
              "        (v_proj): Linear(in_features=1280, out_features=1280, bias=True)\n",
              "        (q_proj): Linear(in_features=1280, out_features=1280, bias=True)\n",
              "        (out_proj): Linear(in_features=1280, out_features=1280, bias=True)\n",
              "        (rot_emb): RotaryEmbedding()\n",
              "      )\n",
              "      (self_attn_layer_norm): LayerNorm((1280,), eps=1e-05, elementwise_affine=True)\n",
              "      (fc1): Linear(in_features=1280, out_features=5120, bias=True)\n",
              "      (fc2): Linear(in_features=5120, out_features=1280, bias=True)\n",
              "      (final_layer_norm): LayerNorm((1280,), eps=1e-05, elementwise_affine=True)\n",
              "    )\n",
              "    (12): TransformerLayer(\n",
              "      (self_attn): MultiheadAttention(\n",
              "        (k_proj): Linear(in_features=1280, out_features=1280, bias=True)\n",
              "        (v_proj): Linear(in_features=1280, out_features=1280, bias=True)\n",
              "        (q_proj): Linear(in_features=1280, out_features=1280, bias=True)\n",
              "        (out_proj): Linear(in_features=1280, out_features=1280, bias=True)\n",
              "        (rot_emb): RotaryEmbedding()\n",
              "      )\n",
              "      (self_attn_layer_norm): LayerNorm((1280,), eps=1e-05, elementwise_affine=True)\n",
              "      (fc1): Linear(in_features=1280, out_features=5120, bias=True)\n",
              "      (fc2): Linear(in_features=5120, out_features=1280, bias=True)\n",
              "      (final_layer_norm): LayerNorm((1280,), eps=1e-05, elementwise_affine=True)\n",
              "    )\n",
              "    (13): TransformerLayer(\n",
              "      (self_attn): MultiheadAttention(\n",
              "        (k_proj): Linear(in_features=1280, out_features=1280, bias=True)\n",
              "        (v_proj): Linear(in_features=1280, out_features=1280, bias=True)\n",
              "        (q_proj): Linear(in_features=1280, out_features=1280, bias=True)\n",
              "        (out_proj): Linear(in_features=1280, out_features=1280, bias=True)\n",
              "        (rot_emb): RotaryEmbedding()\n",
              "      )\n",
              "      (self_attn_layer_norm): LayerNorm((1280,), eps=1e-05, elementwise_affine=True)\n",
              "      (fc1): Linear(in_features=1280, out_features=5120, bias=True)\n",
              "      (fc2): Linear(in_features=5120, out_features=1280, bias=True)\n",
              "      (final_layer_norm): LayerNorm((1280,), eps=1e-05, elementwise_affine=True)\n",
              "    )\n",
              "    (14): TransformerLayer(\n",
              "      (self_attn): MultiheadAttention(\n",
              "        (k_proj): Linear(in_features=1280, out_features=1280, bias=True)\n",
              "        (v_proj): Linear(in_features=1280, out_features=1280, bias=True)\n",
              "        (q_proj): Linear(in_features=1280, out_features=1280, bias=True)\n",
              "        (out_proj): Linear(in_features=1280, out_features=1280, bias=True)\n",
              "        (rot_emb): RotaryEmbedding()\n",
              "      )\n",
              "      (self_attn_layer_norm): LayerNorm((1280,), eps=1e-05, elementwise_affine=True)\n",
              "      (fc1): Linear(in_features=1280, out_features=5120, bias=True)\n",
              "      (fc2): Linear(in_features=5120, out_features=1280, bias=True)\n",
              "      (final_layer_norm): LayerNorm((1280,), eps=1e-05, elementwise_affine=True)\n",
              "    )\n",
              "    (15): TransformerLayer(\n",
              "      (self_attn): MultiheadAttention(\n",
              "        (k_proj): Linear(in_features=1280, out_features=1280, bias=True)\n",
              "        (v_proj): Linear(in_features=1280, out_features=1280, bias=True)\n",
              "        (q_proj): Linear(in_features=1280, out_features=1280, bias=True)\n",
              "        (out_proj): Linear(in_features=1280, out_features=1280, bias=True)\n",
              "        (rot_emb): RotaryEmbedding()\n",
              "      )\n",
              "      (self_attn_layer_norm): LayerNorm((1280,), eps=1e-05, elementwise_affine=True)\n",
              "      (fc1): Linear(in_features=1280, out_features=5120, bias=True)\n",
              "      (fc2): Linear(in_features=5120, out_features=1280, bias=True)\n",
              "      (final_layer_norm): LayerNorm((1280,), eps=1e-05, elementwise_affine=True)\n",
              "    )\n",
              "    (16): TransformerLayer(\n",
              "      (self_attn): MultiheadAttention(\n",
              "        (k_proj): Linear(in_features=1280, out_features=1280, bias=True)\n",
              "        (v_proj): Linear(in_features=1280, out_features=1280, bias=True)\n",
              "        (q_proj): Linear(in_features=1280, out_features=1280, bias=True)\n",
              "        (out_proj): Linear(in_features=1280, out_features=1280, bias=True)\n",
              "        (rot_emb): RotaryEmbedding()\n",
              "      )\n",
              "      (self_attn_layer_norm): LayerNorm((1280,), eps=1e-05, elementwise_affine=True)\n",
              "      (fc1): Linear(in_features=1280, out_features=5120, bias=True)\n",
              "      (fc2): Linear(in_features=5120, out_features=1280, bias=True)\n",
              "      (final_layer_norm): LayerNorm((1280,), eps=1e-05, elementwise_affine=True)\n",
              "    )\n",
              "    (17): TransformerLayer(\n",
              "      (self_attn): MultiheadAttention(\n",
              "        (k_proj): Linear(in_features=1280, out_features=1280, bias=True)\n",
              "        (v_proj): Linear(in_features=1280, out_features=1280, bias=True)\n",
              "        (q_proj): Linear(in_features=1280, out_features=1280, bias=True)\n",
              "        (out_proj): Linear(in_features=1280, out_features=1280, bias=True)\n",
              "        (rot_emb): RotaryEmbedding()\n",
              "      )\n",
              "      (self_attn_layer_norm): LayerNorm((1280,), eps=1e-05, elementwise_affine=True)\n",
              "      (fc1): Linear(in_features=1280, out_features=5120, bias=True)\n",
              "      (fc2): Linear(in_features=5120, out_features=1280, bias=True)\n",
              "      (final_layer_norm): LayerNorm((1280,), eps=1e-05, elementwise_affine=True)\n",
              "    )\n",
              "    (18): TransformerLayer(\n",
              "      (self_attn): MultiheadAttention(\n",
              "        (k_proj): Linear(in_features=1280, out_features=1280, bias=True)\n",
              "        (v_proj): Linear(in_features=1280, out_features=1280, bias=True)\n",
              "        (q_proj): Linear(in_features=1280, out_features=1280, bias=True)\n",
              "        (out_proj): Linear(in_features=1280, out_features=1280, bias=True)\n",
              "        (rot_emb): RotaryEmbedding()\n",
              "      )\n",
              "      (self_attn_layer_norm): LayerNorm((1280,), eps=1e-05, elementwise_affine=True)\n",
              "      (fc1): Linear(in_features=1280, out_features=5120, bias=True)\n",
              "      (fc2): Linear(in_features=5120, out_features=1280, bias=True)\n",
              "      (final_layer_norm): LayerNorm((1280,), eps=1e-05, elementwise_affine=True)\n",
              "    )\n",
              "    (19): TransformerLayer(\n",
              "      (self_attn): MultiheadAttention(\n",
              "        (k_proj): Linear(in_features=1280, out_features=1280, bias=True)\n",
              "        (v_proj): Linear(in_features=1280, out_features=1280, bias=True)\n",
              "        (q_proj): Linear(in_features=1280, out_features=1280, bias=True)\n",
              "        (out_proj): Linear(in_features=1280, out_features=1280, bias=True)\n",
              "        (rot_emb): RotaryEmbedding()\n",
              "      )\n",
              "      (self_attn_layer_norm): LayerNorm((1280,), eps=1e-05, elementwise_affine=True)\n",
              "      (fc1): Linear(in_features=1280, out_features=5120, bias=True)\n",
              "      (fc2): Linear(in_features=5120, out_features=1280, bias=True)\n",
              "      (final_layer_norm): LayerNorm((1280,), eps=1e-05, elementwise_affine=True)\n",
              "    )\n",
              "    (20): TransformerLayer(\n",
              "      (self_attn): MultiheadAttention(\n",
              "        (k_proj): Linear(in_features=1280, out_features=1280, bias=True)\n",
              "        (v_proj): Linear(in_features=1280, out_features=1280, bias=True)\n",
              "        (q_proj): Linear(in_features=1280, out_features=1280, bias=True)\n",
              "        (out_proj): Linear(in_features=1280, out_features=1280, bias=True)\n",
              "        (rot_emb): RotaryEmbedding()\n",
              "      )\n",
              "      (self_attn_layer_norm): LayerNorm((1280,), eps=1e-05, elementwise_affine=True)\n",
              "      (fc1): Linear(in_features=1280, out_features=5120, bias=True)\n",
              "      (fc2): Linear(in_features=5120, out_features=1280, bias=True)\n",
              "      (final_layer_norm): LayerNorm((1280,), eps=1e-05, elementwise_affine=True)\n",
              "    )\n",
              "    (21): TransformerLayer(\n",
              "      (self_attn): MultiheadAttention(\n",
              "        (k_proj): Linear(in_features=1280, out_features=1280, bias=True)\n",
              "        (v_proj): Linear(in_features=1280, out_features=1280, bias=True)\n",
              "        (q_proj): Linear(in_features=1280, out_features=1280, bias=True)\n",
              "        (out_proj): Linear(in_features=1280, out_features=1280, bias=True)\n",
              "        (rot_emb): RotaryEmbedding()\n",
              "      )\n",
              "      (self_attn_layer_norm): LayerNorm((1280,), eps=1e-05, elementwise_affine=True)\n",
              "      (fc1): Linear(in_features=1280, out_features=5120, bias=True)\n",
              "      (fc2): Linear(in_features=5120, out_features=1280, bias=True)\n",
              "      (final_layer_norm): LayerNorm((1280,), eps=1e-05, elementwise_affine=True)\n",
              "    )\n",
              "    (22): TransformerLayer(\n",
              "      (self_attn): MultiheadAttention(\n",
              "        (k_proj): Linear(in_features=1280, out_features=1280, bias=True)\n",
              "        (v_proj): Linear(in_features=1280, out_features=1280, bias=True)\n",
              "        (q_proj): Linear(in_features=1280, out_features=1280, bias=True)\n",
              "        (out_proj): Linear(in_features=1280, out_features=1280, bias=True)\n",
              "        (rot_emb): RotaryEmbedding()\n",
              "      )\n",
              "      (self_attn_layer_norm): LayerNorm((1280,), eps=1e-05, elementwise_affine=True)\n",
              "      (fc1): Linear(in_features=1280, out_features=5120, bias=True)\n",
              "      (fc2): Linear(in_features=5120, out_features=1280, bias=True)\n",
              "      (final_layer_norm): LayerNorm((1280,), eps=1e-05, elementwise_affine=True)\n",
              "    )\n",
              "    (23): TransformerLayer(\n",
              "      (self_attn): MultiheadAttention(\n",
              "        (k_proj): Linear(in_features=1280, out_features=1280, bias=True)\n",
              "        (v_proj): Linear(in_features=1280, out_features=1280, bias=True)\n",
              "        (q_proj): Linear(in_features=1280, out_features=1280, bias=True)\n",
              "        (out_proj): Linear(in_features=1280, out_features=1280, bias=True)\n",
              "        (rot_emb): RotaryEmbedding()\n",
              "      )\n",
              "      (self_attn_layer_norm): LayerNorm((1280,), eps=1e-05, elementwise_affine=True)\n",
              "      (fc1): Linear(in_features=1280, out_features=5120, bias=True)\n",
              "      (fc2): Linear(in_features=5120, out_features=1280, bias=True)\n",
              "      (final_layer_norm): LayerNorm((1280,), eps=1e-05, elementwise_affine=True)\n",
              "    )\n",
              "    (24): TransformerLayer(\n",
              "      (self_attn): MultiheadAttention(\n",
              "        (k_proj): Linear(in_features=1280, out_features=1280, bias=True)\n",
              "        (v_proj): Linear(in_features=1280, out_features=1280, bias=True)\n",
              "        (q_proj): Linear(in_features=1280, out_features=1280, bias=True)\n",
              "        (out_proj): Linear(in_features=1280, out_features=1280, bias=True)\n",
              "        (rot_emb): RotaryEmbedding()\n",
              "      )\n",
              "      (self_attn_layer_norm): LayerNorm((1280,), eps=1e-05, elementwise_affine=True)\n",
              "      (fc1): Linear(in_features=1280, out_features=5120, bias=True)\n",
              "      (fc2): Linear(in_features=5120, out_features=1280, bias=True)\n",
              "      (final_layer_norm): LayerNorm((1280,), eps=1e-05, elementwise_affine=True)\n",
              "    )\n",
              "    (25): TransformerLayer(\n",
              "      (self_attn): MultiheadAttention(\n",
              "        (k_proj): Linear(in_features=1280, out_features=1280, bias=True)\n",
              "        (v_proj): Linear(in_features=1280, out_features=1280, bias=True)\n",
              "        (q_proj): Linear(in_features=1280, out_features=1280, bias=True)\n",
              "        (out_proj): Linear(in_features=1280, out_features=1280, bias=True)\n",
              "        (rot_emb): RotaryEmbedding()\n",
              "      )\n",
              "      (self_attn_layer_norm): LayerNorm((1280,), eps=1e-05, elementwise_affine=True)\n",
              "      (fc1): Linear(in_features=1280, out_features=5120, bias=True)\n",
              "      (fc2): Linear(in_features=5120, out_features=1280, bias=True)\n",
              "      (final_layer_norm): LayerNorm((1280,), eps=1e-05, elementwise_affine=True)\n",
              "    )\n",
              "    (26): TransformerLayer(\n",
              "      (self_attn): MultiheadAttention(\n",
              "        (k_proj): Linear(in_features=1280, out_features=1280, bias=True)\n",
              "        (v_proj): Linear(in_features=1280, out_features=1280, bias=True)\n",
              "        (q_proj): Linear(in_features=1280, out_features=1280, bias=True)\n",
              "        (out_proj): Linear(in_features=1280, out_features=1280, bias=True)\n",
              "        (rot_emb): RotaryEmbedding()\n",
              "      )\n",
              "      (self_attn_layer_norm): LayerNorm((1280,), eps=1e-05, elementwise_affine=True)\n",
              "      (fc1): Linear(in_features=1280, out_features=5120, bias=True)\n",
              "      (fc2): Linear(in_features=5120, out_features=1280, bias=True)\n",
              "      (final_layer_norm): LayerNorm((1280,), eps=1e-05, elementwise_affine=True)\n",
              "    )\n",
              "    (27): TransformerLayer(\n",
              "      (self_attn): MultiheadAttention(\n",
              "        (k_proj): Linear(in_features=1280, out_features=1280, bias=True)\n",
              "        (v_proj): Linear(in_features=1280, out_features=1280, bias=True)\n",
              "        (q_proj): Linear(in_features=1280, out_features=1280, bias=True)\n",
              "        (out_proj): Linear(in_features=1280, out_features=1280, bias=True)\n",
              "        (rot_emb): RotaryEmbedding()\n",
              "      )\n",
              "      (self_attn_layer_norm): LayerNorm((1280,), eps=1e-05, elementwise_affine=True)\n",
              "      (fc1): Linear(in_features=1280, out_features=5120, bias=True)\n",
              "      (fc2): Linear(in_features=5120, out_features=1280, bias=True)\n",
              "      (final_layer_norm): LayerNorm((1280,), eps=1e-05, elementwise_affine=True)\n",
              "    )\n",
              "    (28): TransformerLayer(\n",
              "      (self_attn): MultiheadAttention(\n",
              "        (k_proj): Linear(in_features=1280, out_features=1280, bias=True)\n",
              "        (v_proj): Linear(in_features=1280, out_features=1280, bias=True)\n",
              "        (q_proj): Linear(in_features=1280, out_features=1280, bias=True)\n",
              "        (out_proj): Linear(in_features=1280, out_features=1280, bias=True)\n",
              "        (rot_emb): RotaryEmbedding()\n",
              "      )\n",
              "      (self_attn_layer_norm): LayerNorm((1280,), eps=1e-05, elementwise_affine=True)\n",
              "      (fc1): Linear(in_features=1280, out_features=5120, bias=True)\n",
              "      (fc2): Linear(in_features=5120, out_features=1280, bias=True)\n",
              "      (final_layer_norm): LayerNorm((1280,), eps=1e-05, elementwise_affine=True)\n",
              "    )\n",
              "    (29): TransformerLayer(\n",
              "      (self_attn): MultiheadAttention(\n",
              "        (k_proj): Linear(in_features=1280, out_features=1280, bias=True)\n",
              "        (v_proj): Linear(in_features=1280, out_features=1280, bias=True)\n",
              "        (q_proj): Linear(in_features=1280, out_features=1280, bias=True)\n",
              "        (out_proj): Linear(in_features=1280, out_features=1280, bias=True)\n",
              "        (rot_emb): RotaryEmbedding()\n",
              "      )\n",
              "      (self_attn_layer_norm): LayerNorm((1280,), eps=1e-05, elementwise_affine=True)\n",
              "      (fc1): Linear(in_features=1280, out_features=5120, bias=True)\n",
              "      (fc2): Linear(in_features=5120, out_features=1280, bias=True)\n",
              "      (final_layer_norm): LayerNorm((1280,), eps=1e-05, elementwise_affine=True)\n",
              "    )\n",
              "    (30): TransformerLayer(\n",
              "      (self_attn): MultiheadAttention(\n",
              "        (k_proj): Linear(in_features=1280, out_features=1280, bias=True)\n",
              "        (v_proj): Linear(in_features=1280, out_features=1280, bias=True)\n",
              "        (q_proj): Linear(in_features=1280, out_features=1280, bias=True)\n",
              "        (out_proj): Linear(in_features=1280, out_features=1280, bias=True)\n",
              "        (rot_emb): RotaryEmbedding()\n",
              "      )\n",
              "      (self_attn_layer_norm): LayerNorm((1280,), eps=1e-05, elementwise_affine=True)\n",
              "      (fc1): Linear(in_features=1280, out_features=5120, bias=True)\n",
              "      (fc2): Linear(in_features=5120, out_features=1280, bias=True)\n",
              "      (final_layer_norm): LayerNorm((1280,), eps=1e-05, elementwise_affine=True)\n",
              "    )\n",
              "    (31): TransformerLayer(\n",
              "      (self_attn): MultiheadAttention(\n",
              "        (k_proj): Linear(in_features=1280, out_features=1280, bias=True)\n",
              "        (v_proj): Linear(in_features=1280, out_features=1280, bias=True)\n",
              "        (q_proj): Linear(in_features=1280, out_features=1280, bias=True)\n",
              "        (out_proj): Linear(in_features=1280, out_features=1280, bias=True)\n",
              "        (rot_emb): RotaryEmbedding()\n",
              "      )\n",
              "      (self_attn_layer_norm): LayerNorm((1280,), eps=1e-05, elementwise_affine=True)\n",
              "      (fc1): Linear(in_features=1280, out_features=5120, bias=True)\n",
              "      (fc2): Linear(in_features=5120, out_features=1280, bias=True)\n",
              "      (final_layer_norm): LayerNorm((1280,), eps=1e-05, elementwise_affine=True)\n",
              "    )\n",
              "    (32): TransformerLayer(\n",
              "      (self_attn): MultiheadAttention(\n",
              "        (k_proj): Linear(in_features=1280, out_features=1280, bias=True)\n",
              "        (v_proj): Linear(in_features=1280, out_features=1280, bias=True)\n",
              "        (q_proj): Linear(in_features=1280, out_features=1280, bias=True)\n",
              "        (out_proj): Linear(in_features=1280, out_features=1280, bias=True)\n",
              "        (rot_emb): RotaryEmbedding()\n",
              "      )\n",
              "      (self_attn_layer_norm): LayerNorm((1280,), eps=1e-05, elementwise_affine=True)\n",
              "      (fc1): Linear(in_features=1280, out_features=5120, bias=True)\n",
              "      (fc2): Linear(in_features=5120, out_features=1280, bias=True)\n",
              "      (final_layer_norm): LayerNorm((1280,), eps=1e-05, elementwise_affine=True)\n",
              "    )\n",
              "  )\n",
              "  (contact_head): ContactPredictionHead(\n",
              "    (regression): Linear(in_features=660, out_features=1, bias=True)\n",
              "    (activation): Sigmoid()\n",
              "  )\n",
              "  (emb_layer_norm_after): LayerNorm((1280,), eps=1e-05, elementwise_affine=True)\n",
              "  (lm_head): RobertaLMHead(\n",
              "    (dense): Linear(in_features=1280, out_features=1280, bias=True)\n",
              "    (layer_norm): LayerNorm((1280,), eps=1e-05, elementwise_affine=True)\n",
              "  )\n",
              ")"
            ]
          },
          "execution_count": 1,
          "metadata": {},
          "output_type": "execute_result"
        }
      ],
      "source": [
        "import torch\n",
        "import esm\n",
        "\n",
        "# Load ESM-2 model\n",
        "model, alphabet = esm.pretrained.esm2_t33_650M_UR50D()\n",
        "batch_converter = alphabet.get_batch_converter()\n",
        "model.eval()  # disables dropout for deterministic results"
      ]
    },
    {
      "cell_type": "markdown",
      "metadata": {
        "id": "jIXbfSSZ6wSz"
      },
      "source": [
        "#### **Run after**"
      ]
    },
    {
      "cell_type": "code",
      "execution_count": 2,
      "metadata": {
        "id": "Ci8oHfO83oR2"
      },
      "outputs": [],
      "source": [
        "import pandas as pd\n",
        "#pd.DataFrame(terra_data, index= v1['ids']). to_csv(\"id_added_teratoxin_snekmer.csv\")"
      ]
    },
    {
      "cell_type": "code",
      "execution_count": 70,
      "metadata": {
        "id": "cWL3YWQAmceg"
      },
      "outputs": [],
      "source": [
        "train_df = pd.read_csv(\"All_Toxins_v4.csv\")"
      ]
    },
    {
      "cell_type": "code",
      "execution_count": 4,
      "metadata": {
        "id": "6XmKxzg9lqqw"
      },
      "outputs": [],
      "source": [
        "# place needs to be changed\n",
        "terra_data = train_df"
      ]
    },
    {
      "cell_type": "code",
      "execution_count": 44,
      "metadata": {
        "colab": {
          "base_uri": "https://localhost:8080/",
          "height": 348
        },
        "id": "RMIxhNNJr6OZ",
        "outputId": "85453474-9d83-40f1-d2e2-b79bdaeac814"
      },
      "outputs": [
        {
          "data": {
            "text/plain": [
              "array(['1', '11', '12', '13', '14', '15', '16', '19', '22', '33',\n",
              "       '6 and 7', '8', '9', 'novel'], dtype=object)"
            ]
          },
          "execution_count": 44,
          "metadata": {},
          "output_type": "execute_result"
        }
      ],
      "source": [
        "np.unique(train_df['Framework Confirmation'])"
      ]
    },
    {
      "cell_type": "code",
      "execution_count": 5,
      "metadata": {
        "id": "B3Mnwn9XqRHy"
      },
      "outputs": [],
      "source": [
        "train_data = [(tuple(list(x))[1], tuple(list(x))[0])  for x in list(train_df[['Mature','ToxinName']].values)]"
      ]
    },
    {
      "cell_type": "code",
      "execution_count": 6,
      "metadata": {
        "id": "GtldU1IFqTBa"
      },
      "outputs": [],
      "source": [
        "dummy_train = train_data"
      ]
    },
    {
      "cell_type": "code",
      "execution_count": 7,
      "metadata": {
        "id": "LrQRHPw7qcJI"
      },
      "outputs": [],
      "source": [
        "tr_batch_labels, tr_batch_strs, tr_batch_tokens = batch_converter(dummy_train)\n",
        "tr_batch_lens = (tr_batch_tokens != alphabet.padding_idx).sum(1)\n"
      ]
    },
    {
      "cell_type": "code",
      "execution_count": 8,
      "metadata": {
        "id": "b9W6sdo-qh0B"
      },
      "outputs": [],
      "source": [
        "# Extract per-residue representations (on CPU)\n",
        "with torch.no_grad():\n",
        "    tr_results = model(tr_batch_tokens, repr_layers=[33], return_contacts=False)"
      ]
    },
    {
      "cell_type": "code",
      "execution_count": 9,
      "metadata": {
        "id": "PQkN51D3u0s7"
      },
      "outputs": [],
      "source": [
        "tr_token_representations = tr_results[\"representations\"][33]"
      ]
    },
    {
      "cell_type": "code",
      "execution_count": 10,
      "metadata": {
        "id": "vBjYXEcJu83k"
      },
      "outputs": [],
      "source": [
        "# Generate per-sequence representations via averaging\n",
        "# NOTE: token 0 is always a beginning-of-sequence token, so the first residue is token 1.\n",
        "tr_sequence_representations = []\n",
        "for i, tokens_len in enumerate(tr_batch_lens):\n",
        "    tr_sequence_representations.append(tr_token_representations[i, 1 : tokens_len - 1].mean(0))\n"
      ]
    },
    {
      "cell_type": "code",
      "execution_count": 11,
      "metadata": {
        "id": "LFRTyd42u9iO"
      },
      "outputs": [],
      "source": [
        "x = [tensor.numpy() for tensor in tr_sequence_representations]"
      ]
    },
    {
      "cell_type": "code",
      "execution_count": 12,
      "metadata": {},
      "outputs": [],
      "source": [
        "import numpy as np"
      ]
    },
    {
      "cell_type": "code",
      "execution_count": 15,
      "metadata": {},
      "outputs": [
        {
          "data": {
            "text/plain": [
              "(1158, 1280)"
            ]
          },
          "execution_count": 15,
          "metadata": {},
          "output_type": "execute_result"
        }
      ],
      "source": [
        "np.shape(x)"
      ]
    },
    {
      "cell_type": "code",
      "execution_count": 13,
      "metadata": {},
      "outputs": [],
      "source": [
        "terra_data = x"
      ]
    },
    {
      "cell_type": "code",
      "execution_count": 20,
      "metadata": {},
      "outputs": [
        {
          "data": {
            "text/plain": [
              "list"
            ]
          },
          "execution_count": 20,
          "metadata": {},
          "output_type": "execute_result"
        }
      ],
      "source": [
        "type(terra_data)"
      ]
    },
    {
      "cell_type": "code",
      "execution_count": 14,
      "metadata": {},
      "outputs": [],
      "source": [
        "terra_data = np.array(terra_data)"
      ]
    },
    {
      "cell_type": "markdown",
      "metadata": {
        "id": "OiyKmwzd4wsA"
      },
      "source": [
        "#### **PCA:  95% variance explained.**"
      ]
    },
    {
      "cell_type": "code",
      "execution_count": 19,
      "metadata": {
        "colab": {
          "base_uri": "https://localhost:8080/"
        },
        "id": "o-baMmcY4wWZ",
        "outputId": "f17ed338-6584-4a3f-d7ed-de54a2ce49d8"
      },
      "outputs": [
        {
          "name": "stdout",
          "output_type": "stream",
          "text": [
            "Number of components needed to explain 95% variance: 64\n",
            "Components: 1, Variance explained: 0.3564\n",
            "Components: 2, Variance explained: 0.4595\n",
            "Components: 3, Variance explained: 0.5294\n",
            "Components: 4, Variance explained: 0.5717\n",
            "Components: 5, Variance explained: 0.6039\n",
            "Components: 6, Variance explained: 0.6324\n",
            "Components: 7, Variance explained: 0.6582\n",
            "Components: 8, Variance explained: 0.6812\n",
            "Components: 9, Variance explained: 0.7021\n",
            "Components: 10, Variance explained: 0.7205\n",
            "Components: 11, Variance explained: 0.7372\n",
            "Components: 12, Variance explained: 0.7511\n",
            "Components: 13, Variance explained: 0.7641\n",
            "Components: 14, Variance explained: 0.7763\n",
            "Components: 15, Variance explained: 0.7877\n",
            "Components: 16, Variance explained: 0.7982\n",
            "Components: 17, Variance explained: 0.8074\n",
            "Components: 18, Variance explained: 0.8161\n",
            "Components: 19, Variance explained: 0.8240\n",
            "Components: 20, Variance explained: 0.8316\n",
            "Components: 21, Variance explained: 0.8383\n",
            "Components: 22, Variance explained: 0.8447\n",
            "Components: 23, Variance explained: 0.8504\n",
            "Components: 24, Variance explained: 0.8561\n",
            "Components: 25, Variance explained: 0.8611\n",
            "Components: 26, Variance explained: 0.8659\n",
            "Components: 27, Variance explained: 0.8707\n",
            "Components: 28, Variance explained: 0.8751\n",
            "Components: 29, Variance explained: 0.8793\n",
            "Components: 30, Variance explained: 0.8834\n",
            "Components: 31, Variance explained: 0.8874\n",
            "Components: 32, Variance explained: 0.8910\n",
            "Components: 33, Variance explained: 0.8945\n",
            "Components: 34, Variance explained: 0.8977\n",
            "Components: 35, Variance explained: 0.9007\n",
            "Components: 36, Variance explained: 0.9036\n",
            "Components: 37, Variance explained: 0.9064\n",
            "Components: 38, Variance explained: 0.9092\n",
            "Components: 39, Variance explained: 0.9117\n",
            "Components: 40, Variance explained: 0.9141\n",
            "Components: 41, Variance explained: 0.9164\n",
            "Components: 42, Variance explained: 0.9187\n",
            "Components: 43, Variance explained: 0.9209\n",
            "Components: 44, Variance explained: 0.9229\n",
            "Components: 45, Variance explained: 0.9249\n",
            "Components: 46, Variance explained: 0.9268\n",
            "Components: 47, Variance explained: 0.9286\n",
            "Components: 48, Variance explained: 0.9303\n",
            "Components: 49, Variance explained: 0.9319\n",
            "Components: 50, Variance explained: 0.9335\n",
            "Components: 51, Variance explained: 0.9350\n",
            "Components: 52, Variance explained: 0.9365\n",
            "Components: 53, Variance explained: 0.9379\n",
            "Components: 54, Variance explained: 0.9392\n",
            "Components: 55, Variance explained: 0.9405\n",
            "Components: 56, Variance explained: 0.9418\n",
            "Components: 57, Variance explained: 0.9429\n",
            "Components: 58, Variance explained: 0.9441\n",
            "Components: 59, Variance explained: 0.9452\n",
            "Components: 60, Variance explained: 0.9463\n",
            "Components: 61, Variance explained: 0.9473\n",
            "Components: 62, Variance explained: 0.9484\n",
            "Components: 63, Variance explained: 0.9494\n",
            "Components: 64, Variance explained: 0.9504\n"
          ]
        }
      ],
      "source": [
        "import numpy as np\n",
        "from sklearn.decomposition import PCA\n",
        "\n",
        "\n",
        "# Perform PCA for different numbers of components\n",
        "n_components = range(1, terra_data.shape[0] + 1)\n",
        "variance_explained = []\n",
        "#total_variance = np.sum(np.var(reshaped_data, axis=0))\n",
        "\n",
        "for n in n_components:\n",
        "    pca = PCA(n_components=n)\n",
        "    pca.fit(terra_data)\n",
        "    variance_explained.append(np.sum(pca.explained_variance_ratio_))\n",
        "\n",
        "    # Check if 95% of total variance explained\n",
        "    if variance_explained[-1] >= 0.95:\n",
        "        print(f\"Number of components needed to explain 95% variance: {n}\")\n",
        "        break\n",
        "\n",
        "# Print the variance explained for each number of components\n",
        "for i, var in enumerate(variance_explained):\n",
        "    print(f\"Components: {i+1}, Variance explained: {var:.4f}\")"
      ]
    },
    {
      "attachments": {},
      "cell_type": "markdown",
      "metadata": {
        "id": "aa6RjeW-6Qtn"
      },
      "source": [
        "##### **Kmeans: Continue with components giving 95% explained variance, i.e. 64 PCs**"
      ]
    },
    {
      "cell_type": "code",
      "execution_count": 49,
      "metadata": {
        "id": "CHdV7JPvXb2e"
      },
      "outputs": [],
      "source": [
        "import numpy as np\n",
        "from sklearn.decomposition import PCA\n",
        "pca = PCA(n_components=64)\n",
        "#transformed_pca_data = pca.fit_transform(terra_data)"
      ]
    },
    {
      "cell_type": "code",
      "execution_count": 46,
      "metadata": {
        "colab": {
          "base_uri": "https://localhost:8080/",
          "height": 75
        },
        "id": "pKQStZafXtHG",
        "outputId": "ae99d053-3852-46a8-a1e3-e3e7ddfdbfce"
      },
      "outputs": [
        {
          "data": {
            "text/plain": [
              "PCA(n_components=64)"
            ]
          },
          "execution_count": 46,
          "metadata": {},
          "output_type": "execute_result"
        }
      ],
      "source": [
        "pca.fit(terra_data)"
      ]
    },
    {
      "cell_type": "code",
      "execution_count": 50,
      "metadata": {
        "id": "nlKSUOiaXwxz"
      },
      "outputs": [],
      "source": [
        "transformed_pca_data = pca.fit_transform(terra_data)"
      ]
    },
    {
      "attachments": {},
      "cell_type": "markdown",
      "metadata": {},
      "source": [
        "### KMeans with number of clusters 13"
      ]
    },
    {
      "cell_type": "code",
      "execution_count": 21,
      "metadata": {},
      "outputs": [],
      "source": [
        "from sklearn.cluster import KMeans\n",
        "import numpy as np\n",
        "kmeans = KMeans(n_clusters=13, random_state=42).fit(transformed_pca_data)"
      ]
    },
    {
      "cell_type": "code",
      "execution_count": 43,
      "metadata": {},
      "outputs": [],
      "source": [
        "predicted = kmeans.predict(transformed_pca_data)"
      ]
    },
    {
      "cell_type": "code",
      "execution_count": 60,
      "metadata": {},
      "outputs": [],
      "source": [
        "cystines = list(train_df['Framework Confirmation'])"
      ]
    },
    {
      "cell_type": "code",
      "execution_count": 62,
      "metadata": {},
      "outputs": [],
      "source": [
        "import seaborn as sns\n",
        "from sklearn.metrics import confusion_matrix\n",
        "# Create a DataFrame with the data\n",
        "df = pd.DataFrame({'Predicted': predicted, 'Cystines': cystines})"
      ]
    },
    {
      "cell_type": "code",
      "execution_count": 64,
      "metadata": {},
      "outputs": [],
      "source": [
        "# Create a contingency table\n",
        "contingency_table = pd.crosstab(df['Predicted'], df['Cystines'])"
      ]
    },
    {
      "cell_type": "code",
      "execution_count": 65,
      "metadata": {},
      "outputs": [
        {
          "name": "stdout",
          "output_type": "stream",
          "text": [
            "Contingency Table:\n",
            "Cystines    1  11  12  13  14  15  16  19  22  33  6 and 7    8   9  novel\n",
            "Predicted                                                                 \n",
            "0           0   0   0   0   2   0   0   0   0   0        0    0  19      2\n",
            "1           0   0   0   0   0   0   0   0   2   1        1   72   4     18\n",
            "2           0   0   0   0   0   0   0   0   1  12        0    3  25      4\n",
            "3           0   0   0   0   2  36   0   0   1   0      101    0  29      5\n",
            "4          10   0   3   9   0   0   0   0  28   0       20    5  47     15\n",
            "5           0   0   0   0   0   0   0   0   1   0        0    9  24      9\n",
            "6           0   0   0   0   0   0   0   0  55   0        1    0   3     12\n",
            "7           0   1   0   0   3   0   0   0  13   0        0    0   1      6\n",
            "8           0   0   0   0   0   0   0   0   0   0        0    0   0     10\n",
            "9           0   1   0   0   5   0   1   0  34   0        1    2  14     18\n",
            "10          9  21   4   5   4   1   1   0   4   0       95    0  50      6\n",
            "11          0   0   0   0   0   0   0   0   3   0        0   15   1      0\n",
            "12          0   0   3   0   4   0   0   1   3   1        6   47   3     48\n",
            "13          0   0   0   0   0   0   0   0   4   0        0  112   1      5\n"
          ]
        }
      ],
      "source": [
        "# Display the contingency table\n",
        "print(\"Contingency Table:\")\n",
        "print(contingency_table)"
      ]
    },
    {
      "cell_type": "code",
      "execution_count": 67,
      "metadata": {},
      "outputs": [],
      "source": [
        "import matplotlib.pyplot as plt"
      ]
    },
    {
      "cell_type": "code",
      "execution_count": 68,
      "metadata": {},
      "outputs": [
        {
          "data": {
            "image/png": "[encoded data removed]",
            "text/plain": [
              "<Figure size 640x480 with 2 Axes>"
            ]
          },
          "metadata": {},
          "output_type": "display_data"
        }
      ],
      "source": [
        "# Create a heatmap using Seaborn\n",
        "sns.heatmap(contingency_table, annot=True, fmt='d', cmap='Blues')\n",
        "plt.title('Contingency Table Heatmap PCA')\n",
        "plt.show()\n"
      ]
    },
    {
      "cell_type": "code",
      "execution_count": 71,
      "metadata": {},
      "outputs": [],
      "source": [
        "train_df['Label_cystine_pca'] = predicted"
      ]
    },
    {
      "attachments": {},
      "cell_type": "markdown",
      "metadata": {},
      "source": [
        "### Don't run"
      ]
    },
    {
      "cell_type": "code",
      "execution_count": 74,
      "metadata": {},
      "outputs": [],
      "source": [
        "train_df.to_csv('all_toxin_pca_cystine.csv', index=False)"
      ]
    },
    {
      "cell_type": "markdown",
      "metadata": {
        "id": "FUVMqeCoBWdK"
      },
      "source": [
        "#### **UMAP on teratoxin values with snekmer features**"
      ]
    },
    {
      "cell_type": "code",
      "execution_count": 75,
      "metadata": {
        "id": "nJIdalFH9QwW"
      },
      "outputs": [],
      "source": [
        "import plotly.express as px\n"
      ]
    },
    {
      "cell_type": "code",
      "execution_count": 76,
      "metadata": {},
      "outputs": [],
      "source": [
        "features= terra_data"
      ]
    },
    {
      "cell_type": "code",
      "execution_count": 77,
      "metadata": {},
      "outputs": [],
      "source": [
        "features = pd.DataFrame(features, index=train_df['ToxinName'])"
      ]
    },
    {
      "cell_type": "code",
      "execution_count": 78,
      "metadata": {
        "colab": {
          "base_uri": "https://localhost:8080/",
          "height": 1000
        },
        "id": "qWqEfJYKiW2Z",
        "outputId": "b653ab8a-d6b8-41df-db75-69dcb3fab10c"
      },
      "outputs": [
        {
          "name": "stderr",
          "output_type": "stream",
          "text": [
            "/Users/arezoobybordi/miniforge3/envs/ninen/lib/python3.8/site-packages/umap/umap_.py:1943: UserWarning: n_jobs value -1 overridden to 1 by setting random_state. Use no seed for parallelism.\n",
            "  warn(f\"n_jobs value {self.n_jobs} overridden to 1 by setting random_state. Use no seed for parallelism.\")\n",
            "OMP: Info #276: omp_set_nested routine deprecated, please use omp_set_max_active_levels instead.\n",
            "/Users/arezoobybordi/miniforge3/envs/ninen/lib/python3.8/site-packages/umap/umap_.py:1943: UserWarning: n_jobs value -1 overridden to 1 by setting random_state. Use no seed for parallelism.\n",
            "  warn(f\"n_jobs value {self.n_jobs} overridden to 1 by setting random_state. Use no seed for parallelism.\")\n"
          ]
        }
      ],
      "source": [
        "from umap import UMAP\n",
        "import plotly.express as px\n",
        "\n",
        "\n",
        "\n",
        "#features = terra_data\n",
        "\n",
        "umap_2d = UMAP(n_components=2, init='random', random_state=0)\n",
        "umap_3d = UMAP(n_components=3, init='random', random_state=0)\n",
        "\n",
        "proj_2d = umap_2d.fit_transform(features)\n",
        "proj_3d = umap_3d.fit_transform(features)\n"
      ]
    },
    {
      "attachments": {},
      "cell_type": "markdown",
      "metadata": {
        "id": "M0P7pdUmpsl6"
      },
      "source": [
        "### clusters with 13 clusters"
      ]
    },
    {
      "cell_type": "code",
      "execution_count": 86,
      "metadata": {
        "colab": {
          "base_uri": "https://localhost:8080/"
        },
        "id": "dSTDIi70q46E",
        "outputId": "ce92260a-9374-44c2-c4b8-ea8fc63da771"
      },
      "outputs": [
        {
          "name": "stderr",
          "output_type": "stream",
          "text": [
            "/Users/arezoobybordi/miniforge3/envs/ninen/lib/python3.8/site-packages/umap/umap_.py:1943: UserWarning: n_jobs value -1 overridden to 1 by setting random_state. Use no seed for parallelism.\n",
            "  warn(f\"n_jobs value {self.n_jobs} overridden to 1 by setting random_state. Use no seed for parallelism.\")\n"
          ]
        }
      ],
      "source": [
        "import numpy as np\n",
        "import pandas as pd\n",
        "from umap import UMAP\n",
        "from sklearn.cluster import KMeans\n",
        "from sklearn.metrics import silhouette_score\n",
        "import matplotlib.pyplot as plt\n",
        "\n",
        "\n",
        "# Perform UMAP dimensionality reduction\n",
        "umap = UMAP(n_components=3, random_state=42)\n",
        "umap_embedding = umap.fit_transform(terra_data)\n",
        "\n",
        "# Perform K-means clustering with the current number of clusters\n",
        "kmeans = KMeans(n_clusters=13, random_state=42)\n",
        "labels = kmeans.fit_predict(umap_embedding)"
      ]
    },
    {
      "cell_type": "code",
      "execution_count": 87,
      "metadata": {},
      "outputs": [
        {
          "name": "stdout",
          "output_type": "stream",
          "text": [
            "Contingency Table:\n",
            "Cystines    1  11  12  13  14  15  16  19   22  33  6 and 7    8   9  novel\n",
            "Predicted                                                                  \n",
            "0          19   0   0   0   0   0   0   0    0   0       10    0   0      0\n",
            "1           0   1   0   0   6   0   0   0  101   0        2    1  18     41\n",
            "2           0   0   0   0   0  37   0   0    0   0        0    0   1      1\n",
            "3           0   0   0   0   2   0   1   0    0   0      118    0  19      7\n",
            "4           0   0   0   0   0   0   0   0    3  12        0   12  49      6\n",
            "5           0   0   0   0   0   0   0   0    5   0        0  152   5     31\n",
            "6           0   0   0   0   0   0   0   1   17   2        1   80   7     42\n",
            "7           0  21   0   0   0   0   0   0    0   0        0    0  19      0\n",
            "8           0   0   9   0   0   0   0   0    0   0       10    0   9      0\n",
            "9           0   1   1  14  12   0   1   0   20   0       19    5  70     23\n",
            "10          0   0   0   0   0   0   0   0    0   0        6    0   2      6\n",
            "11          0   0   0   0   0   0   0   0    3   0        0   15   1      0\n",
            "12          0   0   0   0   0   0   0   0    0   0       59    0  21      1\n"
          ]
        }
      ],
      "source": [
        "import seaborn as sns\n",
        "from sklearn.metrics import confusion_matrix\n",
        "# Create a DataFrame with the data\n",
        "df = pd.DataFrame({'Predicted': labels, 'Cystines': cystines})\n",
        "contingency_table = pd.crosstab(df['Predicted'], df['Cystines'])\n",
        "# Display the contingency table\n",
        "print(\"Contingency Table:\")\n",
        "print(contingency_table)\n"
      ]
    },
    {
      "cell_type": "code",
      "execution_count": 88,
      "metadata": {
        "id": "AK2ha4GVNobO"
      },
      "outputs": [
        {
          "data": {
            "image/png": "[encoded data removed]",
            "text/plain": [
              "<Figure size 640x480 with 2 Axes>"
            ]
          },
          "metadata": {},
          "output_type": "display_data"
        }
      ],
      "source": [
        "# Create a heatmap using Seaborn\n",
        "sns.heatmap(contingency_table, annot=True, fmt='d', cmap='Blues')\n",
        "plt.title('Contingency Table Heatmap UMAP')\n",
        "plt.show()\n"
      ]
    },
    {
      "cell_type": "code",
      "execution_count": 90,
      "metadata": {},
      "outputs": [],
      "source": [
        "train_df['Label_cystine_umap'] = labels"
      ]
    },
    {
      "attachments": {},
      "cell_type": "markdown",
      "metadata": {},
      "source": [
        "### Don't run"
      ]
    },
    {
      "cell_type": "code",
      "execution_count": 91,
      "metadata": {
        "id": "IeDmSCR5IqDt"
      },
      "outputs": [],
      "source": [
        "train_df.to_csv('all_toxin_pca_umap_cystine.csv', index=False)"
      ]
    },
    {
      "attachments": {},
      "cell_type": "markdown",
      "metadata": {},
      "source": [
        "### superfamily features"
      ]
    },
    {
      "cell_type": "code",
      "execution_count": 92,
      "metadata": {},
      "outputs": [
        {
          "name": "stdout",
          "output_type": "stream",
          "text": [
            "Cloning into 'cono-models'...\n",
            "remote: Enumerating objects: 653, done.\u001b[K\n",
            "remote: Counting objects: 100% (354/354), done.\u001b[K\n",
            "remote: Compressing objects: 100% (244/244), done.\u001b[K\n",
            "remote: Total 653 (delta 65), reused 320 (delta 58), pack-reused 299\u001b[K\n",
            "\u001b[KReceiving objects: 100% (653/653), 14.16 MiB | 4.96 MiB/s, done.\n",
            "\u001b[KResolving deltas: 100% (194/194), done.\n"
          ]
        }
      ],
      "source": [
        "!git clone https://github.com/weigangq/cono-models.git"
      ]
    },
    {
      "cell_type": "code",
      "execution_count": 93,
      "metadata": {},
      "outputs": [],
      "source": [
        "sup = pd.read_csv('summary.csv')"
      ]
    },
    {
      "cell_type": "code",
      "execution_count": 94,
      "metadata": {},
      "outputs": [
        {
          "data": {
            "text/html": [
              "<div>\n",
              "<style scoped>\n",
              "    .dataframe tbody tr th:only-of-type {\n",
              "        vertical-align: middle;\n",
              "    }\n",
              "\n",
              "    .dataframe tbody tr th {\n",
              "        vertical-align: top;\n",
              "    }\n",
              "\n",
              "    .dataframe thead th {\n",
              "        text-align: right;\n",
              "    }\n",
              "</style>\n",
              "<table border=\"1\" class=\"dataframe\">\n",
              "  <thead>\n",
              "    <tr style=\"text-align: right;\">\n",
              "      <th></th>\n",
              "      <th>sequence</th>\n",
              "      <th>hmm_pred</th>\n",
              "      <th>pssm_pred</th>\n",
              "      <th>definitive_pred</th>\n",
              "    </tr>\n",
              "  </thead>\n",
              "  <tbody>\n",
              "    <tr>\n",
              "      <th>0</th>\n",
              "      <td>Mki1_1</td>\n",
              "      <td>A</td>\n",
              "      <td>A</td>\n",
              "      <td>A</td>\n",
              "    </tr>\n",
              "    <tr>\n",
              "      <th>1</th>\n",
              "      <td>Mki3_1</td>\n",
              "      <td>A</td>\n",
              "      <td>A</td>\n",
              "      <td>A</td>\n",
              "    </tr>\n",
              "    <tr>\n",
              "      <th>2</th>\n",
              "      <td>Hst1_1</td>\n",
              "      <td>A</td>\n",
              "      <td>A</td>\n",
              "      <td>A</td>\n",
              "    </tr>\n",
              "    <tr>\n",
              "      <th>3</th>\n",
              "      <td>Mki5_1</td>\n",
              "      <td>A</td>\n",
              "      <td>CONFLICT A and O1</td>\n",
              "      <td>A</td>\n",
              "    </tr>\n",
              "    <tr>\n",
              "      <th>4</th>\n",
              "      <td>Mki2_1</td>\n",
              "      <td>A</td>\n",
              "      <td>A</td>\n",
              "      <td>A</td>\n",
              "    </tr>\n",
              "  </tbody>\n",
              "</table>\n",
              "</div>"
            ],
            "text/plain": [
              "  sequence hmm_pred          pssm_pred definitive_pred\n",
              "0   Mki1_1        A                  A               A\n",
              "1   Mki3_1        A                  A               A\n",
              "2   Hst1_1        A                  A               A\n",
              "3   Mki5_1        A  CONFLICT A and O1               A\n",
              "4   Mki2_1        A                  A               A"
            ]
          },
          "execution_count": 94,
          "metadata": {},
          "output_type": "execute_result"
        }
      ],
      "source": [
        "sup.head()"
      ]
    },
    {
      "cell_type": "code",
      "execution_count": 96,
      "metadata": {},
      "outputs": [],
      "source": [
        "full_df = pd.read_csv('https://raw.githubusercontent.com/weigangq/cono-models/main/data/All_Toxins_v4.csv')"
      ]
    },
    {
      "cell_type": "code",
      "execution_count": 97,
      "metadata": {},
      "outputs": [
        {
          "data": {
            "text/html": [
              "<div>\n",
              "<style scoped>\n",
              "    .dataframe tbody tr th:only-of-type {\n",
              "        vertical-align: middle;\n",
              "    }\n",
              "\n",
              "    .dataframe tbody tr th {\n",
              "        vertical-align: top;\n",
              "    }\n",
              "\n",
              "    .dataframe thead th {\n",
              "        text-align: right;\n",
              "    }\n",
              "</style>\n",
              "<table border=\"1\" class=\"dataframe\">\n",
              "  <thead>\n",
              "    <tr style=\"text-align: right;\">\n",
              "      <th></th>\n",
              "      <th>ToxinName</th>\n",
              "      <th>NewNamev2</th>\n",
              "      <th>NewNamev3</th>\n",
              "      <th>Signal</th>\n",
              "      <th>Pre</th>\n",
              "      <th>Mature</th>\n",
              "      <th>Post</th>\n",
              "      <th>Framework</th>\n",
              "      <th>Framework Confirmation</th>\n",
              "      <th>Framework Structure</th>\n",
              "    </tr>\n",
              "  </thead>\n",
              "  <tbody>\n",
              "    <tr>\n",
              "      <th>0</th>\n",
              "      <td>Cje_11Cys</td>\n",
              "      <td>Cje5_Novel</td>\n",
              "      <td>Cje5_Novel</td>\n",
              "      <td>MVVLRLCVIWISVFMGMTAHT</td>\n",
              "      <td>NaN</td>\n",
              "      <td>GIKFLNCPDKPMCLEDPYQPCAVFKNDCQSPSHCECRCPGEHLREG...</td>\n",
              "      <td>GR</td>\n",
              "      <td>Novel</td>\n",
              "      <td>novel</td>\n",
              "      <td>﻿C-C-C-C-C-C-C-C-C-C-C</td>\n",
              "    </tr>\n",
              "    <tr>\n",
              "      <th>1</th>\n",
              "      <td>Cje_7Cys.1</td>\n",
              "      <td>Cje2_Novel</td>\n",
              "      <td>Cje2_Novel</td>\n",
              "      <td>MMLSFVVLISISVSMA</td>\n",
              "      <td>NaN</td>\n",
              "      <td>WLVPYGQLSVGIRSEEELENCQTDEVCGMVNYRNVTFCKCGNVGCP...</td>\n",
              "      <td>NaN</td>\n",
              "      <td>Novel</td>\n",
              "      <td>novel</td>\n",
              "      <td>C-C-C-C-C-C-C</td>\n",
              "    </tr>\n",
              "    <tr>\n",
              "      <th>2</th>\n",
              "      <td>Cje_7Cys.2</td>\n",
              "      <td>Cje3_Novel</td>\n",
              "      <td>Cje3_Novel</td>\n",
              "      <td>MMLSFVVLISISVSMA</td>\n",
              "      <td>NaN</td>\n",
              "      <td>WLVPYGQLSVGIRSEEELENCQTDEVCGMVNYRNVTFCKCGNVGCP...</td>\n",
              "      <td>NaN</td>\n",
              "      <td>Novel</td>\n",
              "      <td>novel</td>\n",
              "      <td>C-C-C-C-C-C-C</td>\n",
              "    </tr>\n",
              "    <tr>\n",
              "      <th>3</th>\n",
              "      <td>Cje_7Cys.3</td>\n",
              "      <td>Cje4_Novel</td>\n",
              "      <td>Cje4_Novel</td>\n",
              "      <td>MKAPAVLAIILGSFTLLHRSPGTDA</td>\n",
              "      <td>NaN</td>\n",
              "      <td>ISDDCQECKTDCERVIASCPDFKCSYGISTVLPCRLLLLAMRNIPK...</td>\n",
              "      <td>NaN</td>\n",
              "      <td>Novel</td>\n",
              "      <td>novel</td>\n",
              "      <td>C-C-C-C-C-C-C</td>\n",
              "    </tr>\n",
              "    <tr>\n",
              "      <th>4</th>\n",
              "      <td>Cje_9Cys.1</td>\n",
              "      <td>Cje6_Novel</td>\n",
              "      <td>Cje6_Novel</td>\n",
              "      <td>MKVPTVVVVILGLFMFLYQSPGTDA</td>\n",
              "      <td>QDPYANPDFR</td>\n",
              "      <td>NPLYPVSQECYLCYTDCQRLVGHCTNNTCPPVIACASNLCFTLMEN...</td>\n",
              "      <td>NaN</td>\n",
              "      <td>Novel</td>\n",
              "      <td>novel</td>\n",
              "      <td>C-C-C-C-C-C-C-C-C</td>\n",
              "    </tr>\n",
              "  </tbody>\n",
              "</table>\n",
              "</div>"
            ],
            "text/plain": [
              "    ToxinName   NewNamev2   NewNamev3                     Signal         Pre  \\\n",
              "0   Cje_11Cys  Cje5_Novel  Cje5_Novel      MVVLRLCVIWISVFMGMTAHT         NaN   \n",
              "1  Cje_7Cys.1  Cje2_Novel  Cje2_Novel           MMLSFVVLISISVSMA         NaN   \n",
              "2  Cje_7Cys.2  Cje3_Novel  Cje3_Novel           MMLSFVVLISISVSMA         NaN   \n",
              "3  Cje_7Cys.3  Cje4_Novel  Cje4_Novel  MKAPAVLAIILGSFTLLHRSPGTDA         NaN   \n",
              "4  Cje_9Cys.1  Cje6_Novel  Cje6_Novel  MKVPTVVVVILGLFMFLYQSPGTDA  QDPYANPDFR   \n",
              "\n",
              "                                              Mature Post Framework  \\\n",
              "0  GIKFLNCPDKPMCLEDPYQPCAVFKNDCQSPSHCECRCPGEHLREG...   GR     Novel   \n",
              "1  WLVPYGQLSVGIRSEEELENCQTDEVCGMVNYRNVTFCKCGNVGCP...  NaN     Novel   \n",
              "2  WLVPYGQLSVGIRSEEELENCQTDEVCGMVNYRNVTFCKCGNVGCP...  NaN     Novel   \n",
              "3  ISDDCQECKTDCERVIASCPDFKCSYGISTVLPCRLLLLAMRNIPK...  NaN     Novel   \n",
              "4  NPLYPVSQECYLCYTDCQRLVGHCTNNTCPPVIACASNLCFTLMEN...  NaN     Novel   \n",
              "\n",
              "  Framework Confirmation     Framework Structure  \n",
              "0                  novel  ﻿C-C-C-C-C-C-C-C-C-C-C  \n",
              "1                  novel           C-C-C-C-C-C-C  \n",
              "2                  novel           C-C-C-C-C-C-C  \n",
              "3                  novel           C-C-C-C-C-C-C  \n",
              "4                  novel       C-C-C-C-C-C-C-C-C  "
            ]
          },
          "execution_count": 97,
          "metadata": {},
          "output_type": "execute_result"
        }
      ],
      "source": [
        "full_df.head()"
      ]
    },
    {
      "cell_type": "code",
      "execution_count": 98,
      "metadata": {},
      "outputs": [],
      "source": [
        "merged_df = pd.merge(full_df, sup, left_on='NewNamev3', right_on='sequence', how='inner')"
      ]
    },
    {
      "cell_type": "code",
      "execution_count": 100,
      "metadata": {},
      "outputs": [
        {
          "data": {
            "text/plain": [
              "807"
            ]
          },
          "execution_count": 100,
          "metadata": {},
          "output_type": "execute_result"
        }
      ],
      "source": [
        "len(merged_df)"
      ]
    },
    {
      "cell_type": "code",
      "execution_count": 101,
      "metadata": {},
      "outputs": [
        {
          "data": {
            "text/html": [
              "<div>\n",
              "<style scoped>\n",
              "    .dataframe tbody tr th:only-of-type {\n",
              "        vertical-align: middle;\n",
              "    }\n",
              "\n",
              "    .dataframe tbody tr th {\n",
              "        vertical-align: top;\n",
              "    }\n",
              "\n",
              "    .dataframe thead th {\n",
              "        text-align: right;\n",
              "    }\n",
              "</style>\n",
              "<table border=\"1\" class=\"dataframe\">\n",
              "  <thead>\n",
              "    <tr style=\"text-align: right;\">\n",
              "      <th></th>\n",
              "      <th>ToxinName</th>\n",
              "      <th>NewNamev2</th>\n",
              "      <th>NewNamev3</th>\n",
              "      <th>Signal</th>\n",
              "      <th>Pre</th>\n",
              "      <th>Mature</th>\n",
              "      <th>Post</th>\n",
              "      <th>Framework</th>\n",
              "      <th>Framework Confirmation</th>\n",
              "      <th>Framework Structure</th>\n",
              "      <th>sequence</th>\n",
              "      <th>hmm_pred</th>\n",
              "      <th>pssm_pred</th>\n",
              "      <th>definitive_pred</th>\n",
              "    </tr>\n",
              "  </thead>\n",
              "  <tbody>\n",
              "    <tr>\n",
              "      <th>0</th>\n",
              "      <td>Cje_7Cys.1</td>\n",
              "      <td>Cje2_Novel</td>\n",
              "      <td>Cje2_Novel</td>\n",
              "      <td>MMLSFVVLISISVSMA</td>\n",
              "      <td>NaN</td>\n",
              "      <td>WLVPYGQLSVGIRSEEELENCQTDEVCGMVNYRNVTFCKCGNVGCP...</td>\n",
              "      <td>NaN</td>\n",
              "      <td>Novel</td>\n",
              "      <td>novel</td>\n",
              "      <td>C-C-C-C-C-C-C</td>\n",
              "      <td>Cje2_Novel</td>\n",
              "      <td>UNKNOWN</td>\n",
              "      <td>CONFLICT A and M</td>\n",
              "      <td>UNKNOWN</td>\n",
              "    </tr>\n",
              "    <tr>\n",
              "      <th>1</th>\n",
              "      <td>Cje_7Cys.2</td>\n",
              "      <td>Cje3_Novel</td>\n",
              "      <td>Cje3_Novel</td>\n",
              "      <td>MMLSFVVLISISVSMA</td>\n",
              "      <td>NaN</td>\n",
              "      <td>WLVPYGQLSVGIRSEEELENCQTDEVCGMVNYRNVTFCKCGNVGCP...</td>\n",
              "      <td>NaN</td>\n",
              "      <td>Novel</td>\n",
              "      <td>novel</td>\n",
              "      <td>C-C-C-C-C-C-C</td>\n",
              "      <td>Cje3_Novel</td>\n",
              "      <td>UNKNOWN</td>\n",
              "      <td>A</td>\n",
              "      <td>A</td>\n",
              "    </tr>\n",
              "    <tr>\n",
              "      <th>2</th>\n",
              "      <td>Cje_7Cys.3</td>\n",
              "      <td>Cje4_Novel</td>\n",
              "      <td>Cje4_Novel</td>\n",
              "      <td>MKAPAVLAIILGSFTLLHRSPGTDA</td>\n",
              "      <td>NaN</td>\n",
              "      <td>ISDDCQECKTDCERVIASCPDFKCSYGISTVLPCRLLLLAMRNIPK...</td>\n",
              "      <td>NaN</td>\n",
              "      <td>Novel</td>\n",
              "      <td>novel</td>\n",
              "      <td>C-C-C-C-C-C-C</td>\n",
              "      <td>Cje4_Novel</td>\n",
              "      <td>UNKNOWN</td>\n",
              "      <td>A</td>\n",
              "      <td>A</td>\n",
              "    </tr>\n",
              "    <tr>\n",
              "      <th>3</th>\n",
              "      <td>Cje22.2</td>\n",
              "      <td>Cje2_22</td>\n",
              "      <td>Cje2_22</td>\n",
              "      <td>MKVLFVLAMVLVTLCLG</td>\n",
              "      <td>RRMRR</td>\n",
              "      <td>DIIEDVCNNCTVSCQWVITNEGTTLCPSGFCDEPAAFCRNLKFNMD...</td>\n",
              "      <td>K</td>\n",
              "      <td>XXII</td>\n",
              "      <td>22</td>\n",
              "      <td>C-C-C-C-C-C-C-C</td>\n",
              "      <td>Cje2_22</td>\n",
              "      <td>UNKNOWN</td>\n",
              "      <td>M</td>\n",
              "      <td>M</td>\n",
              "    </tr>\n",
              "    <tr>\n",
              "      <th>4</th>\n",
              "      <td>Cje22.3</td>\n",
              "      <td>Cje3_22</td>\n",
              "      <td>Cje3_22</td>\n",
              "      <td>MKLSTAFVAILGLTASLCQSSG</td>\n",
              "      <td>NaN</td>\n",
              "      <td>ADTLSMECIICKWDCEDLVTSCANNDCGPNVSTKKKCDQLVTQMEM...</td>\n",
              "      <td>G</td>\n",
              "      <td>XXII</td>\n",
              "      <td>22</td>\n",
              "      <td>C-C-C-C-C-C-C-C</td>\n",
              "      <td>Cje3_22</td>\n",
              "      <td>UNKNOWN</td>\n",
              "      <td>M</td>\n",
              "      <td>M</td>\n",
              "    </tr>\n",
              "  </tbody>\n",
              "</table>\n",
              "</div>"
            ],
            "text/plain": [
              "    ToxinName   NewNamev2   NewNamev3                     Signal    Pre  \\\n",
              "0  Cje_7Cys.1  Cje2_Novel  Cje2_Novel           MMLSFVVLISISVSMA    NaN   \n",
              "1  Cje_7Cys.2  Cje3_Novel  Cje3_Novel           MMLSFVVLISISVSMA    NaN   \n",
              "2  Cje_7Cys.3  Cje4_Novel  Cje4_Novel  MKAPAVLAIILGSFTLLHRSPGTDA    NaN   \n",
              "3     Cje22.2     Cje2_22     Cje2_22          MKVLFVLAMVLVTLCLG  RRMRR   \n",
              "4     Cje22.3     Cje3_22     Cje3_22     MKLSTAFVAILGLTASLCQSSG    NaN   \n",
              "\n",
              "                                              Mature Post Framework  \\\n",
              "0  WLVPYGQLSVGIRSEEELENCQTDEVCGMVNYRNVTFCKCGNVGCP...  NaN     Novel   \n",
              "1  WLVPYGQLSVGIRSEEELENCQTDEVCGMVNYRNVTFCKCGNVGCP...  NaN     Novel   \n",
              "2  ISDDCQECKTDCERVIASCPDFKCSYGISTVLPCRLLLLAMRNIPK...  NaN     Novel   \n",
              "3  DIIEDVCNNCTVSCQWVITNEGTTLCPSGFCDEPAAFCRNLKFNMD...    K      XXII   \n",
              "4  ADTLSMECIICKWDCEDLVTSCANNDCGPNVSTKKKCDQLVTQMEM...    G      XXII   \n",
              "\n",
              "  Framework Confirmation Framework Structure    sequence hmm_pred  \\\n",
              "0                  novel       C-C-C-C-C-C-C  Cje2_Novel  UNKNOWN   \n",
              "1                  novel       C-C-C-C-C-C-C  Cje3_Novel  UNKNOWN   \n",
              "2                  novel       C-C-C-C-C-C-C  Cje4_Novel  UNKNOWN   \n",
              "3                     22     C-C-C-C-C-C-C-C     Cje2_22  UNKNOWN   \n",
              "4                     22     C-C-C-C-C-C-C-C     Cje3_22  UNKNOWN   \n",
              "\n",
              "          pssm_pred definitive_pred  \n",
              "0  CONFLICT A and M         UNKNOWN  \n",
              "1                 A               A  \n",
              "2                 A               A  \n",
              "3                 M               M  \n",
              "4                 M               M  "
            ]
          },
          "execution_count": 101,
          "metadata": {},
          "output_type": "execute_result"
        }
      ],
      "source": [
        "merged_df.head()"
      ]
    },
    {
      "attachments": {},
      "cell_type": "markdown",
      "metadata": {},
      "source": [
        "Use newnamev3 -> index"
      ]
    },
    {
      "cell_type": "code",
      "execution_count": 102,
      "metadata": {},
      "outputs": [
        {
          "data": {
            "text/plain": [
              "array(['A', 'CONFLICT Conkunitzin and A', 'CONFLICT Conkunitzin and L',\n",
              "       'CONFLICT Conkunitzin and M', 'CONFLICT Conkunitzin and O1',\n",
              "       'CONFLICT Conopressin-Conophysin and O1', 'CONFLICT D and A',\n",
              "       'CONFLICT D and M', 'CONFLICT H and O1', 'CONFLICT I1 and O1',\n",
              "       'CONFLICT I3 and A', 'CONFLICT I3 and O1', 'CONFLICT N and O1',\n",
              "       'CONFLICT O2 and O1', 'CONFLICT P and A', 'CONFLICT P and M',\n",
              "       'Conkunitzin', 'Conopressin-Conophysin', 'D', 'H', 'I1', 'I3', 'L',\n",
              "       'M', 'N', 'O1', 'O2', 'O2/Contryphan', 'P', 'R', 'UNKNOWN'],\n",
              "      dtype=object)"
            ]
          },
          "execution_count": 102,
          "metadata": {},
          "output_type": "execute_result"
        }
      ],
      "source": [
        "np.unique(merged_df.iloc[:,-1])"
      ]
    },
    {
      "cell_type": "code",
      "execution_count": 104,
      "metadata": {},
      "outputs": [
        {
          "data": {
            "text/plain": [
              "31"
            ]
          },
          "execution_count": 104,
          "metadata": {},
          "output_type": "execute_result"
        }
      ],
      "source": [
        "len(np.unique(merged_df.iloc[:,-1]))"
      ]
    },
    {
      "cell_type": "code",
      "execution_count": null,
      "metadata": {},
      "outputs": [],
      "source": []
    }
  ],
  "metadata": {
    "accelerator": "GPU",
    "colab": {
      "gpuType": "T4",
      "provenance": []
    },
    "kernelspec": {
      "display_name": "Python 3",
      "name": "python3"
    },
    "language_info": {
      "codemirror_mode": {
        "name": "ipython",
        "version": 3
      },
      "file_extension": ".py",
      "mimetype": "text/x-python",
      "name": "python",
      "nbconvert_exporter": "python",
      "pygments_lexer": "ipython3",
      "version": "3.8.13"
    }
  },
  "nbformat": 4,
  "nbformat_minor": 0
}
