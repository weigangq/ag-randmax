{
 "cells": [
  {
   "cell_type": "code",
   "execution_count": null,
   "id": "f044f4f9",
   "metadata": {},
   "outputs": [],
   "source": [
    "#import the libraries\n",
    "#for the regular fasta\n",
    "\n",
    "import csv\n",
    "from Bio import SeqIO\n",
    "import re\n",
    "import pandas as pd\n",
    "#create empty list\n",
    "channels = []# for storing the channels\n",
    "record_name = []# stores the recordid including accession number\n",
    "sequence = []# stores the FASTA seq\n",
    "tara = {}#create an empty dictionary\n",
    "#use the seqio to parse\n",
    "record_iterator = SeqIO.parse(\"/Users/taradomalama/CSB-BIOL425/python/conus.fasta\", \"fasta\")\n",
    "for record in record_iterator:\n",
    "    m = re.search(r\"\\s[A-Z]\\w*\", str(record.description))# use regex to capture the channels\n",
    "    #print(record.description)\n",
    "    #cast record.description as string\n",
    "    if m:\n",
    "        x = m.group()\n",
    "        channels.append(x)\n",
    "        record_name.append(record.id)\n",
    "        sequence.append(record.seq)\n",
    "    tara = {\"channels\": channels,# record in dictionary\n",
    "            \"record_name\": record_name,\n",
    "            \"sequence\" : sequence\n",
    "           }\n",
    "    tara_new = pd.DataFrame.from_dict(tara)# convert the dictionary to dataframe\n",
    "    tara_new.to_csv(r\"/Users/taradomalama/CSB-BIOL425/python/ama.csv\")# save the dataframe to csv format\n",
    "        "
   ]
  },
  {
   "cell_type": "code",
   "execution_count": null,
   "id": "3bd590ac",
   "metadata": {},
   "outputs": [],
   "source": [
    "#import the libraries\n",
    "#for mature sequence\n",
    "\n",
    "\n",
    "import csv\n",
    "from Bio import SeqIO\n",
    "import re\n",
    "import pandas as pd\n",
    "#create empty list\n",
    "\n",
    "record_name = []\n",
    "sequence = []\n",
    "tara = {}\n",
    "#use the seqio to parse\n",
    "record_iterator = SeqIO.parse(\"/Users/taradomalama/CSB-BIOL425/python/Conotoxins_mature.fasta\", \"fasta\")\n",
    "for record in record_iterator:\n",
    "    record_name.append(record.id)\n",
    "    sequence.append(record.seq)\n",
    "    tara = {\"record_name\": record_name,\n",
    "            \"sequence\" : sequence\n",
    "           }\n",
    "    tara_new = pd.DataFrame.from_dict(tara)# convert the dictionary to dataframe\n",
    "    tara_new.to_csv(r\"/Users/taradomalama/CSB-BIOL425/python/ama_mature.csv\")# save the dataf"
   ]
  }
 ],
 "metadata": {
  "kernelspec": {
   "display_name": "Python 3 (ipykernel)",
   "language": "python",
   "name": "python3"
  },
  "language_info": {
   "codemirror_mode": {
    "name": "ipython",
    "version": 3
   },
   "file_extension": ".py",
   "mimetype": "text/x-python",
   "name": "python",
   "nbconvert_exporter": "python",
   "pygments_lexer": "ipython3",
   "version": "3.9.13"
  }
 },
 "nbformat": 4,
 "nbformat_minor": 5
}
